{
 "cells": [
  {
   "cell_type": "markdown",
   "id": "7e7e78a7",
   "metadata": {},
   "source": [
    "<img src=\"http://imgur.com/1ZcRyrc.png\" style=\"float: left; margin: 20px; height: 55px\">\n",
    "\n",
    "# Project 2: Ames Housing Data and Kaggle Challenge"
   ]
  },
  {
   "cell_type": "markdown",
   "id": "74f5dc9e",
   "metadata": {},
   "source": [
    "# Modeling and Evaluation"
   ]
  },
  {
   "cell_type": "markdown",
   "id": "e972fc20",
   "metadata": {},
   "source": [
    "### Import libraries"
   ]
  },
  {
   "cell_type": "code",
   "execution_count": 1,
   "id": "73a39870",
   "metadata": {},
   "outputs": [],
   "source": [
    "# perform all necessary library imports\n",
    "import pandas as pd\n",
    "import numpy as np\n",
    "import matplotlib.pyplot as plt\n",
    "import seaborn as sns\n",
    "from sklearn.dummy import DummyRegressor\n",
    "from sklearn.preprocessing import StandardScaler\n",
    "from sklearn.model_selection import cross_val_score, train_test_split\n",
    "from sklearn.linear_model import LinearRegression, Lasso, LassoCV, Ridge, RidgeCV, ElasticNet, ElasticNetCV\n",
    "from sklearn import metrics\n",
    "from sklearn.metrics import r2_score\n",
    "from sklearn.metrics import mean_squared_error\n",
    "from math import sqrt\n",
    "from IPython.display import display_html\n",
    "import statsmodels.api as sm\n",
    "\n",
    "pd.options.display.max_columns = None\n",
    "pd.options.display.max_rows = 50"
   ]
  },
  {
   "cell_type": "markdown",
   "id": "b5e64835",
   "metadata": {},
   "source": [
    "### Import csv files containing features and target data"
   ]
  },
  {
   "cell_type": "code",
   "execution_count": 2,
   "id": "54943ca1",
   "metadata": {},
   "outputs": [],
   "source": [
    "train_cleaned = pd.read_csv('./data/train_cleaned.csv', index_col=0)\n",
    "test_cleaned = pd.read_csv('./data/test_cleaned.csv', index_col=0)"
   ]
  },
  {
   "cell_type": "code",
   "execution_count": 3,
   "id": "bbecf509",
   "metadata": {},
   "outputs": [],
   "source": [
    "X = train_cleaned.loc[:,train_cleaned.columns !='saleprice']\n",
    "y = train_cleaned['saleprice']"
   ]
  },
  {
   "cell_type": "markdown",
   "id": "2bcee65f",
   "metadata": {},
   "source": [
    "## Baseline - Null model"
   ]
  },
  {
   "cell_type": "code",
   "execution_count": 4,
   "id": "3410585c",
   "metadata": {},
   "outputs": [
    {
     "name": "stdout",
     "output_type": "stream",
     "text": [
      "R-squared score : 0.0\n",
      "RMSE score : 78952.14805343687\n",
      "Cross-val score : -0.0015439541293237546\n"
     ]
    }
   ],
   "source": [
    "# Step 1: Instantiate model\n",
    "dummy_regr = DummyRegressor(strategy=\"mean\")\n",
    "dummy_regr.fit(X, y)\n",
    "\n",
    "# Step 2: Train model\n",
    "null_pred = dummy_regr.predict(X)\n",
    "\n",
    "# Step 3: Calculate model performance based on R_squared\n",
    "print('R-squared score :', dummy_regr.score(X, y))\n",
    "\n",
    "# Step 4: Calculate model RMSE for Null Model\n",
    "print('RMSE score :', metrics.mean_squared_error(y, null_pred, squared=False))\n",
    "\n",
    "# Step 5: Calculate cross-val score for Null Model\n",
    "null_cv = cross_val_score(dummy_regr, X, y, cv=5)\n",
    "print('Cross-val score :', null_cv.mean())"
   ]
  },
  {
   "cell_type": "markdown",
   "id": "0140a3c7",
   "metadata": {},
   "source": [
    "## Model Preparation"
   ]
  },
  {
   "cell_type": "markdown",
   "id": "0f214b05",
   "metadata": {},
   "source": [
    "### Model prep: Train/Test split"
   ]
  },
  {
   "cell_type": "code",
   "execution_count": 5,
   "id": "ef8e1eb8",
   "metadata": {},
   "outputs": [],
   "source": [
    "X_train, X_test, y_train, y_test = train_test_split(X, y, random_state=42)"
   ]
  },
  {
   "cell_type": "markdown",
   "id": "c0be0d74",
   "metadata": {},
   "source": [
    "### Model prep: Scaling"
   ]
  },
  {
   "cell_type": "code",
   "execution_count": 6,
   "id": "f9deb12e",
   "metadata": {},
   "outputs": [],
   "source": [
    "ss = StandardScaler()\n",
    "ss.fit(X_train)        #done only once! set same scale factor for both train & test data\n",
    "X_train_sc = ss.transform(X_train)  #scaled train data!\n",
    "X_test_sc = ss.transform(X_test)    #scaled test data!"
   ]
  },
  {
   "cell_type": "markdown",
   "id": "fb60de61",
   "metadata": {},
   "source": [
    "## Create, Train and Test Various Models"
   ]
  },
  {
   "cell_type": "markdown",
   "id": "4eaf45d9",
   "metadata": {},
   "source": [
    "### Simple Linear Regression model"
   ]
  },
  {
   "cell_type": "code",
   "execution_count": 7,
   "id": "49f9d871",
   "metadata": {},
   "outputs": [
    {
     "name": "stdout",
     "output_type": "stream",
     "text": [
      "R-squared score : 0.7643499248984708\n",
      "RMSE score : 34224.70304842655\n",
      "Cross-val score : 0.7968483130561045\n"
     ]
    }
   ],
   "source": [
    "# Step 1: Instantiate model\n",
    "lr = LinearRegression()\n",
    "lr.fit(X_train_sc, y_train)            #model to learn from scaled data\n",
    "\n",
    "# Step 2: Train model\n",
    "lr_pred = lr.predict(X_test_sc)\n",
    "\n",
    "# Step 3: Calculate model performance based on R_squared\n",
    "        # r-squared - to be as close to 1 as possible\n",
    "R_squared = r2_score(lr_pred, y_test)                  # calculate model performance against actual data\n",
    "print('R-squared score :', R_squared)\n",
    "\n",
    "# Step 4: Calculate model RMSE \n",
    "        # RMSE - to be as close to 0 as possible\n",
    "print('RMSE score :', np.sqrt(metrics.mean_squared_error(y_test, lr_pred)))\n",
    "\n",
    "# Step 5: Calculate cross-val score for Linear Regression\n",
    "lr_cv = cross_val_score(lr, X_train_sc, y_train, cv=5)\n",
    "print('Cross-val score :', lr_cv.mean())"
   ]
  },
  {
   "cell_type": "markdown",
   "id": "815d3ea5",
   "metadata": {},
   "source": [
    "### Ridge Regression (L2) model"
   ]
  },
  {
   "cell_type": "code",
   "execution_count": 8,
   "id": "11454a68",
   "metadata": {},
   "outputs": [
    {
     "name": "stdout",
     "output_type": "stream",
     "text": [
      "R-squared score : 0.7636436357553351\n",
      "RMSE score : 34224.46059507788\n",
      "Cross-val score : 0.7968650290888906\n"
     ]
    }
   ],
   "source": [
    "# Step 1: Instantiate model\n",
    "ridge = RidgeCV(alphas=np.linspace(0.5, 5, 300))\n",
    "ridge.fit(X_train_sc, y_train)             #model to learn from scaled data\n",
    "\n",
    "# Step 2: Train model\n",
    "ridge_pred = ridge.predict(X_test_sc)\n",
    "\n",
    "# Step 3: Calculate model performance\n",
    "R_squared = r2_score(ridge_pred, y_test)                  # calculate model performance against actual data\n",
    "print('R-squared score :', R_squared)\n",
    "\n",
    "# Step 4: Calculate model RMSE \n",
    "        # RMSE - to be as close to 0 as possible\n",
    "print('RMSE score :', np.sqrt(metrics.mean_squared_error(y_test, ridge_pred)))\n",
    "\n",
    "# Step 5: Calculate cross-val score for Ridge Regression\n",
    "ridge_cv = cross_val_score(ridge, X_train_sc, y_train, cv=5)\n",
    "print('Cross-val score :', ridge_cv.mean())"
   ]
  },
  {
   "cell_type": "markdown",
   "id": "2cd20076",
   "metadata": {},
   "source": [
    "### Lasso Regression (L1) model"
   ]
  },
  {
   "cell_type": "code",
   "execution_count": 9,
   "id": "c55dc37c",
   "metadata": {},
   "outputs": [
    {
     "name": "stdout",
     "output_type": "stream",
     "text": [
      "R-squared score : 0.8083214052992227\n",
      "RMSE score : 34220.393314003835\n",
      "Cross-val score : 0.7968656613672936\n"
     ]
    }
   ],
   "source": [
    "# Step 1: Instantiate model\n",
    "lasso = LassoCV(n_alphas=300)\n",
    "lasso.fit(X_train_sc, y_train)         #model to learn from scaled data\n",
    "\n",
    "# Step 2: Train model\n",
    "lasso_pred = lasso.predict(X_test_sc)\n",
    "\n",
    "# Step 3: Calculate model performance based on R_squared\n",
    "        # r-squared - to be as close to 1 as possible\n",
    "R_squared_lasso = r2_score(y_test, lasso_pred)\n",
    "print('R-squared score :', R_squared_lasso)\n",
    "\n",
    "# Step 4: Calculate model RMSE \n",
    "        # RMSE - to be as close to 0 as possible\n",
    "print('RMSE score :', np.sqrt(metrics.mean_squared_error(y_test, lasso_pred)))\n",
    "\n",
    "# Step 5: Calculate cross-val score for Lasso Regression\n",
    "lasso_cv = cross_val_score(lasso, X_train_sc, y_train, cv=5)\n",
    "print('Cross-val score :', lasso_cv.mean())"
   ]
  },
  {
   "cell_type": "markdown",
   "id": "41bf7eb4",
   "metadata": {},
   "source": [
    "## Review Model Scores and Evaluate Models"
   ]
  },
  {
   "cell_type": "markdown",
   "id": "0284279e",
   "metadata": {},
   "source": [
    "**Model Selected** <br>\n",
    "The model I selected to run on the next test set is the Lasso Regression model. It has the lowest RMSE mean of 34220.39 (rounded off to 2dp), and the highest r-squared value of 0.808 (rounded off to 3sf). It also gives a cross-val score of 0.797 (rounded off to 3sf). I will explain further on the meaningfulness of each metric and how the process has culminated in my choosing the Lasso Regression (L1) model to predict sale prices for unseen data in the test set."
   ]
  },
  {
   "cell_type": "markdown",
   "id": "3b6c6bf9",
   "metadata": {},
   "source": [
    "|Model|RMSE|R-squared|Cross-val|Selected model|\n",
    "|:---|---:|---:|---:|---:|\n",
    "|Dummy|78952.15|0.0|-0.00154|    \n",
    "|Simple Linear|34224.70|0.764|0.797|    \n",
    "|Ridge|34224.46|0.763|0.797|\n",
    "|**Lasso**|**34220.39**|**0.808**|**0.797**|**x**"
   ]
  },
  {
   "cell_type": "markdown",
   "id": "083c8f0e",
   "metadata": {},
   "source": [
    "**Regression Metrics** <br>\n",
    "I used three metrics to evaluate the performance of all the three models. <br>\n",
    "\n",
    "The first metric is the Root Mean Squared Error (RMSE), which measures how spread out these residuals are to the model. In other words, it shows how close the observed data points are to the model's predicted values. The Lasso Regression (L1) model returned an RMSE score of 34,220. This suggests that the observed data points in the test set are rather loosely fit around the model's predicted values. That said, the Lasso Regression (L1) model returned the lowest RMSE score, which means that the test-split data fits best around it compared to the other models.\n",
    "\n",
    "The second metric is coefficient of determination, r-squared, which measures the extent to which variance in the dependent variable can be explained by the independent variable. In other words, the r-squared value shows how well the data fit the regression model. The Lasso Regression (L1) model returned an r-squared value of 0.808 which suggests that that 80.8% of the variability in a house's sale price is explained by the x-variables in the model. The x-variables in the model selected refer to neighborhood ranking, overall quality of the house, amount of above grade living area, garage area, garage finish, and number of floors/storeys the floor has. <br>\n",
    "\n",
    "The third metric is the cross-val score. A cross_val_score is received when we perform k-fold cross validation. By dividing the test sample into k=5 groups, we introduce some variation to our model, and takes the accuracy score of each test fold is calculated and the mean of these accuracy scores makes up the cross-val score. The Lasso Regression (L1) model with k-value of 5, returned a cross-val score of 0.79687 (to 5 sf), which means that the accuracy of the Lasso (L1) model with Cross Validation is almost 80%.\n"
   ]
  },
  {
   "cell_type": "markdown",
   "id": "d63b421c",
   "metadata": {},
   "source": [
    "## Tune, Train and Score the selected model"
   ]
  },
  {
   "cell_type": "code",
   "execution_count": 10,
   "id": "05561fe1",
   "metadata": {},
   "outputs": [
    {
     "name": "stdout",
     "output_type": "stream",
     "text": [
      "Test R-squared score : 0.8083214052992227\n",
      "Test RMSE score : 34220.393314003835\n",
      "Test Cross-val score : 0.7968656613672936\n"
     ]
    }
   ],
   "source": [
    "# Step 1: scale test_cleaned data\n",
    "# ss.fit(test_cleaned)\n",
    "test_cleaned_sc = ss.transform(test_cleaned)\n",
    " \n",
    "# Step 2: run model on test_cleaned data to get saleprice predictions \n",
    "results = lasso.predict(test_cleaned_sc)\n",
    "\n",
    "# Step 3: Calculate model R-squared\n",
    "        # R-squared - \n",
    "R_squared_lasso = r2_score(y_test, lasso_pred)            # calculate model performance against actual data\n",
    "print('Test R-squared score :', R_squared_lasso)\n",
    "\n",
    "# Step 4: Calculate model RMSE \n",
    "        # RMSE - to be as close to 0 as possible\n",
    "print('Test RMSE score :', np.sqrt(metrics.mean_squared_error(y_test, lasso_pred)))\n",
    "\n",
    "# Step 5: Calculate cross-val score for Lasso Regression\n",
    "        # \n",
    "lasso_cv = cross_val_score(lasso, X_train_sc, y_train, cv=5)\n",
    "print('Test Cross-val score :', lasso_cv.mean())"
   ]
  },
  {
   "cell_type": "code",
   "execution_count": 11,
   "id": "c1dc5099",
   "metadata": {},
   "outputs": [],
   "source": [
    "# create new dataframe # merge \n",
    "test = pd.read_csv(\"./data/test.csv\")\n",
    "df_final = test[['Id']].merge(pd.DataFrame(results), left_index=True, right_index=True)\n",
    "\n",
    "# save as csv\n",
    "df_final.to_csv(\"./data/predictions.csv\", header=[\"Id\", \"SalePrice\"], index=False)"
   ]
  },
  {
   "cell_type": "code",
   "execution_count": 12,
   "id": "15cca4d2",
   "metadata": {},
   "outputs": [
    {
     "data": {
      "text/plain": [
       "(878, 2)"
      ]
     },
     "execution_count": 12,
     "metadata": {},
     "output_type": "execute_result"
    }
   ],
   "source": [
    "df_final.shape"
   ]
  },
  {
   "attachments": {
    "Screenshot%202022-11-18%20at%209.13.29%20AM.png": {
     "image/png": "[encoded data removed]"
    }
   },
   "cell_type": "markdown",
   "id": "0b1c2835",
   "metadata": {},
   "source": [
    "![Screenshot%202022-11-18%20at%209.13.29%20AM.png](attachment:Screenshot%202022-11-18%20at%209.13.29%20AM.png)"
   ]
  },
  {
   "cell_type": "markdown",
   "id": "89f6c2ec",
   "metadata": {},
   "source": [
    "## Conclusion and Recommendations"
   ]
  },
  {
   "cell_type": "markdown",
   "id": "f426d3d8",
   "metadata": {},
   "source": [
    "There is no perfect model as building any machine-learning model necessitates dealing with the bias-variance trade-off. For this project, Lasso Regression was the best model according to RMSE scores. It inevitably traded some variance for bias, which ultimately lead to a smaller error overall. As the three models instantiated focused on only 6 features, future iterations of this project can experiment with nominal features such as exterior 1 or  masonry veneer type. More research into the data collection methods especially regarding the columns exterior 1 and exterior 2 can shed some light into how to quantify it appropriately to be fed into the eventual machine-learning model. The current dataset have marked a number of duplicate observations between the two columns (exterior 1 and 2), which obscured my initial intention to include it, as external research proved that exterior renovation can have significant impact on a property's resale value <a href=\"https://www.familyhandyman.com/list/which-exterior-renovation-adds-most-value/\" target=\"_blank\">(source)</a>. \n",
    "\n",
    "In addition, the next iteration of this project can also explore the use of non-linear regression models for sale price prediction. As non-linear regression can fit a wider range of curves, there is a possibility of developing a model with a better fit than my efforts with linear regression techniques.\n",
    "\n",
    "To find out the model's generalisability, further research is needed to capture more up-to-date data, from property markets aside from Ames, Iowa to shed light on how different economic situations and climates can influence house features and its sale prices.\n"
   ]
  }
 ],
 "metadata": {
  "kernelspec": {
   "display_name": "Python 3 (ipykernel)",
   "language": "python",
   "name": "python3"
  },
  "language_info": {
   "codemirror_mode": {
    "name": "ipython",
    "version": 3
   },
   "file_extension": ".py",
   "mimetype": "text/x-python",
   "name": "python",
   "nbconvert_exporter": "python",
   "pygments_lexer": "ipython3",
   "version": "3.9.12"
  }
 },
 "nbformat": 4,
 "nbformat_minor": 5
}
