{
 "cells": [
  {
   "cell_type": "markdown",
   "id": "df59029c",
   "metadata": {},
   "source": [
    "\n",
    "# Part 2a: Data Cleaning, EDA & Data Pre-processing\n",
    "***"
   ]
  },
  {
   "cell_type": "markdown",
   "id": "ab2bb251",
   "metadata": {},
   "source": [
    "## (1) Import packages"
   ]
  },
  {
   "cell_type": "code",
   "execution_count": 1,
   "id": "f59dc030",
   "metadata": {},
   "outputs": [],
   "source": [
    "# General libraries\n",
    "import pandas as pd\n",
    "import regex as re\n",
    "import nltk\n",
    "import seaborn as sns\n",
    "import numpy as np\n",
    "import matplotlib.pyplot as plt\n",
    "#from IPython.display                 #import display_html\n",
    "#from IPython.core.display            #import display, HTML\n",
    "\n",
    "# Cleaning and Preprocessing\n",
    "import string\n",
    "import collections\n",
    "\n",
    "# Modeling libraries\n",
    "from sklearn.linear_model import LogisticRegression\n",
    "from sklearn.model_selection import train_test_split\n",
    "from sklearn import metrics\n",
    "from sklearn.metrics import accuracy_score\n",
    "from sklearn.naive_bayes import MultinomialNB\n",
    "from sklearn.model_selection import GridSearchCV\n",
    "from sklearn.feature_extraction.text import CountVectorizer, TfidfVectorizer\n",
    "from sklearn.metrics import confusion_matrix, classification_report, plot_roc_curve\n",
    "\n",
    "\n",
    "# Ignore warnings\n",
    "import warnings\n",
    "warnings.filterwarnings(\"ignore\")"
   ]
  },
  {
   "cell_type": "markdown",
   "id": "df9c528e",
   "metadata": {},
   "source": [
    "## (2) Initial examination"
   ]
  },
  {
   "cell_type": "markdown",
   "id": "00604d74",
   "metadata": {},
   "source": [
    "### 2a. Preliminary look at data"
   ]
  },
  {
   "cell_type": "code",
   "execution_count": 2,
   "id": "fe8e8f34",
   "metadata": {},
   "outputs": [],
   "source": [
    "anxiety = pd.read_csv('./data/anxiety_data.csv')\n",
    "depression = pd.read_csv('./data/depression_data.csv')"
   ]
  },
  {
   "cell_type": "code",
   "execution_count": 3,
   "id": "59571fc5",
   "metadata": {},
   "outputs": [
    {
     "name": "stdout",
     "output_type": "stream",
     "text": [
      "First 5 rows of the \"anxiety\" dataset:\n"
     ]
    },
    {
     "data": {
      "text/html": [
       "<div>\n",
       "<style scoped>\n",
       "    .dataframe tbody tr th:only-of-type {\n",
       "        vertical-align: middle;\n",
       "    }\n",
       "\n",
       "    .dataframe tbody tr th {\n",
       "        vertical-align: top;\n",
       "    }\n",
       "\n",
       "    .dataframe thead th {\n",
       "        text-align: right;\n",
       "    }\n",
       "</style>\n",
       "<table border=\"1\" class=\"dataframe\">\n",
       "  <thead>\n",
       "    <tr style=\"text-align: right;\">\n",
       "      <th></th>\n",
       "      <th>subreddit</th>\n",
       "      <th>title</th>\n",
       "      <th>selftext</th>\n",
       "    </tr>\n",
       "  </thead>\n",
       "  <tbody>\n",
       "    <tr>\n",
       "      <th>0</th>\n",
       "      <td>Anxiety</td>\n",
       "      <td>Coping</td>\n",
       "      <td>We’re moving out of state and away from everyo...</td>\n",
       "    </tr>\n",
       "    <tr>\n",
       "      <th>1</th>\n",
       "      <td>Anxiety</td>\n",
       "      <td>cobweb feeling on face anyone else</td>\n",
       "      <td>NaN</td>\n",
       "    </tr>\n",
       "    <tr>\n",
       "      <th>2</th>\n",
       "      <td>Anxiety</td>\n",
       "      <td>Starting a new job anxiety</td>\n",
       "      <td>As the title says, I’m starting a new job tomo...</td>\n",
       "    </tr>\n",
       "    <tr>\n",
       "      <th>3</th>\n",
       "      <td>Anxiety</td>\n",
       "      <td>anxiety affecting studies</td>\n",
       "      <td>Lately I've been feeling anxious for no appare...</td>\n",
       "    </tr>\n",
       "    <tr>\n",
       "      <th>4</th>\n",
       "      <td>Anxiety</td>\n",
       "      <td>This is my recovery story since falling for th...</td>\n",
       "      <td>Last summer when I tried dating apps for the f...</td>\n",
       "    </tr>\n",
       "  </tbody>\n",
       "</table>\n",
       "</div>"
      ],
      "text/plain": [
       "  subreddit                                              title  \\\n",
       "0   Anxiety                                             Coping   \n",
       "1   Anxiety                 cobweb feeling on face anyone else   \n",
       "2   Anxiety                         Starting a new job anxiety   \n",
       "3   Anxiety                          anxiety affecting studies   \n",
       "4   Anxiety  This is my recovery story since falling for th...   \n",
       "\n",
       "                                            selftext  \n",
       "0  We’re moving out of state and away from everyo...  \n",
       "1                                                NaN  \n",
       "2  As the title says, I’m starting a new job tomo...  \n",
       "3  Lately I've been feeling anxious for no appare...  \n",
       "4  Last summer when I tried dating apps for the f...  "
      ]
     },
     "metadata": {},
     "output_type": "display_data"
    },
    {
     "name": "stdout",
     "output_type": "stream",
     "text": [
      "First 5 rows of the \"depression\" dataset:\n"
     ]
    },
    {
     "data": {
      "text/html": [
       "<div>\n",
       "<style scoped>\n",
       "    .dataframe tbody tr th:only-of-type {\n",
       "        vertical-align: middle;\n",
       "    }\n",
       "\n",
       "    .dataframe tbody tr th {\n",
       "        vertical-align: top;\n",
       "    }\n",
       "\n",
       "    .dataframe thead th {\n",
       "        text-align: right;\n",
       "    }\n",
       "</style>\n",
       "<table border=\"1\" class=\"dataframe\">\n",
       "  <thead>\n",
       "    <tr style=\"text-align: right;\">\n",
       "      <th></th>\n",
       "      <th>subreddit</th>\n",
       "      <th>title</th>\n",
       "      <th>selftext</th>\n",
       "    </tr>\n",
       "  </thead>\n",
       "  <tbody>\n",
       "    <tr>\n",
       "      <th>0</th>\n",
       "      <td>depression</td>\n",
       "      <td>Lack of cooperation from people: being left ou...</td>\n",
       "      <td>This is a repeat situation. Ignoring me. Is re...</td>\n",
       "    </tr>\n",
       "    <tr>\n",
       "      <th>1</th>\n",
       "      <td>depression</td>\n",
       "      <td>I hate to sleep</td>\n",
       "      <td>I can’t sleep, and I haven’t been sleeping for...</td>\n",
       "    </tr>\n",
       "    <tr>\n",
       "      <th>2</th>\n",
       "      <td>depression</td>\n",
       "      <td>Just another day folks!</td>\n",
       "      <td>Let’s fucking wrap it up and do it all over ag...</td>\n",
       "    </tr>\n",
       "    <tr>\n",
       "      <th>3</th>\n",
       "      <td>depression</td>\n",
       "      <td>Everything gets worse. We all just want life t...</td>\n",
       "      <td>[removed]</td>\n",
       "    </tr>\n",
       "    <tr>\n",
       "      <th>4</th>\n",
       "      <td>depression</td>\n",
       "      <td>My house is a sad place</td>\n",
       "      <td>It’s been made for business and efficiency lea...</td>\n",
       "    </tr>\n",
       "  </tbody>\n",
       "</table>\n",
       "</div>"
      ],
      "text/plain": [
       "    subreddit                                              title  \\\n",
       "0  depression  Lack of cooperation from people: being left ou...   \n",
       "1  depression                                    I hate to sleep   \n",
       "2  depression                            Just another day folks!   \n",
       "3  depression  Everything gets worse. We all just want life t...   \n",
       "4  depression                            My house is a sad place   \n",
       "\n",
       "                                            selftext  \n",
       "0  This is a repeat situation. Ignoring me. Is re...  \n",
       "1  I can’t sleep, and I haven’t been sleeping for...  \n",
       "2  Let’s fucking wrap it up and do it all over ag...  \n",
       "3                                          [removed]  \n",
       "4  It’s been made for business and efficiency lea...  "
      ]
     },
     "metadata": {},
     "output_type": "display_data"
    }
   ],
   "source": [
    "#view first few rows of each dataset\n",
    "print(\"First 5 rows of the \\\"anxiety\\\" dataset:\")\n",
    "display(anxiety.head())\n",
    "\n",
    "print(\"First 5 rows of the \\\"depression\\\" dataset:\")\n",
    "display(depression.head())"
   ]
  },
  {
   "cell_type": "markdown",
   "id": "3d20c29d",
   "metadata": {},
   "source": [
    "### 2b. Number of rows and columns"
   ]
  },
  {
   "cell_type": "code",
   "execution_count": 4,
   "id": "5dcee153",
   "metadata": {},
   "outputs": [
    {
     "name": "stdout",
     "output_type": "stream",
     "text": [
      "rows, columns in \"anxiety\" dataset:\n"
     ]
    },
    {
     "data": {
      "text/plain": [
       "(3069, 3)"
      ]
     },
     "metadata": {},
     "output_type": "display_data"
    },
    {
     "name": "stdout",
     "output_type": "stream",
     "text": [
      "rows, columns in \"depression\" dataset:\n"
     ]
    },
    {
     "data": {
      "text/plain": [
       "(3075, 3)"
      ]
     },
     "metadata": {},
     "output_type": "display_data"
    }
   ],
   "source": [
    "# view number of rows and columns in each dataset\n",
    "print(\"rows, columns in \\\"anxiety\\\" dataset:\")\n",
    "display(anxiety.shape)\n",
    "\n",
    "print(\"rows, columns in \\\"depression\\\" dataset:\")\n",
    "display(depression.shape)"
   ]
  },
  {
   "cell_type": "markdown",
   "id": "2d58292c",
   "metadata": {},
   "source": [
    "## (3) Data Cleaning"
   ]
  },
  {
   "cell_type": "markdown",
   "id": "cf375ab8",
   "metadata": {},
   "source": [
    "### 3a. Null values\n",
    "There are 91 rows without selftext in the anxiety data collected and 6 rows without selftext in the depression data collected. The rows with null values in the depression dataset will be deleted as it does not contain any meaningful data for us to classify. In addition, there is also no way for us to impute the missing data."
   ]
  },
  {
   "cell_type": "code",
   "execution_count": 5,
   "id": "0a960d71",
   "metadata": {},
   "outputs": [
    {
     "data": {
      "text/plain": [
       "subreddit     0\n",
       "title         0\n",
       "selftext     91\n",
       "dtype: int64"
      ]
     },
     "execution_count": 5,
     "metadata": {},
     "output_type": "execute_result"
    }
   ],
   "source": [
    "# r/anxiety - any nulls?\n",
    "anxiety.isnull().sum()"
   ]
  },
  {
   "cell_type": "code",
   "execution_count": 6,
   "id": "ca1733c1",
   "metadata": {},
   "outputs": [
    {
     "data": {
      "text/plain": [
       "subreddit    0\n",
       "title        0\n",
       "selftext     6\n",
       "dtype: int64"
      ]
     },
     "execution_count": 6,
     "metadata": {},
     "output_type": "execute_result"
    }
   ],
   "source": [
    "# r/depression - any nulls?\n",
    "depression.isnull().sum()"
   ]
  },
  {
   "cell_type": "code",
   "execution_count": 7,
   "id": "25ffa2a2",
   "metadata": {},
   "outputs": [
    {
     "data": {
      "text/plain": [
       "subreddit    0\n",
       "title        0\n",
       "selftext     0\n",
       "dtype: int64"
      ]
     },
     "metadata": {},
     "output_type": "display_data"
    },
    {
     "data": {
      "text/plain": [
       "subreddit    0\n",
       "title        0\n",
       "selftext     0\n",
       "dtype: int64"
      ]
     },
     "metadata": {},
     "output_type": "display_data"
    }
   ],
   "source": [
    "# Dealing with null values\n",
    "anxiety.dropna(inplace=True)\n",
    "depression.dropna(inplace=True)\n",
    "\n",
    "# Check for null values again\n",
    "display(anxiety.isnull().sum())\n",
    "display(depression.isnull().sum())"
   ]
  },
  {
   "cell_type": "markdown",
   "id": "b145f036",
   "metadata": {},
   "source": [
    "### 3b. Removed and Deleted posts\n",
    "In addition, in the anxiety data, there are 99 rows where the selftext is marked as 'removed' and 16 rows where the selftext is marked as 'deleted'. Meanwhile, there are 573 rows where the selftext is marked as 'removed' and 22 rows where the selftext is marked as 'deleted'. Based on research, posts are removed by the moderators of the subreddit and thus labelled 'removed'. By reddit convention, moderators remove posts with offensive content or those that violated the rules set for that subreddit <a href=\"https://www.reddit.com/r/help/comments/91ni5k/what_do_deleted_and_removed_mean/\" target=\"_blank\"><sup>1</sup></a>. Other than that, the spamfilter will also auto-remove spam posts. Meanwhile, posts can be deleted by its author for any reason, from receiving a large number of downvotes, to realising that the post goes against subreddit community conventions <a href=\"https://www.reddit.com/r/help/comments/dqlmdi/what_is_the_difference_between_removed_and/\" target=\"_blank\"><sup>2</sup></a>. As subreddit community conventions has conveniently marked posts that are irrelevant to the topic through these methods, we will delete all rows with posts marked as 'removed' or 'deleted'."
   ]
  },
  {
   "cell_type": "code",
   "execution_count": 8,
   "id": "b7ee5bd5",
   "metadata": {},
   "outputs": [
    {
     "data": {
      "text/plain": [
       "[removed]                                                                                                                                                                                                                                                                                                                                                                                                                                                                                                                                                                                                                                                                                                                                                                                                                                                                                                                                                                                                                                                                                                                                                                                                                                                                                                                                                                                                                                                                                                                                                                                                                                                                                                                                                                                                                                                                                                                                                                                                                                                                                                                                                                                                                                                                                                                                                                                                                                                                                                                                                                                                                                                                                                                                                                                                                                                                                                                                                                                                                                                        99\n",
       "[deleted]                                                                                                                                                                                                                                                                                                                                                                                                                                                                                                                                                                                                                                                                                                                                                                                                                                                                                                                                                                                                                                                                                                                                                                                                                                                                                                                                                                                                                                                                                                                                                                                                                                                                                                                                                                                                                                                                                                                                                                                                                                                                                                                                                                                                                                                                                                                                                                                                                                                                                                                                                                                                                                                                                                                                                                                                                                                                                                                                                                                                                                                        16\n",
       "TL;DR - I struggle with intrusive thoughts and with always wanting to \"get my thoughts in order.\" But end up reassuring myself way too much by trying to get it sorted. And while I don't worry too much over anything else now, but the only thing I get anxious about is my anxiety. As in, wanting to accept it as a normal human emotion and not reject it everytime. I struggle with \"what ifs\" that revolve around long term struggles like \"what if I always struggle with this?\" Advice needed!\\n\\nThe whole story:\\n\\nSo I was doing very well for so many months now since my last setback. I was moving forward and couldn't have been more thankful.\\n\\nHowever, few days ago, I ended up feeling weird (a different symptom) and relating it to the time when I was struggling a lot. So I ended up overthinking a lot and got set back. I need some help with a few things.\\n\\nI realized that while I don't really get scared or anxious over any situation or condition now, what I do fear is my \"anxiety.\" I know its emotion/feeling that everyone deals with and it isn't inherently wrong but we're here because we all need some help managing it and using it in the correct situations. And now the only thing that's getting me anxious is my anxiety and the thought that it'll keep returning.\\n\\nI struggle with intrusive thoughts which mostly focus around long time struggles like \"what if its always this way?\" And I find myself coming up with solutions as a form of reassurance and I keep repeating that reassurance to myself whenever the thought of anxiety comes to mind which is many times a day. \\n\\nYesterday I ended up trying to explain myself that \"its okay to experience anxiety. Its a normal human emotion. Its not a feeling you need to be afraid of. And there is no other problem that you have to solve. So just let it go.\" But I just ended up repeating that thought continuously and it was exhausting.\\n\\nWhile going to bed, I remembered the time from last year when I used to experience trembling and shaking due to fear but back then, I was worrying about my health (I experienced chronic acid reflux) so there was a reason. This time, however, that bad memory of shaking just came up and I started worrying about it immediately. Usually I can manage it fine and its been like many months since I experienced it once last time but this time, the only trigger was that memory.\\n\\nSince I struggled with it around Aug/Sep last year (after that it gradually got better), this time around, since August has began again, its just bringing back the memories of anxiety from back then. Those memories are getting me anxious again and I'm immediately thinking about the worst case scenario which, in my case, is me always struggling with this. Its a pretty crazy thought I know and far-fetched too but its still getting me all jittery.\\n\\nIf you read through this, thank you so much! It'd be great if I could receive some advice on how to overcome this.     4\n",
       "TW: su!cide, murder. Pls don't read if you're depressed. 21F. I was in so much pain for the last few days. I was angry with God and everything. I wanted to die. The other day I was driving with my parents and I am just learning to drive. I took off my hands from the steering for a moment. And then I put it back. I'm scared. I wanted to die but does that count as attempt to murder?\\nI can't honestly remember my intention. I have started driving less anxious because I am not scared of dying anymore. Before I used to be very very anxious. I am still learning to drive. Plus I have suicidal thoughts and urges. I had the urge yesterday and I removed one hand. My dad saw and laughed and told me to put both hands. Had he not told me, I would've crashed. Only thing is I didnt even think about this entire incident for the whole of yyesterday.I randomly remembered it today and now I am really freaking out. I first got anxious cuz I thought that homicide and suicide was my intention and I was sure of it. Now one hour later, i am not really sure what my intention was. Maybe i was just trying to be cool? Maybe I got confident? Idk. What should I do. Oh another thing is that I had no practice in driving. I hadn't driven in 2years either. I had never driven in the dark. But the other day I felt daring and indulging in risky behavior and so I asked if I could drive my friends car. I was really bad at it and I kept screaming but I did it anyway cuz I wasnt scared to die because I was depressed. My friends were scared of my screaming and driving. I almost drove on into the fields cuz I couldnt see in the dark. I drove on the wrong side of the road cuz I have bad road sense. Does this count?                                                                                                                                                                                                                                                                                                                                                                                                                                                                                                                                                                                                                                                                                                                                                                                                                                                                                                                                                                                                                                                                                                                                                                                                                                                                                              2\n",
       "I don't know, I don't even know what to say here in all honesty. I've been alone for so long I can't even talk to anyone. Not even just romantic loneliness (I've never been loved) but loneliness in general. I don't even have friends.\\n\\nI've also been feeling extremely suicidal lately, I can't take this total isolation anymore. Even if I have an opportunity to talk to someone at all, I can barely even manage to form a sentence. Never mind a girl. Stutter, stutter fkn stutter. Even if I have something in mind I find it so difficult to actually say it. Who on earth would have the patience to listen to me? Even if I tried to talk to someone how could they ever be attracted to me? I can't even talk to them properly.\\n\\nI'm so crippled with anxiety I can't even go outside or talk to someone online anymore. Sure I'll comment here and there, but I can't actually have a conversation or form any kind of friendship and relationship. Not to mention I'm high-functioning autistic, so yeah there's that...\\n\\nI’ve tried everything in person dating apps I get the numbers and then they just ghost me. I look around and see couples holding hands cuddling and so on and I just come back to my place alone and I’m  thinking of ending it soon not because                                                                                                                                                                                                                                                                                                                                                                                                                                                                                                                                                                                                                                                                                                                                                                                                                                                                                                                                                                                                                                                                                                                                                                                                                                                                                                                                                                                                                                                                                                                                                                                                                                                                                                                                                                2\n",
       "                                                                                                                                                                                                                                                                                                                                                                                                                                                                                                                                                                                                                                                                                                                                                                                                                                                                                                                                                                                                                                                                                                                                                                                                                                                                                                                                                                                                                                                                                                                                                                                                                                                                                                                                                                                                                                                                                                                                                                                                                                                                                                                                                                                                                                                                                                                                                                                                                                                                                                                                                                                                                                                                                                                                                                                                                                                                                                                                                                                                                                                                 ..\n",
       "Since I’ve last been on here I’ve been able to sleep more but the anxiety is still there before I go to sleep and when I wake up, my body is constantly thinking I’m gonna have seizure, (which I’ve never had before and am not prone to) due to just me seeing things when my eyes are closed and having constant throbbing headaches. and part of me knows I’m okay and it’s just anxiety but there’s still this part of me that’s in full panic mode. I don’t have anyone to relate to in real life about this, that’s mainly why I talk on here.                                                                                                                                                                                                                                                                                                                                                                                                                                                                                                                                                                                                                                                                                                                                                                                                                                                                                                                                                                                                                                                                                                                                                                                                                                                                                                                                                                                                                                                                                                                                                                                                                                                                                                                                                                                                                                                                                                                                                                                                                                                                                                                                                                                                                                                                                                                                                                                                                                                                                                             1\n",
       "I'm hungry I can't sleep because of arguing I've got 15 hours or so of sleep in 3 days. I just want to pass peacefully. I've already discussed my will but bring it up in nonchalant ways. I've went from 220 to 160 and literally pulling hair out like alot more than I'd like to admit. I'm actually scared to get a haircut because I'm worried their will be bald spots. Its like I'm just a game piece to be thrown to the side. I'm eating once a day if I'm lucky or snacking throughout. It's almost funny to watch myself die and nobody else seems to care so why should I is how I feel right now. My stomach is cramping my eyes hurt but light out now. Hope is dwindling to me. I miss the better days. Before the fights, my dad and Nana passing. My friends moving away or growing distance. I wanna see him again just to remember more what he was like. There's so much he never got to tell me next year will be my 21st and he can't even drink with me. I hope he's doing OK. Look at me pretending he's still here to feel better. He's gone and it won't ever change                                                                                                                                                                                                                                                                                                                                                                                                                                                                                                                                                                                                                                                                                                                                                                                                                                                                                                                                                                                                                                                                                                                                                                                                                                                                                                                                                                                                                                                                                                                                                                                                                                                                                                                                                                                                                                                                                                                                                                    1\n",
       "So I have been dealing with anxiety for a few years now. I suspect it being fear of failure since I am such a perfectionist. I'm a student (23M) and I have been in therapy for a about 7 month now. But things are getting worst and worst as I am navigating thought the academic year... EVERYTHING   is overwhelming for me, relations with my family, my actual friends, keeping contact with close friends, even my passions ... because I am way too ambitious. Holidays have always been the most difficult part because each time I expect to sort my life in order in every aspect and each time It ends up being such a disappointment. I'm anxious, do nothing, time passes by and I'm getting more anxious, then it becomes even harder to do something. \\n\\nBut this time it is straight hell. I spent the holydays with my mom (she lives alone). I have not been able to help her in 2 weeks straight even now she is lightly disabled (hemiplegy) and is recovering from an elbow injury. She has been cooking and doing laundry the whole time for me and I am 23 and feel like a wreck. \\n\\nBut the thing for which I am completely freaking out right now is that I have 8 exams in the following 2 weeks on very difficult topics, I have lost a lot a self confidence and have not studied AT ALL for those because anxiety freezes me. I just don't know how I am getting out of this. \\n\\nAlso, even know my mom knows about my mental disorders, I have a very hard time speaking with her and explaining because I don't even understand the issue. 2nd reason being that my sister is also experiencing pretty violent anxiety episodes and we have a strong History of mental issues in my family and I don't want to make her even more worried. \\n\\nTo synthesize, I've spent the whole holydays fleeing from my studies, my role as a son, my friends, my futur (ie looking for internships) And all my actions have been the exact opposite of What I want to do. Now I just want to cry for 30 minutes and unload to my mother before taking the train back to uni but can't even seem to be able for some reason.\\n\\n(Sorry if the language is incorrect I am not completely fluent in English)                                                                                                                                                                                                                                                                                                                                                                                                                                                                                                                                                                                                                                                                                                                                                                                                                                 1\n",
       "Does anyone else with health anxiety or any other anxiety for that matter have headaches that come with it? \\n\\nMy fear for health anxiety is of being dizzy and fainting. It’s what most things centre around with my worry. It’s stupid because I know having a headache isn’t going to cause me any harm. It’s due to stress and my anxiety causing me to be tense. \\n\\nHow do you cope with the above?                                                                                                                                                                                                                                                                                                                                                                                                                                                                                                                                                                                                                                                                                                                                                                                                                                                                                                                                                                                                                                                                                                                                                                                                                                                                                                                                                                                                                                                                                                                                                                                                                                                                                                                                                                                                                                                                                                                                                                                                                                                                                                                                                                                                                                                                                                                                                                                                                                                                                                                                                                                                                                                        1\n",
       "Does OCD really just latch onto anything and come up with horrible and weird thoughts?\\n\\nSo I’m watching boardwalk empire and all of a sudden a girl gets beaten up by her husband and then the main character brings her flowers in hospital and the first thing that popped into my head was “what makes people be kind” doesn’t sound a bad thought but then I question “what if everyone isn’t kind and really are evil” and like when you hear about how people are helping out their elderly neighbours during this pandemic I question “they could easily rob those old people but why are they being nice and giving them groceries?” Is this OCD or is it life OCD, Existential OCD? Anyone got any idea or has anyone had thoughts like this?\\n\\nThanks                                                                                                                                                                                                                                                                                                                                                                                                                                                                                                                                                                                                                                                                                                                                                                                                                                                                                                                                                                                                                                                                                                                                                                                                                                                                                                                                                                                                                                                                                                                                                                                                                                                                                                                                                                                                                                                                                                                                                                                                                                                                                                                                                                                                                                                                                                1\n",
       "Name: selftext, Length: 2855, dtype: int64"
      ]
     },
     "execution_count": 8,
     "metadata": {},
     "output_type": "execute_result"
    }
   ],
   "source": [
    "# r/anxiety: return a Series containing counts of unique values\n",
    "anxiety['selftext'].value_counts()"
   ]
  },
  {
   "cell_type": "code",
   "execution_count": 9,
   "id": "a254e771",
   "metadata": {},
   "outputs": [
    {
     "data": {
      "text/plain": [
       "[removed]                                                                                                                                                                                                                                                                                                                                                                                                                                                                                                                                                                                                                                                                                                                                                                                                                                                                                                                                                                                                                                                                                                                                                                                                                                                                                             573\n",
       "[deleted]                                                                                                                                                                                                                                                                                                                                                                                                                                                                                                                                                                                                                                                                                                                                                                                                                                                                                                                                                                                                                                                                                                                                                                                                                                                                                              22\n",
       "I’m still in bed and I wake up with something heavy on my chest. It’s hard to breathe. I don’t wanna be here, this is just so painful and hard. I hate pretending that I’m ok when I’m not. I just woke up and I’m crying, I don’t wanna start my day like this because it sets the tone for the entire day, I just wanna be in bed. I can’t talk to anyone about this especially my family.                                                                                                                                                                                                                                                                                                                                                                                                                                                                                                                                                                                                                                                                                                                                                                                                                                                                                                            2\n",
       "I don't know, I don't even know what to say here in all honesty. I've been alone for so long I can't even talk to anyone. Not even just romantic loneliness (I've never been loved) but loneliness in general. I don't even have friends.\\n\\nI've also been feeling extremely suicidal lately, I can't take this total isolation anymore. Even if I have an opportunity to talk to someone at all, I can barely even manage to form a sentence. Never mind a girl. Stutter, stutter fkn stutter. Even if I have something in mind I find it so difficult to actually say it. Who on earth would have the patience to listen to me? Even if I tried to talk to someone how could they ever be attracted to me? I can't even talk to them properly.\\n\\nI'm so crippled with anxiety I can't even go outside or talk to someone online anymore. Sure I'll comment here and there, but I can't actually have a conversation or form any kind of friendship and relationship. Not to mention I'm high-functioning autistic, so yeah there's that...\\n\\nI’ve tried everything in person dating apps I get the numbers and then they just ghost me. I look around and see couples holding hands cuddling and so on and I just come back to my place alone and I’m  thinking of ending it soon not because      2\n",
       "Many times it happens to me that I do not know what I am feeling (if it is negative or positive) I only feel an immense desire to expel what I have inside and I cannot.  A cry without tears, I suppose.  I despair because I feel like I can't vent.  Worst of all, no one believes that I just can't.  I've been like this for months.  The last time I cried it was very sudden and it only took me a couple of minutes.  I hope if someone else is experiencing this that they can overcome it, because it is frustrating af.                                                                                                                                                                                                                                                                                                                                                                                                                                                                                                                                                                                                                                                                                                                                                                      2\n",
       "                                                                                                                                                                                                                                                                                                                                                                                                                                                                                                                                                                                                                                                                                                                                                                                                                                                                                                                                                                                                                                                                                                                                                                                                                                                                                                     ... \n",
       "So a for the past 3-4 years I have had clinical depression, during most of those few years I constantly wanted to kill myself and really hated my life. Most of this year I had that numbing feeling of neither being happy or sad but something weird happened a few weeks ago. One day I woke up and felt strangely good, like actually normal. Nothing in my life changed to were it would affect my mood drastically. I am scares that is just a pyschcolgical defense mechanism and this is just a temporary thing. Because while I feel normal to an extent something just feels off, sorta like when I had that numbing feeling. Any ideas as to what it could be?                                                                                                                                                                                                                                                                                                                                                                                                                                                                                                                                                                                                                               1\n",
       "do i need any kind of special prescription? or can i just ask the Pharmacy guy? I'm under 18 (17) answers appreciated. thanks.                                                                                                                                                                                                                                                                                                                                                                                                                                                                                                                                                                                                                                                                                                                                                                                                                                                                                                                                                                                                                                                                                                                                                                          1\n",
       "I lost the girl I love and care about because I didn’t give her space and I’m not sure if she will ever return or reach out. I have nothing going good in my life at the moment I’m just really alone I can’t enjoy my video games or anything anymore.                                                                                                                                                                                                                                                                                                                                                                                                                                                                                                                                                                                                                                                                                                                                                                                                                                                                                                                                                                                                                                                 1\n",
       "(not a suicide post)\\n\\nIt’s so exhausting to feel this way. I feel so disconnected, anxious, and lost. Every night I console myself, try to distract myself, but I can’t be bothered anymore. Nothing helps. \\n\\nI feel so disconnected from this plane, but I can’t describe the feeling to my parents. \\n\\nMedically, I am not doing great. Thing is, I’d rather control my death then have it be inevitable. \\n\\nI have chickened out of therapy offices so many times. I ditched so many sessions due to anxiety I got booted lol. I just want help\\n\\nI always feel this way in this exact time of year. For 5 years straight.\\n\\nI am just going to lie down, feel like shit and not bother tonight.                                                                                                                                                                                                                                                                                                                                                                                                                                                                                                                                                                                             1\n",
       "I’m almost positive I’ve lost my job. \\nI have no income coming in.\\nI’m stuck in the house with my family.\\nI’ve gained weight again after nearly a month of consistently losing.\\nFriends don’t talk to me.\\n\\nI’m in a hole with smooth walks. I can’t get out. I just want the pain to stop. I don’t want to think anymore. It’s too much.                                                                                                                                                                                                                                                                                                                                                                                                                                                                                                                                                                                                                                                                                                                                                                                                                                                                                                                                                          1\n",
       "Name: selftext, Length: 2472, dtype: int64"
      ]
     },
     "execution_count": 9,
     "metadata": {},
     "output_type": "execute_result"
    }
   ],
   "source": [
    "# r/depression: return a Series containing counts of unique values\n",
    "depression['selftext'].value_counts()"
   ]
  },
  {
   "cell_type": "code",
   "execution_count": 10,
   "id": "ca9c3729",
   "metadata": {},
   "outputs": [],
   "source": [
    "# r/anxiety: Dealing with removed and deleted posts\n",
    "anxiety = anxiety[anxiety['selftext']!='[removed]']\n",
    "anxiety = anxiety[anxiety['selftext']!='[deleted]']"
   ]
  },
  {
   "cell_type": "code",
   "execution_count": 11,
   "id": "329af66c",
   "metadata": {},
   "outputs": [],
   "source": [
    "# r/depression: Dealing with removed and deleted posts\n",
    "depression = depression[depression['selftext']!='[removed]']\n",
    "depression = depression[depression['selftext']!='[deleted]']"
   ]
  },
  {
   "cell_type": "markdown",
   "id": "5de1b98c",
   "metadata": {},
   "source": [
    "### 3c. Merge 'title' and 'selftext' columns\n",
    "Concatenating the two columns will allow us to focus on analysing the submission as a single block of text, thus allowing for a more attentive analysis."
   ]
  },
  {
   "cell_type": "code",
   "execution_count": 12,
   "id": "8d428bc5",
   "metadata": {},
   "outputs": [
    {
     "data": {
      "text/html": [
       "<div>\n",
       "<style scoped>\n",
       "    .dataframe tbody tr th:only-of-type {\n",
       "        vertical-align: middle;\n",
       "    }\n",
       "\n",
       "    .dataframe tbody tr th {\n",
       "        vertical-align: top;\n",
       "    }\n",
       "\n",
       "    .dataframe thead th {\n",
       "        text-align: right;\n",
       "    }\n",
       "</style>\n",
       "<table border=\"1\" class=\"dataframe\">\n",
       "  <thead>\n",
       "    <tr style=\"text-align: right;\">\n",
       "      <th></th>\n",
       "      <th>subreddit</th>\n",
       "      <th>post</th>\n",
       "    </tr>\n",
       "  </thead>\n",
       "  <tbody>\n",
       "    <tr>\n",
       "      <th>0</th>\n",
       "      <td>Anxiety</td>\n",
       "      <td>Coping We’re moving out of state and away from...</td>\n",
       "    </tr>\n",
       "    <tr>\n",
       "      <th>2</th>\n",
       "      <td>Anxiety</td>\n",
       "      <td>Starting a new job anxiety As the title says, ...</td>\n",
       "    </tr>\n",
       "    <tr>\n",
       "      <th>3</th>\n",
       "      <td>Anxiety</td>\n",
       "      <td>anxiety affecting studies Lately I've been fee...</td>\n",
       "    </tr>\n",
       "    <tr>\n",
       "      <th>4</th>\n",
       "      <td>Anxiety</td>\n",
       "      <td>This is my recovery story since falling for th...</td>\n",
       "    </tr>\n",
       "    <tr>\n",
       "      <th>5</th>\n",
       "      <td>Anxiety</td>\n",
       "      <td>After years wearing braces my teeth still look...</td>\n",
       "    </tr>\n",
       "  </tbody>\n",
       "</table>\n",
       "</div>"
      ],
      "text/plain": [
       "  subreddit                                               post\n",
       "0   Anxiety  Coping We’re moving out of state and away from...\n",
       "2   Anxiety  Starting a new job anxiety As the title says, ...\n",
       "3   Anxiety  anxiety affecting studies Lately I've been fee...\n",
       "4   Anxiety  This is my recovery story since falling for th...\n",
       "5   Anxiety  After years wearing braces my teeth still look..."
      ]
     },
     "execution_count": 12,
     "metadata": {},
     "output_type": "execute_result"
    }
   ],
   "source": [
    "## r/Anxiety:\n",
    "# Merging columns to retain meaningful text data\n",
    "anxiety['post'] = anxiety['title'] + ' ' + anxiety['selftext']\n",
    "\n",
    "# Delete original title and selftext columns \n",
    "anxiety = anxiety.drop(columns=['title','selftext'])\n",
    "\n",
    "# View top of anxiety dataset now\n",
    "anxiety.head()"
   ]
  },
  {
   "cell_type": "code",
   "execution_count": 13,
   "id": "96b5946a",
   "metadata": {},
   "outputs": [
    {
     "data": {
      "text/html": [
       "<div>\n",
       "<style scoped>\n",
       "    .dataframe tbody tr th:only-of-type {\n",
       "        vertical-align: middle;\n",
       "    }\n",
       "\n",
       "    .dataframe tbody tr th {\n",
       "        vertical-align: top;\n",
       "    }\n",
       "\n",
       "    .dataframe thead th {\n",
       "        text-align: right;\n",
       "    }\n",
       "</style>\n",
       "<table border=\"1\" class=\"dataframe\">\n",
       "  <thead>\n",
       "    <tr style=\"text-align: right;\">\n",
       "      <th></th>\n",
       "      <th>subreddit</th>\n",
       "      <th>post</th>\n",
       "    </tr>\n",
       "  </thead>\n",
       "  <tbody>\n",
       "    <tr>\n",
       "      <th>0</th>\n",
       "      <td>depression</td>\n",
       "      <td>Lack of cooperation from people: being left ou...</td>\n",
       "    </tr>\n",
       "    <tr>\n",
       "      <th>1</th>\n",
       "      <td>depression</td>\n",
       "      <td>I hate to sleep I can’t sleep, and I haven’t b...</td>\n",
       "    </tr>\n",
       "    <tr>\n",
       "      <th>2</th>\n",
       "      <td>depression</td>\n",
       "      <td>Just another day folks! Let’s fucking wrap it ...</td>\n",
       "    </tr>\n",
       "    <tr>\n",
       "      <th>4</th>\n",
       "      <td>depression</td>\n",
       "      <td>My house is a sad place It’s been made for bus...</td>\n",
       "    </tr>\n",
       "    <tr>\n",
       "      <th>5</th>\n",
       "      <td>depression</td>\n",
       "      <td>I just want to die I just hate my life. I need...</td>\n",
       "    </tr>\n",
       "  </tbody>\n",
       "</table>\n",
       "</div>"
      ],
      "text/plain": [
       "    subreddit                                               post\n",
       "0  depression  Lack of cooperation from people: being left ou...\n",
       "1  depression  I hate to sleep I can’t sleep, and I haven’t b...\n",
       "2  depression  Just another day folks! Let’s fucking wrap it ...\n",
       "4  depression  My house is a sad place It’s been made for bus...\n",
       "5  depression  I just want to die I just hate my life. I need..."
      ]
     },
     "execution_count": 13,
     "metadata": {},
     "output_type": "execute_result"
    }
   ],
   "source": [
    "## r/depression:\n",
    "# Merging columns to retain meaningful text data\n",
    "depression['post'] = depression['title'] + ' ' + depression['selftext']\n",
    "\n",
    "# Delete the original title and selftext columns \n",
    "depression = depression.drop(columns=['title','selftext'])\n",
    "\n",
    "# View top of depression dataset now\n",
    "depression.head()"
   ]
  },
  {
   "cell_type": "markdown",
   "id": "1c2daae7",
   "metadata": {},
   "source": [
    "### 3d. Merge and Export Cleaned Datasets"
   ]
  },
  {
   "cell_type": "code",
   "execution_count": 14,
   "id": "4cfc1bb5",
   "metadata": {},
   "outputs": [],
   "source": [
    "# Merge the both datasets into one dataset\n",
    "both = pd.merge(anxiety, depression, how = 'outer')\n",
    "\n",
    "# Exporting of merged datasets to csv\n",
    "anxiety.to_csv('./data/anxiety_cleaned.csv', index=False)\n",
    "depression.to_csv('./data/depression_cleaned.csv', index=False)\n",
    "both.to_csv('./data/raw_cleaned.csv', index=False) # combines both raw data collected and cleaned data at each stage for both subreddits"
   ]
  },
  {
   "cell_type": "markdown",
   "id": "e6c52cfa",
   "metadata": {},
   "source": [
    "## (4) Data Pre-processing"
   ]
  },
  {
   "cell_type": "markdown",
   "id": "281e4de5",
   "metadata": {},
   "source": [
    "### 4a. Remove punctuations"
   ]
  },
  {
   "cell_type": "code",
   "execution_count": 15,
   "id": "01494ae9",
   "metadata": {},
   "outputs": [],
   "source": [
    "# Define function to remove punctuation\n",
    "def remove_punct(text):\n",
    "    # store character only if it is not a punctuation\n",
    "    text_nopunct = ''.join([char for char in str(text) if char not in string.punctuation])\n",
    "    return text_nopunct"
   ]
  },
  {
   "cell_type": "code",
   "execution_count": 16,
   "id": "818eae12",
   "metadata": {},
   "outputs": [
    {
     "data": {
      "text/html": [
       "<div>\n",
       "<style scoped>\n",
       "    .dataframe tbody tr th:only-of-type {\n",
       "        vertical-align: middle;\n",
       "    }\n",
       "\n",
       "    .dataframe tbody tr th {\n",
       "        vertical-align: top;\n",
       "    }\n",
       "\n",
       "    .dataframe thead th {\n",
       "        text-align: right;\n",
       "    }\n",
       "</style>\n",
       "<table border=\"1\" class=\"dataframe\">\n",
       "  <thead>\n",
       "    <tr style=\"text-align: right;\">\n",
       "      <th></th>\n",
       "      <th>subreddit</th>\n",
       "      <th>post</th>\n",
       "      <th>post_cleaned</th>\n",
       "    </tr>\n",
       "  </thead>\n",
       "  <tbody>\n",
       "    <tr>\n",
       "      <th>0</th>\n",
       "      <td>Anxiety</td>\n",
       "      <td>Coping We’re moving out of state and away from...</td>\n",
       "      <td>Coping We’re moving out of state and away from...</td>\n",
       "    </tr>\n",
       "    <tr>\n",
       "      <th>1</th>\n",
       "      <td>Anxiety</td>\n",
       "      <td>Starting a new job anxiety As the title says, ...</td>\n",
       "      <td>Starting a new job anxiety As the title says I...</td>\n",
       "    </tr>\n",
       "    <tr>\n",
       "      <th>2</th>\n",
       "      <td>Anxiety</td>\n",
       "      <td>anxiety affecting studies Lately I've been fee...</td>\n",
       "      <td>anxiety affecting studies Lately Ive been feel...</td>\n",
       "    </tr>\n",
       "    <tr>\n",
       "      <th>3</th>\n",
       "      <td>Anxiety</td>\n",
       "      <td>This is my recovery story since falling for th...</td>\n",
       "      <td>This is my recovery story since falling for th...</td>\n",
       "    </tr>\n",
       "    <tr>\n",
       "      <th>4</th>\n",
       "      <td>Anxiety</td>\n",
       "      <td>After years wearing braces my teeth still look...</td>\n",
       "      <td>After years wearing braces my teeth still look...</td>\n",
       "    </tr>\n",
       "  </tbody>\n",
       "</table>\n",
       "</div>"
      ],
      "text/plain": [
       "  subreddit                                               post  \\\n",
       "0   Anxiety  Coping We’re moving out of state and away from...   \n",
       "1   Anxiety  Starting a new job anxiety As the title says, ...   \n",
       "2   Anxiety  anxiety affecting studies Lately I've been fee...   \n",
       "3   Anxiety  This is my recovery story since falling for th...   \n",
       "4   Anxiety  After years wearing braces my teeth still look...   \n",
       "\n",
       "                                        post_cleaned  \n",
       "0  Coping We’re moving out of state and away from...  \n",
       "1  Starting a new job anxiety As the title says I...  \n",
       "2  anxiety affecting studies Lately Ive been feel...  \n",
       "3  This is my recovery story since falling for th...  \n",
       "4  After years wearing braces my teeth still look...  "
      ]
     },
     "metadata": {},
     "output_type": "display_data"
    },
    {
     "data": {
      "text/html": [
       "<div>\n",
       "<style scoped>\n",
       "    .dataframe tbody tr th:only-of-type {\n",
       "        vertical-align: middle;\n",
       "    }\n",
       "\n",
       "    .dataframe tbody tr th {\n",
       "        vertical-align: top;\n",
       "    }\n",
       "\n",
       "    .dataframe thead th {\n",
       "        text-align: right;\n",
       "    }\n",
       "</style>\n",
       "<table border=\"1\" class=\"dataframe\">\n",
       "  <thead>\n",
       "    <tr style=\"text-align: right;\">\n",
       "      <th></th>\n",
       "      <th>subreddit</th>\n",
       "      <th>post</th>\n",
       "      <th>post_cleaned</th>\n",
       "    </tr>\n",
       "  </thead>\n",
       "  <tbody>\n",
       "    <tr>\n",
       "      <th>5332</th>\n",
       "      <td>depression</td>\n",
       "      <td>20,M. My “best years” are being wasted and I b...</td>\n",
       "      <td>20M My “best years” are being wasted and I bla...</td>\n",
       "    </tr>\n",
       "    <tr>\n",
       "      <th>5333</th>\n",
       "      <td>depression</td>\n",
       "      <td>I want to die I just want to die, I dont even ...</td>\n",
       "      <td>I want to die I just want to die I dont even w...</td>\n",
       "    </tr>\n",
       "    <tr>\n",
       "      <th>5334</th>\n",
       "      <td>depression</td>\n",
       "      <td>Can someone please just reassure me that it'll...</td>\n",
       "      <td>Can someone please just reassure me that itll ...</td>\n",
       "    </tr>\n",
       "    <tr>\n",
       "      <th>5335</th>\n",
       "      <td>depression</td>\n",
       "      <td>Tired I remember what it feels like to be happ...</td>\n",
       "      <td>Tired I remember what it feels like to be happ...</td>\n",
       "    </tr>\n",
       "    <tr>\n",
       "      <th>5336</th>\n",
       "      <td>depression</td>\n",
       "      <td>Corona has ruined everything I’m almost positi...</td>\n",
       "      <td>Corona has ruined everything I’m almost positi...</td>\n",
       "    </tr>\n",
       "  </tbody>\n",
       "</table>\n",
       "</div>"
      ],
      "text/plain": [
       "       subreddit                                               post  \\\n",
       "5332  depression  20,M. My “best years” are being wasted and I b...   \n",
       "5333  depression  I want to die I just want to die, I dont even ...   \n",
       "5334  depression  Can someone please just reassure me that it'll...   \n",
       "5335  depression  Tired I remember what it feels like to be happ...   \n",
       "5336  depression  Corona has ruined everything I’m almost positi...   \n",
       "\n",
       "                                           post_cleaned  \n",
       "5332  20M My “best years” are being wasted and I bla...  \n",
       "5333  I want to die I just want to die I dont even w...  \n",
       "5334  Can someone please just reassure me that itll ...  \n",
       "5335  Tired I remember what it feels like to be happ...  \n",
       "5336  Corona has ruined everything I’m almost positi...  "
      ]
     },
     "metadata": {},
     "output_type": "display_data"
    }
   ],
   "source": [
    "# Remove punctuation from combined dataset\n",
    "both['post_cleaned'] = both['post'].apply(lambda x: remove_punct(x))\n",
    "\n",
    "# View sample rows from combined dataset\n",
    "display(both.head())\n",
    "display(both.tail())"
   ]
  },
  {
   "cell_type": "markdown",
   "id": "b3c8f756",
   "metadata": {},
   "source": [
    "### 4b. Remove numbers"
   ]
  },
  {
   "cell_type": "code",
   "execution_count": 17,
   "id": "ef531eee",
   "metadata": {},
   "outputs": [],
   "source": [
    "# Define function to remove numbers\n",
    "def remove_num(text):\n",
    "    # return all chars except numeric \n",
    "    text_nonum = ''.join([char for char in text if not char.isdigit()])\n",
    "    return text_nonum"
   ]
  },
  {
   "cell_type": "code",
   "execution_count": 18,
   "id": "6aa63a56",
   "metadata": {},
   "outputs": [
    {
     "data": {
      "text/html": [
       "<div>\n",
       "<style scoped>\n",
       "    .dataframe tbody tr th:only-of-type {\n",
       "        vertical-align: middle;\n",
       "    }\n",
       "\n",
       "    .dataframe tbody tr th {\n",
       "        vertical-align: top;\n",
       "    }\n",
       "\n",
       "    .dataframe thead th {\n",
       "        text-align: right;\n",
       "    }\n",
       "</style>\n",
       "<table border=\"1\" class=\"dataframe\">\n",
       "  <thead>\n",
       "    <tr style=\"text-align: right;\">\n",
       "      <th></th>\n",
       "      <th>subreddit</th>\n",
       "      <th>post</th>\n",
       "      <th>post_cleaned</th>\n",
       "    </tr>\n",
       "  </thead>\n",
       "  <tbody>\n",
       "    <tr>\n",
       "      <th>0</th>\n",
       "      <td>Anxiety</td>\n",
       "      <td>Coping We’re moving out of state and away from...</td>\n",
       "      <td>Coping We’re moving out of state and away from...</td>\n",
       "    </tr>\n",
       "    <tr>\n",
       "      <th>1</th>\n",
       "      <td>Anxiety</td>\n",
       "      <td>Starting a new job anxiety As the title says, ...</td>\n",
       "      <td>Starting a new job anxiety As the title says I...</td>\n",
       "    </tr>\n",
       "    <tr>\n",
       "      <th>2</th>\n",
       "      <td>Anxiety</td>\n",
       "      <td>anxiety affecting studies Lately I've been fee...</td>\n",
       "      <td>anxiety affecting studies Lately Ive been feel...</td>\n",
       "    </tr>\n",
       "    <tr>\n",
       "      <th>3</th>\n",
       "      <td>Anxiety</td>\n",
       "      <td>This is my recovery story since falling for th...</td>\n",
       "      <td>This is my recovery story since falling for th...</td>\n",
       "    </tr>\n",
       "    <tr>\n",
       "      <th>4</th>\n",
       "      <td>Anxiety</td>\n",
       "      <td>After years wearing braces my teeth still look...</td>\n",
       "      <td>After years wearing braces my teeth still look...</td>\n",
       "    </tr>\n",
       "  </tbody>\n",
       "</table>\n",
       "</div>"
      ],
      "text/plain": [
       "  subreddit                                               post  \\\n",
       "0   Anxiety  Coping We’re moving out of state and away from...   \n",
       "1   Anxiety  Starting a new job anxiety As the title says, ...   \n",
       "2   Anxiety  anxiety affecting studies Lately I've been fee...   \n",
       "3   Anxiety  This is my recovery story since falling for th...   \n",
       "4   Anxiety  After years wearing braces my teeth still look...   \n",
       "\n",
       "                                        post_cleaned  \n",
       "0  Coping We’re moving out of state and away from...  \n",
       "1  Starting a new job anxiety As the title says I...  \n",
       "2  anxiety affecting studies Lately Ive been feel...  \n",
       "3  This is my recovery story since falling for th...  \n",
       "4  After years wearing braces my teeth still look...  "
      ]
     },
     "metadata": {},
     "output_type": "display_data"
    },
    {
     "data": {
      "text/html": [
       "<div>\n",
       "<style scoped>\n",
       "    .dataframe tbody tr th:only-of-type {\n",
       "        vertical-align: middle;\n",
       "    }\n",
       "\n",
       "    .dataframe tbody tr th {\n",
       "        vertical-align: top;\n",
       "    }\n",
       "\n",
       "    .dataframe thead th {\n",
       "        text-align: right;\n",
       "    }\n",
       "</style>\n",
       "<table border=\"1\" class=\"dataframe\">\n",
       "  <thead>\n",
       "    <tr style=\"text-align: right;\">\n",
       "      <th></th>\n",
       "      <th>subreddit</th>\n",
       "      <th>post</th>\n",
       "      <th>post_cleaned</th>\n",
       "    </tr>\n",
       "  </thead>\n",
       "  <tbody>\n",
       "    <tr>\n",
       "      <th>5332</th>\n",
       "      <td>depression</td>\n",
       "      <td>20,M. My “best years” are being wasted and I b...</td>\n",
       "      <td>M My “best years” are being wasted and I blame...</td>\n",
       "    </tr>\n",
       "    <tr>\n",
       "      <th>5333</th>\n",
       "      <td>depression</td>\n",
       "      <td>I want to die I just want to die, I dont even ...</td>\n",
       "      <td>I want to die I just want to die I dont even w...</td>\n",
       "    </tr>\n",
       "    <tr>\n",
       "      <th>5334</th>\n",
       "      <td>depression</td>\n",
       "      <td>Can someone please just reassure me that it'll...</td>\n",
       "      <td>Can someone please just reassure me that itll ...</td>\n",
       "    </tr>\n",
       "    <tr>\n",
       "      <th>5335</th>\n",
       "      <td>depression</td>\n",
       "      <td>Tired I remember what it feels like to be happ...</td>\n",
       "      <td>Tired I remember what it feels like to be happ...</td>\n",
       "    </tr>\n",
       "    <tr>\n",
       "      <th>5336</th>\n",
       "      <td>depression</td>\n",
       "      <td>Corona has ruined everything I’m almost positi...</td>\n",
       "      <td>Corona has ruined everything I’m almost positi...</td>\n",
       "    </tr>\n",
       "  </tbody>\n",
       "</table>\n",
       "</div>"
      ],
      "text/plain": [
       "       subreddit                                               post  \\\n",
       "5332  depression  20,M. My “best years” are being wasted and I b...   \n",
       "5333  depression  I want to die I just want to die, I dont even ...   \n",
       "5334  depression  Can someone please just reassure me that it'll...   \n",
       "5335  depression  Tired I remember what it feels like to be happ...   \n",
       "5336  depression  Corona has ruined everything I’m almost positi...   \n",
       "\n",
       "                                           post_cleaned  \n",
       "5332  M My “best years” are being wasted and I blame...  \n",
       "5333  I want to die I just want to die I dont even w...  \n",
       "5334  Can someone please just reassure me that itll ...  \n",
       "5335  Tired I remember what it feels like to be happ...  \n",
       "5336  Corona has ruined everything I’m almost positi...  "
      ]
     },
     "metadata": {},
     "output_type": "display_data"
    }
   ],
   "source": [
    "# Remove numbers from combined dataset\n",
    "both['post_cleaned'] = both['post_cleaned'].apply(lambda x: remove_num(x))\n",
    "\n",
    "# View sample rows from combined dataset\n",
    "display(both.head())\n",
    "display(both.tail())"
   ]
  },
  {
   "cell_type": "markdown",
   "id": "2329121e",
   "metadata": {},
   "source": [
    "### 4c. Tokenization"
   ]
  },
  {
   "cell_type": "code",
   "execution_count": 19,
   "id": "4f1f7c26",
   "metadata": {},
   "outputs": [],
   "source": [
    "# Define function to tokenise word in post\n",
    "def tokenise(text):\n",
    "    # Matches any character that is neither alphanumeric nor underscore\n",
    "    # Add a + just in case there are 2 or more spaces between certain words\n",
    "    tokens = re.split('\\W+', text)\n",
    "    return tokens"
   ]
  },
  {
   "cell_type": "code",
   "execution_count": 20,
   "id": "b2fec402",
   "metadata": {},
   "outputs": [
    {
     "data": {
      "text/html": [
       "<div>\n",
       "<style scoped>\n",
       "    .dataframe tbody tr th:only-of-type {\n",
       "        vertical-align: middle;\n",
       "    }\n",
       "\n",
       "    .dataframe tbody tr th {\n",
       "        vertical-align: top;\n",
       "    }\n",
       "\n",
       "    .dataframe thead th {\n",
       "        text-align: right;\n",
       "    }\n",
       "</style>\n",
       "<table border=\"1\" class=\"dataframe\">\n",
       "  <thead>\n",
       "    <tr style=\"text-align: right;\">\n",
       "      <th></th>\n",
       "      <th>subreddit</th>\n",
       "      <th>post</th>\n",
       "      <th>post_cleaned</th>\n",
       "      <th>post_tokenised</th>\n",
       "    </tr>\n",
       "  </thead>\n",
       "  <tbody>\n",
       "    <tr>\n",
       "      <th>0</th>\n",
       "      <td>Anxiety</td>\n",
       "      <td>Coping We’re moving out of state and away from...</td>\n",
       "      <td>Coping We’re moving out of state and away from...</td>\n",
       "      <td>[coping, we, re, moving, out, of, state, and, ...</td>\n",
       "    </tr>\n",
       "    <tr>\n",
       "      <th>1</th>\n",
       "      <td>Anxiety</td>\n",
       "      <td>Starting a new job anxiety As the title says, ...</td>\n",
       "      <td>Starting a new job anxiety As the title says I...</td>\n",
       "      <td>[starting, a, new, job, anxiety, as, the, titl...</td>\n",
       "    </tr>\n",
       "    <tr>\n",
       "      <th>2</th>\n",
       "      <td>Anxiety</td>\n",
       "      <td>anxiety affecting studies Lately I've been fee...</td>\n",
       "      <td>anxiety affecting studies Lately Ive been feel...</td>\n",
       "      <td>[anxiety, affecting, studies, lately, ive, bee...</td>\n",
       "    </tr>\n",
       "    <tr>\n",
       "      <th>3</th>\n",
       "      <td>Anxiety</td>\n",
       "      <td>This is my recovery story since falling for th...</td>\n",
       "      <td>This is my recovery story since falling for th...</td>\n",
       "      <td>[this, is, my, recovery, story, since, falling...</td>\n",
       "    </tr>\n",
       "    <tr>\n",
       "      <th>4</th>\n",
       "      <td>Anxiety</td>\n",
       "      <td>After years wearing braces my teeth still look...</td>\n",
       "      <td>After years wearing braces my teeth still look...</td>\n",
       "      <td>[after, years, wearing, braces, my, teeth, sti...</td>\n",
       "    </tr>\n",
       "  </tbody>\n",
       "</table>\n",
       "</div>"
      ],
      "text/plain": [
       "  subreddit                                               post  \\\n",
       "0   Anxiety  Coping We’re moving out of state and away from...   \n",
       "1   Anxiety  Starting a new job anxiety As the title says, ...   \n",
       "2   Anxiety  anxiety affecting studies Lately I've been fee...   \n",
       "3   Anxiety  This is my recovery story since falling for th...   \n",
       "4   Anxiety  After years wearing braces my teeth still look...   \n",
       "\n",
       "                                        post_cleaned  \\\n",
       "0  Coping We’re moving out of state and away from...   \n",
       "1  Starting a new job anxiety As the title says I...   \n",
       "2  anxiety affecting studies Lately Ive been feel...   \n",
       "3  This is my recovery story since falling for th...   \n",
       "4  After years wearing braces my teeth still look...   \n",
       "\n",
       "                                      post_tokenised  \n",
       "0  [coping, we, re, moving, out, of, state, and, ...  \n",
       "1  [starting, a, new, job, anxiety, as, the, titl...  \n",
       "2  [anxiety, affecting, studies, lately, ive, bee...  \n",
       "3  [this, is, my, recovery, story, since, falling...  \n",
       "4  [after, years, wearing, braces, my, teeth, sti...  "
      ]
     },
     "metadata": {},
     "output_type": "display_data"
    },
    {
     "data": {
      "text/html": [
       "<div>\n",
       "<style scoped>\n",
       "    .dataframe tbody tr th:only-of-type {\n",
       "        vertical-align: middle;\n",
       "    }\n",
       "\n",
       "    .dataframe tbody tr th {\n",
       "        vertical-align: top;\n",
       "    }\n",
       "\n",
       "    .dataframe thead th {\n",
       "        text-align: right;\n",
       "    }\n",
       "</style>\n",
       "<table border=\"1\" class=\"dataframe\">\n",
       "  <thead>\n",
       "    <tr style=\"text-align: right;\">\n",
       "      <th></th>\n",
       "      <th>subreddit</th>\n",
       "      <th>post</th>\n",
       "      <th>post_cleaned</th>\n",
       "      <th>post_tokenised</th>\n",
       "    </tr>\n",
       "  </thead>\n",
       "  <tbody>\n",
       "    <tr>\n",
       "      <th>5332</th>\n",
       "      <td>depression</td>\n",
       "      <td>20,M. My “best years” are being wasted and I b...</td>\n",
       "      <td>M My “best years” are being wasted and I blame...</td>\n",
       "      <td>[m, my, best, years, are, being, wasted, and, ...</td>\n",
       "    </tr>\n",
       "    <tr>\n",
       "      <th>5333</th>\n",
       "      <td>depression</td>\n",
       "      <td>I want to die I just want to die, I dont even ...</td>\n",
       "      <td>I want to die I just want to die I dont even w...</td>\n",
       "      <td>[i, want, to, die, i, just, want, to, die, i, ...</td>\n",
       "    </tr>\n",
       "    <tr>\n",
       "      <th>5334</th>\n",
       "      <td>depression</td>\n",
       "      <td>Can someone please just reassure me that it'll...</td>\n",
       "      <td>Can someone please just reassure me that itll ...</td>\n",
       "      <td>[can, someone, please, just, reassure, me, tha...</td>\n",
       "    </tr>\n",
       "    <tr>\n",
       "      <th>5335</th>\n",
       "      <td>depression</td>\n",
       "      <td>Tired I remember what it feels like to be happ...</td>\n",
       "      <td>Tired I remember what it feels like to be happ...</td>\n",
       "      <td>[tired, i, remember, what, it, feels, like, to...</td>\n",
       "    </tr>\n",
       "    <tr>\n",
       "      <th>5336</th>\n",
       "      <td>depression</td>\n",
       "      <td>Corona has ruined everything I’m almost positi...</td>\n",
       "      <td>Corona has ruined everything I’m almost positi...</td>\n",
       "      <td>[corona, has, ruined, everything, i, m, almost...</td>\n",
       "    </tr>\n",
       "  </tbody>\n",
       "</table>\n",
       "</div>"
      ],
      "text/plain": [
       "       subreddit                                               post  \\\n",
       "5332  depression  20,M. My “best years” are being wasted and I b...   \n",
       "5333  depression  I want to die I just want to die, I dont even ...   \n",
       "5334  depression  Can someone please just reassure me that it'll...   \n",
       "5335  depression  Tired I remember what it feels like to be happ...   \n",
       "5336  depression  Corona has ruined everything I’m almost positi...   \n",
       "\n",
       "                                           post_cleaned  \\\n",
       "5332  M My “best years” are being wasted and I blame...   \n",
       "5333  I want to die I just want to die I dont even w...   \n",
       "5334  Can someone please just reassure me that itll ...   \n",
       "5335  Tired I remember what it feels like to be happ...   \n",
       "5336  Corona has ruined everything I’m almost positi...   \n",
       "\n",
       "                                         post_tokenised  \n",
       "5332  [m, my, best, years, are, being, wasted, and, ...  \n",
       "5333  [i, want, to, die, i, just, want, to, die, i, ...  \n",
       "5334  [can, someone, please, just, reassure, me, tha...  \n",
       "5335  [tired, i, remember, what, it, feels, like, to...  \n",
       "5336  [corona, has, ruined, everything, i, m, almost...  "
      ]
     },
     "metadata": {},
     "output_type": "display_data"
    }
   ],
   "source": [
    "# Tokenize data, convert to lowercase in combined dataset\n",
    "both['post_tokenised'] = both['post_cleaned'].apply(lambda x: tokenise(x.lower()))\n",
    "\n",
    "\n",
    "# View sample rows from combined dataset\n",
    "display(both.head())\n",
    "display(both.tail())"
   ]
  },
  {
   "cell_type": "markdown",
   "id": "de3c92e8",
   "metadata": {},
   "source": [
    "### 4d. Remove stopwords"
   ]
  },
  {
   "cell_type": "code",
   "execution_count": 21,
   "id": "d04d248e",
   "metadata": {},
   "outputs": [],
   "source": [
    "import nltk\n",
    "\n",
    "# NLTK(Natural Language Toolkit) in python has a list of stopwords stored in 16 different languages.\n",
    "stopword = nltk.corpus.stopwords.words('english')"
   ]
  },
  {
   "cell_type": "code",
   "execution_count": 22,
   "id": "a2fcc432",
   "metadata": {},
   "outputs": [
    {
     "data": {
      "text/plain": [
       "list"
      ]
     },
     "execution_count": 22,
     "metadata": {},
     "output_type": "execute_result"
    }
   ],
   "source": [
    "# since stopword datatype is a list, we can customise it later if/when necessary\n",
    "type(stopword)"
   ]
  },
  {
   "cell_type": "code",
   "execution_count": 23,
   "id": "50f2b6d2",
   "metadata": {},
   "outputs": [],
   "source": [
    "# Define function to remove stopwords\n",
    "def remove_stopwords(tokenised_list):\n",
    "    # Store in text only if word is not found in stopword i.e. it is not a stopword\n",
    "    text = [word for word in tokenised_list if word not in stopword]\n",
    "    return text"
   ]
  },
  {
   "cell_type": "code",
   "execution_count": 24,
   "id": "869b4561",
   "metadata": {},
   "outputs": [
    {
     "data": {
      "text/html": [
       "<div>\n",
       "<style scoped>\n",
       "    .dataframe tbody tr th:only-of-type {\n",
       "        vertical-align: middle;\n",
       "    }\n",
       "\n",
       "    .dataframe tbody tr th {\n",
       "        vertical-align: top;\n",
       "    }\n",
       "\n",
       "    .dataframe thead th {\n",
       "        text-align: right;\n",
       "    }\n",
       "</style>\n",
       "<table border=\"1\" class=\"dataframe\">\n",
       "  <thead>\n",
       "    <tr style=\"text-align: right;\">\n",
       "      <th></th>\n",
       "      <th>subreddit</th>\n",
       "      <th>post</th>\n",
       "      <th>post_cleaned</th>\n",
       "      <th>post_tokenised</th>\n",
       "      <th>post_no_stop</th>\n",
       "    </tr>\n",
       "  </thead>\n",
       "  <tbody>\n",
       "    <tr>\n",
       "      <th>0</th>\n",
       "      <td>Anxiety</td>\n",
       "      <td>Coping We’re moving out of state and away from...</td>\n",
       "      <td>Coping We’re moving out of state and away from...</td>\n",
       "      <td>[coping, we, re, moving, out, of, state, and, ...</td>\n",
       "      <td>[coping, moving, state, away, everyone, know, ...</td>\n",
       "    </tr>\n",
       "    <tr>\n",
       "      <th>1</th>\n",
       "      <td>Anxiety</td>\n",
       "      <td>Starting a new job anxiety As the title says, ...</td>\n",
       "      <td>Starting a new job anxiety As the title says I...</td>\n",
       "      <td>[starting, a, new, job, anxiety, as, the, titl...</td>\n",
       "      <td>[starting, new, job, anxiety, title, says, sta...</td>\n",
       "    </tr>\n",
       "    <tr>\n",
       "      <th>2</th>\n",
       "      <td>Anxiety</td>\n",
       "      <td>anxiety affecting studies Lately I've been fee...</td>\n",
       "      <td>anxiety affecting studies Lately Ive been feel...</td>\n",
       "      <td>[anxiety, affecting, studies, lately, ive, bee...</td>\n",
       "      <td>[anxiety, affecting, studies, lately, ive, fee...</td>\n",
       "    </tr>\n",
       "    <tr>\n",
       "      <th>3</th>\n",
       "      <td>Anxiety</td>\n",
       "      <td>This is my recovery story since falling for th...</td>\n",
       "      <td>This is my recovery story since falling for th...</td>\n",
       "      <td>[this, is, my, recovery, story, since, falling...</td>\n",
       "      <td>[recovery, story, since, falling, pin, code, s...</td>\n",
       "    </tr>\n",
       "    <tr>\n",
       "      <th>4</th>\n",
       "      <td>Anxiety</td>\n",
       "      <td>After years wearing braces my teeth still look...</td>\n",
       "      <td>After years wearing braces my teeth still look...</td>\n",
       "      <td>[after, years, wearing, braces, my, teeth, sti...</td>\n",
       "      <td>[years, wearing, braces, teeth, still, look, f...</td>\n",
       "    </tr>\n",
       "  </tbody>\n",
       "</table>\n",
       "</div>"
      ],
      "text/plain": [
       "  subreddit                                               post  \\\n",
       "0   Anxiety  Coping We’re moving out of state and away from...   \n",
       "1   Anxiety  Starting a new job anxiety As the title says, ...   \n",
       "2   Anxiety  anxiety affecting studies Lately I've been fee...   \n",
       "3   Anxiety  This is my recovery story since falling for th...   \n",
       "4   Anxiety  After years wearing braces my teeth still look...   \n",
       "\n",
       "                                        post_cleaned  \\\n",
       "0  Coping We’re moving out of state and away from...   \n",
       "1  Starting a new job anxiety As the title says I...   \n",
       "2  anxiety affecting studies Lately Ive been feel...   \n",
       "3  This is my recovery story since falling for th...   \n",
       "4  After years wearing braces my teeth still look...   \n",
       "\n",
       "                                      post_tokenised  \\\n",
       "0  [coping, we, re, moving, out, of, state, and, ...   \n",
       "1  [starting, a, new, job, anxiety, as, the, titl...   \n",
       "2  [anxiety, affecting, studies, lately, ive, bee...   \n",
       "3  [this, is, my, recovery, story, since, falling...   \n",
       "4  [after, years, wearing, braces, my, teeth, sti...   \n",
       "\n",
       "                                        post_no_stop  \n",
       "0  [coping, moving, state, away, everyone, know, ...  \n",
       "1  [starting, new, job, anxiety, title, says, sta...  \n",
       "2  [anxiety, affecting, studies, lately, ive, fee...  \n",
       "3  [recovery, story, since, falling, pin, code, s...  \n",
       "4  [years, wearing, braces, teeth, still, look, f...  "
      ]
     },
     "metadata": {},
     "output_type": "display_data"
    },
    {
     "data": {
      "text/html": [
       "<div>\n",
       "<style scoped>\n",
       "    .dataframe tbody tr th:only-of-type {\n",
       "        vertical-align: middle;\n",
       "    }\n",
       "\n",
       "    .dataframe tbody tr th {\n",
       "        vertical-align: top;\n",
       "    }\n",
       "\n",
       "    .dataframe thead th {\n",
       "        text-align: right;\n",
       "    }\n",
       "</style>\n",
       "<table border=\"1\" class=\"dataframe\">\n",
       "  <thead>\n",
       "    <tr style=\"text-align: right;\">\n",
       "      <th></th>\n",
       "      <th>subreddit</th>\n",
       "      <th>post</th>\n",
       "      <th>post_cleaned</th>\n",
       "      <th>post_tokenised</th>\n",
       "      <th>post_no_stop</th>\n",
       "    </tr>\n",
       "  </thead>\n",
       "  <tbody>\n",
       "    <tr>\n",
       "      <th>5332</th>\n",
       "      <td>depression</td>\n",
       "      <td>20,M. My “best years” are being wasted and I b...</td>\n",
       "      <td>M My “best years” are being wasted and I blame...</td>\n",
       "      <td>[m, my, best, years, are, being, wasted, and, ...</td>\n",
       "      <td>[best, years, wasted, blame, depression, time,...</td>\n",
       "    </tr>\n",
       "    <tr>\n",
       "      <th>5333</th>\n",
       "      <td>depression</td>\n",
       "      <td>I want to die I just want to die, I dont even ...</td>\n",
       "      <td>I want to die I just want to die I dont even w...</td>\n",
       "      <td>[i, want, to, die, i, just, want, to, die, i, ...</td>\n",
       "      <td>[want, die, want, die, dont, even, want, talk,...</td>\n",
       "    </tr>\n",
       "    <tr>\n",
       "      <th>5334</th>\n",
       "      <td>depression</td>\n",
       "      <td>Can someone please just reassure me that it'll...</td>\n",
       "      <td>Can someone please just reassure me that itll ...</td>\n",
       "      <td>[can, someone, please, just, reassure, me, tha...</td>\n",
       "      <td>[someone, please, reassure, itll, ok, im, brit...</td>\n",
       "    </tr>\n",
       "    <tr>\n",
       "      <th>5335</th>\n",
       "      <td>depression</td>\n",
       "      <td>Tired I remember what it feels like to be happ...</td>\n",
       "      <td>Tired I remember what it feels like to be happ...</td>\n",
       "      <td>[tired, i, remember, what, it, feels, like, to...</td>\n",
       "      <td>[tired, remember, feels, like, happy, actually...</td>\n",
       "    </tr>\n",
       "    <tr>\n",
       "      <th>5336</th>\n",
       "      <td>depression</td>\n",
       "      <td>Corona has ruined everything I’m almost positi...</td>\n",
       "      <td>Corona has ruined everything I’m almost positi...</td>\n",
       "      <td>[corona, has, ruined, everything, i, m, almost...</td>\n",
       "      <td>[corona, ruined, everything, almost, positive,...</td>\n",
       "    </tr>\n",
       "  </tbody>\n",
       "</table>\n",
       "</div>"
      ],
      "text/plain": [
       "       subreddit                                               post  \\\n",
       "5332  depression  20,M. My “best years” are being wasted and I b...   \n",
       "5333  depression  I want to die I just want to die, I dont even ...   \n",
       "5334  depression  Can someone please just reassure me that it'll...   \n",
       "5335  depression  Tired I remember what it feels like to be happ...   \n",
       "5336  depression  Corona has ruined everything I’m almost positi...   \n",
       "\n",
       "                                           post_cleaned  \\\n",
       "5332  M My “best years” are being wasted and I blame...   \n",
       "5333  I want to die I just want to die I dont even w...   \n",
       "5334  Can someone please just reassure me that itll ...   \n",
       "5335  Tired I remember what it feels like to be happ...   \n",
       "5336  Corona has ruined everything I’m almost positi...   \n",
       "\n",
       "                                         post_tokenised  \\\n",
       "5332  [m, my, best, years, are, being, wasted, and, ...   \n",
       "5333  [i, want, to, die, i, just, want, to, die, i, ...   \n",
       "5334  [can, someone, please, just, reassure, me, tha...   \n",
       "5335  [tired, i, remember, what, it, feels, like, to...   \n",
       "5336  [corona, has, ruined, everything, i, m, almost...   \n",
       "\n",
       "                                           post_no_stop  \n",
       "5332  [best, years, wasted, blame, depression, time,...  \n",
       "5333  [want, die, want, die, dont, even, want, talk,...  \n",
       "5334  [someone, please, reassure, itll, ok, im, brit...  \n",
       "5335  [tired, remember, feels, like, happy, actually...  \n",
       "5336  [corona, ruined, everything, almost, positive,...  "
      ]
     },
     "metadata": {},
     "output_type": "display_data"
    }
   ],
   "source": [
    "# Remove stopwords in combined dataset\n",
    "both['post_no_stop'] = both['post_tokenised'].apply(lambda x: remove_stopwords(x))\n",
    "\n",
    "# View sample rows from combined dataset\n",
    "display(both.head())\n",
    "display(both.tail())"
   ]
  },
  {
   "cell_type": "markdown",
   "id": "085742f6",
   "metadata": {},
   "source": [
    "### 4e. Lemmatise"
   ]
  },
  {
   "cell_type": "code",
   "execution_count": 25,
   "id": "9207b65b",
   "metadata": {},
   "outputs": [],
   "source": [
    "# import nltk\n",
    "\n",
    "wn = nltk.WordNetLemmatizer()"
   ]
  },
  {
   "cell_type": "code",
   "execution_count": 26,
   "id": "b382be93",
   "metadata": {},
   "outputs": [],
   "source": [
    "# Define function to lemmatise tokenised text\n",
    "def lemmatise(tokenized_text):\n",
    "    # return list of all lemmatised words for their corresponding words in tokenized_text\n",
    "    text = [wn.lemmatize(word) for word in tokenized_text]\n",
    "    return text"
   ]
  },
  {
   "cell_type": "code",
   "execution_count": 27,
   "id": "1f29ac37",
   "metadata": {},
   "outputs": [
    {
     "data": {
      "text/html": [
       "<div>\n",
       "<style scoped>\n",
       "    .dataframe tbody tr th:only-of-type {\n",
       "        vertical-align: middle;\n",
       "    }\n",
       "\n",
       "    .dataframe tbody tr th {\n",
       "        vertical-align: top;\n",
       "    }\n",
       "\n",
       "    .dataframe thead th {\n",
       "        text-align: right;\n",
       "    }\n",
       "</style>\n",
       "<table border=\"1\" class=\"dataframe\">\n",
       "  <thead>\n",
       "    <tr style=\"text-align: right;\">\n",
       "      <th></th>\n",
       "      <th>subreddit</th>\n",
       "      <th>post</th>\n",
       "      <th>post_cleaned</th>\n",
       "      <th>post_tokenised</th>\n",
       "      <th>post_no_stop</th>\n",
       "      <th>post_lemmatised</th>\n",
       "    </tr>\n",
       "  </thead>\n",
       "  <tbody>\n",
       "    <tr>\n",
       "      <th>0</th>\n",
       "      <td>Anxiety</td>\n",
       "      <td>Coping We’re moving out of state and away from...</td>\n",
       "      <td>Coping We’re moving out of state and away from...</td>\n",
       "      <td>[coping, we, re, moving, out, of, state, and, ...</td>\n",
       "      <td>[coping, moving, state, away, everyone, know, ...</td>\n",
       "      <td>[coping, moving, state, away, everyone, know, ...</td>\n",
       "    </tr>\n",
       "    <tr>\n",
       "      <th>1</th>\n",
       "      <td>Anxiety</td>\n",
       "      <td>Starting a new job anxiety As the title says, ...</td>\n",
       "      <td>Starting a new job anxiety As the title says I...</td>\n",
       "      <td>[starting, a, new, job, anxiety, as, the, titl...</td>\n",
       "      <td>[starting, new, job, anxiety, title, says, sta...</td>\n",
       "      <td>[starting, new, job, anxiety, title, say, star...</td>\n",
       "    </tr>\n",
       "    <tr>\n",
       "      <th>2</th>\n",
       "      <td>Anxiety</td>\n",
       "      <td>anxiety affecting studies Lately I've been fee...</td>\n",
       "      <td>anxiety affecting studies Lately Ive been feel...</td>\n",
       "      <td>[anxiety, affecting, studies, lately, ive, bee...</td>\n",
       "      <td>[anxiety, affecting, studies, lately, ive, fee...</td>\n",
       "      <td>[anxiety, affecting, study, lately, ive, feeli...</td>\n",
       "    </tr>\n",
       "    <tr>\n",
       "      <th>3</th>\n",
       "      <td>Anxiety</td>\n",
       "      <td>This is my recovery story since falling for th...</td>\n",
       "      <td>This is my recovery story since falling for th...</td>\n",
       "      <td>[this, is, my, recovery, story, since, falling...</td>\n",
       "      <td>[recovery, story, since, falling, pin, code, s...</td>\n",
       "      <td>[recovery, story, since, falling, pin, code, s...</td>\n",
       "    </tr>\n",
       "    <tr>\n",
       "      <th>4</th>\n",
       "      <td>Anxiety</td>\n",
       "      <td>After years wearing braces my teeth still look...</td>\n",
       "      <td>After years wearing braces my teeth still look...</td>\n",
       "      <td>[after, years, wearing, braces, my, teeth, sti...</td>\n",
       "      <td>[years, wearing, braces, teeth, still, look, f...</td>\n",
       "      <td>[year, wearing, brace, teeth, still, look, fuc...</td>\n",
       "    </tr>\n",
       "  </tbody>\n",
       "</table>\n",
       "</div>"
      ],
      "text/plain": [
       "  subreddit                                               post  \\\n",
       "0   Anxiety  Coping We’re moving out of state and away from...   \n",
       "1   Anxiety  Starting a new job anxiety As the title says, ...   \n",
       "2   Anxiety  anxiety affecting studies Lately I've been fee...   \n",
       "3   Anxiety  This is my recovery story since falling for th...   \n",
       "4   Anxiety  After years wearing braces my teeth still look...   \n",
       "\n",
       "                                        post_cleaned  \\\n",
       "0  Coping We’re moving out of state and away from...   \n",
       "1  Starting a new job anxiety As the title says I...   \n",
       "2  anxiety affecting studies Lately Ive been feel...   \n",
       "3  This is my recovery story since falling for th...   \n",
       "4  After years wearing braces my teeth still look...   \n",
       "\n",
       "                                      post_tokenised  \\\n",
       "0  [coping, we, re, moving, out, of, state, and, ...   \n",
       "1  [starting, a, new, job, anxiety, as, the, titl...   \n",
       "2  [anxiety, affecting, studies, lately, ive, bee...   \n",
       "3  [this, is, my, recovery, story, since, falling...   \n",
       "4  [after, years, wearing, braces, my, teeth, sti...   \n",
       "\n",
       "                                        post_no_stop  \\\n",
       "0  [coping, moving, state, away, everyone, know, ...   \n",
       "1  [starting, new, job, anxiety, title, says, sta...   \n",
       "2  [anxiety, affecting, studies, lately, ive, fee...   \n",
       "3  [recovery, story, since, falling, pin, code, s...   \n",
       "4  [years, wearing, braces, teeth, still, look, f...   \n",
       "\n",
       "                                     post_lemmatised  \n",
       "0  [coping, moving, state, away, everyone, know, ...  \n",
       "1  [starting, new, job, anxiety, title, say, star...  \n",
       "2  [anxiety, affecting, study, lately, ive, feeli...  \n",
       "3  [recovery, story, since, falling, pin, code, s...  \n",
       "4  [year, wearing, brace, teeth, still, look, fuc...  "
      ]
     },
     "metadata": {},
     "output_type": "display_data"
    },
    {
     "data": {
      "text/html": [
       "<div>\n",
       "<style scoped>\n",
       "    .dataframe tbody tr th:only-of-type {\n",
       "        vertical-align: middle;\n",
       "    }\n",
       "\n",
       "    .dataframe tbody tr th {\n",
       "        vertical-align: top;\n",
       "    }\n",
       "\n",
       "    .dataframe thead th {\n",
       "        text-align: right;\n",
       "    }\n",
       "</style>\n",
       "<table border=\"1\" class=\"dataframe\">\n",
       "  <thead>\n",
       "    <tr style=\"text-align: right;\">\n",
       "      <th></th>\n",
       "      <th>subreddit</th>\n",
       "      <th>post</th>\n",
       "      <th>post_cleaned</th>\n",
       "      <th>post_tokenised</th>\n",
       "      <th>post_no_stop</th>\n",
       "      <th>post_lemmatised</th>\n",
       "    </tr>\n",
       "  </thead>\n",
       "  <tbody>\n",
       "    <tr>\n",
       "      <th>5332</th>\n",
       "      <td>depression</td>\n",
       "      <td>20,M. My “best years” are being wasted and I b...</td>\n",
       "      <td>M My “best years” are being wasted and I blame...</td>\n",
       "      <td>[m, my, best, years, are, being, wasted, and, ...</td>\n",
       "      <td>[best, years, wasted, blame, depression, time,...</td>\n",
       "      <td>[best, year, wasted, blame, depression, time, ...</td>\n",
       "    </tr>\n",
       "    <tr>\n",
       "      <th>5333</th>\n",
       "      <td>depression</td>\n",
       "      <td>I want to die I just want to die, I dont even ...</td>\n",
       "      <td>I want to die I just want to die I dont even w...</td>\n",
       "      <td>[i, want, to, die, i, just, want, to, die, i, ...</td>\n",
       "      <td>[want, die, want, die, dont, even, want, talk,...</td>\n",
       "      <td>[want, die, want, die, dont, even, want, talk,...</td>\n",
       "    </tr>\n",
       "    <tr>\n",
       "      <th>5334</th>\n",
       "      <td>depression</td>\n",
       "      <td>Can someone please just reassure me that it'll...</td>\n",
       "      <td>Can someone please just reassure me that itll ...</td>\n",
       "      <td>[can, someone, please, just, reassure, me, tha...</td>\n",
       "      <td>[someone, please, reassure, itll, ok, im, brit...</td>\n",
       "      <td>[someone, please, reassure, itll, ok, im, brit...</td>\n",
       "    </tr>\n",
       "    <tr>\n",
       "      <th>5335</th>\n",
       "      <td>depression</td>\n",
       "      <td>Tired I remember what it feels like to be happ...</td>\n",
       "      <td>Tired I remember what it feels like to be happ...</td>\n",
       "      <td>[tired, i, remember, what, it, feels, like, to...</td>\n",
       "      <td>[tired, remember, feels, like, happy, actually...</td>\n",
       "      <td>[tired, remember, feel, like, happy, actually,...</td>\n",
       "    </tr>\n",
       "    <tr>\n",
       "      <th>5336</th>\n",
       "      <td>depression</td>\n",
       "      <td>Corona has ruined everything I’m almost positi...</td>\n",
       "      <td>Corona has ruined everything I’m almost positi...</td>\n",
       "      <td>[corona, has, ruined, everything, i, m, almost...</td>\n",
       "      <td>[corona, ruined, everything, almost, positive,...</td>\n",
       "      <td>[corona, ruined, everything, almost, positive,...</td>\n",
       "    </tr>\n",
       "  </tbody>\n",
       "</table>\n",
       "</div>"
      ],
      "text/plain": [
       "       subreddit                                               post  \\\n",
       "5332  depression  20,M. My “best years” are being wasted and I b...   \n",
       "5333  depression  I want to die I just want to die, I dont even ...   \n",
       "5334  depression  Can someone please just reassure me that it'll...   \n",
       "5335  depression  Tired I remember what it feels like to be happ...   \n",
       "5336  depression  Corona has ruined everything I’m almost positi...   \n",
       "\n",
       "                                           post_cleaned  \\\n",
       "5332  M My “best years” are being wasted and I blame...   \n",
       "5333  I want to die I just want to die I dont even w...   \n",
       "5334  Can someone please just reassure me that itll ...   \n",
       "5335  Tired I remember what it feels like to be happ...   \n",
       "5336  Corona has ruined everything I’m almost positi...   \n",
       "\n",
       "                                         post_tokenised  \\\n",
       "5332  [m, my, best, years, are, being, wasted, and, ...   \n",
       "5333  [i, want, to, die, i, just, want, to, die, i, ...   \n",
       "5334  [can, someone, please, just, reassure, me, tha...   \n",
       "5335  [tired, i, remember, what, it, feels, like, to...   \n",
       "5336  [corona, has, ruined, everything, i, m, almost...   \n",
       "\n",
       "                                           post_no_stop  \\\n",
       "5332  [best, years, wasted, blame, depression, time,...   \n",
       "5333  [want, die, want, die, dont, even, want, talk,...   \n",
       "5334  [someone, please, reassure, itll, ok, im, brit...   \n",
       "5335  [tired, remember, feels, like, happy, actually...   \n",
       "5336  [corona, ruined, everything, almost, positive,...   \n",
       "\n",
       "                                        post_lemmatised  \n",
       "5332  [best, year, wasted, blame, depression, time, ...  \n",
       "5333  [want, die, want, die, dont, even, want, talk,...  \n",
       "5334  [someone, please, reassure, itll, ok, im, brit...  \n",
       "5335  [tired, remember, feel, like, happy, actually,...  \n",
       "5336  [corona, ruined, everything, almost, positive,...  "
      ]
     },
     "metadata": {},
     "output_type": "display_data"
    }
   ],
   "source": [
    "# Lemmatise tokens in combined dataset\n",
    "both['post_lemmatised'] = both['post_no_stop'].apply(lambda x: lemmatise(x))\n",
    "\n",
    "# View sample rows from combined dataset\n",
    "display(both.head())\n",
    "display(both.tail())"
   ]
  },
  {
   "cell_type": "markdown",
   "id": "11092c35",
   "metadata": {},
   "source": [
    "### 4f. Vectorise words in dataframe\n",
    "CountVectorizer is used to transform a given text into a vector on the basis of the frequency (count) of each word that occurs in the entire text."
   ]
  },
  {
   "cell_type": "code",
   "execution_count": 28,
   "id": "7e22ed20",
   "metadata": {},
   "outputs": [
    {
     "name": "stdout",
     "output_type": "stream",
     "text": [
      "R(Rows, Columns): (5337, 17818)\n",
      "['', 'aa', 'aaaaaaaaa', 'aaaaaaaaaaaaaaaaaaaaaaaaaaaaaaaaaaaaaaaaaaaaaaaaaaaaaaaaaaaaaaaaaaaaaaaaaaaaaaaaaaaaaaaaaaaaaaaaaaaaaaaaaaaaaaaaaaaaaaaaaaaaaaaaaaaaaaaaaaaaaaaaaaaaaaaaaaaaaaaaaaaaaaaaaaaaaaaaaaaaaaaaaaaaaaaaaaaaaaaaaaaaaaaaaaaaaaaaaaaaaaaaaaaaaaaaaaaaaaaaaaaaaaaaaaaaaaaaaaaaaaaaaaaaaaaaaaaaaaaaaaaaaaaaaaaaaaaaaaaaaaaaaaaaaaaaaaaaaaaaaaaaaaaaaaaaaaaaaaaaaaaaaaaaaaaaaaaaaaaaaaaaaaaaaaaaaaaaaaaaaaaaaaaaaaaaaaaaaaaaaaaaaaaaaaaaaaaaaaaaaaaaaaaaaaaaaaaaaaaaaaaaaaaaaaaaaaaaaaaaaaaaaaaaaaaaaaaaaaaaaaaaaaaaaaaaaaaaaaaaaaaaaaaaaaaaaaaaaaaaaaaaaaaaaaaaaaaaaaaaaaaaaaaaaaaaaaaaaaaaaaaaaaaaaaaaaaaaaaaaaaaaaaaaaaaaaaaaaaaaaaaaaaaaaaaaaaaaaaaaaaaaaaaaaaaaaaaaaaaaaaaaaaaaaaaaaaaaaaaaaaaaaaaaaaaaaaaaaaaaaaaaaaaaaaaaaaaaaaaaaaaaaaaaaaaaaaaaaaaaaaaaaaaaaaaaaaaaaaaaaaaaaaaaaaaaaaaaaaaaaaaaaaaaaaaaaaaaaaaaaaaaaaaaaaaaaaaaaaaaaaaaaaaaaaaaaaaaaaaaaaaaaaaaaaaaaaaaaaaaaaaaaaaaaaaaaaaaaaaaaaaaaaaaaaaaaaaaaaaaaaaaaaaaaaaaaaaaaaaaaaaaaaaaaaaaaaaaaaaaaaaaaaaaaaaaaaaaaaaaaaaaaaaaaaaaaaaaaaaaaaaaaaaaaaaaaaaaaaaaaaaaaaaaaaaaaaaaaaaaaaaaaaaaaaaaaaaaaaaaaaaaaaaaaaaaaaaaaaaaaaaaaaaaaaaaaaaaaaaaaaaaaaaaaaaaaaaaaaaaaaaaaaaaaaaaaaaaaaaaaaaaaaaaaaaaaaaaaaaaaaaaaaaaaaaaaaaaaaaaaaaaaaaaaaaaaaaaaaaaaaaaaaaaaaaaaaaaaaaaaaaaaaaaaaaaaaaaaaaaaaaaaaaaaaaaaaaaaaaaaaaaaaaaaaaaaaaaaaaaaaaaaaaaaaaaaaaaaaaaaaaaaaaaaaaaaaaaaaaaaaaaaaaaaaaaaaaaaaaaaaaaaaaaaaaaaaaaaaaaaaaaaaaaaaaaaaaaaaaaaaaaaaaaaaaaaaaaaaaaaaaaaaaaaaaaaaaaaaaaaaaaaaaaaaaaaaaaaaaaaaaaaaaaaaaaaaaaaaaaaaaaaaaaaaaaaaaaaaaaaaaaaaaaaaaaaaaaaaaaaaaaaaaaaaaaaaaaaaaaaaaaaaaaaaaaaaaaaaaaaaaaaaaaaaaaaaaaaaaaaaaaaaaaaaaaaaaaaaaaaaaaaaaaaaaaaaaaaaaaaaaaaaaaaaaaaaaaaaaaaaaaaaaaaaaaaaaaaaaaaaaaaaaaaaaaaaaaaaaaaaaaaaaaaaaaaaaaaaaaaaaaaaaaaaaaaaaaaaaaaaaaaaaaaaaaaaaaaaaaaaaaaaaaaaaaaaaaaaaaaaaaaaaaaaaaaaaaaaaaaaaaaaaaaaaaaaaaaaaaaaaaaaaaaaaaaaaaaaaaaaaaaaaaaaaaaaaaaaaaaaaaaaaaaaaaaaaaaaaaaaaaaaaaaaaaaaaaaaaaaaaaaaaaaaaaaaaaaaaaaaaaaaaaaaaaaaaaaaaaaaaaaaaaaaaaaaaaaaaaaaaaaaaaaaaaaaaaaaaaaaaaaaaaaaaaaaaaaaaaaaaaaaaaaaaaaaaaaaaaaaaaaaaaaaaaaaaaaaaaaaaaaaaaaaaaaaaaaaaaaaaaaaaaaaaaaaaaaaaaaaaaaaaaaaaaaaaaaaaaaaaaaaaaaaaaaaaaaaaaaaaaaaaaaaaaaaaaaaaaaaaaaaaaaaaaaaaaaaaaaaaaaaaaaaaaaaaaaaaaaaaaaaaaaaaaaaaaaaaaaaaaaaaaaaaaaaaaaaaaaaaaaaaaaaaaaaaaaaaaaaaaaaaaaaaaaaaaaaaaaaaaaaaaaaaaaaaaaaaaaaaaaaaaaaaaaaaaaaaaaaaaaaaaaaaaaaaaaaaaaaaaaaaaaaaaaaaaaaaaaaaaaaaaaaaaaaaaaaaaaaaaaaaaaaaaaaaaaaaaaaaaaaaaaaaaaaaaaaaaaaaaaaaaaaaaaaaaaaaaaaaaaaaaaaaaaaaaaaaaaaaaaaaaaaaaaaaaaaaaaaaaaaaaaaaaaaaaaaaaaaaaaaaaaaaaaaaaaaaaaaaaaaaaaaaaaaaaaaaaaaaaaaaaaaaaaaaaaaaaaaaaaaaaaaaaaaaaaaaaaaaaaaaaaaaaaaaaaaaaaaaaaaaaaaaaaaaaaaaaaaaaaaaaaaaaaaaaaaaaaaaaaaaaaaaaaaaaaaaaaaaaaaaaaaaaaaaaaaaaaaaaaaaaaaaaaaaaaaaaaaaaaaaaaaaaaaaaaaaaaaaaaaaaaaaaaaaaaaaaaaaaaaaaaaaaaaaaaaaaaaaaaaaaaaaaaaaaaaaaaaaaaaaaaaaaaaaaaaaaaaaaaaaaaaaaaaaaaaaaaaaaaaaaaaaaaaaaaaaaaaaaaaaaaaaaaaaaaaaaaaaaaaaaaaaaaaaaaaaaaaaaaaaaaaaaaaaaaaaaaaaaaaaaaaaaaaaaaaaaaaaaaaaaaaaaaaaaaaaaaaaaaaaaaaaaaaaaaaaaaaaaaaaaaaaaaaaaaaaaaaaaaaaaaaaaaaaaaaaaaaaaaaaaaaaaaaaaaaaaaaaaaaaaaaaaaaaaaaaaaaaaaaaaaaaaaaaaaaaaaaaaaaaaaaaaaaaaaaaaaaaaaaaaaaaaaaaaaaaaaaaaaaaaaaaaaaaaaaaaaaaaaaaaaaaaaaaaaaaaaaaaaaaaaaaaaaaaaaaaaaaaaaaaaaaaaaaaaaaaaaaaaaaaaaaaaaaaaaaaaaaaaaaaaaaaaaaaaaaaaaaaaaaaaaaaaaaaaaaaaaaaaaaaaaaaaaaaaaaaaaaaaaaaaaaaaaaaaaaaaaaaaaaaaaaaaaaaaaaaaaaaaaaaaaaaaaaaaaaaaaaaaaaaaaaaaaaaaaaaaaaaaaaaaaaaaaaaaaaaaaaaaaaaaaaaaaaaaaaaaaaaaaaaaaaaaaaaaaaaaaaaaaaaaaaaaaaaaaaaaaaaaaaaaaaaaaaaaaaaaaaaaaaaaaaaaaaaaaaaaaaaaaaaaaaaaaaaaaaaaaaaaaaaaaaaaaaaaaaaaaaaaaaaaaaaaaaaaaaaaaaaaaaaaaaaaaaaaaaaaaaaaaaaaaaaaaaaaaaaaaaaaaaaaaaaaaaaaaaaaaaaaaaaaaaaaaaaaaaaaaaaaaaaaaaaaaaaaaaaaaaaaaaaaaaaaaaaaaaaaaaaaaaaaaaaaaaaaaaaaaaaaaaaaaaaaaaaaaaaaaaaaaaaaaaaaaaaaaaa', 'aampe', 'aand', 'ab', 'abaissement', 'abandon', 'abandonded', 'abandoned', 'abandoning', 'abandonment', 'abatement', 'abcd', 'abd', 'abdomen', 'abdominal', 'abelities', 'abilify', 'ability', 'abit', 'ablation', 'able', 'ableism', 'abnormal', 'abnormality', 'abnormally', 'abo', 'aboard', 'abomination', 'aborted', 'abortion', 'abot', 'abouth', 'abouthttpskarmaracoukblogslearnanxietysymptoms', 'aboutjazz', 'aboutmy', 'abroad', 'abrupt', 'abruptly', 'abscess', 'absconded', 'absence', 'absent', 'absolut', 'absolute', 'absolutely', 'absorb', 'absorbed', 'absorbing', 'abstain', 'abstained', 'abstaining', 'abstinent', 'abstract', 'abstraction', 'absurd', 'absurdity', 'absurdly', 'abt', 'abunch', 'abundantly', 'abuse', 'abused', 'abuser', 'abusing', 'abusive', 'abut', 'abysmal', 'abyss', 'ac', 'academia', 'academic', 'academically', 'academy', 'acc', 'accelerated', 'acceleration', 'accent', 'accept', 'acceptability', 'acceptable', 'acceptance', 'accepted', 'accepti', 'accepting', 'access', 'accessible', 'accessory', 'accident', 'accidental', 'accidentally', 'accidently', 'accolade', 'accomish', 'accommodate', 'accommodating', 'accommodation', 'accomodations', 'accompanied', 'accompaniment', 'accompany', 'accompanying', 'accomplish', 'accomplished', 'accomplishing', 'accomplishment', 'accord', 'according', 'accordingly', 'account', 'accountability', 'accountable', 'accountancy', 'accounting', 'accountthrowaway', 'accout', 'accross', 'accumulating', 'accumulation', 'accuracy', 'accurate', 'accurately', 'accursed', 'accusation', 'accuse', 'accused', 'accusing', 'accustomed', 'accutane', 'ace', 'acearo', 'aced', 'ache', 'ached', 'achey', 'achievable', 'achieve', 'achieved', 'achievement', 'achiever', 'achieving', 'aching', 'achive', 'achtually', 'achy', 'acid', 'acidic', 'acidity', 'acidulated', 'acknowlages', 'acknowledge', 'acknowledged', 'acknowledgement', 'acknowledging', 'acknowledgment', 'acne', 'acquaintance', 'acquire', 'acquired', 'acquiring', 'acquisition', 'acquittance', 'across', 'act', 'acted', 'acting', 'action', 'actionsreactions', 'activate', 'activated', 'activating', 'active', 'actively', 'activity', 'activityfocus', 'actor', 'actovities', 'actual', 'actuality', 'actuallly', 'actually', 'actuals', 'acute', 'acutely', 'ad', 'ada', 'adaa', 'adapt', 'adapted', 'adapting', 'adays', 'add', 'added', 'adderall', 'addhd', 'addict', 'addicted', 'addicting', 'addiction', 'addictive', 'adding', 'addition', 'additional', 'additionally', 'addled', 'addrenaline', 'address', 'addressed', 'addressing', 'adhd', 'adhddepressionmaladaptive', 'adhdyeah', 'adhere', 'adjust', 'adjusted', 'adjusting', 'adjustment', 'adjuvant', 'admin', 'administer', 'administration', 'administrative', 'admins', 'admiration', 'admire', 'admired', 'admission', 'admit', 'admits', 'admitted', 'admittedly', 'admitting', 'adn', 'adolescence', 'adolescent', 'adopt', 'adopted', 'adoption', 'adopts', 'adorable', 'adorably', 'adore', 'adored', 'adores', 'adoring', 'adorned', 'adrenal', 'adrenaline', 'adrenalinerelated', 'adrenalinethe', 'adrenline', 'adress', 'adtr', 'adult', 'adulthood', 'adv', 'advance', 'advanced', 'advantage', 'adventure', 'adventurous', 'adverse', 'adversely', 'adversity', 'advert', 'advertise', 'advertised', 'advertising', 'advice', 'advicecomfort', 'adviceencouragement', 'adviceinsight', 'adviceis', 'advicesolidaritytips', 'advicethoughtshelp', 'advil', 'advise', 'advised', 'advising', 'advisor', 'advocate', 'advocating', 'ae', 'aerobic', 'aesthetic', 'af', 'afar', 'afew', 'affair', 'affaire', 'affect', 'affected', 'affecting', 'affection', 'affectionate', 'affective', 'affiliation', 'affirm', 'affirmation', 'affirming', 'afflicted', 'affliction', 'afford', 'affordable', 'affording', 'afib', 'afloat', 'aforementioned', 'afraid', 'afrin', 'afterall', 'afterlife', 'aftermath', 'afternoon', 'afternoonbut', 'afternoonevening', 'afternooon', 'afterthought', 'afterward', 'afterwards', 'afterwords', 'againa', 'againbut', 'againi', 'againnormal', 'againts', 'agaist', 'age', 'aged', 'agei', 'agency', 'agenda', 'agent', 'agewe', 'aggi', 'aggravated', 'aggravating', 'aggresive', 'aggresively', 'aggression', 'aggressive', 'aggressively', 'aggressiveness', 'aggrevated', 'agh', 'agi', 'agian', 'aging', 'agitated', 'agitating', 'agitation', 'ago', 'agoafter', 'agoi', 'agomelatine', 'agomy', 'agonising', 'agonized', 'agonizing', 'agony', 'agoraphobia', 'agoraphobic', 'agoraphofia', 'agree', 'agreed', 'agreement', 'agrees', 'agressive', 'ah', 'aha', 'ahah', 'ahead', 'aheadhow', 'ahedinia', 'ahem', 'ahh', 'ahhh', 'ahhhh', 'ahhhhhhh', 'ahold', 'ahole', 'ai', 'aid', 'aide', 'aided', 'aiding', 'aight', 'ailment', 'aim', 'aimed', 'aiming', 'aimless', 'aimlessly', 'aint', 'air', 'airbnb', 'airbrush', 'airburping', 'airing', 'airplane', 'airplay', 'airport', 'airtight', 'aisle', 'aita', 'ajskajsak', 'ak', 'aka', 'akathisia', 'akin', 'akward', 'akwardly', 'al', 'ala', 'alan', 'alarm', 'alarmed', 'alarmingly', 'albeit', 'albert', 'album', 'alchohol', 'alcohol', 'alcoholic', 'alcoholism', 'alcoholwell', 'alert', 'alex', 'algebra', 'algorithm', 'alguien', 'ali', 'alien', 'alienated', 'alienation', 'alieve', 'align', 'aligned', 'alike', 'aliment', 'alittle', 'alive', 'allait', 'allalong', 'allay', 'allboygirl', 'allbut', 'allconsuming', 'allday', 'allegation', 'allegedly', 'alleging', 'aller', 'allergic', 'allergiessinus', 'allergy', 'alleviate', 'alleviated', 'alleviating', 'alleviation', 'alley', 'alligator', 'allign', 'alll', 'allll', 'alllllll', 'allot', 'allow', 'allowance', 'allowed', 'allowing', 'allows', 'alltootempting', 'alluded', 'allways', 'alma', 'almost', 'almosted', 'alon', 'alone', 'alonefeeling', 'alonei', 'alonemy', 'alonethis', 'alonethus', 'along', 'alongside', 'alopecia', 'alorazolam', 'alot', 'alpha', 'alprazalam', 'alprazolam', 'alr', 'already', 'alrewdy', 'alright', 'alscancerheart', 'also', 'alsoi', 'alt', 'alter', 'altered', 'altering', 'alternate', 'alternating', 'alternative', 'alters', 'although', 'altogether', 'altough', 'aluminum', 'alway', 'always', 'alyssa', 'alzam', 'alzheimer', 'alzheimers', 'alzhimers', 'ama', 'amam', 'amand', 'amazing', 'amazingly', 'amazon', 'ambassador', 'ambien', 'ambient', 'ambition', 'ambitious', 'ambivalent', 'ambivert', 'ambulance', 'amd', 'ameba', 'amends', 'amenia', 'amenity', 'america', 'american', 'ameven', 'amevery', 'amhad', 'amidst', 'amim', 'amino', 'amirite', 'amis', 'amitriptyline', 'amitripyln', 'amitrypiline', 'amity', 'amm', 'ammunition', 'amnesia', 'amnesiac', 'amoeba', 'among', 'amongst', 'amor', 'amos', 'amount', 'amounted', 'amp', 'ampamp', 'amphetamine', 'ampi', 'ample', 'amplified', 'amplifies', 'amplify', 'amplifying', 'amputated', 'ampxb', 'amso', 'amwanted', 'amy', 'an', 'ana', 'anaemic', 'anaesthesia', 'anaesthetic', 'anafranil', 'anal', 'analogy', 'analyse', 'analysis', 'analyst', 'analytical', 'analytics', 'analyze', 'analyzing', 'ancestor', 'anchor', 'ancient', 'ancxiety', 'anderem', 'andidepressant', 'andits', 'andnsupport', 'andor', 'andwell', 'anecdotal', 'anecdote', 'anemia', 'anemone', 'anesthesia', 'anesthetic', 'aneurysm', 'anew', 'anexity', 'ang', 'angel', 'angelic', 'anger', 'angerfear', 'angery', 'angina', 'angle', 'angled', 'anglosaxon', 'angrier', 'angry', 'angryly', 'angst', 'angsty', 'anguish', 'anhedonia', 'anhedonic', 'animal', 'animalsall', 'animated', 'animation', 'animator', 'anime', 'animenetflix', 'animosity', 'ankle', 'anne', 'annexing', 'anniversary', 'announce', 'announced', 'announces', 'announcing', 'annoy', 'annoyance', 'annoyed', 'annoying', 'annoys', 'annual', 'annul', 'anole', 'anomaly', 'anon', 'anonymity', 'anonymous', 'anonymously', 'anorexia', 'anorexic', 'anorgasmiaanejaculation', 'anoter', 'another', 'anothers', 'anotheryears', 'anoying', 'answer', 'answered', 'answering', 'answersduring', 'ant', 'antacid', 'antagonise', 'antagonist', 'antecipation', 'anthem', 'anthrphobia', 'anti', 'antiacid', 'antianxiety', 'antianxietydepression', 'antiasian', 'antibiotic', 'antibody', 'antic', 'anticancer', 'antichrist', 'anticipate', 'anticipating', 'anticipation', 'anticipatory', 'anticonvulsant', 'antidepresants', 'antidepressant', 'antidepression', 'antidepressions', 'antidote', 'antifascist', 'antifungal', 'antigas', 'antiinflammatory', 'antioxidant', 'antiperspirant', 'antipsychotic', 'antisocial', 'antivax', 'antivaxers', 'antmore', 'antonio', 'antsy', 'anueryms', 'anus', 'anxeity', 'anxietay', 'anxiety', 'anxietyagoraphobia', 'anxietyanxiety', 'anxietyattacks', 'anxietydepression', 'anxietydepressive', 'anxietydissociation', 'anxietydoctors', 'anxietyet', 'anxietyfear', 'anxietyfilled', 'anxietygad', 'anxietyhas', 'anxietyhealth', 'anxietyhttpswwweatdatcomfoodsformanaginganxiety', 'anxietyhttpswwwmentalassistancecomcbtonline', 'anxietyhypochondria', 'anxietyi', 'anxietyinduced', 'anxietyinducing', 'anxietyinsecurity', 'anxietyinsomnia', 'anxietyinsomniaocd', 'anxietyit', 'anxietymanagement', 'anxietymental', 'anxietymood', 'anxietymy', 'anxietynausea', 'anxietynauseaeatingdisorder', 'anxietynervousness', 'anxietyocd', 'anxietyocddepression', 'anxietypanic', 'anxietypanicbad', 'anxietypanicfear', 'anxietyparanoia', 'anxietyprovoking', 'anxietyrelated', 'anxietyridden', 'anxietyso', 'anxietystress', 'anxietything', 'anxietythoughtsworries', 'anxiois', 'anxiolytic', 'anxious', 'anxiousbut', 'anxiousdepressed', 'anxiousi', 'anxiously', 'anxiousness', 'anxioussocially', 'anxiousthat', 'anyall', 'anybody', 'anyhow', 'anyhting', 'anyi', 'anymoment', 'anymore', 'anymoreall', 'anymoreetc', 'anymoreeverybody', 'anymorei', 'anymoreit', 'anymoreive', 'anymorejust', 'anymoreor', 'anynore', 'anyone', 'anyonenot', 'anyones', 'anything', 'anythingi', 'anythingim', 'anythings', 'anytime', 'anyway', 'anywaymy', 'anyways', 'anywhere', 'anywho', 'aorta', 'aortic', 'ap', 'apart', 'aparti', 'apartment', 'apasthasia', 'apath', 'apathatic', 'apathetic', 'apathy', 'apatite', 'apd', 'ape', 'apetite', 'apnea', 'apocalypse', 'apocalyptic', 'apoligized', 'apologetic', 'apologise', 'apologised', 'apologising', 'apologize', 'apologized', 'apologizeing', 'apologizes', 'apologizing', 'apology', 'apon', 'app', 'appalls', 'apparantly', 'apparent', 'apparently', 'appart', 'appartment', 'appeal', 'appealing', 'appear', 'appearance', 'appeared', 'appearing', 'appears', 'appease', 'appendicitis', 'appendix', 'apperance', 'apperantly', 'appetite', 'apping', 'apple', 'appliance', 'applicable', 'applicant', 'application', 'applied', 'applies', 'apply', 'applying', 'appoiments', 'appointment', 'appreciate', 'appreciated', 'appreciates', 'appreciating', 'appreciation', 'appreciative', 'apprehended', 'apprehension', 'apprentice', 'apprenticeship', 'appricated', 'appris', 'approach', 'approached', 'approaching', 'appropriate', 'appropriately', 'approval', 'approve', 'approved', 'approximately', 'apps', 'appt', 'apres', 'april', 'aprtment', 'aq', 'aquainted', 'aquarius', 'aquatinted', 'arab', 'arbitrary', 'arc', 'architecture', 'archived', 'arduous', 'area', 'arent', 'aresituations', 'arewere', 'areنunnecessarily', 'argered', 'arguable', 'arguably', 'argue', 'argued', 'arguedabout', 'argueing', 'arguement', 'argues', 'arguing', 'argument', 'argumentative', 'ari', 'ariespedicy', 'aripiprazole', 'arise', 'arises', 'arizona', 'arlin', 'arm', 'armed', 'arming', 'armleft', 'armored', 'army', 'arnt', 'around', 'aroundstanding', 'arousal', 'arouse', 'aroused', 'arouses', 'arousing', 'arranged', 'arrangement', 'arreglar', 'arrest', 'arrested', 'arrggghhhhh', 'arrhythmia', 'arrhythmic', 'arrival', 'arrive', 'arrived', 'arrives', 'arriving', 'arrogant', 'arrogantly', 'arround', 'arrow', 'arrythmias', 'arse', 'arsenal', 'art', 'artdesigncoding', 'arteriesheart', 'artery', 'arthritis', 'arthropod', 'article', 'articlehttpimgurcomaokadvy', 'articulate', 'articulateaccurate', 'articulating', 'articulation', 'artificial', 'artist', 'artistic', 'artsy', 'artwork', 'artworkcrafts', 'as', 'asap', 'asaptia', 'ascendency', 'ascension', 'asd', 'asexual', 'asf', 'ash', 'ashamed', 'ashit', 'ashole', 'asia', 'asian', 'aside', 'ask', 'askdid', 'asked', 'asking', 'askreddit', 'asks', 'asleep', 'asmr', 'aspect', 'asperger', 'aspergers', 'aspiration', 'aspire', 'aspirin', 'ass', 'assassinated', 'assault', 'assaulted', 'assaulting', 'assed', 'assembly', 'assertive', 'assessed', 'assessment', 'asset', 'asshole', 'assign', 'assigned', 'assignment', 'assignmentspapers', 'assignmnets', 'assined', 'assist', 'assistance', 'assistant', 'assisted', 'assisting', 'associate', 'associated', 'associating', 'association', 'assuaged', 'assulted', 'assume', 'assumed', 'assumes', 'assuming', 'assumption', 'assurance', 'assure', 'assured', 'assures', 'assuring', 'asterisk', 'asthma', 'astigmatism', 'astounded', 'astounding', 'astroid', 'astrology', 'astronomical', 'asumed', 'aswell', 'aswellall', 'asymmetrical', 'asymptomatic', 'así', 'atarted', 'ate', 'atheism', 'atheist', 'atheistagnostic', 'atheistic', 'athit', 'athlete', 'athletewent', 'athletic', 'athletics', 'ativan', 'atlanta', 'atleast', 'atletehetic', 'atm', 'atmbut', 'atmosphere', 'atom', 'atop', 'atractive', 'atransition', 'atrocity', 'atrophied', 'atrophy', 'atrophying', 'attach', 'attached', 'attachment', 'attack', 'attacked', 'attacking', 'attackneed', 'attacksomething', 'attacksshootingsgeneral', 'attaction', 'attain', 'attainable', 'attaining', 'attempt', 'attempted', 'attempting', 'attemptingits', 'attend', 'attendance', 'attendant', 'attended', 'attendence', 'attending', 'attention', 'attentionhttpsollyclubdrinkingblocksachemicalthatpromotesattentionuthealthsanantonio', 'attentionim', 'attentionseeker', 'attentionseeking', 'attentive', 'atthe', 'attitude', 'attorney', 'attract', 'attracted', 'attracting', 'attraction', 'attractive', 'attractiveness', 'attribute', 'attributed', 'attributing', 'atypical', 'au', 'auch', 'audacity', 'audible', 'audience', 'audio', 'audiobooks', 'audit', 'auditing', 'audition', 'auditor', 'auditorium', 'auditory', 'audrey', 'auf', 'aug', 'augment', 'augmentation', 'augmenter', 'augsep', 'august', 'aunt', 'auntie', 'auntniece', 'aura', 'aussi', 'australia', 'authentic', 'author', 'authoritarian', 'authority', 'autism', 'autistic', 'auto', 'autocad', 'autoestima', 'autoimmune', 'automated', 'automatic', 'automatically', 'automaton', 'automitilation', 'automotive', 'autonomous', 'autonomously', 'autopilot', 'autopilotexistential', 'autre', 'autumn', 'autumnwinter', 'avail', 'availability', 'available', 'availble', 'avait', 'avatar', 'avec', 'aveces', 'avenue', 'average', 'averaging', 'aversion', 'avg', 'avid', 'avoid', 'avoidable', 'avoidance', 'avoidancelike', 'avoidant', 'avoided', 'avoiding', 'avout', 'avpd', 'awaiting', 'awaits', 'awake', 'awakened', 'awakeness', 'awakening', 'award', 'awarded', 'aware', 'awareness', 'awarewhich', 'away', 'awayi', 'awayive', 'awayyyy', 'awesome', 'awful', 'awfully', 'awhile', 'awkward', 'awkwardly', 'awkwardness', 'awkwardstressed', 'awoke', 'awol', 'axe', 'axiety', 'ayo', 'b', 'babied', 'baby', 'babyface', 'babylonian', 'babysit', 'babysitter', 'bacause', 'bach', 'bachelor', 'back', 'backbone', 'backed', 'backfire', 'backfired', 'background', 'backing', 'backlash', 'backlog', 'backneck', 'backneckshoulder', 'backopened', 'backpack', 'backpacking', 'backround', 'backseat', 'backshift', 'backshouldersneck', 'backstabbed', 'backstabbing', 'backstabs', 'backstory', 'backup', 'backward', 'backwards', 'backyard', 'bacteria', 'bacterial', 'bactrim', 'bad', 'badass', 'badcould', 'baddd', 'badder', 'badge', 'badi', 'badluck', 'badly', 'badminton', 'badmouth', 'badso', 'badstress', 'badtheres', 'bag', 'baggage', 'bagthat', 'baguette', 'bahamas', 'bahaviour', 'bail', 'bailed', 'bailing', 'bairly', 'bait', 'baity', 'baja', 'bake', 'baked', 'baker', 'baking', 'balance', 'balancing', 'balck', 'balcony', 'bald', 'balding', 'baldness', 'bali', 'ball', 'balled', 'balling', 'balljoint', 'balloon', 'ballpoint', 'baltic', 'bam', 'bamboo', 'ban', 'banana', 'band', 'bandage', 'bandaid', 'bane', 'bang', 'banging', 'banish', 'banister', 'bank', 'banker', 'banking', 'bankrupt', 'banktrying', 'banned', 'banshee', 'banter', 'bar', 'barbecue', 'barbed', 'barber', 'barbershop', 'bard', 'bare', 'bareable', 'barely', 'barest', 'barfing', 'bargain', 'barhopping', 'barista', 'baristas', 'bark', 'barked', 'barking', 'barley', 'barn', 'barnes', 'barometric', 'barrel', 'barrier', 'base', 'baseball', 'based', 'baseless', 'baseline', 'basement', 'baser', 'bash', 'basic', 'basically', 'basicly', 'basis', 'basket', 'basketball', 'baskett', 'basophil', 'bass', 'bastard', 'bat', 'bath', 'bathing', 'bathrobe', 'bathroom', 'bathtub', 'batman', 'batshit', 'batsmy', 'battered', 'battery', 'battle', 'battled', 'battling', 'bawl', 'bawled', 'bawling', 'baxter', 'bay', 'baymax', 'bbq', 'bc', 'bce', 'bcos', 'bcp', 'bcs', 'bcuz', 'bcz', 'bd', 'bday', 'bdays', 'bdaysgraduations', 'bdsm', 'beacause', 'beach', 'beacon', 'beacuse', 'bean', 'beany', 'bear', 'bearable', 'beard', 'bearded', 'beardly', 'bearing', 'bearly', 'beast', 'beat', 'beaten', 'beater', 'beating', 'beaucoup', 'beause', 'beautiful', 'beautifull', 'beauty', 'beautyweight', 'beby', 'bec', 'became', 'becames', 'becasue', 'becausenot', 'beck', 'become', 'becomed', 'becomes', 'becoming', 'becouse', 'becsuse', 'becuase', 'bed', 'bedbug', 'bedranol', 'bedridden', 'bedroom', 'bedsheet', 'bedsheets', 'bedside', 'bedtime', 'bee', 'beeb', 'beecause', 'beef', 'beeing', 'beeline', 'beem', 'beenapart', 'beeping', 'beer', 'beet', 'beetle', 'befeel', 'beforehand', 'beforeidk', 'befriend', 'befriended', 'beg', 'began', 'beggar', 'begged', 'begging', 'begin', 'beginner', 'beginning', 'beginnning', 'begrudgingly', 'begs', 'begun', 'behalf', 'behave', 'behaved', 'behaving', 'behavior', 'behavioractions', 'behavioral', 'behaviour', 'behind', 'behinde', 'behold', 'behuman', 'beign', 'bein', 'being', 'beingqdult', 'beit', 'belief', 'beliefsnegative', 'believable', 'believe', 'believed', 'believing', 'beliked', 'belittled', 'belittles', 'belittling', 'belive', 'belived', 'bell', 'belly', 'belong', 'belonged', 'belonging', 'belongs', 'beloved', 'belt', 'beltslipper', 'belueve', 'benadryl', 'bench', 'bend', 'beneath', 'beneficial', 'benefit', 'benefited', 'benefiting', 'benefitting', 'bengal', 'benign', 'bent', 'benzo', 'benzoate', 'benzodiazepine', 'benzos', 'berate', 'berating', 'berberine', 'bereable', 'berlin', 'berserk', 'beside', 'besides', 'best', 'bestfriend', 'bestie', 'besties', 'bestonly', 'bet', 'beta', 'betaadrenergic', 'betablockers', 'beter', 'betray', 'betrayal', 'betrayed', 'betraying', 'better', 'betterbut', 'betterdreamjob', 'betterhelp', 'betterhttpswwwredditcomradvicecommentsqlsodimscaredaboutthefutureandioverthinktooutmmediumandroidappamputmsourceshare', 'betteri', 'bettering', 'betterment', 'betterput', 'betyer', 'bevause', 'bewildered', 'beyond', 'bf', 'bff', 'bfs', 'bi', 'bias', 'biased', 'bible', 'bickered', 'bickering', 'bicuspid', 'bicycle', 'bid', 'bidding', 'biden', 'bien', 'big', 'bigger', 'biggest', 'biggie', 'bigoted', 'bigotry', 'bike', 'biking', 'bikini', 'bilingual', 'bill', 'billing', 'billion', 'billionair', 'billionaire', 'billionth', 'bimonthly', 'bin', 'binary', 'binaural', 'bind', 'binge', 'binging', 'bingo', 'biological', 'biologically', 'biology', 'biomedical', 'biopsied', 'biopsy', 'bioshock', 'bipolar', 'bird', 'birmingham', 'birtday', 'birth', 'birthday', 'birthdaychristmas', 'birthdayhis', 'bisexual', 'bisexuality', 'bismal', 'bit', 'bitcg', 'bitch', 'bitchi', 'bitching', 'bitchslapped', 'bitcoin', 'bite', 'biting', 'bitten', 'bitter', 'bitterness', 'bitternessthough', 'bittersweet', 'bitting', 'bitxh', 'biweekly', 'bizarre', 'bizz', 'bla', 'black', 'blackandwhite', 'blackboard', 'blacked', 'blackers', 'blackhole', 'blackmailed', 'blackout', 'bladder', 'blade', 'blah', 'blaintly', 'blame', 'blamed', 'blaming', 'bland', 'blandest', 'blank', 'blanked', 'blanket', 'blanking', 'blankpilling', 'blasphemed', 'blast', 'blasted', 'blasting', 'blatantly', 'blaze', 'blazing', 'blcoked', 'ble', 'bleach', 'bleaching', 'bleak', 'bled', 'bleed', 'bleeding', 'bleeds', 'bleh', 'blemish', 'blend', 'blending', 'bless', 'blessed', 'blessing', 'blew', 'blimp', 'blind', 'blinded', 'blindfold', 'blindly', 'blindness', 'blindsided', 'blindstill', 'blink', 'blinked', 'blinking', 'bliss', 'blissful', 'blissfulness', 'blm', 'bloat', 'bloated', 'bloatedness', 'bloating', 'block', 'blocked', 'blocker', 'blocking', 'blog', 'blogging', 'blogpersonal', 'bloke', 'blonde', 'blood', 'bloodbath', 'blooded', 'bloodied', 'bloodshed', 'bloodstream', 'bloodtest', 'bloodwork', 'bloody', 'bloom', 'bloomed', 'bloomer', 'blossom', 'blossomed', 'blossoming', 'blotchy', 'blow', 'blowing', 'blowjob', 'blown', 'blue', 'blum', 'blunted', 'blur', 'blurb', 'blurred', 'blurriness', 'blurring', 'blurry', 'blury', 'bmi', 'bo', 'board', 'boarded', 'boarding', 'boardwalk', 'boat', 'boating', 'boba', 'bobbing', 'bobby', 'bock', 'bodes', 'bodily', 'body', 'bodyi', 'bodyshame', 'bodywide', 'bog', 'bogged', 'boggled', 'boiii', 'boil', 'boiled', 'boiling', 'bojack', 'bold', 'bolster', 'bomb', 'bombard', 'bombarded', 'bond', 'bonded', 'bonding', 'bone', 'bonfire', 'bong', 'bonjour', 'bonkers', 'bonus', 'bony', 'boob', 'book', 'bookbag', 'bookclub', 'booked', 'booking', 'booksmanga', 'booksposterssongs', 'booksstudies', 'bookstv', 'boom', 'boost', 'boosted', 'booster', 'boosting', 'boot', 'bootcamp', 'bootcamps', 'booted', 'booth', 'bootstrap', 'booze', 'bor', 'border', 'bordering', 'borderline', 'bore', 'bored', 'boredom', 'boring', 'boringmiserable', 'boringness', 'born', 'borrow', 'borrowed', 'borrowing', 'bos', 'boss', 'bossy', 'bot', 'bother', 'bothered', 'bothering', 'bothersome', 'bottle', 'bottled', 'bottling', 'bottom', 'bottomless', 'botulism', 'botw', 'bought', 'boughten', 'boulder', 'bounce', 'bouncing', 'bouncy', 'bound', 'boundary', 'boundless', 'bourne', 'bout', 'bow', 'bowel', 'bowie', 'bowl', 'bowling', 'box', 'boxed', 'boxing', 'boy', 'boycott', 'boyfriend', 'boyfriendm', 'bp', 'bpd', 'bpm', 'br', 'brace', 'bracing', 'bracket', 'brad', 'bradycardia', 'brag', 'bragged', 'bragging', 'brain', 'brainamygdalaphysiology', 'brainbody', 'braindead', 'brainfog', 'brainrelated', 'brainstorming', 'brainwashed', 'brake', 'braking', 'bralingerie', 'branch', 'branching', 'brand', 'brandon', 'brandtobrandthey', 'brat', 'brave', 'braver', 'bravery', 'brazil', 'brazilian', 'breach', 'bread', 'breader', 'breadth', 'breadwinner', 'break', 'breakbut', 'breakdown', 'breakdowndistress', 'breakdownpanic', 'breakfast', 'breaking', 'breakout', 'breaksan', 'breakthrough', 'breaktime', 'breakup', 'breast', 'breastfed', 'breastfeed', 'breastfeeding', 'breath', 'breathe', 'breathed', 'breather', 'breathes', 'breathing', 'breathinganxietymood', 'breathless', 'breathlessness', 'breathlessnessand', 'breathrough', 'breathscared', 'bree', 'breeding', 'breezing', 'brevity', 'brewing', 'bribed', 'brick', 'bricking', 'brickwall', 'bride', 'bridesmaid', 'bridge', 'bridgesfriends', 'brief', 'briefly', 'bright', 'brighter', 'brightest', 'brilliant', 'brilliantly', 'bring', 'bringing', 'brings', 'brink', 'brintellix', 'brinx', 'brisk', 'briskly', 'british', 'bro', 'broach', 'broad', 'brochure', 'broil', 'broke', 'broken', 'bromazepam', 'bronchitis', 'bronchodilator', 'brood', 'brooding', 'broom', 'bros', 'brothel', 'brother', 'brothernot', 'brought', 'brown', 'browning', 'browse', 'browser', 'browsing', 'bruh', 'bruise', 'bruised', 'bruising', 'brunt', 'brush', 'brushed', 'brushinf', 'brushing', 'brutal', 'brutality', 'brutally', 'bsc', 'bscsuse', 'bshsgggggv', 'btch', 'btw', 'bu', 'bubble', 'bubbling', 'bubbly', 'bublineess', 'buck', 'bucket', 'bucketfull', 'buckle', 'buckled', 'bud', 'buddha', 'buddhanature', 'buddhism', 'buddy', 'budge', 'budget', 'budgeting', 'buffer', 'bug', 'bugged', 'bugging', 'buh', 'build', 'builder', 'building', 'buildup', 'built', 'builtin', 'builtup', 'bulk', 'bull', 'bullet', 'bullied', 'bulling', 'bullshis', 'bullshit', 'bullshitter', 'bullshitting', 'bully', 'bullyed', 'bullying', 'bullyingintimidation', 'bum', 'bumble', 'bummed', 'bummer', 'bumming', 'bump', 'bumped', 'bumping', 'bunch', 'bundled', 'bunndel', 'bunny', 'bupropian', 'bupropion', 'buproprion', 'bur', 'burden', 'burdened', 'burdening', 'burdensome', 'burdered', 'burger', 'buried', 'burn', 'burned', 'burnedout', 'burner', 'burning', 'burningpins', 'burningred', 'burnout', 'burnt', 'burntout', 'burp', 'burping', 'burrito', 'burry', 'burst', 'bursted', 'bursting', 'burstrush', 'burt', 'burtnout', 'bury', 'burying', 'bus', 'busco', 'bush', 'bushing', 'busier', 'business', 'businessasusual', 'businesswise', 'buspar', 'busparine', 'buspirone', 'buspor', 'busprone', 'bussiness', 'bust', 'busting', 'bustling', 'busy', 'butchered', 'buti', 'butim', 'butnothing', 'butt', 'buttcrack', 'butted', 'butter', 'buttered', 'butterfly', 'buttload', 'buttock', 'button', 'buy', 'buying', 'buzz', 'buzzing', 'buzzingvibrating', 'bwwn', 'bye', 'bypass', 'byproduct', 'bystander', 'c', 'ca', 'cab', 'cabin', 'cabinet', 'cable', 'cackling', 'cafe', 'cafeteria', 'caffeine', 'cage', 'cake', 'cakewalk', 'cakey', 'calc', 'calcium', 'calculate', 'calculated', 'calculating', 'calculation', 'calf', 'cali', 'caliber', 'california', 'caligula', 'call', 'callback', 'callbut', 'callcenter', 'called', 'caller', 'callie', 'calling', 'callingout', 'calll', 'callmeeting', 'callus', 'calm', 'calmed', 'calmer', 'calmers', 'calming', 'calmly', 'calmness', 'calorie', 'cam', 'cambiar', 'came', 'camelian', 'camera', 'cameracant', 'camgirl', 'camp', 'campaign', 'camping', 'campus', 'camsites', 'can', 'canada', 'canadian', 'canal', 'cancan', 'cancel', 'canceled', 'canceling', 'cancelled', 'cancelling', 'cancer', 'cancerous', 'cancun', 'candidate', 'candle', 'candy', 'cani', 'canine', 'cannabis', 'canning', 'cannon', 'cannot', 'cant', 'cantaloupe', 'canti', 'cantwont', 'canvas', 'cap', 'capability', 'capable', 'capacity', 'cape', 'capital', 'capitalism', 'capitalistic', 'capstone', 'capsule', 'car', 'carbohydrate', 'carbon', 'carbs', 'carcass', 'carcinogen', 'card', 'cardano', 'cardboard', 'cardiac', 'cardio', 'cardiologist', 'cardiophobia', 'care', 'cared', 'career', 'careerless', 'carefree', 'careful', 'carefully', 'caregiver', 'carei', 'careless', 'carelessly', 'carelessness', 'carelol', 'careshe', 'caress', 'caretaker', 'caring', 'caringconcentrating', 'carl', 'carpal', 'carpark', 'carpet', 'carriage', 'carried', 'carrier', 'carring', 'carry', 'carrying', 'cart', 'cartoon', 'carved', 'casanova', 'cascade', 'case', 'casein', 'cash', 'cashier', 'casino', 'casket', 'cast', 'castaway', 'casted', 'casting', 'castle', 'castration', 'casual', 'casually', 'casuallybut', 'cat', 'catalyst', 'catapres', 'catastrophe', 'catastrophic', 'catastrophising', 'catastrophization', 'catastrophize', 'catastrophizing', 'catastrophizinganticipatory', 'catastrophizingi', 'catatonia', 'catch', 'catched', 'catching', 'categorize', 'categorizing', 'category', 'cater', 'catered', 'catering', 'caters', 'catfished', 'catfishing', 'catfree', 'catharsis', 'cathartic', 'catheter', 'catholic', 'catmull', 'catmulls', 'catonic', 'catty', 'catwalk', 'caucasian', 'caught', 'causal', 'causality', 'causation', 'cause', 'caused', 'causing', 'caution', 'cautious', 'cave', 'caved', 'cavern', 'caviar', 'caving', 'cavity', 'cbd', 'cbt', 'cbtdbt', 'ce', 'cease', 'ceased', 'ceasessorrow', 'ceasing', 'cecil', 'ceiling', 'cela', 'celebrate', 'celebrated', 'celebrating', 'celebration', 'celebrity', 'celexa', 'celiac', 'cell', 'cello', 'cellular', 'celon', 'celsius', 'celxa', 'cement', 'cen', 'censores', 'cent', 'center', 'centered', 'centimeter', 'centipede', 'central', 'centre', 'centric', 'centrol', 'ceo', 'ceomanager', 'ceramic', 'cerebral', 'ceremony', 'certain', 'certainly', 'certainty', 'certificate', 'certified', 'cervical', 'cervicogennic', 'cet', 'cetera', 'ceux', 'cgpa', 'cgpaand', 'chain', 'chainpadlocks', 'chair', 'chakras', 'chalked', 'challenge', 'challenged', 'challenging', 'chambre', 'chamomile', 'champ', 'champion', 'championship', 'chance', 'chancei', 'change', 'changed', 'changedat', 'changedpersonality', 'changer', 'changesdiet', 'changing', 'channel', 'channeling', 'chaos', 'chaotic', 'chapter', 'character', 'characterdriven', 'characteristic', 'characterized', 'charade', 'charge', 'charged', 'chargeit', 'charger', 'charging', 'charismatic', 'charites', 'charity', 'charm', 'charming', 'chart', 'chartered', 'chase', 'chased', 'chaser', 'chasing', 'chasm', 'chastisement', 'chastising', 'chat', 'chatroom', 'chatsphotos', 'chatspics', 'chatted', 'chatter', 'chattering', 'chatting', 'chatty', 'cheap', 'cheaper', 'cheapest', 'cheat', 'cheated', 'cheating', 'cheatinglosing', 'cheatingnot', 'check', 'checked', 'checkedthat', 'checkin', 'checking', 'checklist', 'checkmate', 'checkout', 'checkup', 'cheddar', 'cheek', 'cheekbone', 'cheer', 'cheerful', 'cheerfulness', 'cheering', 'cheese', 'cheesy', 'chef', 'chem', 'chemical', 'chemically', 'chemistry', 'chemo', 'chemophobe', 'cheque', 'cherish', 'cherry', 'chess', 'chest', 'chested', 'chester', 'chestif', 'chestneck', 'chestpains', 'chesttightness', 'chew', 'chewing', 'chi', 'chicago', 'chick', 'chicken', 'chickenandtheegg', 'chickened', 'chief', 'child', 'childfreeday', 'childhood', 'childhoodlife', 'childish', 'childlike', 'childrens', 'childteenager', 'chilhood', 'chill', 'chilled', 'chilling', 'chime', 'chimp', 'chin', 'china', 'chinaand', 'chinaspecificallythey', 'chinawould', 'chinese', 'chip', 'chipped', 'chiropractor', 'chirpy', 'chiselled', 'chit', 'chitchatting', 'chlorhexidine', 'chloride', 'chocolate', 'choice', 'choicesor', 'choke', 'choked', 'choking', 'chokingswallowing', 'choleric', 'choose', 'chooses', 'choosiness', 'choosing', 'chop', 'chopped', 'chore', 'chose', 'chosen', 'chould', 'chow', 'christ', 'christian', 'christmas', 'chrome', 'chromebook', 'chronic', 'chronically', 'chronotherapy', 'chubby', 'chuck', 'chug', 'chugged', 'chump', 'chunk', 'chunky', 'church', 'churning', 'ci', 'cicada', 'cicle', 'cig', 'cigar', 'cigarette', 'cigarrets', 'cigs', 'cincinnati', 'cinema', 'cipralex', 'circa', 'circadian', 'circle', 'circled', 'circling', 'circuitry', 'circulated', 'circulation', 'circulatory', 'circumcision', 'circumstance', 'circumstantial', 'cirrhosis', 'cirurgy', 'cisman', 'citadel', 'citalopram', 'citalopramcelexa', 'cite', 'citiestowns', 'citing', 'citizen', 'city', 'civ', 'civeng', 'civil', 'civilian', 'civilisation', 'civilization', 'claim', 'claimed', 'claiming', 'claire', 'clam', 'clamming', 'clammy', 'clamy', 'clan', 'clarification', 'clarify', 'clarity', 'clarksville', 'clases', 'clash', 'class', 'classed', 'classgroup', 'classic', 'classical', 'classify', 'classifying', 'classmate', 'classroom', 'clause', 'claustrophobia', 'claustrophobianever', 'claustrophobic', 'claw', 'clean', 'cleaned', 'cleanedit', 'cleaner', 'cleaning', 'cleanliness', 'cleanse', 'clear', 'clearance', 'cleared', 'clearer', 'clearest', 'clearheaded', 'clearing', 'clearly', 'cleaver', 'cleft', 'clench', 'clenched', 'clenching', 'clenil', 'clerk', 'clever', 'clg', 'cliche', 'click', 'clicked', 'clicking', 'clicky', 'client', 'cliff', 'cliffmisstep', 'climate', 'climax', 'climb', 'climbed', 'climbing', 'clinal', 'cling', 'clinged', 'clinging', 'clingy', 'clingyjealous', 'clinic', 'clinical', 'clinically', 'clinicals', 'clip', 'clique', 'clit', 'cloak', 'clobazam', 'clobbered', 'clock', 'clockwork', 'cloest', 'clogged', 'clomipramine', 'clonazapam', 'clonazepam', 'clonazepammg', 'clone', 'clonidine', 'clonopin', 'close', 'closecalls', 'closed', 'closeended', 'closefar', 'closely', 'closeminded', 'closeness', 'closer', 'closest', 'closet', 'closeted', 'closeup', 'closing', 'closure', 'clot', 'cloth', 'clothed', 'clothes', 'clothesshoes', 'clothing', 'cloud', 'clouded', 'cloudy', 'clown', 'clozapine', 'club', 'clubbing', 'clubsbars', 'clue', 'clueless', 'clumsiness', 'clumsy', 'clung', 'cluster', 'clusterfuck', 'clutch', 'clutching', 'clutter', 'cluttered', 'clés', 'cm', 'cmon', 'cna', 'co', 'coach', 'coast', 'coaster', 'coasting', 'coating', 'cobain', 'cocain', 'cocaine', 'cock', 'cocksucker', 'cocktail', 'cocky', 'coctktail', 'code', 'codependancy', 'codependant', 'codependency', 'codependent', 'coding', 'coerce', 'coerced', 'coexist', 'cofeee', 'coffee', 'coffin', 'cog', 'coginitive', 'cognition', 'cognitive', 'cognitiveemotional', 'cognizant', 'coherent', 'coherently', 'cohesive', 'cohort', 'coil', 'coin', 'coincidence', 'coincidentally', 'coincides', 'coke', 'cold', 'coldly', 'coldness', 'coldtingly', 'coldturkey', 'colitis', 'collaborating', 'collaboration', 'collage', 'collapse', 'collapsed', 'collapsing', 'collar', 'colleague', 'collect', 'collected', 'collecting', 'collection', 'collective', 'collectively', 'collegae', 'college', 'collegenot', 'collège', 'colon', 'colonoscopy', 'colonoscopyjuly', 'color', 'colorado', 'colorful', 'colorless', 'colour', 'columbine', 'com', 'coma', 'combat', 'combative', 'combination', 'combine', 'combined', 'combing', 'combining', 'combo', 'come', 'comeback', 'comedian', 'comedy', 'comfirm', 'comfort', 'comfortable', 'comfortably', 'comfortablydude', 'comfortdrinking', 'comforted', 'comforter', 'comforting', 'comfy', 'comic', 'comin', 'coming', 'comm', 'command', 'commence', 'commended', 'comment', 'commentary', 'commented', 'commenting', 'commercial', 'commet', 'commission', 'commit', 'commited', 'commiting', 'commitment', 'committed', 'committee', 'committing', 'common', 'commonly', 'commonplace', 'communal', 'commune', 'communicable', 'communicate', 'communicated', 'communicating', 'communication', 'communion', 'communist', 'community', 'commute', 'commuting', 'comoany', 'comorbidity', 'comp', 'companionship', 'company', 'companyi', 'comparable', 'compare', 'compared', 'comparescriticizes', 'comparing', 'comparison', 'compartmentalism', 'compassion', 'compassionate', 'compatibility', 'compatible', 'compel', 'compelled', 'compelling', 'compensate', 'compensated', 'compensates', 'compensating', 'compensation', 'compete', 'competence', 'competency', 'competent', 'competetive', 'competing', 'competition', 'competitive', 'competitiveness', 'compilation', 'compile', 'compiled', 'complacency', 'complacent', 'complain', 'complainargue', 'complained', 'complaining', 'complains', 'complaint', 'complement', 'complemented', 'complete', 'completed', 'completely', 'completes', 'completing', 'completion', 'completley', 'completly', 'complex', 'complexion', 'complexity', 'compliance', 'compliant', 'complicate', 'complicated', 'complication', 'compliment', 'complimented', 'complimenting', 'complitely', 'comply', 'complying', 'component', 'comporting', 'composed', 'composer', 'composing', 'composure', 'compound', 'compounded', 'compounding', 'compoundingly', 'comprehend', 'comprehensible', 'comprehension', 'comprehensive', 'compressed', 'compromise', 'compuer', 'compulsing', 'compulsion', 'compulsive', 'compulsively', 'compulsiveobsessive', 'compulsory', 'compute', 'computer', 'con', 'conatantly', 'concede', 'conceive', 'concentrate', 'concentrated', 'concentrating', 'concentration', 'concept', 'conception', 'conceptually', 'concern', 'concerned', 'concerning', 'concerningly', 'concert', 'concertor', 'concession', 'concidence', 'concious', 'concise', 'conclude', 'concluded', 'conclusion', 'concrete', 'conctrate', 'concussion', 'condemn', 'condemned', 'condemning', 'condemns', 'condense', 'condensed', 'condescendence', 'condescending', 'condiment', 'condition', 'conditioned', 'conditionslabels', 'condolence', 'condom', 'conduct', 'conducted', 'conducting', 'conduit', 'cone', 'conerta', 'conference', 'conferencing', 'confess', 'confessed', 'confessing', 'confession', 'confessional', 'confidant', 'confide', 'confidence', 'confident', 'confidenti', 'confidential', 'confidently', 'confides', 'confiding', 'confined', 'confinement', 'confines', 'confirm', 'confirmation', 'confirmationvalidation', 'confirmed', 'confirming', 'confirms', 'conflict', 'conflicted', 'conflicting', 'conflictos', 'conform', 'conformity', 'confront', 'confrontation', 'confrontational', 'confronted', 'confronting', 'confuse', 'confused', 'confuses', 'confusing', 'confusingly', 'confusion', 'confusionis', 'congested', 'congestion', 'congo', 'congrats', 'congratulate', 'conjecture', 'connais', 'conneceted', 'connect', 'connected', 'connectedclose', 'connecting', 'connection', 'connects', 'conor', 'conquer', 'conquered', 'conquering', 'conrad', 'conscience', 'conscientious', 'conscious', 'consciously', 'consciousness', 'conscription', 'consecutive', 'consecutively', 'consensual', 'consent', 'consequence', 'consequential', 'consequentially', 'consequently', 'conservative', 'consider', 'considerable', 'considerably', 'considerate', 'consideration', 'considered', 'considering', 'considers', 'consist', 'consisted', 'consistency', 'consistent', 'consistently', 'consistentlybad', 'consists', 'console', 'consoling', 'conspiracy', 'constanly', 'constant', 'constantly', 'constatly', 'constipated', 'constipateddiarrhea', 'constipation', 'constraint', 'constricted', 'construct', 'construction', 'constructive', 'constructively', 'consult', 'consultant', 'consultation', 'consulted', 'consulter', 'consulting', 'consume', 'consumed', 'consumedincluding', 'consumer', 'consumes', 'consuming', 'consumption', 'cont', 'contact', 'contacted', 'contacting', 'contain', 'contained', 'contains', 'contaminated', 'contamination', 'contemplate', 'contemplated', 'contemplatedattempted', 'contemplating', 'contemporary', 'contempt', 'contemptuous', 'content', 'contentment', 'contest', 'contestant', 'context', 'continent', 'contingency', 'continually', 'continue', 'continued', 'continues', 'continuing', 'continuous', 'continuously', 'contract', 'contracted', 'contracting', 'contraction', 'contractor', 'contradict', 'contradicting', 'contradiction', 'contradicts', 'contrary', 'contrast', 'contrasted', 'contraversial', 'contribute', 'contributed', 'contributer', 'contributes', 'contributing', 'contribution', 'contributor', 'control', 'controlable', 'controlalready', 'controlgoing', 'controllable', 'controlled', 'controller', 'controlling', 'controversial', 'convened', 'convenient', 'conveniently', 'convention', 'conventional', 'converation', 'conversation', 'conversational', 'conversationspictures', 'conversationssay', 'converse', 'conversing', 'converted', 'converting', 'convey', 'conveyed', 'convice', 'convicted', 'conviction', 'convince', 'convinced', 'convinces', 'convincing', 'convo', 'convocation', 'convos', 'convulsion', 'convulsive', 'coo', 'cook', 'cooked', 'cookie', 'cooking', 'cookingcleaning', 'cooky', 'cool', 'cooldown', 'cooler', 'cooling', 'coop', 'cooped', 'cooperate', 'cooperating', 'cooperation', 'coordinator', 'cop', 'copacetic', 'copd', 'cope', 'coped', 'copine', 'coping', 'copping', 'copy', 'coq', 'corana', 'cord', 'cordial', 'core', 'corner', 'corona', 'coronanxiety', 'coronary', 'coronavirus', 'corp', 'corporate', 'corpse', 'corralled', 'correct', 'correcting', 'correction', 'correctly', 'corrects', 'correlate', 'correlated', 'correlating', 'correlation', 'correspond', 'corresponding', 'corresponds', 'corridor', 'corrupt', 'corrupted', 'corrupting', 'corruption', 'corse', 'cortisol', 'cosas', 'cosmology', 'cosmos', 'cost', 'costa', 'costant', 'costars', 'costed', 'costing', 'costly', 'costo', 'costochondritis', 'costumer', 'cosy', 'cottage', 'cotton', 'couch', 'coudkbt', 'coudl', 'cough', 'coughers', 'coughing', 'coughinggagging', 'coulc', 'could', 'couldnt', 'couldnti', 'couldve', 'councelioirs', 'council', 'councilling', 'councillor', 'councilor', 'councilors', 'counseling', 'counselingtherapy', 'counseller', 'counselling', 'counsellor', 'counsellortherapist', 'counselor', 'count', 'countdown', 'counted', 'counter', 'counteract', 'counterfeit', 'counterpart', 'counterproductive', 'countess', 'counting', 'countless', 'country', 'countryall', 'countryhome', 'countrylevel', 'countrymy', 'countryside', 'county', 'couple', 'coupled', 'courage', 'couragementality', 'courageous', 'course', 'coursework', 'court', 'courteous', 'courtesy', 'courtyard', 'couse', 'cousin', 'cover', 'coverage', 'covered', 'covering', 'covid', 'cow', 'coward', 'cowardly', 'cowered', 'cowlick', 'coworker', 'coworkers', 'coworkersroommates', 'coz', 'cozed', 'cozy', 'cp', 'cpr', 'cps', 'cptsd', 'crabby', 'crack', 'cracka', 'cracked', 'cracker', 'cracking', 'cradling', 'craft', 'craigslist', 'cram', 'cramming', 'cramp', 'cramped', 'cramping', 'crampy', 'cranked', 'cranking', 'cranky', 'crap', 'crapbarely', 'crappiest', 'crappy', 'crapso', 'crash', 'crashed', 'crashing', 'crashingdying', 'crater', 'crave', 'craves', 'craving', 'crawl', 'crawled', 'crawling', 'crayon', 'craziness', 'crazy', 'crazzy', 'creaking', 'cream', 'create', 'created', 'creates', 'createwith', 'creating', 'creation', 'creative', 'creatively', 'creativity', 'creativityvaluing', 'creator', 'creature', 'credit', 'creditor', 'creditswise', 'creed', 'creek', 'creep', 'creeped', 'creepily', 'creepin', 'creeping', 'creepy', 'creepylame', 'creo', 'crept', 'crevice', 'crib', 'cribbing', 'cricket', 'cricketer', 'cricopharangyteal', 'cried', 'criedhyperventilatedshivered', 'crime', 'crimea', 'criminal', 'cringe', 'cringed', 'cringethat', 'cringey', 'cringeyass', 'cringing', 'cripple', 'crippled', 'crippling', 'cripplingly', 'crisis', 'criterion', 'critic', 'critical', 'criticised', 'criticism', 'criticize', 'criticized', 'criticizes', 'criticizing', 'critique', 'critiqued', 'critiquing', 'critising', 'critismis', 'croak', 'croatia', 'croatian', 'crohn', 'croissant', 'crona', 'crooked', 'cropping', 'cross', 'crossed', 'crossing', 'crosslegged', 'crossword', 'crowd', 'crowded', 'crowding', 'crown', 'crowned', 'crp', 'crticial', 'crucial', 'crude', 'cruel', 'cruelest', 'cruelty', 'cruise', 'crumb', 'crumble', 'crumbled', 'crumbles', 'crumbling', 'crumpled', 'crumples', 'crunch', 'crush', 'crushed', 'crushing', 'crushingly', 'crutch', 'cruz', 'cry', 'crybaby', 'crybut', 'cryer', 'cryi', 'cryingvomiting', 'crypto', 'crystal', 'crzzy', 'csn', 'csnt', 'ct', 'ctjune', 'ctrlaltdeletegtexistence', 'cu', 'cuando', 'cuased', 'cube', 'cubicle', 'cuddle', 'cuddled', 'cuddledcomforted', 'cuddling', 'cue', 'cul', 'culinary', 'culminated', 'culmination', 'culpa', 'culprit', 'cult', 'cultist', 'cultivate', 'cultlike', 'cultthere', 'cultural', 'culture', 'cum', 'cumbersome', 'cumin', 'cummed', 'cuncic', 'cunt', 'cup', 'cupboard', 'cupcake', 'cupping', 'curb', 'curdling', 'cure', 'cured', 'curently', 'curfew', 'curiosity', 'curious', 'curiousness', 'curl', 'curled', 'curling', 'curly', 'current', 'currently', 'currentlyi', 'curricular', 'curriculars', 'curriculum', 'curse', 'cursed', 'cursing', 'cursor', 'curtail', 'curtain', 'curve', 'curveball', 'cushion', 'cusp', 'cuss', 'cussed', 'cussing', 'custodian', 'custody', 'customary', 'customer', 'customerscoworkers', 'customersidk', 'cut', 'cute', 'cuteness', 'cutesy', 'cuticle', 'cutie', 'cutout', 'cutting', 'cuz', 'cuídense', 'cv', 'cw', 'cyber', 'cyberstalking', 'cycle', 'cycled', 'cycling', 'cyclist', 'cyclothymia', 'cymbalta', 'cynical', 'cynicism', 'cyst', 'cystoscopy', 'cz', 'czech', 'cétait', 'cómo', 'da', 'dab', 'dabbled', 'dabpen', 'dad', 'daddy', 'dadthey', 'dadyour', 'dae', 'dafuq', 'dagestan', 'dagger', 'dah', 'daily', 'dailyweekly', 'dairy', 'daised', 'dallas', 'dam', 'damadging', 'damage', 'damaged', 'damaging', 'damm', 'dammed', 'dammit', 'damn', 'damnable', 'damned', 'damnit', 'damp', 'dampd', 'dampening', 'dan', 'dance', 'danced', 'dancer', 'dancing', 'dandy', 'dang', 'danger', 'dangerous', 'dangerously', 'dangit', 'daniel', 'dans', 'dare', 'dared', 'daring', 'dark', 'darker', 'darkest', 'darknegative', 'darkness', 'darknights', 'darkrainy', 'dash', 'dashcam', 'data', 'datasomeone', 'date', 'dated', 'datei', 'dating', 'daughter', 'daughterinlaw', 'daunting', 'david', 'davoir', 'dawg', 'dawn', 'dawned', 'day', 'dayand', 'dayanother', 'dayby', 'daycare', 'daydream', 'daydreamed', 'daydreaming', 'dayevening', 'dayi', 'daylight', 'daynight', 'daysgood', 'dayshours', 'daysi', 'daysit', 'daysweeks', 'daysweeksmonths', 'daysyesterday', 'daytime', 'daytoday', 'daytrip', 'dayweek', 'dayweekendlife', 'daze', 'dazed', 'dbt', 'ddimer', 'de', 'dead', 'deadend', 'deadfainting', 'deadlifting', 'deadline', 'deadlock', 'deadly', 'deaf', 'deafblind', 'deafening', 'deal', 'dealbreaker', 'dealer', 'dealership', 'dealing', 'dealt', 'dear', 'dearest', 'dearly', 'death', 'deathbed', 'deathfear', 'deathgrip', 'deathly', 'deaththings', 'deathvia', 'debacle', 'debate', 'debated', 'debating', 'debilitated', 'debilitating', 'debit', 'debris', 'debt', 'dec', 'decade', 'decapitation', 'decay', 'decaying', 'deceased', 'deceitful', 'deceive', 'december', 'decency', 'decent', 'decently', 'deceptive', 'decho', 'decide', 'decided', 'decides', 'deciding', 'deciduous', 'decimates', 'decipher', 'deciphering', 'decision', 'decisioni', 'decisionlike', 'decisionmaking', 'deck', 'declared', 'declares', 'decline', 'declined', 'declining', 'decompensating', 'decompose', 'decompress', 'decongestant', 'decor', 'decorating', 'decrease', 'decreased', 'decrepit', 'decriminalize', 'ded', 'dedicate', 'dedicated', 'dedicatedly', 'dedicating', 'deductible', 'deeamt', 'deed', 'deem', 'deemed', 'deems', 'deep', 'deepening', 'deeper', 'deepest', 'deeply', 'deeprooted', 'deer', 'def', 'defame', 'default', 'defeat', 'defeated', 'defeating', 'defecate', 'defeciency', 'defect', 'defective', 'defence', 'defend', 'defended', 'defending', 'defendingescaping', 'defense', 'defensive', 'defensivehating', 'defer', 'deffends', 'deffinitely', 'defiant', 'defibrillated', 'deficiency', 'deficiencyi', 'deficient', 'define', 'defined', 'defines', 'definetely', 'definite', 'definitely', 'definition', 'definitively', 'defintion', 'defunded', 'degenerate', 'degenerated', 'degeneration', 'degradation', 'degraded', 'degrading', 'degree', 'dehumanization', 'dehydrated', 'dehydration', 'deity', 'deja', 'dejar', 'dejavu', 'dejected', 'delaware', 'delay', 'delayed', 'delaying', 'delegate', 'delete', 'deleted', 'deleterious', 'deletes', 'deleting', 'delhi', 'deliberated', 'deliberately', 'delicacy', 'delicious', 'delight', 'delighted', 'delightful', 'delineation', 'delirious', 'deliriously', 'deliver', 'deliverable', 'delivered', 'delivering', 'deliveroo', 'delivery', 'delt', 'delta', 'delude', 'deluge', 'delusion', 'delusional', 'delusioned', 'delving', 'demand', 'demanded', 'demanding', 'demeaned', 'demeaning', 'dementia', 'dementiaalzheimers', 'dementophobia', 'demi', 'demise', 'demisexual', 'demo', 'democracy', 'democrat', 'demon', 'demonic', 'demonstrate', 'demonstrated', 'demoralised', 'demoralises', 'demoralising', 'demoted', 'demotion', 'demotivated', 'demotivating', 'dems', 'den', 'denial', 'denied', 'denies', 'denmark', 'dent', 'dental', 'dented', 'dentist', 'deny', 'denying', 'deodorant', 'depakote', 'department', 'depend', 'dependable', 'dependancy', 'dependant', 'dependence', 'dependency', 'dependent', 'depending', 'depends', 'depersonalisation', 'depersonalization', 'depersonalizationderealization', 'depersonalize', 'depersonalized', 'depersonalizing', 'depersonnalized', 'depicted', 'depleted', 'deployment', 'deported', 'deposit', 'depot', 'deppreseed', 'deppresion', 'deppressed', 'deppression', 'deprecate', 'depresion', 'depresión', 'depress', 'depressant', 'depressed', 'depressedrecovering', 'depressedsuicidal', 'depressedtbh', 'depressedunhappy', 'depresses', 'depressing', 'depression', 'depressionadhd', 'depressionadhdmaladaptive', 'depressionanxiety', 'depressionanxietydisorder', 'depressionanxietyselfharm', 'depressionbut', 'depressionchronic', 'depressionive', 'depressionmoods', 'depressionocdasdgad', 'depressionplease', 'depressionsevere', 'depressionso', 'depressionsuicide', 'depressive', 'depressiveanxious', 'depresson', 'depresssion', 'deprivation', 'deprived', 'deprrssion', 'dept', 'depth', 'depuis', 'derailing', 'deranged', 'derealisation', 'derealization', 'derealizationdepersonalizaiton', 'derealizationdepersonalization', 'derealizationdissociation', 'derealized', 'derealizing', 'derivation', 'derive', 'derived', 'derm', 'dermatitis', 'dermatologist', 'dermatology', 'derniers', 'desaturation', 'descend', 'descent', 'descisions', 'describe', 'described', 'describes', 'describing', 'description', 'descriptive', 'descriptor', 'desensitised', 'desensitized', 'desert', 'deserted', 'deserting', 'deserve', 'deserved', 'deservehave', 'deserves', 'deserving', 'desi', 'desicions', 'design', 'designed', 'designer', 'designing', 'desipramine', 'desirable', 'desire', 'desired', 'desirewanting', 'desk', 'desolate', 'desolation', 'despair', 'despairing', 'desparate', 'desperate', 'desperately', 'desperation', 'despise', 'despising', 'despite', 'despondency', 'dessert', 'destination', 'destined', 'destiny', 'destitute', 'destress', 'destroy', 'destroyed', 'destroying', 'destroys', 'destruction', 'destructive', 'desvenlaflaxine', 'detached', 'detachment', 'detail', 'detailed', 'detatched', 'detect', 'detectable', 'detected', 'detective', 'detector', 'detects', 'detention', 'deteriorate', 'deteriorated', 'deteriorates', 'deteriorating', 'deterioration', 'determination', 'determine', 'determined', 'determining', 'deterred', 'deterrent', 'detest', 'detour', 'detox', 'detoxing', 'detriment', 'detrimental', 'deus', 'deux', 'dev', 'devalued', 'devastated', 'devastating', 'devastatingly', 'develop', 'develope', 'developed', 'developer', 'developing', 'development', 'developmental', 'developped', 'develops', 'devestated', 'deviant', 'deviated', 'device', 'devil', 'devise', 'devising', 'devoid', 'devolved', 'devoted', 'devotion', 'devouring', 'dhialisis', 'di', 'diabet', 'diabetes', 'diabetic', 'diagmates', 'diagnoed', 'diagnose', 'diagnosed', 'diagnosing', 'diagnosis', 'diagnosisspecific', 'diagnosted', 'dial', 'dialect', 'dialog', 'dialogue', 'dialysis', 'diameter', 'diaper', 'diaphragm', 'diarrhea', 'diary', 'diazepam', 'dibs', 'dice', 'dicey', 'dick', 'dickhead', 'dictate', 'dictating', 'dictionary', 'didam', 'diddo', 'didint', 'didnt', 'didwithout', 'die', 'died', 'diego', 'diei', 'diemy', 'diet', 'dietary', 'diff', 'differant', 'difference', 'different', 'differentiate', 'differentiating', 'differently', 'differentlyi', 'differing', 'difficult', 'difficultiesi', 'difficultly', 'difficulty', 'difficuly', 'diffucult', 'diffuse', 'dificult', 'difrence', 'dig', 'digest', 'digested', 'digesting', 'digestion', 'digestive', 'digged', 'digging', 'digital', 'dignity', 'digusted', 'dihydrocodeine', 'dilated', 'dilation', 'dildo', 'dilemma', 'diligently', 'dillema', 'dilute', 'diluted', 'dime', 'dimension', 'diminish', 'diminished', 'diminishing', 'dimly', 'dimmed', 'dinamic', 'ding', 'dining', 'dinner', 'dinnerhuge', 'dioxide', 'dip', 'diploma', 'dipped', 'dipping', 'dipshit', 'dire', 'direct', 'directed', 'directing', 'direction', 'directionless', 'directive', 'directly', 'director', 'dirt', 'dirtbag', 'dirtplants', 'dirty', 'disability', 'disable', 'disabled', 'disabling', 'disadvantage', 'disadvantaged', 'disagree', 'disagreeing', 'disagreement', 'disallowed', 'disapointment', 'disappear', 'disappearance', 'disappeared', 'disappearing', 'disappears', 'disappearsfeels', 'disappoint', 'disappointed', 'disappointing', 'disappointment', 'disapproval', 'disarray', 'disassociate', 'disassociated', 'disassociating', 'disassociation', 'disaster', 'disastrous', 'disbelief', 'disc', 'discard', 'discarded', 'discern', 'discernible', 'discerning', 'discharged', 'discipline', 'disciplined', 'disciplins', 'disclaimer', 'disclose', 'disclosure', 'discoloration', 'discombobulated', 'discomfort', 'discomforting', 'discomfortpressure', 'disconcerting', 'disconnect', 'disconnected', 'discontent', 'discontinue', 'discontinued', 'discord', 'discount', 'discourage', 'discouraged', 'discourages', 'discouraging', 'discover', 'discovered', 'discovering', 'discovers', 'discovery', 'discrepancy', 'discriminated', 'discrimination', 'discus', 'discussed', 'discussing', 'discussion', 'discuté', 'disease', 'diseased', 'diseass', 'disembodied', 'disengage', 'disengaged', 'disfigured', 'disfunctional', 'disgust', 'disgusted', 'disgusting', 'dish', 'disheartening', 'dishwasher', 'disillusioned', 'disinfectant', 'disinformation', 'disintegrate', 'disintegrated', 'disinterest', 'disinterested', 'disk', 'dislike', 'disliked', 'dislocated', 'dismal', 'dismantling', 'dismiss', 'dismissed', 'dismisses', 'dismissive', 'disney', 'disobey', 'disodium', 'disorder', 'disordered', 'disordermdd', 'disorderocd', 'disorganised', 'disorganized', 'disorientated', 'disoriented', 'disown', 'disowned', 'dispair', 'disparaging', 'dispare', 'dispellingmythscomhttpsdispellingmythscom', 'dispise', 'dispite', 'displaced', 'display', 'displeasure', 'disposable', 'disproportionate', 'disprove', 'disproven', 'dispute', 'disregard', 'disregarded', 'disregarding', 'disrespect', 'disrespected', 'disrespectful', 'disrespecting', 'disrupt', 'disrupted', 'disruption', 'disrupts', 'dissapear', 'dissapoint', 'dissapointed', 'dissapointment', 'dissappear', 'dissappeared', 'dissappointment', 'dissect', 'dissection', 'dissertation', 'dissipates', 'dissociate', 'dissociated', 'dissociating', 'dissociation', 'dissociative', 'dissolve', 'dissolved', 'dissorder', 'disstressing', 'distance', 'distanced', 'distancing', 'distant', 'distinct', 'distinction', 'distinctly', 'distinguish', 'distort', 'distorted', 'distortion', 'distract', 'distracted', 'distractedoverwhelmed', 'distracting', 'distraction', 'distracts', 'distraught', 'distress', 'distressed', 'distressing', 'distribute', 'distribution', 'district', 'distrurbing', 'distrust', 'distrusting', 'disturb', 'disturbance', 'disturbed', 'disturbing', 'disturbingly', 'dit', 'ditch', 'ditched', 'dive', 'diver', 'diverse', 'divider', 'divingi', 'divisive', 'divorce', 'divorced', 'divorcesudden', 'divorcing', 'diy', 'dizzieness', 'dizzines', 'dizziness', 'dizzinesslightheadedness', 'dizzinessvertigo', 'dizzy', 'dizzybut', 'dizzylightheadedshort', 'dizzynauseous', 'dizzyness', 'dj', 'dlls', 'dm', 'dmd', 'dming', 'dna', 'dnp', 'do', 'doable', 'doatleast', 'doboy', 'doc', 'docile', 'dock', 'docollege', 'docontrol', 'doctor', 'doctorate', 'document', 'documentary', 'documented', 'documenting', 'dodge', 'dodging', 'dodgy', 'dodid', 'doent', 'doesent', 'doeshas', 'doesnt', 'dofeel', 'dog', 'dogging', 'dogmatil', 'dogshit', 'doi', 'doigt', 'doim', 'doin', 'doingfeeling', 'doingwant', 'dokeep', 'doll', 'dollar', 'domain', 'dome', 'domeshape', 'domestic', 'domesticated', 'dominated', 'dominating', 'domino', 'donald', 'donate', 'donated', 'donating', 'donation', 'done', 'donei', 'donequarantine', 'dong', 'donkey', 'donostia', 'dont', 'dontcare', 'dontgiveafuckaboutme', 'donts', 'doo', 'doodle', 'doom', 'doomed', 'doomer', 'dooming', 'doomscrolling', 'doomsday', 'doomy', 'doooown', 'door', 'doorbell', 'doormat', 'doorsyou', 'doorway', 'dopamine', 'doped', 'dopey', 'dora', 'dorm', 'dormant', 'dormthat', 'dos', 'dosage', 'dosay', 'dose', 'dosed', 'dosent', 'dosewith', 'dosh', 'dosn', 'dosnt', 'dot', 'dota', 'dotake', 'dotting', 'double', 'doubled', 'doubling', 'doubt', 'doubtanxiety', 'doubted', 'doubting', 'douchebag', 'dough', 'douleur', 'dousing', 'dove', 'down', 'downer', 'downfall', 'downgrade', 'downgraded', 'downhill', 'downing', 'download', 'downloaded', 'downloading', 'downloaduse', 'downplay', 'downplayed', 'downplaying', 'downright', 'downside', 'downstairs', 'downtown', 'downturn', 'downvoted', 'downvotes', 'downward', 'downwards', 'doze', 'dozed', 'dozen', 'dozesleep', 'dozy', 'dpdr', 'dpr', 'dr', 'draft', 'drafted', 'drafting', 'drag', 'dragged', 'dragging', 'dragon', 'drain', 'drainage', 'drained', 'draining', 'drama', 'dramatic', 'dramatically', 'dramatics', 'dramatized', 'drank', 'drastic', 'drastically', 'draw', 'drawback', 'drawer', 'drawing', 'drawn', 'drdp', 'dre', 'dread', 'dreaded', 'dreadful', 'dreadfully', 'dreadfulness', 'dreading', 'dreadpanic', 'dream', 'dreamed', 'dreamer', 'dreaming', 'dreamjob', 'dreamlike', 'dreamshobbies', 'dreamt', 'dreamy', 'dredge', 'drenched', 'dress', 'dressed', 'dresser', 'dressing', 'drew', 'dricor', 'dried', 'drift', 'drifted', 'drifting', 'drill', 'drilled', 'drilling', 'drink', 'drinkeat', 'drinker', 'drinking', 'drinkingalot', 'drinkingwhen', 'drinkssoda', 'drip', 'dripping', 'drive', 'driveit', 'driven', 'driver', 'driveway', 'driving', 'drivinghas', 'drone', 'droned', 'drool', 'droopy', 'drop', 'dropdown', 'droplet', 'dropout', 'dropped', 'dropping', 'droppings', 'drove', 'drowing', 'drown', 'drowned', 'drowning', 'drowsiness', 'drowsy', 'drs', 'drudgery', 'drug', 'drugged', 'drugging', 'drugrelated', 'drugsweed', 'drum', 'drunk', 'drunkard', 'drunkdo', 'drunken', 'drving', 'dry', 'dryi', 'dryness', 'dsm', 'dspd', 'du', 'duck', 'dude', 'due', 'duff', 'dug', 'dul', 'dull', 'dulled', 'duloxetine', 'dumb', 'dumbannoying', 'dumbass', 'dumbbell', 'dumbells', 'dumber', 'dumbest', 'dump', 'dumped', 'dumping', 'dumpling', 'dumpster', 'dunce', 'dunk', 'dunked', 'dunno', 'duo', 'duped', 'duper', 'duration', 'duress', 'dusk', 'dust', 'duty', 'dvt', 'dw', 'dwell', 'dwelling', 'dwells', 'dwi', 'dwindled', 'dwindling', 'dwn', 'dy', 'dye', 'dyeing', 'dying', 'dyingdeath', 'dyinggoing', 'dynamic', 'dysfuncftion', 'dysfunction', 'dysfunctional', 'dyslexia', 'dysmorphia', 'dysphoria', 'dysthymia', 'déchouer', 'déjà', 'días', 'dónde', 'e', 'ea', 'eachother', 'eager', 'eaither', 'eants', 'eap', 'ear', 'earache', 'earbuds', 'earlier', 'earliest', 'early', 'earlymid', 'earlymids', 'earn', 'earned', 'earner', 'earnestly', 'earning', 'earnings', 'earnt', 'earphone', 'earsfaceright', 'earth', 'earthly', 'earthquake', 'eas', 'ease', 'eased', 'easier', 'easiest', 'easily', 'easing', 'east', 'easter', 'eastern', 'easy', 'eat', 'eatbrush', 'eaten', 'eater', 'eating', 'eatingexercising', 'eats', 'eavesdropping', 'ebbed', 'ebooks', 'ebt', 'ebtfood', 'eccentric', 'ecg', 'ecgecho', 'echelon', 'echo', 'echocardiogram', 'echoing', 'echosjuly', 'eckhart', 'ecommerce', 'economic', 'economically', 'economics', 'economy', 'ecoweather', 'ecstasy', 'ecstatic', 'ect', 'ecti', 'eczema', 'ed', 'eddie', 'edge', 'edginess', 'edgy', 'edible', 'edit', 'editing', 'edition', 'edoscopy', 'educate', 'educated', 'education', 'educational', 'educationally', 'educationor', 'educator', 'eeg', 'eel', 'eerie', 'effect', 'effected', 'effecting', 'effective', 'effectivehttpsdruggistonlinecitalopramreviews', 'effectively', 'effectiveness', 'effectsmy', 'effexor', 'effexorvenlafaxine', 'efficacy', 'efficiency', 'efficient', 'efficienthigh', 'efficiently', 'effort', 'effortless', 'eft', 'eg', 'egg', 'eggshell', 'ego', 'egocentric', 'egoistic', 'egotistical', 'egypt', 'egyptian', 'eh', 'eight', 'eighth', 'eighty', 'einfach', 'either', 'ejaculate', 'ejected', 'ekg', 'ekgecho', 'el', 'ela', 'elaborate', 'elaboration', 'elbow', 'elder', 'elderly', 'eldest', 'elected', 'election', 'electirc', 'elective', 'electoral', 'electric', 'electrical', 'electrician', 'electricity', 'electricitytingling', 'electro', 'electrocardiogram', 'electrochemical', 'electroconvulsing', 'electrocute', 'electrocuted', 'electronic', 'electronics', 'electroshock', 'element', 'elemental', 'elementary', 'elephant', 'elevate', 'elevated', 'elevates', 'elevation', 'elevator', 'eleven', 'elicit', 'elicits', 'eligible', 'eliminate', 'eliminated', 'eliminates', 'eliminating', 'elli', 'ellie', 'else', 'elsewhere', 'elusive', 'elvis', 'eléctrical', 'em', 'email', 'emailed', 'emailing', 'emanating', 'embarassed', 'embarassing', 'embark', 'embarrases', 'embarrasing', 'embarrass', 'embarrassed', 'embarrassing', 'embarrassment', 'embedded', 'embody', 'embolism', 'embrace', 'embraced', 'embracing', 'emdr', 'emerge', 'emergencvitamin', 'emergency', 'emet', 'emetaphobia', 'emetephobia', 'emetophobia', 'emg', 'emission', 'emocional', 'emoji', 'emopoppunkscreamo', 'emotiobally', 'emotion', 'emotional', 'emotionally', 'emotionallyinvolved', 'emotionaluncapabledependant', 'emotionfeeling', 'emotionless', 'emotionsthe', 'empathetic', 'empathic', 'empathize', 'empathy', 'empezar', 'emphasised', 'emphasize', 'emphasized', 'empire', 'employability', 'employed', 'employee', 'employer', 'employment', 'empowered', 'empowering', 'empowerment', 'emptied', 'emptiness', 'empty', 'emptying', 'emptyness', 'emptysuicidal', 'emt', 'emts', 'emulate', 'en', 'enable', 'enablers', 'enables', 'enabling', 'enact', 'enamel', 'enclosed', 'encounter', 'encountered', 'encourage', 'encouraged', 'encouragement', 'encouragers', 'encouraging', 'end', 'endbeautiful', 'endd', 'endearing', 'endears', 'endeavor', 'ended', 'endgame', 'endi', 'ending', 'endless', 'endlessly', 'endometrioses', 'endometriosis', 'endopsychic', 'endorphin', 'endoscopy', 'endrant', 'endure', 'endured', 'enduring', 'enegry', 'enemy', 'energetic', 'energize', 'energized', 'energy', 'enforced', 'eng', 'engage', 'engaged', 'engagedbuying', 'engagement', 'engages', 'engaging', 'engineer', 'engineering', 'england', 'englisch', 'english', 'englishphysicschemistry', 'englishspeaking', 'englishspecial', 'engraved', 'engulfed', 'enhancement', 'enhances', 'enjoeyd', 'enjoy', 'enjoyable', 'enjoydo', 'enjoyeating', 'enjoyed', 'enjoying', 'enjoyment', 'enjoys', 'enjoysometimes', 'enlarged', 'enlargement', 'enlighten', 'enlightened', 'enlightenment', 'enlisted', 'enmeshed', 'enoch', 'enormous', 'enough', 'enoughbut', 'enoughhaving', 'enoughi', 'enoughlazy', 'enoughletting', 'enraged', 'enrichment', 'enroll', 'enrolled', 'enrolling', 'enrollment', 'ensemble', 'ensnared', 'ensues', 'ensure', 'ent', 'entail', 'entanglement', 'enter', 'entered', 'entering', 'enterpreneur', 'entertain', 'entertained', 'entertaining', 'entertainment', 'enthusiasm', 'enthusiastic', 'entices', 'entire', 'entirely', 'entirety', 'entitled', 'entitlement', 'entitles', 'entity', 'entrance', 'entrepreneur', 'entreprise', 'entretainmet', 'entropy', 'entrusted', 'entry', 'envelope', 'envied', 'envious', 'environment', 'environmental', 'environmentalism', 'environmenti', 'envision', 'envisioned', 'envoiemoi', 'envy', 'enzyme', 'eosinophil', 'ep', 'ephemeral', 'epic', 'epidemic', 'epilepsy', 'epileptic', 'episode', 'episoded', 'episodesheartracing', 'epitec', 'epitome', 'eprson', 'epsode', 'equal', 'equality', 'equally', 'equate', 'equated', 'equation', 'equilibrium', 'equipment', 'equipped', 'equivalent', 'er', 'era', 'eradicate', 'erand', 'erase', 'erased', 'erasmus', 'eratic', 'eraze', 'erectile', 'erection', 'erik', 'err', 'errand', 'erratic', 'erratically', 'error', 'erupt', 'escalate', 'escalated', 'escalating', 'escalation', 'escapade', 'escape', 'escaped', 'escapeit', 'escapethe', 'escaping', 'escapism', 'esci', 'escilatopram', 'escitalopram', 'escitaloprammg', 'escort', 'escorted', 'esle', 'eso', 'esophagus', 'esoteric', 'esp', 'especially', 'especialy', 'essay', 'essence', 'essential', 'essentially', 'est', 'establish', 'established', 'establishment', 'establisment', 'estate', 'esteem', 'esteemed', 'estimate', 'estimated', 'esto', 'estoy', 'estranged', 'estrogenampprogesterone', 'estupido', 'está', 'et', 'etc', 'etcalso', 'etcand', 'etcbut', 'etcdoes', 'etcit', 'etcthe', 'eternal', 'eternally', 'eternity', 'ether', 'ethic', 'ethical', 'ethnobotanical', 'etifoxin', 'etilaam', 'etiquette', 'etsy', 'etwas', 'eucalyptol', 'eugh', 'euphoria', 'euphoric', 'euro', 'europe', 'european', 'euthanasia', 'eva', 'evacuate', 'evacuated', 'eval', 'evaluated', 'evaluation', 'evaluationassessmenttest', 'evangelical', 'evangelion', 'evaporate', 'evaporating', 'evaporation', 'eve', 'evebn', 'eveeyone', 'evem', 'even', 'evening', 'eveningnight', 'eveningplus', 'evenkeel', 'evenly', 'evenning', 'event', 'eventful', 'eventhough', 'eventi', 'eventsituation', 'eventually', 'ever', 'everday', 'evergrowing', 'everithig', 'everlasting', 'everone', 'everquest', 'everthing', 'every', 'everybody', 'everybodys', 'everyday', 'everynight', 'everyone', 'everyones', 'everyonesi', 'everysingleday', 'everything', 'everythingi', 'everythings', 'everythjng', 'everytime', 'everyway', 'everywhere', 'evey', 'eveything', 'evicted', 'eviction', 'evidence', 'evidencereddit', 'evident', 'evil', 'evilangel', 'evilit', 'evince', 'eviroment', 'evoke', 'evoking', 'evolution', 'evolve', 'evolved', 'evolving', 'evry', 'evweryone', 'ew', 'ex', 'exacerbated', 'exacerbates', 'exacly', 'exact', 'exactand', 'exactky', 'exactly', 'exaggerate', 'exaggerated', 'exaggerating', 'exaggeration', 'exam', 'exames', 'examination', 'examine', 'examined', 'example', 'examsi', 'examsparents', 'exausted', 'exausting', 'exbest', 'exboyfriend', 'exceed', 'exceeded', 'exceedingly', 'excel', 'excelled', 'excellent', 'excelling', 'except', 'exception', 'exceptionally', 'excercises', 'excess', 'excessive', 'excessively', 'exchange', 'exchanged', 'exchanging', 'excised', 'excitable', 'excite', 'excited', 'excitedanxious', 'excitement', 'excites', 'exciting', 'exclude', 'excluded', 'excludes', 'excluding', 'exclusive', 'exclusively', 'exclusivity', 'excolleagues', 'excpecting', 'excruciating', 'excruciatingly', 'excuse', 'excused', 'excusing', 'execute', 'executive', 'exemplary', 'exempt', 'exent', 'exept', 'exercice', 'exercise', 'exercising', 'exfriend', 'exfriends', 'exgf', 'exgirlfriend', 'exhale', 'exhales', 'exhaling', 'exhaust', 'exhausted', 'exhausting', 'exhaustion', 'exhaustive', 'exhibit', 'exhibited', 'exhilarating', 'exist', 'existed', 'existence', 'existent', 'existential', 'existentialism', 'existentialistdepressing', 'existing', 'exists', 'exit', 'exited', 'exorcism', 'exorcist', 'exotic', 'expand', 'expands', 'expansion', 'expat', 'expect', 'expectancy', 'expectation', 'expectationsneeds', 'expected', 'expecting', 'expects', 'expedited', 'expel', 'expelled', 'expelling', 'expend', 'expense', 'expensive', 'expereinced', 'experience', 'experienceand', 'experienced', 'experiencesthanks', 'experiencing', 'experiencingplease', 'experiment', 'experimented', 'experimenting', 'experinced', 'expert', 'expertise', 'expiernces', 'expiration', 'expired', 'expiry', 'explain', 'explained', 'explaining', 'explains', 'explanation', 'explanatory', 'explenation', 'explicitly', 'explitive', 'explode', 'exploded', 'explodes', 'exploding', 'exploit', 'exploratory', 'explore', 'explorer', 'exploring', 'explose', 'explosion', 'explosive', 'expo', 'exponentially', 'expose', 'exposed', 'exposure', 'express', 'expressed', 'expressing', 'expression', 'expressive', 'expunging', 'extend', 'extended', 'extending', 'extends', 'extension', 'extensive', 'extent', 'exterior', 'exterminator', 'external', 'externalize', 'externally', 'extherapist', 'extinct', 'extra', 'extract', 'extraction', 'extracurricular', 'extracurriculars', 'extraordinary', 'extreme', 'extremely', 'extremity', 'extroverse', 'extrovert', 'extroverted', 'ey', 'eye', 'eyeball', 'eyebrow', 'eyecontact', 'eyelid', 'eyelidslegsarmschestback', 'eyelidsmy', 'eyesight', 'f', 'fable', 'fabric', 'fabricated', 'facade', 'face', 'facebook', 'faced', 'faceless', 'faceon', 'facepalms', 'facesmy', 'facetime', 'facetimed', 'facetoface', 'facewell', 'facial', 'facility', 'facing', 'facsimile', 'fact', 'factor', 'factory', 'fade', 'faded', 'fading', 'fail', 'failed', 'failing', 'fails', 'failthen', 'failure', 'failureanger', 'failurei', 'failureshameworthlessnessthe', 'faint', 'fainted', 'fainting', 'faintly', 'fair', 'faire', 'fairer', 'fairly', 'fairness', 'fairy', 'fairytale', 'fait', 'faith', 'faithful', 'fake', 'faked', 'faking', 'fall', 'fallacious', 'fallen', 'falling', 'fallopian', 'fallout', 'false', 'falsely', 'fam', 'fame', 'familiar', 'familiarity', 'familiy', 'famille', 'family', 'familyand', 'familybe', 'familyfocused', 'familyfriends', 'familygood', 'familyi', 'familykids', 'familylover', 'familyof', 'familyoriented', 'familyparents', 'familywas', 'famliy', 'famly', 'famous', 'famp', 'fan', 'fancy', 'fancying', 'fandom', 'fanfiction', 'fanif', 'fantasise', 'fantasised', 'fantasising', 'fantasize', 'fantasized', 'fantasizing', 'fantastic', 'fantastical', 'fantasy', 'fantasyimages', 'far', 'farce', 'fare', 'fared', 'farewell', 'farfetched', 'fari', 'farm', 'farmer', 'farmland', 'farrah', 'farright', 'fart', 'farther', 'farthest', 'farup', 'fascicualtions', 'fasciculation', 'fascinated', 'fascinating', 'fascist', 'fashion', 'fashionable', 'fashioned', 'fast', 'fastball', 'fasted', 'fastener', 'faster', 'fastfood', 'fasting', 'fastish', 'fastpaced', 'fat', 'fatal', 'fatality', 'fate', 'father', 'fathermother', 'fatherwill', 'fathom', 'fati', 'fatigue', 'fatigued', 'fatiqued', 'fatness', 'fatphobic', 'fatter', 'fattest', 'fatty', 'faucet', 'fauci', 'faulr', 'fault', 'faultim', 'faultsmistakes', 'faulty', 'fav', 'fave', 'favor', 'favorable', 'favored', 'favorite', 'favour', 'favourite', 'façade', 'fb', 'fck', 'fcked', 'fckin', 'fcking', 'fear', 'fearanxiety', 'feared', 'fearful', 'fearing', 'fearless', 'fearthoughts', 'feartrip', 'feasible', 'feasibly', 'feature', 'featured', 'feb', 'febmarch', 'february', 'feburary', 'fecal', 'fed', 'federal', 'federation', 'fedex', 'fee', 'feed', 'feedback', 'feedbacksuggestions', 'feeding', 'feeing', 'feel', 'feelcaged', 'feelgood', 'feelhear', 'feelihg', 'feeling', 'feelingit', 'feelingnauseous', 'feelingsthings', 'feelingthoughts', 'feelingthroat', 'feelsbadman', 'feelto', 'feelwellweak', 'feets', 'feign', 'feigned', 'feint', 'feisty', 'felix', 'fell', 'fella', 'felling', 'fellow', 'felony', 'felt', 'feltfeels', 'feltis', 'female', 'femaleand', 'feminine', 'femininity', 'femme', 'fence', 'fend', 'fentanyl', 'fentanylmorphine', 'feral', 'fermented', 'ferociousness', 'fesais', 'fester', 'festering', 'festival', 'fet', 'fetal', 'fetish', 'fetishism', 'feud', 'fever', 'feverish', 'fewer', 'ffp', 'ffs', 'ffucking', 'fiance', 'fiancee', 'fiancè', 'fiancé', 'fiancée', 'fiasco', 'fiber', 'fibre', 'fibro', 'fibromyalgia', 'fiction', 'fictional', 'fiddle', 'fiddly', 'fidget', 'fidgeting', 'fidgety', 'field', 'fieldindustry', 'fieldwork', 'fifteen', 'fifth', 'fight', 'fighting', 'fightorflight', 'figuratively', 'figure', 'figured', 'figuring', 'fil', 'file', 'filed', 'filing', 'filipino', 'fill', 'filled', 'filledtemporarily', 'filler', 'filling', 'filly', 'film', 'filmed', 'filmsgames', 'filter', 'filth', 'filthly', 'filthy', 'final', 'finalement', 'finality', 'finalized', 'finally', 'finalsannuals', 'finance', 'financial', 'financially', 'find', 'finding', 'fine', 'finebut', 'fined', 'fing', 'finger', 'fingered', 'fingernail', 'fingertip', 'finically', 'finickysensitive', 'finir', 'finish', 'finished', 'finishing', 'finite', 'fir', 'fire', 'firearm', 'fired', 'firework', 'firey', 'firing', 'firm', 'firmly', 'first', 'firstim', 'firstly', 'firsttime', 'fiscal', 'fish', 'fished', 'fishing', 'fishnet', 'fishy', 'fissure', 'fist', 'fit', 'fitbit', 'fitness', 'fitted', 'fitting', 'five', 'fix', 'fixable', 'fixate', 'fixated', 'fixates', 'fixating', 'fixation', 'fixed', 'fixer', 'fixing', 'fixreplace', 'fixé', 'fjeld', 'fk', 'fked', 'fking', 'fkingg', 'fkn', 'flag', 'flagged', 'flailing', 'flair', 'flaired', 'flake', 'flaking', 'flame', 'flamed', 'flap', 'flapping', 'flare', 'flared', 'flareup', 'flaring', 'flash', 'flashback', 'flashing', 'flashlight', 'flashy', 'flat', 'flatlands', 'flatmate', 'flattered', 'flatwhich', 'flavor', 'flavour', 'flavoured', 'flaw', 'flawed', 'flawless', 'flawlessly', 'flea', 'fleatick', 'fledged', 'flee', 'fleeing', 'fleeting', 'flesh', 'fleshlight', 'flew', 'flexibility', 'flexible', 'flexing', 'flick', 'flicked', 'flicker', 'flickering', 'flight', 'flighty', 'flinch', 'flinching', 'fling', 'flip', 'flipped', 'flippin', 'flipping', 'flirt', 'flirtation', 'flirted', 'flirting', 'flirty', 'float', 'floater', 'floating', 'floaty', 'flood', 'flooded', 'floor', 'flooring', 'flop', 'flopped', 'flopping', 'florence', 'florida', 'flossed', 'flossing', 'flourishing', 'flow', 'flowed', 'flower', 'flowing', 'flown', 'floyd', 'flu', 'fluanxol', 'flubbed', 'fluctuate', 'fluctuated', 'fluctuating', 'fludac', 'flue', 'fluent', 'fluently', 'fluid', 'fluke', 'flunk', 'fluoride', 'fluoxetine', 'fluoxetineprozac', 'flurry', 'flush', 'flushed', 'flustered', 'flutter', 'fluttering', 'flutteringjumping', 'flutterpound', 'flutterspalpitations', 'fluvoxamine', 'fly', 'flyer', 'flying', 'flyingactual', 'flyovera', 'fm', 'fml', 'fmla', 'fmlashortterm', 'fn', 'fng', 'fo', 'fobsessing', 'focus', 'focused', 'focusing', 'focussed', 'fodder', 'foe', 'foetus', 'fog', 'fogged', 'fogginess', 'foggy', 'fogot', 'fold', 'folk', 'follow', 'followed', 'follower', 'following', 'follows', 'followup', 'fomo', 'fon', 'fond', 'font', 'food', 'foodcaused', 'foodgroceries', 'foodmoviehobby', 'fool', 'fooled', 'fooling', 'foolish', 'foolishly', 'foolproof', 'foot', 'footage', 'football', 'footballer', 'footnote', 'footprint', 'footstep', 'forbid', 'forbidden', 'forbidding', 'force', 'forced', 'forcefeeding', 'forceful', 'forcefully', 'forcing', 'fore', 'forearm', 'foreboding', 'forefront', 'forego', 'forehead', 'foreign', 'foreigner', 'foremost', 'foresee', 'foreseeable', 'forest', 'forever', 'forewarning', 'forgave', 'forget', 'forgetful', 'forgetfulness', 'forgeting', 'forgets', 'forgettable', 'forgetting', 'forgive', 'forgiven', 'forgiveness', 'forgiving', 'forgivness', 'forgot', 'forgotten', 'forgottenwhy', 'forgotton', 'fori', 'foris', 'fork', 'form', 'formal', 'formally', 'format', 'formation', 'formative', 'formatting', 'formed', 'former', 'formerly', 'formhttpsyoutubetgabfvs', 'forming', 'formula', 'formulate', 'formulated', 'formulating', 'forsaken', 'fortean', 'forth', 'fortnight', 'fortnite', 'fortunate', 'fortunately', 'fortune', 'forum', 'forumhttpswwwredditcomroffmychestcommentsjfxqxqiwanttodoacareerchangebutimafraidthat', 'forward', 'forwardchange', 'foster', 'fot', 'fought', 'foul', 'found', 'foundation', 'founded', 'fountain', 'four', 'fourth', 'fourty', 'foward', 'fr', 'fraction', 'fragile', 'fragment', 'frail', 'frame', 'france', 'frank', 'frankl', 'frankly', 'frantic', 'frantically', 'française', 'frappe', 'fraternity', 'fraud', 'frazzled', 'freak', 'freaked', 'freakin', 'freaking', 'freakout', 'freakouts', 'freaky', 'free', 'freecheaper', 'freed', 'freedom', 'freeforall', 'freeing', 'freelance', 'freelancing', 'freeloading', 'freely', 'freetime', 'freeze', 'freezing', 'freight', 'freinds', 'french', 'frequency', 'frequent', 'frequently', 'fresh', 'freshen', 'fresher', 'freshly', 'freshman', 'fretting', 'friday', 'fridge', 'fried', 'friend', 'frienddaughter', 'friendex', 'friendhe', 'friendless', 'friendly', 'friendlyacquainted', 'friendlyish', 'friendrelative', 'friendsbut', 'friendsexperiences', 'friendsfamily', 'friendsgirlfriend', 'friendsgirls', 'friendsgo', 'friendship', 'friendsi', 'friendsmy', 'friendspartners', 'friendsthere', 'friendzoned', 'frigging', 'fright', 'frightend', 'frightened', 'frightening', 'frightens', 'frisby', 'fro', 'frodo', 'froends', 'frog', 'froglets', 'fron', 'front', 'frontal', 'frontinduced', 'frontline', 'frostbitten', 'frown', 'frowned', 'froze', 'frozen', 'frugal', 'frugalityanxiety', 'fruit', 'fruitful', 'fruition', 'fruitless', 'frumpy', 'frustrate', 'frustrated', 'frustrates', 'frustrating', 'frustration', 'fry', 'fryed', 'fsr', 'ft', 'fu', 'fuc', 'fuced', 'fucing', 'fucjing', 'fuck', 'fucked', 'fuckedwhile', 'fucken', 'fucker', 'fuckery', 'fuckes', 'fuckfuckfuckfuckfuckfuckfuckfuckfuckfuckfuckfuckfuckfuckfuckfuckfuckfuckfuckfuckfuckfuckfuckfuckfuckfuckfuckfuckfuckfuckfuckfuckfuckfuckfuckfuckfuckfuckfuckfuckfuckfuckfuckfuckfuckfuckfuckfuckfuckfuckfuckfuckfuckfuckfuckfuckfuckfuckfuckfuckfuckfuckfuckfuckfuckfuckfuckfuckfuckfuckfuckfuckfuckfuckfuckfuckfuckfuckfuckfuckfuckfuckfuckfuckfuckfuckfuckfuckfuckfuckfuckfuckfuckfuck', 'fuckimg', 'fuckin', 'fuckinf', 'fucking', 'fuckinng', 'fuckk', 'fuckkk', 'fuckme', 'fucko', 'fuckskk', 'fucktard', 'fuckton', 'fuckwad', 'fudge', 'fudged', 'fuel', 'fueled', 'fueling', 'fuelled', 'fuelling', 'fugue', 'fuing', 'fulfil', 'fulfill', 'fulfilled', 'fulfilling', 'fulfillment', 'fulfilment', 'full', 'fullblown', 'fuller', 'fullest', 'fullfills', 'fullon', 'fulltime', 'fullwell', 'fully', 'fullyonline', 'fumbling', 'fume', 'fuming', 'fun', 'function', 'functional', 'functionality', 'functioning', 'fund', 'fundamentally', 'funded', 'funding', 'funeral', 'funit', 'funk', 'funnest', 'funniest', 'funnily', 'funny', 'funnyvicious', 'furious', 'furioussince', 'furloughed', 'furnace', 'furniture', 'furry', 'fursuit', 'furthermore', 'furthers', 'furthest', 'fury', 'fused', 'fuss', 'fussing', 'futher', 'futile', 'futility', 'futur', 'future', 'futurebut', 'futurei', 'fuuck', 'fuuuuuk', 'fuuuuuuuuuuuuuuuuuuuuuuuuuuuuuuuuuuuuuuuuuuuuuuuuuuuuuuuuuuuuuuuuuuuuuuuuuuuuuuuuuuuuuuuuuuuuuuuuuuuuuuuuuuuuuuuuuuuuuuuuuuuuuuuuuuuuuuuuuuuuuuuuuuuuuuuuuuuuuuuuuuuuuuuuuuuuuuuuuuuuuuuuuuuuuuuuuuuuuuuuuuuuuuuuuuuuuuuuuuuuuuuuuuuuuuuuuuuuuuuuuuuuuuuuuuuuuuuuuuuuuuuuuuuuuuuuuuuuuuuuuuuuuuuuuuuuuuuuuuuuuuuuuuuuuuuuuuuuuuuuuuuuck', 'fuxk', 'fuxking', 'fuzzy', 'fvjcjfjfvkvkvk', 'fwiw', 'fyi', 'fyp', 'g', 'ga', 'gabapentin', 'gabapenton', 'gad', 'gadpanic', 'gag', 'gagdry', 'gagging', 'gah', 'gain', 'gained', 'gaining', 'gait', 'gal', 'galactic', 'gallery', 'gallon', 'gamble', 'gambling', 'game', 'gamecube', 'gamed', 'gameplan', 'gamer', 'gamers', 'gameshang', 'gamesmusic', 'gamespiano', 'gamessleep', 'gamestop', 'gaming', 'gamma', 'gang', 'gangster', 'ganna', 'gap', 'garage', 'garanti', 'garb', 'garbage', 'garbled', 'garden', 'gardening', 'gargantuan', 'garlic', 'garnished', 'gas', 'gasleak', 'gaslight', 'gaslighting', 'gaslit', 'gasoline', 'gasp', 'gasping', 'gasstations', 'gastric', 'gastritis', 'gastro', 'gastroscopy', 'gate', 'gather', 'gathered', 'gatherer', 'gathering', 'gato', 'gauge', 'gaunt', 'gave', 'gavisconi', 'gawd', 'gay', 'gayyy', 'gaze', 'gb', 'gc', 'gcse', 'ge', 'gear', 'ged', 'geeksquad', 'geeky', 'gel', 'gem', 'gender', 'gene', 'general', 'generalised', 'generalized', 'generally', 'generalsocial', 'generaly', 'generar', 'generate', 'generates', 'generating', 'generation', 'generator', 'generic', 'generous', 'genervt', 'genesite', 'genetic', 'genetically', 'genetics', 'geninely', 'genital', 'genitals', 'genitic', 'geniunely', 'genius', 'gennerally', 'genre', 'gentle', 'gentleman', 'gently', 'genuine', 'genuinely', 'geodon', 'george', 'georgeous', 'georgia', 'gerd', 'gerdreflux', 'germ', 'german', 'germanic', 'germany', 'germaphobe', 'germaphobic', 'gestalt', 'gesture', 'get', 'getaway', 'getiing', 'geting', 'getter', 'getthen', 'gettin', 'gettinf', 'getting', 'gettogether', 'gf', 'gfbf', 'gfs', 'ghen', 'ghost', 'ghosted', 'ghosting', 'gi', 'giant', 'gibberish', 'gice', 'gift', 'gifted', 'gig', 'gigantic', 'giggle', 'giggleaddrenaline', 'gilloteened', 'gimme', 'ginger', 'girating', 'girl', 'girlfriend', 'girlfriendfriend', 'girlfriendmother', 'girlsex', 'girlsfriends', 'girlsorry', 'girlswomen', 'girly', 'gist', 'give', 'gived', 'given', 'giving', 'glad', 'gladly', 'glamour', 'glamourised', 'glance', 'glanced', 'glancing', 'glaring', 'glass', 'glaucoma', 'glazed', 'glider', 'glimpse', 'global', 'globe', 'globus', 'gloom', 'gloomy', 'glorified', 'glorify', 'glove', 'glow', 'glowup', 'glued', 'glum', 'glute', 'gluten', 'glycinate', 'glycol', 'gmail', 'gmails', 'gnarled', 'gnarly', 'go', 'goal', 'goalessly', 'goalless', 'goalsetter', 'goalseven', 'goalsplans', 'goat', 'gobble', 'gobbledygook', 'god', 'godcomplexes', 'goddamn', 'goddamned', 'goddddddddd', 'godforsaken', 'godgoddess', 'godi', 'godspeed', 'godwhen', 'gofundme', 'goggles', 'gogo', 'goi', 'goimg', 'going', 'goinghe', 'gold', 'golden', 'goldendoodle', 'goldfish', 'golf', 'golly', 'gona', 'gone', 'goner', 'gonn', 'gonna', 'good', 'goodand', 'goodbad', 'goodbye', 'goodexcept', 'goodlooking', 'goodness', 'goodnight', 'goodnormal', 'goodpaying', 'goodthey', 'gooduseful', 'goodwill', 'goof', 'goofed', 'goofing', 'goofy', 'googkes', 'google', 'googled', 'googling', 'goony', 'gooo', 'goose', 'gop', 'gore', 'gorgeous', 'gosh', 'goso', 'gossip', 'gossiped', 'gossiping', 'gossipy', 'got', 'gothe', 'goto', 'gotta', 'gotten', 'gotu', 'gouge', 'government', 'governor', 'gowhich', 'gp', 'gpa', 'gps', 'grab', 'grabbed', 'grabbing', 'grace', 'graciously', 'grad', 'grade', 'graded', 'gradei', 'grader', 'grading', 'gradual', 'gradually', 'graduate', 'graduated', 'graduating', 'graduation', 'grain', 'grainy', 'gram', 'grammar', 'grammarspelling', 'grammatical', 'grammie', 'grammies', 'grampa', 'gramps', 'gran', 'grand', 'grandad', 'grandeur', 'grandfather', 'grandkids', 'grandma', 'grandmamy', 'grandmayour', 'grandmother', 'grandpa', 'grandparent', 'grandpawe', 'grandson', 'granma', 'grant', 'granted', 'graph', 'graphic', 'grappling', 'grasp', 'grasping', 'grass', 'grateful', 'gratification', 'gratitude', 'grave', 'gravel', 'gravely', 'graver', 'graveyard', 'gravitate', 'gravitating', 'gray', 'great', 'greater', 'greatest', 'greatgo', 'greatgrandfather', 'greatgrandmother', 'greatly', 'greatness', 'greed', 'greedy', 'greek', 'green', 'greet', 'greeted', 'greeting', 'greets', 'greg', 'gregarious', 'grew', 'grey', 'greyness', 'grief', 'grieve', 'grieved', 'grieving', 'grill', 'grim', 'grimy', 'grin', 'grind', 'grinded', 'grinding', 'grindr', 'grinning', 'grip', 'gripped', 'gritting', 'gritty', 'groan', 'grocery', 'groggily', 'groggy', 'grogy', 'groin', 'groinlt', 'groom', 'groomed', 'grooming', 'groomsman', 'groove', 'gross', 'grossed', 'grossly', 'ground', 'grounded', 'groundhog', 'grounding', 'groundskeeper', 'group', 'groupchat', 'groupchats', 'groupmate', 'groupmates', 'grouppeople', 'grow', 'growing', 'growl', 'grown', 'grows', 'growth', 'grudge', 'gruesome', 'grumbling', 'grumpy', 'gt', 'gtend', 'gtfeel', 'gtfoh', 'gtfollicular', 'gtgtgtgtgt', 'gtim', 'gtthe', 'gttrue', 'gtyou', 'guarantee', 'guaranteed', 'guard', 'guardian', 'guarding', 'guese', 'guess', 'guessed', 'guessing', 'guesswhich', 'guest', 'guesti', 'guhhhh', 'guidance', 'guidanceopinions', 'guide', 'guided', 'guild', 'guilt', 'guilted', 'guilting', 'guiltshame', 'guiltsorrow', 'guilttrip', 'guilty', 'guiltyweird', 'guinea', 'guise', 'guitar', 'gulag', 'gullible', 'gully', 'gum', 'gumball', 'gummies', 'gun', 'gunna', 'gunshot', 'gurgling', 'guru', 'gushing', 'gut', 'gutted', 'gutter', 'gutwrenching', 'guy', 'guysgirls', 'guysplease', 'gwa', 'gym', 'gymnastics', 'gynecologist', 'gynecomastia', 'h', 'ha', 'haapppeennneedd', 'habbit', 'habit', 'habitable', 'habitually', 'hablo', 'habt', 'hack', 'hacked', 'hacker', 'hadas', 'hadfinally', 'hadhas', 'hadnt', 'hadotherwise', 'hafve', 'haggard', 'hah', 'haha', 'hahaha', 'hahahah', 'hahahaha', 'hahow', 'hailed', 'hair', 'hairconstantly', 'haircut', 'hairdresser', 'hairline', 'hairstylist', 'haldol', 'half', 'halfassed', 'halfdissociated', 'halfhearted', 'halfheight', 'halfin', 'halflife', 'halfpast', 'halfsiblings', 'halfwaiting', 'halfway', 'hall', 'hallucinating', 'hallucination', 'hallucinationsparanoia', 'hallucinogenic', 'hallway', 'haloperidol', 'halt', 'halten', 'halter', 'halving', 'hammer', 'hammering', 'hammicking', 'hammock', 'hamper', 'hampered', 'hampering', 'hand', 'handbook', 'handed', 'handeling', 'handful', 'handicapped', 'handing', 'handinhand', 'handle', 'handled', 'handlei', 'handling', 'handmade', 'handmedowns', 'handrailbanister', 'handsome', 'handwashing', 'handwritten', 'handy', 'hang', 'hanged', 'hanging', 'hangout', 'hangover', 'hangups', 'hangxiety', 'hank', 'hanna', 'hanover', 'haphazardly', 'hapiness', 'happen', 'happend', 'happened', 'happenedi', 'happening', 'happeningan', 'happeninglife', 'happeningthey', 'happeningwhy', 'happens', 'happenslike', 'happier', 'happiest', 'happily', 'happines', 'happiness', 'happinesshealthiness', 'happinnes', 'happnens', 'happy', 'happyenergetic', 'happyneutral', 'happyokay', 'harass', 'harassed', 'harassing', 'harassment', 'harbor', 'hard', 'hardcore', 'hardcover', 'harder', 'hardercomment', 'hardest', 'hardheaded', 'hardly', 'hardlyi', 'hards', 'hardship', 'hardware', 'hardwork', 'hardworking', 'hardworktoday', 'harm', 'harmed', 'harmer', 'harmful', 'harmfulnot', 'harming', 'harmless', 'harp', 'harping', 'harrasment', 'harry', 'harsh', 'harshly', 'hashad', 'hashimotos', 'hashtag', 'hasnt', 'hasselhoff', 'hassle', 'hat', 'hatch', 'hate', 'hated', 'hateful', 'hatei', 'hating', 'hatred', 'haul', 'hauler', 'haunt', 'haunted', 'haunting', 'hav', 'havais', 'havehad', 'haveknowingly', 'havemt', 'havent', 'haver', 'havewant', 'havin', 'havmoney', 'havnt', 'havoc', 'hawaii', 'hay', 'haywire', 'hazard', 'hazardous', 'haze', 'hazel', 'hazy', 'hazyminded', 'he', 'head', 'headache', 'headachemigraine', 'headand', 'headeache', 'headeachs', 'headed', 'headedness', 'headfirst', 'headi', 'heading', 'headit', 'headline', 'headlong', 'headmistress', 'headneck', 'headon', 'headonly', 'headphone', 'headscalp', 'headset', 'headspace', 'headspin', 'headstart', 'heal', 'healed', 'healing', 'heals', 'healt', 'health', 'healthcare', 'healthdiseases', 'healthi', 'healthier', 'healthiest', 'healthily', 'healthmental', 'healthpersonal', 'healthrelated', 'healthwise', 'healthy', 'healty', 'hear', 'heard', 'hearing', 'hearinglost', 'hears', 'heart', 'heartache', 'heartattack', 'heartbbeats', 'heartbeat', 'heartbreak', 'heartbreaking', 'heartbroke', 'heartbroken', 'heartburn', 'heartburngerd', 'hearted', 'hearth', 'heartless', 'heartlessly', 'heartrate', 'heartworm', 'heas', 'heat', 'heated', 'heater', 'heath', 'heather', 'heathy', 'heating', 'heatlike', 'heave', 'heaven', 'heavier', 'heavily', 'heaviness', 'heaving', 'heavy', 'heavybreathing', 'heavytight', 'heavyweight', 'hecho', 'heck', 'hectic', 'hed', 'hedonist', 'hedonistic', 'heel', 'hehe', 'height', 'heighten', 'heightened', 'heightening', 'heightweight', 'held', 'helding', 'helen', 'helicoptering', 'helium', 'hell', 'hella', 'hellalso', 'hellhole', 'hellish', 'helllll', 'hello', 'hellofirst', 'hellooooooooo', 'hellscape', 'help', 'helpadvice', 'helpcure', 'helpdesk', 'helped', 'helper', 'helpful', 'helpi', 'helpif', 'helpik', 'helping', 'helpless', 'helplessness', 'helpline', 'helplines', 'helpp', 'helpplease', 'helpppi', 'helpsi', 'helpstop', 'helpsupport', 'hematocrit', 'hematologist', 'hemiplegy', 'hemoglobin', 'hemorrhoid', 'hence', 'henceforth', 'hep', 'hepatitis', 'herand', 'herb', 'herbal', 'herbalist', 'herculean', 'herd', 'here', 'hereditary', 'heregid', 'herewe', 'herhimthey', 'herhis', 'hermann', 'hermit', 'hernia', 'hero', 'heroin', 'heroinmorphine', 'herpes', 'herring', 'hershe', 'heshe', 'hesitancy', 'hesitant', 'hesitate', 'hesitated', 'hesitating', 'hesitation', 'hesse', 'het', 'hetero', 'heve', 'hey', 'heyy', 'hgoing', 'hhh', 'hi', 'hiatal', 'hiccup', 'hid', 'hidden', 'hide', 'hideous', 'hiding', 'high', 'higher', 'highest', 'highfunctioning', 'highlight', 'highlighting', 'highly', 'highpitched', 'highschool', 'highstakes', 'highway', 'hiii', 'hike', 'hiked', 'hiking', 'hilarious', 'hilary', 'hill', 'himhelp', 'himher', 'himlike', 'hinder', 'hinderance', 'hindered', 'hindering', 'hinders', 'hindrance', 'hindsight', 'hinge', 'hint', 'hinted', 'hip', 'hire', 'hired', 'hiring', 'hisher', 'hiss', 'historical', 'historically', 'history', 'hit', 'hitch', 'hitler', 'hitted', 'hitting', 'hittingscratching', 'hiv', 'hive', 'hm', 'hmm', 'hmmm', 'hn', 'hoarder', 'hoarding', 'hoarse', 'hobbie', 'hobbiescareerrelationships', 'hobbiesi', 'hobbled', 'hobby', 'hockey', 'hoe', 'hoenstly', 'hold', 'holding', 'hole', 'holed', 'holiday', 'holidayweekend', 'holidys', 'holistic', 'holistically', 'holland', 'holler', 'hollow', 'hollowed', 'hollowedout', 'holloween', 'hollowness', 'hollowtight', 'holter', 'holters', 'holy', 'holydays', 'home', 'homebody', 'homecooked', 'homeland', 'homeless', 'homelessness', 'homemade', 'homemy', 'homeopathy', 'homeplaces', 'homeschooled', 'homeschooling', 'homesick', 'homestead', 'hometown', 'homewith', 'homework', 'homicide', 'homogenised', 'homophobia', 'homophobic', 'homophone', 'homosapien', 'homosexual', 'honed', 'honesly', 'honest', 'honestly', 'honestlybut', 'honesty', 'honey', 'honked', 'honnestly', 'honor', 'honorary', 'honored', 'hood', 'hoodie', 'hoodies', 'hoody', 'hook', 'hooked', 'hooker', 'hooking', 'hookup', 'hool', 'hoop', 'hooray', 'hoovering', 'hope', 'hoped', 'hopeful', 'hopefully', 'hopeless', 'hopelessanxiousfeeling', 'hopelessly', 'hopelessness', 'hopethats', 'hoping', 'hopless', 'hopped', 'hopping', 'horizon', 'hormonal', 'hormone', 'horny', 'horrendous', 'horrendously', 'horrible', 'horribleness', 'horribly', 'horrid', 'horrific', 'horrified', 'horrifies', 'horrifying', 'horrofying', 'horror', 'horse', 'horseman', 'hose', 'hospital', 'hospitalised', 'hospitalization', 'hospitalized', 'host', 'hostage', 'hosted', 'hostel', 'hostile', 'hosting', 'hot', 'hotel', 'hotelling', 'hotelsany', 'hotline', 'hotlines', 'hottest', 'hotwheels', 'hounded', 'hour', 'houri', 'hourly', 'hoursthats', 'house', 'housebound', 'housedo', 'housedrawingtaking', 'household', 'housei', 'housejob', 'housekeeping', 'housemate', 'housemy', 'housesitting', 'housestill', 'housewife', 'housework', 'housing', 'hovered', 'hovering', 'howard', 'howd', 'howdy', 'however', 'hows', 'hp', 'hpv', 'hr', 'hrm', 'hrt', 'hsppened', 'hsy', 'html', 'httpimgurcomamympkpn', 'httpsaskjanorgdisabilitiesanxietydisordercfmhttpsaskjanorgdisabilitiesanxietydisordercfm', 'httpsaskjanorgdisabilitiesdepressioncfmhttpsaskjanorgdisabilitiesdepressioncfm', 'httpschooseworkssagovbloghowtheamericanswithdisabilitiesactadaprotectspeoplewithmentalillnesshttpschooseworkssagovbloghowtheamericanswithdisabilitiesactadaprotectspeoplewithmentalillness', 'httpsiimgurcomjillbjpg', 'httpsiimgurcomuknopnghttpsiimgurcomuknopng', 'httpsimgurcomltyxqh', 'httpsmushiemadnesscomhttpsmushiemadnesscom', 'httpsnpredditcomrprofessorscommentsrpemhmentalhealthhasgonementalhttpsnpredditcomrprofessorscommentsrpemhmentalhealthhasgonemental', 'httpsopenspotifycomepisodeimxnnuwrlpcpngdthnsidtaftjsctwiujbvucpjlbgampcontextspotifyashowaiqxmutxguzszamjonwlx', 'httpsopenspotifycomplaylistbmmzvkukxcwcumzoklsioupajxfttcurnkeeuong', 'httpsopenspotifycomplaylisthibxmrrinulodijtrrhsicguoyttfqsnexudptg', 'httpsopenspotifycomplaylistltjxqpyxmmukjmcjcsidehttpsopenspotifycomplaylistltjxqpyxmmukjmcjcside', 'httpsopenspotifycomplaylistqgrbeeqzkibwvjsinpgzitxttqdpzhkqnw', 'httpsormypeoplecomflavayearofcovidlifetakeawayshttpsormypeoplecomflavayearofcovidlifetakeaways', 'httpspodcastsapplecomuspodcastemotionalducttapeidhttpspodcastsapplecomuspodcastemotionalducttapeid', 'httpssoundcloudcompanicattackingpodcastepisodepanickingabouttroublesleepingandsailing', 'httpsstreamablecomxnfmhttpsstreamablecomxnfm', 'httpssurveytimeappblackfriday', 'httpswwwapaorgpidisabilitydartlegaladabasicshttpswwwapaorgpidisabilitydartlegaladabasics', 'httpswwwcalmcliniccomanxietyguidesymptoms', 'httpswwwedgovaboutofficeslistocrdocshowtohtmlhttpswwwedgovaboutofficeslistocrdocshowtohtml', 'httpswwwedgovaboutofficeslistocrdocshqhtmlhttpswwwedgovaboutofficeslistocrdocshqhtml', 'httpswwwforbescomsitesjimwangperpersonandperchildmonthlyeconomiccrisissupportactwouldsendpaymentstooverofamericansccddfhttpswwwforbescomsitesjimwangperpersonandperchildmonthlyeconomiccrisissupportactwouldsendpaymentstooverofamericansccddf', 'httpswwwgofundmecomfgynmdutmsourcecustomeramputmmediumcopylinkamputmcampaignpcfshareflow', 'httpswwwinsidehigheredcomadviceinstructorexplainswhyshetellsherstudentsshestrugglesanxietyandhttpswwwinsidehigheredcomadviceinstructorexplainswhyshetellsherstudentsshestrugglesanxietyand', 'httpswwwinstagramcompcnxyykpzsqigshiddmrgymwvf', 'httpswwwmotivmetheincredibletransformationalpowerofgratitudehttpswwwmotivmetheincredibletransformationalpowerofgratitude', 'httpswwwnamiorgblogsnamiblogoctoberdiscriminationinacademiahttpswwwnamiorgblogsnamiblogoctoberdiscriminationinacademia', 'httpswwwpsychologytodaycomusbloglessstressmorepeaceevidencebasedstressbustingtipscrazytimeshttpswwwpsychologytodaycomusbloglessstressmorepeaceevidencebasedstressbustingtipscrazytimes', 'httpswwwredditcomranxietycommentsjptvmyboyfriendtreatedmeshittytoday', 'httpswwwredditcomrsuicidewatchcommentsjpuofpleasehelpmeoutwiththisshouldiornot', 'httpswwwredditcomrthelastofuscommentshfcqglookguysmymomgotmealittleellieplushwhenutmmediumandroidappamputmsourceshare', 'httpswwwsciencedirectcomsciencearticleabspiishttpswwwsciencedirectcomsciencearticleabspiis', 'httpswwwtranquilityapphttpswwwtranquilityapp', 'httpswwwyoutubecomwatchvaaavigsuwtihttpswwwyoutubecomwatchvaaavigsuwti', 'httpswwwyoutubecomwatchvniuamswampts', 'httpswwwyoutubecomwatchvnwsrbvmfdqhttpswwwyoutubecomwatchvnwsrbvmfdq', 'httpswwwyoutubecomwatchvspgjxwrwkdhttpswwwyoutubecomwatchvspgjxwrwkd', 'httpswwwyoutubecomwatchvtvkwyvyamplistrdlvdmzannjdxampstartradioamprvdmzannjdxampabchannelwillsmithhttpswwwyoutubecomwatchvtvkwyvyamplistrdlvdmzannjdxampstartradioamprvdmzannjdxampabchannelwillsmith', 'httpsyoutubebejazmnokhttpsyoutubebejazmnok', 'httpsyoutubebjqvtakmb', 'httpsyoutubechkmlls', 'httpsyoutubechuhefrac', 'httpsyoutubefbgpzricahttpsyoutubefbgpzrica', 'httpsyoutubeivjjqsfjimw', 'httpsyoutubeixxylitnc', 'httpsyoutubejrlvghejtw', 'httpsyoutubejstszsw', 'httpsyoutubeluqsquchtci', 'httpsyoutubeqaoncfugwg', 'httpsyoutubevlpgztbrqtk', 'httpsyoutubexkmamoyvihttpsyoutubexkmamoyvi', 'hub', 'hubris', 'huddle', 'huff', 'hug', 'huge', 'hugely', 'hugged', 'hugging', 'hugh', 'hugsupport', 'huh', 'huhu', 'hum', 'humaine', 'human', 'humanity', 'humankind', 'humble', 'humidifier', 'humidity', 'humiliate', 'humiliated', 'humiliating', 'humiliation', 'humming', 'humor', 'humorous', 'humour', 'hump', 'hunch', 'hundred', 'hung', 'hungary', 'hunger', 'hungover', 'hungry', 'hunt', 'hunter', 'hunting', 'huntingcurrent', 'hurdle', 'hurl', 'hurled', 'hurricane', 'hurried', 'hurry', 'hurryupandwait', 'hurt', 'hurtful', 'hurting', 'hurtkill', 'hurtling', 'hurtloving', 'hurtsmy', 'husband', 'husk', 'hv', 'hvac', 'hw', 'hweek', 'hyde', 'hydration', 'hydros', 'hydroxizine', 'hydroxyzene', 'hydroxyzind', 'hydroxyzine', 'hydroxyzyne', 'hygiene', 'hygienic', 'hygienist', 'hygine', 'hype', 'hyped', 'hyper', 'hyperactive', 'hyperactively', 'hyperactivity', 'hyperaware', 'hyperawareness', 'hyperbolic', 'hypercapnia', 'hyperfixated', 'hyperfixation', 'hyperfocus', 'hyperfocusing', 'hypermind', 'hypersensitive', 'hypersensitivity', 'hypersomnia', 'hyperthyroidism', 'hyperventilate', 'hyperventilated', 'hyperventilating', 'hyperventilation', 'hypervigilant', 'hyping', 'hypnosis', 'hypnotherapists', 'hypochondria', 'hypochondriac', 'hypochondriacal', 'hypochondriaci', 'hypocondria', 'hypocrisy', 'hypocrite', 'hypocritical', 'hypomania', 'hypomanic', 'hypotehtical', 'hypotension', 'hypothesis', 'hypothesise', 'hypothetical', 'hypothetically', 'hypothyroidism', 'hysterectomy', 'hysteric', 'hysterical', 'hysterically', 'ia', 'iaddiction', 'iapt', 'ib', 'ibm', 'ibs', 'ibuprofen', 'ibwas', 'ice', 'icebreaker', 'icecream', 'iced', 'ich', 'ici', 'icing', 'icky', 'icon', 'icouldnt', 'icu', 'icy', 'icyhot', 'id', 'idc', 'idea', 'ideal', 'idealism', 'idealistic', 'idealize', 'idealized', 'ideally', 'ideation', 'ideia', 'idek', 'identical', 'identification', 'identified', 'identify', 'identifying', 'identity', 'ideology', 'idfk', 'idia', 'idiosyncrasy', 'idiot', 'idiotic', 'idiotically', 'idiotyou', 'idk', 'idki', 'idky', 'idle', 'idol', 'idontwanttogoooooo', 'idrk', 'ie', 'ielts', 'iep', 'ife', 'ifeel', 'iffy', 'ifing', 'ifs', 'ifwhen', 'ig', 'igaf', 'iggigmigg', 'ignition', 'ignor', 'ignorance', 'ignorant', 'ignore', 'ignored', 'ignores', 'ignoresuppress', 'ignoring', 'iguana', 'ihate', 'ihr', 'ii', 'ik', 'ikr', 'il', 'ill', 'illegal', 'illicit', 'illinois', 'illiterate', 'illnes', 'illness', 'illnessesthis', 'illnessneurodivergence', 'illnesssuffering', 'illogical', 'illusion', 'illusioned', 'illustrate', 'illustrated', 'ilness', 'ilnesses', 'im', 'ima', 'image', 'imagery', 'imagesthoughts', 'imaginable', 'imaginary', 'imagination', 'imaginative', 'imagine', 'imagined', 'imaging', 'imagining', 'imago', 'imbalance', 'imbalanced', 'imbecile', 'imbue', 'imight', 'imipramine', 'imm', 'imma', 'immaculate', 'immaterial', 'immature', 'immeasurable', 'immediacy', 'immediate', 'immediately', 'immedtialy', 'immense', 'immensely', 'immerse', 'immersed', 'immigrant', 'immigrate', 'immigrated', 'imminent', 'immobile', 'immoral', 'immortal', 'immune', 'immunity', 'immunocompromised', 'imo', 'impact', 'impacted', 'impacting', 'impaired', 'impart', 'impatient', 'impedes', 'impending', 'impenetrable', 'imperative', 'imperfectance', 'imperfection', 'imperial', 'impersonal', 'implant', 'implement', 'implementing', 'implication', 'implied', 'implies', 'implode', 'imploding', 'implore', 'implying', 'impolite', 'importance', 'important', 'importantly', 'imported', 'impose', 'imposed', 'imposing', 'impossibility', 'impossible', 'impossibletodislodge', 'impossibly', 'imposter', 'impostor', 'impractical', 'impredictibles', 'impress', 'impressed', 'impressing', 'impression', 'impressionsx', 'imprisoned', 'imprisonment', 'improbable', 'improper', 'improve', 'improved', 'improvement', 'improves', 'improving', 'improvise', 'impulse', 'impulsive', 'impulsively', 'impulsivity', 'impurity', 'imy', 'in', 'inability', 'inaccessible', 'inactive', 'inactivity', 'inadequacy', 'inadequate', 'inadvertently', 'inanimate', 'inanity', 'inapplicable', 'inappropite', 'inappropriate', 'inaudibly', 'inauthenticity', 'inbetween', 'inbox', 'inc', 'incalcuable', 'incapable', 'incapacitated', 'incapacity', 'incarcerated', 'incarnate', 'incarnation', 'incase', 'incel', 'incentivized', 'incessant', 'incest', 'inch', 'inching', 'incidence', 'incident', 'incision', 'inclination', 'inclined', 'include', 'included', 'includes', 'including', 'incoherence', 'incoherent', 'income', 'incoming', 'incompatibility', 'incompatible', 'incompetence', 'incompetent', 'incomplete', 'inconceivable', 'inconsequential', 'inconsiderate', 'inconsistency', 'inconsistent', 'inconsolable', 'inconvenience', 'inconvenienced', 'inconvenientany', 'incorporate', 'incorporates', 'incorrect', 'increase', 'increased', 'increasing', 'increasingly', 'incredible', 'incredibly', 'incredulous', 'increment', 'incremental', 'incrementally', 'incurable', 'indecision', 'indecisive', 'indeed', 'indefinitely', 'independant', 'independence', 'independent', 'independently', 'indepth', 'inderal', 'indescribable', 'index', 'india', 'indian', 'indicate', 'indicated', 'indicates', 'indicating', 'indication', 'indicative', 'indicator', 'indifference', 'indifferent', 'indigestion', 'indipendent', 'indirect', 'indirectly', 'indiscernible', 'individual', 'individuality', 'indomnia', 'indonesia', 'indoor', 'indoors', 'induce', 'induced', 'induces', 'inducing', 'induction', 'indulge', 'indulgent', 'indulging', 'indus', 'industry', 'industryits', 'ineed', 'ineffective', 'ineffectual', 'inefficiency', 'ineligible', 'inequality', 'inescapable', 'inevitability', 'inevitable', 'inevitably', 'inexcusable', 'inexperience', 'inexplicable', 'infact', 'infamously', 'infant', 'infatuated', 'infatuation', 'infected', 'infection', 'infectious', 'inferior', 'inferiority', 'infestation', 'infested', 'infidelity', 'infinite', 'infinitely', 'infinity', 'inflamed', 'inflammation', 'inflammatory', 'inflate', 'inflated', 'inflation', 'inflection', 'inflict', 'inflicted', 'inflicting', 'influence', 'influenced', 'influencing', 'info', 'inform', 'informal', 'information', 'informed', 'informing', 'informs', 'infront', 'infuriated', 'infuriates', 'infuriating', 'infusion', 'ing', 'ingested', 'ingrate', 'ingratiate', 'ingredient', 'ingrown', 'inhale', 'inhaled', 'inhaler', 'inhales', 'inhaling', 'inherently', 'inheritance', 'inherited', 'inhibited', 'inhibiting', 'inhibition', 'inhibitor', 'inhibits', 'inhuman', 'inimical', 'initally', 'initial', 'initially', 'initiate', 'initiated', 'initiating', 'initiative', 'inject', 'injected', 'injecting', 'injured', 'injury', 'injustice', 'ink', 'inkling', 'inlaw', 'inlaws', 'inlove', 'inlovecrushing', 'inmate', 'inmature', 'inmediatly', 'innapropriate', 'innate', 'inner', 'innerworkings', 'innetwork', 'innocence', 'innocent', 'innocuous', 'innumerable', 'inoperable', 'inpatient', 'inperson', 'input', 'inputexperiences', 'inquiry', 'insane', 'insanely', 'insanity', 'insect', 'insecure', 'insecurity', 'inseguridad', 'inseguridades', 'insensible', 'insensitive', 'insert', 'inserted', 'inserting', 'inside', 'insidei', 'insidena', 'insight', 'insignificance', 'insignificant', 'insinuating', 'insise', 'insist', 'insisted', 'insistent', 'insists', 'insomnia', 'inspecting', 'inspector', 'inspiration', 'inspirational', 'inspire', 'inspired', 'inspiredmotivated', 'inspires', 'inspiring', 'insta', 'instability', 'instacart', 'instagram', 'instagramtwitter', 'install', 'installed', 'installing', 'instance', 'instant', 'instantenous', 'instantly', 'instead', 'instep', 'instigated', 'instilled', 'instinct', 'instinctively', 'instinctslike', 'instinctual', 'institute', 'institution', 'institutionalised', 'institutioncame', 'instructed', 'instruction', 'instructor', 'instructs', 'instrument', 'instrumental', 'instrusive', 'insufferable', 'insufficiency', 'insufficient', 'insult', 'insulted', 'insulting', 'insurance', 'insured', 'insurmountable', 'insuting', 'intact', 'intake', 'intaking', 'integral', 'integrating', 'integration', 'integrative', 'integrity', 'intellect', 'intellecti', 'intellectual', 'intellectualization', 'intellectually', 'intellegience', 'intelligence', 'intelligent', 'intelligibly', 'intend', 'intended', 'intending', 'intense', 'intensely', 'intensified', 'intensifiedi', 'intensifies', 'intensifying', 'intensity', 'intensive', 'intentando', 'intention', 'intentional', 'intentionally', 'interact', 'interacted', 'interacting', 'interaction', 'interactivity', 'interacts', 'intercourse', 'interest', 'interested', 'interestedhttpsimgurcombgrjlwf', 'interesting', 'interestingly', 'interestleaving', 'interfering', 'intermediate', 'intermittent', 'intermittently', 'intern', 'internal', 'internalize', 'internalized', 'internalizing', 'internally', 'international', 'internationally', 'internet', 'internetcablephone', 'interning', 'internship', 'internstes', 'interpersonal', 'interpret', 'interpretation', 'interpreted', 'interpreting', 'interprets', 'interrogated', 'interrogation', 'interrupt', 'interrupted', 'interruption', 'intersection', 'interstate', 'interval', 'intervene', 'intervention', 'interview', 'interviewer', 'interviewing', 'intestine', 'inthemoment', 'intimacy', 'intimate', 'intimidate', 'intimidated', 'intimidating', 'intire', 'intivative', 'intj', 'intolerable', 'intolerance', 'intolerant', 'intoxication', 'intrests', 'intrigued', 'intrinsically', 'intro', 'introduce', 'introduced', 'introducing', 'introduction', 'introspection', 'introspective', 'introversion', 'introvert', 'introverted', 'intrrest', 'intructions', 'intruder', 'intruding', 'intrusion', 'intrusive', 'intubated', 'intuition', 'intuitive', 'intursive', 'intusive', 'invade', 'invaded', 'invading', 'invalid', 'invalidate', 'invalidated', 'invalidates', 'invalidating', 'invasion', 'invasive', 'invent', 'invented', 'inventing', 'invention', 'invest', 'invested', 'investigate', 'investigating', 'investigation', 'investigative', 'investing', 'investment', 'invicible', 'invisible', 'invisioning', 'invitation', 'invite', 'invited', 'inviting', 'invoice', 'involuntary', 'involve', 'involved', 'involvement', 'involves', 'involving', 'iop', 'ipad', 'iphone', 'ipsa', 'iq', 'ir', 'iran', 'iranian', 'iraq', 'irks', 'irl', 'irls', 'iron', 'ironed', 'ironic', 'ironically', 'irony', 'irr', 'irrational', 'irrationally', 'irreconcilably', 'irregular', 'irrelevant', 'irremediably', 'irreparably', 'irresponsibility', 'irresponsible', 'irresponsive', 'irretrievably', 'irreversible', 'irritability', 'irritable', 'irritated', 'irritates', 'irritating', 'irritation', 'iscan', 'ish', 'isi', 'islamic', 'island', 'islife', 'isnt', 'isntead', 'isochronic', 'isolate', 'isolated', 'isolating', 'isolation', 'isolationcovid', 'israel', 'issue', 'issued', 'issuescorner', 'issuesi', 'issuing', 'istalking', 'iswas', 'ita', 'italian', 'itall', 'italy', 'itand', 'itbecause', 'itcan', 'itch', 'itchiness', 'itching', 'itchy', 'itd', 'itdidnt', 'ite', 'item', 'ithandle', 'ithink', 'iti', 'itim', 'itinerary', 'itl', 'itll', 'itlooks', 'itmore', 'itmy', 'itof', 'itsall', 'itselfbut', 'itsjust', 'itsright', 'ittested', 'itthere', 'itthis', 'ituntil', 'iu', 'iud', 'iust', 'iv', 'ive', 'iw', 'iwould', 'i̇', 'i̇m', 'j', 'ja', 'jab', 'jack', 'jackbox', 'jacked', 'jacket', 'jackhammer', 'jackshit', 'jackson', 'jaded', 'jai', 'jail', 'jailed', 'jake', 'jallais', 'jam', 'james', 'jampj', 'jan', 'jane', 'janet', 'janitor', 'january', 'japan', 'japanese', 'jar', 'jasmine', 'jason', 'javais', 'jaw', 'jay', 'jazz', 'je', 'jealous', 'jealousy', 'jean', 'jee', 'jeez', 'jeffery', 'jelly', 'jeopardize', 'jeopardy', 'jerk', 'jerked', 'jerking', 'jersey', 'jesus', 'jew', 'jewellery', 'jewelry', 'jinx', 'jinxing', 'jist', 'jitter', 'jitteriness', 'jittery', 'jm', 'job', 'jobbut', 'jobcollege', 'jobless', 'jobneed', 'jobno', 'jobpostwhatever', 'jobsocial', 'jobthats', 'joe', 'joes', 'jog', 'jogged', 'jogging', 'john', 'johnson', 'joi', 'join', 'joined', 'joining', 'joint', 'joist', 'joke', 'jokeresque', 'jokester', 'jokestergoofball', 'joking', 'jokingly', 'jolt', 'jolted', 'joseph', 'joshua', 'journal', 'journalbut', 'journaling', 'journalism', 'journalling', 'journey', 'journeylt', 'jours', 'joy', 'joyfilled', 'joyful', 'joyous', 'jr', 'jubilated', 'judge', 'judged', 'judgement', 'judgemental', 'judging', 'judgment', 'judgmental', 'judt', 'jugdemental', 'juggling', 'juice', 'july', 'jumble', 'jumbled', 'jumbo', 'jump', 'jumped', 'jumper', 'jumping', 'jumpy', 'june', 'juneaugust', 'jung', 'jungle', 'junior', 'junk', 'junkie', 'junky', 'jurisdiction', 'jus', 'justbail', 'justcant', 'justconvinced', 'justgive', 'justice', 'justification', 'justified', 'justify', 'justifying', 'justmiss', 'justneeded', 'justslip', 'justso', 'justughhh', 'justuuugh', 'jusy', 'jut', 'juuuust', 'k', 'kahneman', 'kale', 'kalms', 'kann', 'kaoru', 'karen', 'karl', 'karma', 'karmabecause', 'kassam', 'kaum', 'kday', 'kdrama', 'kebab', 'keen', 'keeo', 'keep', 'keeping', 'keepsake', 'kefir', 'keflex', 'keinen', 'kept', 'keptstarted', 'ketamine', 'ketchup', 'keto', 'kettering', 'key', 'keyboard', 'kfc', 'kg', 'kgkidney', 'kick', 'kicked', 'kicker', 'kicking', 'kid', 'kidding', 'kidi', 'kidnap', 'kidnapped', 'kidney', 'kik', 'kiks', 'kill', 'killed', 'killeded', 'killer', 'killing', 'killjoy', 'killmyself', 'kilo', 'kilometer', 'kin', 'kind', 'kinda', 'kindatransformed', 'kindave', 'kindayou', 'kinder', 'kindergarten', 'kindergartener', 'kindling', 'kindly', 'kindness', 'kindof', 'king', 'kingdom', 'kiss', 'kissed', 'kissing', 'kitchen', 'kitten', 'kitty', 'kleberg', 'kll', 'klled', 'klonopin', 'klutz', 'km', 'kmow', 'kn', 'knack', 'knead', 'kneading', 'knee', 'kneed', 'kneel', 'knelt', 'knew', 'knife', 'knight', 'knitting', 'kniw', 'kno', 'knobfreshman', 'knock', 'knocked', 'knocking', 'knot', 'know', 'knowbut', 'knowing', 'knowingly', 'knowledge', 'knowledgeable', 'known', 'knowns', 'knowsee', 'knowww', 'knuckle', 'knuckling', 'knucks', 'kola', 'komm', 'korea', 'korean', 'kows', 'krav', 'krazy', 'ksh', 'kung', 'kurt', 'kyle', 'l', 'la', 'lab', 'label', 'labeled', 'labelled', 'labmates', 'labor', 'laboratory', 'labored', 'labour', 'labyrinth', 'laced', 'lack', 'lacked', 'lacking', 'lackingi', 'lackmaybe', 'lactating', 'lactose', 'ladder', 'lady', 'laid', 'laidback', 'lake', 'lala', 'lame', 'lamenting', 'lamictal', 'lamp', 'land', 'landed', 'landing', 'landline', 'landlord', 'landmark', 'landscape', 'lane', 'langage', 'language', 'languishing', 'lanky', 'lanyard', 'lap', 'laparoscopy', 'lappart', 'lapplication', 'lapse', 'lapsing', 'laptop', 'large', 'largely', 'larger', 'lash', 'lashed', 'lashing', 'last', 'lastand', 'lasted', 'lastest', 'lasting', 'lastly', 'lastyour', 'latch', 'latched', 'latching', 'late', 'lately', 'later', 'laterleading', 'lateshes', 'latest', 'latestage', 'lather', 'latley', 'latte', 'latter', 'latuda', 'laude', 'laugh', 'laughable', 'laughably', 'laughed', 'laughing', 'laught', 'laughter', 'launch', 'launched', 'laundromat', 'laundry', 'launges', 'lauryl', 'lava', 'lavender', 'law', 'lawn', 'lawsuit', 'lawyer', 'lax', 'laxative', 'lay', 'layed', 'layer', 'laying', 'layout', 'laziness', 'lazing', 'lazy', 'lazyentitled', 'lazysleepy', 'lazyunproductive', 'lb', 'ld', 'ldr', 'ldw', 'le', 'lea', 'lead', 'leader', 'leadership', 'leading', 'leaf', 'leaflet', 'league', 'leak', 'leaked', 'leaking', 'lean', 'leaned', 'leaner', 'leaning', 'learn', 'learned', 'learner', 'learning', 'learnt', 'lease', 'least', 'leastfavorite', 'leave', 'leaveand', 'leaving', 'lecture', 'lectured', 'lecturer', 'lecturing', 'led', 'ledge', 'leech', 'leeching', 'leer', 'left', 'leftover', 'leg', 'legal', 'legalize', 'legally', 'legit', 'legitimate', 'legitimately', 'lego', 'legsfeet', 'leisure', 'lemme', 'lemon', 'lemonade', 'lend', 'length', 'lengthened', 'lengthy', 'leniency', 'lenient', 'lens', 'leo', 'lesbian', 'lessen', 'lessened', 'lessens', 'lesser', 'lesserself', 'lesson', 'lest', 'let', 'lethal', 'lethargic', 'lethargy', 'letter', 'letting', 'lettuce', 'leukaemia', 'leukemia', 'level', 'levity', 'lexamil', 'lexapro', 'lexaprocipralex', 'lexaproescitalopram', 'lexatin', 'lexepro', 'lexotan', 'lexparo', 'lgbt', 'lgbtq', 'liability', 'liar', 'liberally', 'liberated', 'liberating', 'liberation', 'libido', 'libito', 'library', 'licence', 'license', 'licensed', 'licensing', 'licensure', 'lick', 'licked', 'licking', 'lid', 'lie', 'lied', 'lieu', 'life', 'lifechanging', 'lifeform', 'lifeguard', 'lifehealthy', 'lifei', 'lifeidk', 'lifeif', 'lifeinexistant', 'lifeisnt', 'lifeless', 'lifeline', 'lifelong', 'lifemindset', 'lifemy', 'lifeno', 'lifeone', 'lifepartner', 'liferelationship', 'lifesaver', 'lifesaving', 'lifeso', 'lifespan', 'lifestyle', 'lifethe', 'lifethreatening', 'lifetime', 'lifetrying', 'lifewhen', 'lifr', 'lift', 'lifted', 'lifting', 'light', 'lightbulb', 'lighten', 'lighter', 'lightheaded', 'lightheadedfaint', 'lightheadedness', 'lightheadednesswooziness', 'lighting', 'lightly', 'lightning', 'lightsanyway', 'lightspeed', 'lik', 'likable', 'like', 'likeat', 'liked', 'likedi', 'likei', 'likely', 'likeminded', 'likeswants', 'likewha', 'liking', 'liklihood', 'lil', 'lile', 'lima', 'limb', 'limbless', 'limbo', 'liminal', 'limit', 'limited', 'limiting', 'limitless', 'limp', 'limpression', 'line', 'linear', 'lined', 'linger', 'lingered', 'lingering', 'lingers', 'linguistics', 'lining', 'link', 'linked', 'linkedin', 'linkhttpswwwncbinlmnihgovbooksnbktextsinusarrhythmiaisacommonfindingontelemetrynofurtherrecommendationsregardingtreatment', 'linkhttpswwwredditcomranxietycommentsyfctnhowtostopviewingmyboyfriendasunreachable', 'linkin', 'lion', 'lip', 'lipedema', 'lipstick', 'liquid', 'liquidimportant', 'liquidy', 'liquor', 'liscence', 'lisinopril', 'lissening', 'list', 'listed', 'listen', 'listened', 'listener', 'listening', 'listens', 'listerine', 'listernig', 'listing', 'listless', 'listlessness', 'lit', 'lite', 'liter', 'literal', 'literally', 'literaly', 'literature', 'lithium', 'lithuanian', 'litigation', 'litrally', 'litter', 'litterally', 'litterature', 'litterly', 'little', 'littlest', 'livable', 'live', 'lived', 'livefunction', 'livelihood', 'liver', 'livesi', 'livid', 'living', 'livingand', 'lizard', 'llan', 'llega', 'lliterally', 'lloro', 'lmaaao', 'lmao', 'lmaooo', 'lmk', 'lo', 'loa', 'load', 'loaded', 'loading', 'loan', 'loathe', 'loathemyself', 'loathing', 'lobby', 'lobe', 'local', 'localisation', 'localised', 'localites', 'location', 'lock', 'lockdown', 'lockdowned', 'locked', 'locker', 'locking', 'locus', 'lofe', 'log', 'logged', 'logging', 'logic', 'logical', 'logically', 'login', 'logo', 'loke', 'lol', 'lolol', 'lolstop', 'lolz', 'london', 'lone', 'lonelier', 'loneliest', 'loneliness', 'lonely', 'lonelybroke', 'lonelyi', 'loner', 'long', 'longas', 'longdistance', 'longed', 'longer', 'longest', 'longheld', 'longi', 'longing', 'longlasting', 'longrun', 'longstanding', 'longterm', 'longtime', 'longwinding', 'lonliness', 'look', 'looked', 'looking', 'lookingbackup', 'looming', 'looney', 'loony', 'looong', 'loop', 'looped', 'loophole', 'looping', 'loopy', 'loose', 'loosely', 'loosing', 'loot', 'loquitur', 'loraz', 'lorazepam', 'lord', 'lore', 'los', 'lose', 'loser', 'loseridiotcunt', 'loses', 'losewither', 'losing', 'loss', 'lost', 'lostmoney', 'lostmy', 'lot', 'loti', 'lotion', 'lotno', 'lotr', 'lots', 'lott', 'lotta', 'lottery', 'loud', 'louder', 'loudly', 'loudlyaggressively', 'loudlydoing', 'louise', 'lounge', 'lounging', 'lousy', 'lovable', 'love', 'lovebombing', 'lovebut', 'lovecare', 'loved', 'lovedones', 'lovelife', 'lovely', 'loveplatonically', 'lover', 'loveyou', 'loveyourself', 'loving', 'lovingly', 'low', 'lowblood', 'lower', 'lowerclass', 'lowered', 'lowering', 'lowest', 'lowgrade', 'lowkey', 'lowlevel', 'lowlever', 'lowlight', 'lowness', 'lowquality', 'lowtherapeutic', 'loyal', 'lpc', 'lsd', 'lsdtaken', 'lt', 'ltheanine', 'lu', 'luciano', 'lucid', 'luck', 'luckily', 'lucky', 'lui', 'luis', 'luke', 'lumberyard', 'lump', 'lumpfeeling', 'lunatic', 'lunch', 'lunchtime', 'lung', 'lured', 'luring', 'lurk', 'lurked', 'lurker', 'lurking', 'lust', 'lustful', 'luv', 'luvox', 'luxury', 'lvl', 'lying', 'lyme', 'lymph', 'lymphatic', 'lymphnode', 'lymphocyte', 'lymphocytosis', 'lymphomalt', 'lymphos', 'lynch', 'lynching', 'lypanthyl', 'lyra', 'lyric', 'lyrica', 'lysoled', 'm', 'mabe', 'mac', 'machado', 'machete', 'machina', 'machination', 'machine', 'macht', 'macroadenoma', 'mad', 'madara', 'maddening', 'maddens', 'maddi', 'made', 'madeit', 'madly', 'madness', 'madupset', 'mag', 'maga', 'magazine', 'magdalene', 'magic', 'magical', 'magically', 'magnesium', 'magnificent', 'magnified', 'maid', 'mail', 'mailbox', 'mailed', 'maim', 'main', 'maine', 'mainly', 'mainstream', 'mainstreet', 'maintain', 'maintainance', 'maintained', 'maintaining', 'maintains', 'maintenance', 'mais', 'major', 'majored', 'majority', 'majorly', 'maka', 'make', 'maked', 'makeing', 'makeout', 'maker', 'makeup', 'makinf', 'making', 'mal', 'maladaptive', 'malaise', 'malaysia', 'male', 'malei', 'maleto', 'malfunctioning', 'malicious', 'maliciously', 'malignant', 'mall', 'malnourished', 'malnutrition', 'malocclusion', 'malpractice', 'mam', 'mamu', 'man', 'manage', 'manageable', 'managed', 'management', 'manager', 'managerial', 'manages', 'managing', 'manalready', 'manbaby', 'manchester', 'manchild', 'mandate', 'mandatory', 'maneras', 'maneuver', 'maney', 'manga', 'manganese', 'mangawebtoons', 'mange', 'mangesium', 'manhetheyhim', 'mania', 'maniac', 'maniacal', 'manic', 'manifest', 'manifestation', 'manifested', 'manifesting', 'manipulate', 'manipulated', 'manipulatedgaslighted', 'manipulating', 'manipulation', 'manipulative', 'mankind', 'manly', 'manmade', 'manner', 'mannered', 'mansion', 'mantain', 'mantra', 'manual', 'manualconscious', 'manuallaborious', 'manually', 'manufacturing', 'many', 'manyyyy', 'maoi', 'map', 'marabout', 'marathi', 'march', 'marching', 'marchmay', 'mardan', 'margaret', 'marginal', 'marginally', 'marijuana', 'marine', 'marital', 'mark', 'marked', 'marker', 'market', 'marketing', 'marking', 'marriage', 'married', 'marrow', 'marry', 'marrying', 'martial', 'martin', 'marvellous', 'marvelous', 'marx', 'mary', 'maryjane', 'mascot', 'masculinal', 'masculinity', 'maserati', 'mash', 'mashed', 'mask', 'masked', 'masking', 'maskless', 'masksbeing', 'mass', 'massacre', 'massage', 'massaged', 'massager', 'massive', 'massively', 'mastectomy', 'master', 'mastered', 'mastery', 'mastrubating', 'masturbate', 'masturbated', 'masturbating', 'masturbation', 'mat', 'matar', 'match', 'mate', 'mater', 'material', 'materialism', 'materialistic', 'maternal', 'maternity', 'math', 'mathematician', 'mathematics', 'matrix', 'matter', 'mattered', 'matthew', 'mattress', 'mattressbedbugs', 'mature', 'maturity', 'mausoleum', 'mavait', 'max', 'maxed', 'maximise', 'maximum', 'may', 'mayb', 'maybe', 'maybeginning', 'mba', 'mcdonald', 'mchc', 'mcv', 'md', 'mdd', 'mdhttpslsomuthscsaeduphysiologyteammembermartinpaukertmd', 'mdma', 'me', 'meal', 'mealinone', 'meall', 'mean', 'meand', 'meanderings', 'meaning', 'meaningful', 'meaningless', 'meaninglessly', 'meaninglessness', 'meant', 'meantime', 'meanwhile', 'measly', 'measurable', 'measure', 'measured', 'measurement', 'measuring', 'meat', 'meatball', 'mebecause', 'mebor', 'mecfs', 'mechanic', 'mechanical', 'mechanically', 'mechanism', 'med', 'medal', 'medias', 'mediasociety', 'mediate', 'mediation', 'medic', 'medicaid', 'medical', 'medicalfmla', 'medicalhealth', 'medically', 'medicament', 'medicate', 'medicated', 'medicating', 'medication', 'medicationa', 'medicationcbt', 'medicine', 'medicinewhich', 'mediocre', 'mediocrity', 'meditate', 'meditating', 'meditation', 'meditationbreathing', 'meditators', 'medium', 'mediumsized', 'medrol', 'medstrials', 'medsurg', 'meet', 'meetand', 'meeting', 'meetme', 'meetup', 'mega', 'meh', 'mei', 'meif', 'meilleure', 'meim', 'meit', 'meive', 'mel', 'melancholic', 'melancholy', 'melanoma', 'melatonin', 'mellow', 'mellowed', 'melodramatic', 'melody', 'melt', 'meltdown', 'melted', 'melting', 'melty', 'member', 'memberalthough', 'membership', 'meme', 'memorable', 'memoriesmissed', 'memorize', 'memorizing', 'memory', 'memoryxanax', 'men', 'menace', 'mended', 'menial', 'meningitis', 'menopause', 'menopauselike', 'menosresponder', 'menstrual', 'menstruate', 'menstruation', 'mental', 'mentalement', 'mentality', 'mentall', 'mentally', 'mentallydrained', 'mentallythey', 'mentalme', 'mentalphysical', 'mentals', 'mentaltoughness', 'menthol', 'mention', 'mentioned', 'mentioning', 'mentor', 'meout', 'meowing', 'mepray', 'merci', 'merciless', 'mercy', 'mere', 'merely', 'merit', 'mertazapine', 'mesh', 'meshe', 'meshing', 'mesome', 'mesometimes', 'mesopotamiahttpsenwikipediaorgwikimesopotamia', 'mess', 'message', 'messaged', 'messaging', 'messange', 'messed', 'messege', 'messenger', 'messier', 'messily', 'messing', 'messy', 'met', 'metabolize', 'metal', 'metallic', 'metaphor', 'metaphore', 'meteor', 'meter', 'meth', 'methamphetamine', 'methis', 'method', 'methyl', 'methylprednisolone', 'metoclopramide', 'metoprolol', 'metro', 'meus', 'meused', 'meweve', 'mexaron', 'mexico', 'mexprime', 'mf', 'mg', 'mgday', 'mh', 'mhhm', 'mi', 'mia', 'miami', 'mic', 'mich', 'michael', 'micro', 'microbiology', 'micromanage', 'micromanaging', 'microphone', 'microsoft', 'microvisits', 'microwave', 'mid', 'midafternoon', 'midazolam', 'middle', 'middleage', 'middlei', 'midland', 'midlate', 'midmid', 'midnight', 'mids', 'midseptember', 'midset', 'midshit', 'midsommar', 'midst', 'midterm', 'midtwenties', 'midway', 'mienne', 'mig', 'might', 'mightily', 'mighty', 'migraine', 'migrainesseizureswhatever', 'migrated', 'mikayla', 'mike', 'mil', 'mild', 'mildly', 'mile', 'milesday', 'milestone', 'military', 'milk', 'milkshake', 'millennial', 'millennials', 'millennium', 'million', 'millionare', 'millisecond', 'mimd', 'mime', 'mimic', 'mimicry', 'min', 'mind', 'minded', 'mindedly', 'mindful', 'mindfullness', 'mindfulness', 'mindi', 'minding', 'mindless', 'mindlessly', 'mindmade', 'mindoflust', 'mindset', 'mindthe', 'mine', 'minecraft', 'minefield', 'minehttpswwwredditcomranxietycommentshpmuanyoneelsereallystrugglewithavoidance', 'ming', 'mini', 'minihero', 'minihome', 'minimal', 'minimalist', 'minimally', 'minimise', 'minimize', 'minimizing', 'minimum', 'minion', 'minipanic', 'minirantletting', 'miniscule', 'ministry', 'minnesota', 'minor', 'minorly', 'minotaur', 'minoxidil', 'mint', 'minty', 'minus', 'minuscule', 'minute', 'minuteslong', 'minutesseeing', 'miracle', 'miraculously', 'mire', 'mirror', 'mirroring', 'mirtazapine', 'misantrophy', 'misbehaved', 'misbehaving', 'miscalculation', 'miscarriage', 'miscarried', 'misconception', 'misdiagnosed', 'miserable', 'miserably', 'misery', 'misfortune', 'misfortunesso', 'misgiving', 'misguided', 'misinformation', 'misinterpret', 'misinterpretation', 'misjudge', 'misjudged', 'mislabels', 'mislead', 'misophonia', 'misread', 'misreading', 'misreads', 'misrepresented', 'miss', 'missed', 'missedhung', 'missing', 'mission', 'missouri', 'misstep', 'missuse', 'mist', 'mistake', 'mistaken', 'mistakesdoing', 'mistakesextreme', 'mistaking', 'mistreated', 'mistress', 'mistresting', 'mistrust', 'misty', 'misunderstand', 'misunderstanding', 'misunderstands', 'misunderstood', 'mite', 'mitesscabies', 'mitigate', 'mix', 'mixed', 'mixing', 'mixture', 'mized', 'mj', 'mjor', 'ml', 'mmmm', 'mnc', 'mnew', 'mo', 'moan', 'mobbing', 'mobile', 'mobilei', 'mobility', 'mock', 'mocked', 'mocking', 'moclobemide', 'mod', 'modafinil', 'mode', 'model', 'modeling', 'modelling', 'moderate', 'moderately', 'moderation', 'moderator', 'moderen', 'modern', 'moderna', 'modest', 'modulators', 'module', 'modulite', 'mofo', 'moi', 'mois', 'molar', 'mold', 'molding', 'moldy', 'mole', 'molecule', 'molest', 'molestation', 'molested', 'molester', 'molly', 'mom', 'moment', 'momentachieve', 'momentarily', 'momentary', 'momentperson', 'momentum', 'momma', 'mommy', 'monday', 'mondayand', 'mondo', 'monetary', 'money', 'moneyfinancial', 'moniter', 'monitor', 'monitored', 'monitoring', 'monkey', 'monkeypox', 'mono', 'monochrome', 'monocyte', 'monolgue', 'mononucleosis', 'monotone', 'monotonous', 'monotony', 'monoxide', 'monster', 'monstrous', 'month', 'monthe', 'monthlong', 'monthly', 'monthmonths', 'monthsbut', 'monthsi', 'monthsit', 'monthsmarch', 'monthsyears', 'monumentally', 'monwed', 'mooch', 'mood', 'moodmindset', 'moody', 'mooji', 'moon', 'moopy', 'moose', 'mop', 'moping', 'moral', 'morality', 'morally', 'morbid', 'morbidity', 'morbidly', 'morehttpswwwyoutubecomwatchvrmdrsardp', 'morei', 'moremy', 'moreover', 'morepicky', 'moreso', 'morning', 'morningand', 'morninggg', 'morningor', 'morocco', 'moron', 'moronic', 'moroseness', 'morphed', 'morphes', 'morphine', 'morr', 'mortal', 'mortality', 'mortgage', 'mortified', 'mortis', 'mosque', 'mosquito', 'mostly', 'motel', 'moth', 'mother', 'motherdaughter', 'motherfucker', 'motherinlaw', 'motherwho', 'motif', 'motion', 'motioned', 'motivate', 'motivated', 'motivates', 'motivating', 'motivation', 'motivational', 'motivationalsuccess', 'motivationas', 'motivationdrive', 'motivationexhausted', 'motivationg', 'motor', 'motorcycle', 'mount', 'mountain', 'mourn', 'mourning', 'mouse', 'moutainim', 'mouth', 'mouthwash', 'move', 'moved', 'movei', 'movement', 'mover', 'movesensory', 'movesshows', 'movie', 'moviesdramas', 'moving', 'mow', 'mowing', 'mph', 'mpv', 'mpving', 'mqx', 'mr', 'mri', 'mrna', 'msc', 'mself', 'msqr', 'mssing', 'msuffered', 'msyelf', 'mt', 'mths', 'mu', 'much', 'mucha', 'muchbecause', 'muchi', 'muchneeded', 'mucho', 'muchos', 'muchplease', 'muchtaking', 'mucked', 'mucus', 'mud', 'muddied', 'muddle', 'muffled', 'mug', 'mugged', 'mull', 'mulligan', 'multi', 'multiday', 'multiinstrumentalistsongwriter', 'multimedia', 'multimillionares', 'multiplayer', 'multiple', 'multiplies', 'multitasking', 'multitude', 'multivitamin', 'mum', 'mumble', 'mumbled', 'mumbling', 'mumbo', 'mundane', 'municipal', 'murder', 'murdered', 'murderer', 'murdering', 'murky', 'murrsuit', 'muscle', 'muscleback', 'muscular', 'muself', 'museum', 'mush', 'mushie', 'mushies', 'mushroom', 'music', 'musical', 'musically', 'musicenjoy', 'musician', 'muslim', 'must', 'mustache', 'muster', 'mustered', 'mustering', 'musunderstood', 'mute', 'muted', 'mutilated', 'muttered', 'muttering', 'mutual', 'mutually', 'mutuals', 'muvh', 'muy', 'myanmar', 'myjob', 'mylife', 'myriad', 'mysel', 'myselfand', 'myselfanyone', 'myselfarguing', 'myselfi', 'myselfmy', 'myselfneedless', 'myselfso', 'myselfthings', 'myselftill', 'myselftoday', 'myslef', 'mysterious', 'mystery', 'mystomach', 'myth', 'más', 'ménage', 'möchte', 'müde', 'müdigkeit', 'n', 'na', 'nac', 'nada', 'nadie', 'nag', 'nagger', 'nagging', 'nah', 'nahh', 'nail', 'nailed', 'naive', 'naively', 'naked', 'name', 'named', 'namei', 'naming', 'nan', 'nana', 'nanaimo', 'nanay', 'nanna', 'nap', 'napped', 'napping', 'narc', 'narcissism', 'narcissist', 'narcissistic', 'narcisssist', 'narcotic', 'nargly', 'narrates', 'narrative', 'narrativize', 'narrativizing', 'narrow', 'narrowed', 'nasal', 'nastiest', 'nasty', 'nasuea', 'nation', 'national', 'native', 'nato', 'natural', 'naturally', 'naturalthey', 'nature', 'nausea', 'nauseabelly', 'nauseagagging', 'nauseagetting', 'nauseated', 'nauseathrowing', 'nauseavomiting', 'nauseous', 'nauseousi', 'nauseoussick', 'nauseus', 'nauteus', 'navigate', 'navigating', 'navy', 'nazi', 'naïve', 'nb', 'nd', 'ndmum', 'ne', 'near', 'nearby', 'nearcomplete', 'nearconstant', 'nearest', 'nearing', 'nearly', 'nearpanic', 'neat', 'neatly', 'neatness', 'nebulizer', 'neccessary', 'necesarily', 'necessarily', 'necessary', 'necessitate', 'necessity', 'neck', 'neckbeard', 'neckhand', 'necklace', 'neckless', 'ned', 'need', 'needed', 'neediness', 'needing', 'needingwanting', 'needle', 'needlessly', 'needlework', 'needthank', 'needy', 'needythese', 'nees', 'neet', 'negative', 'negatively', 'negativepeople', 'negativity', 'negetive', 'neglect', 'neglected', 'neglecting', 'negligible', 'negotiating', 'neice', 'neices', 'neighbor', 'neighborhood', 'neighboring', 'neighbour', 'neighbourhoodbut', 'neighbouring', 'neither', 'neitheri', 'neithers', 'neolithic', 'neonazi', 'nephew', 'nerd', 'nerdy', 'nerodivergent', 'nerve', 'nervewracking', 'nervosa', 'nervous', 'nervousness', 'nesrly', 'net', 'netball', 'netflix', 'netherlands', 'network', 'networked', 'networking', 'networth', 'neuro', 'neurochemical', 'neurological', 'neurologically', 'neurologist', 'neuronal', 'neurone', 'neurontin', 'neuropathy', 'neuropsych', 'neuropsychologist', 'neurorx', 'neuroscientist', 'neurosis', 'neurotransmitter', 'neurotypical', 'neurotypicals', 'neurutypicality', 'neutral', 'neutrophil', 'nevada', 'neve', 'never', 'neverending', 'nevertheless', 'new', 'newage', 'newbie', 'newborn', 'newcomer', 'newer', 'newest', 'newfound', 'newfresh', 'newish', 'newly', 'newness', 'news', 'newsall', 'newspaper', 'nexito', 'next', 'nextdoor', 'nexus', 'nft', 'ng', 'nh', 'nibble', 'nice', 'nicely', 'nicer', 'nicest', 'niche', 'nick', 'nickname', 'nicotine', 'niece', 'nier', 'niether', 'nigger', 'niggling', 'nigh', 'night', 'nightat', 'nightdarkinclement', 'nightearly', 'nighter', 'nightit', 'nightly', 'nightmare', 'nightshift', 'nightstand', 'nighttime', 'nighttoday', 'nihilism', 'nihilist', 'nihilistic', 'nimwitted', 'nine', 'ninety', 'nipple', 'nit', 'nite', 'nites', 'nitpicking', 'nitrazepam', 'nitrogen', 'nitty', 'niveau', 'nj', 'nlt', 'no', 'noah', 'noavail', 'nobel', 'noble', 'nobody', 'noch', 'nocontact', 'nodding', 'node', 'nodesand', 'noding', 'nofap', 'noggin', 'noise', 'noisy', 'nolan', 'nolimit', 'nomatter', 'nomenclature', 'nomination', 'non', 'nonactive', 'nonaddictive', 'nonadhd', 'nonanxiety', 'nonavoidant', 'nonbinary', 'noncbt', 'nonchalant', 'nonchalantly', 'noncovid', 'nondepressed', 'nondepressive', 'nondescriptive', 'none', 'nonenglish', 'nonetheless', 'nonexistent', 'nonfactor', 'nonfunctioning', 'nonhospitalized', 'nonimmigrants', 'nonissue', 'nonjudgemental', 'nonmentally', 'nonpainful', 'nonprofit', 'nonrestorative', 'nonsad', 'nonscensical', 'nonselfish', 'nonsense', 'nonsensical', 'nonserious', 'nonsexist', 'nonstop', 'nonus', 'noo', 'noob', 'noodle', 'noon', 'noone', 'noooo', 'nooooo', 'noose', 'nope', 'noped', 'norepinephrine', 'norm', 'normal', 'normalcy', 'normaldoctors', 'normalhappy', 'normali', 'normalise', 'normalised', 'normalish', 'normality', 'normalize', 'normallike', 'normally', 'normallycorrectly', 'normalslightly', 'north', 'northeast', 'northwest', 'norway', 'nose', 'noself', 'noso', 'nostalgia', 'nostalgic', 'nosy', 'notable', 'notatalltrailertrash', 'note', 'notebook', 'noted', 'notetaking', 'noth', 'nothing', 'nothingi', 'nothingmeans', 'nothingmy', 'nothingness', 'nothingnothing', 'noti', 'noticable', 'notice', 'noticeable', 'noticeably', 'noticed', 'noticing', 'notif', 'notification', 'notifs', 'noting', 'notion', 'notnever', 'notoriously', 'notthis', 'nourish', 'nov', 'novel', 'novela', 'novella', 'november', 'nowadays', 'nowhere', 'nowi', 'nowim', 'nowive', 'nownits', 'nowso', 'nowwhere', 'nowww', 'nozzle', 'np', 'npc', 'npd', 'nr', 'nsfw', 'nth', 'nuclear', 'nucleus', 'nude', 'nudessextortion', 'nudge', 'nugget', 'nuisance', 'nuke', 'null', 'nullify', 'numb', 'numbed', 'number', 'numbered', 'numbess', 'numbing', 'numbmess', 'numbness', 'numbs', 'numbtingly', 'numerous', 'nun', 'nurse', 'nursery', 'nursing', 'nurture', 'nurturing', 'nut', 'nutella', 'nutilise', 'nutricionist', 'nutrient', 'nutrinionist', 'nutrition', 'nutritional', 'nutritionist', 'nutritious', 'nutritiously', 'nutshell', 'nutter', 'ny', 'nyc', 'nyes', 'nz', 'o', 'oath', 'ob', 'obedient', 'obese', 'obesity', 'obey', 'obituary', 'object', 'objective', 'objectively', 'objectivity', 'obligated', 'obligation', 'obliged', 'obligiting', 'obliterated', 'oblivion', 'oblivious', 'obnoxious', 'obscure', 'observating', 'observation', 'observe', 'observed', 'observer', 'observing', 'obsessed', 'obsessing', 'obsession', 'obsessive', 'obsessivecompulsive', 'obsessiveintrusive', 'obsessively', 'obssesed', 'obstacle', 'obstructing', 'obtain', 'obtained', 'obv', 'obvi', 'obvious', 'obviously', 'obvs', 'obvservations', 'oc', 'occasion', 'occasional', 'occasionally', 'occassional', 'occupation', 'occupied', 'occupy', 'occupying', 'occur', 'occuring', 'occurred', 'occurrence', 'occurring', 'occurs', 'occurthey', 'ocd', 'ocdanxiety', 'ocdanxietydepression', 'ocders', 'ocean', 'oclock', 'october', 'octobernovember', 'od', 'odd', 'oddity', 'oddly', 'odds', 'oder', 'oding', 'odor', 'ofc', 'ofcourse', 'offence', 'offend', 'offended', 'offendet', 'offending', 'offensive', 'offer', 'offered', 'offering', 'offguard', 'offhand', 'offhanded', 'office', 'officer', 'official', 'officially', 'offing', 'offish', 'offlaugh', 'offline', 'offputting', 'offroad', 'offs', 'offset', 'offthecharts', 'offthemarket', 'offtopic', 'often', 'ofteni', 'oftentimes', 'ofter', 'oh', 'ohh', 'ohhh', 'ohmygosh', 'ohsofamous', 'oil', 'oily', 'ointment', 'ok', 'okay', 'okayish', 'okaylemme', 'okaynot', 'okey', 'okeyish', 'oki', 'okish', 'oky', 'ol', 'olanzapine', 'old', 'older', 'oldest', 'oldmale', 'oldmaybe', 'olympiad', 'olympics', 'omen', 'omeprazole', 'omfg', 'omg', 'omnipotent', 'omw', 'onagainoffagain', 'onboard', 'onbullied', 'oncall', 'onces', 'oncoming', 'one', 'oneoff', 'onesided', 'onetime', 'onewhen', 'ongoing', 'onhe', 'onision', 'online', 'onlineblended', 'onnly', 'onoff', 'ons', 'onset', 'onslaught', 'ont', 'ontario', 'onto', 'ontop', 'onw', 'onwards', 'oof', 'oooft', 'ooooo', 'oozing', 'op', 'opal', 'open', 'opened', 'openedread', 'opener', 'openhttpsollyclubdrinkingblocksachemicalthatpromotesattentionuthealthsanantonio', 'opening', 'openly', 'openminded', 'openness', 'operate', 'operated', 'operates', 'operating', 'operation', 'opinion', 'opinionated', 'opioid', 'opioidpainkiller', 'oportunities', 'oppinions', 'opponent', 'opportunity', 'oppose', 'opposed', 'opposing', 'opposite', 'oppotunity', 'oppressed', 'oppression', 'oppressive', 'oppurtunities', 'ops', 'opt', 'optical', 'optician', 'optimal', 'optimism', 'optimist', 'optimistic', 'optimistically', 'option', 'optionswrite', 'optometrist', 'oral', 'orange', 'orb', 'orchid', 'ordeal', 'order', 'ordered', 'ordering', 'ordinary', 'ore', 'oregon', 'organ', 'organic', 'organisation', 'organised', 'organises', 'organism', 'organization', 'organize', 'organized', 'organizing', 'orgasm', 'orgs', 'orientation', 'oriented', 'origin', 'original', 'originally', 'originates', 'oris', 'ornament', 'orphan', 'orsmth', 'orthodontist', 'ory', 'os', 'osbourne', 'oscillating', 'ossessively', 'osteosarcoma', 'ostracised', 'ostracized', 'ostracizing', 'ot', 'otber', 'otehr', 'others', 'othersthat', 'otherwise', 'otp', 'otr', 'otsuka', 'ouchh', 'ought', 'ounce', 'ourselfs', 'out', 'outbreak', 'outburst', 'outbut', 'outcast', 'outcasted', 'outcome', 'outdone', 'outdoor', 'outdoors', 'outdoorsy', 'outed', 'outer', 'outfit', 'outgoing', 'outgrown', 'outi', 'outing', 'outlandish', 'outlaw', 'outlet', 'outlook', 'outmatched', 'outofstate', 'outoftheblue', 'outoftouch', 'outpatient', 'output', 'outrageously', 'outright', 'outrun', 'outset', 'outside', 'outsideafter', 'outsider', 'outsourced', 'outstanding', 'outta', 'outward', 'outwardly', 'outwards', 'outweigh', 'outweighs', 'outı', 'ovarian', 'ovary', 'ove', 'oven', 'overachiever', 'overactive', 'overall', 'overanalyze', 'overanalyzing', 'overattached', 'overbearing', 'overboard', 'overburdened', 'overcame', 'overchewed', 'overcome', 'overcoming', 'overcommitted', 'overcompensation', 'overcrowded', 'overcrowed', 'overdo', 'overdose', 'overdosed', 'overdoses', 'overdosing', 'overdramatic', 'overdrink', 'overdrive', 'overdue', 'overeat', 'overeating', 'overemotional', 'overestimated', 'overestimation', 'overexcited', 'overexplain', 'overexplaing', 'overexplaining', 'overflowing', 'overgrown', 'overhave', 'overhead', 'overheard', 'overheating', 'overheats', 'overindulge', 'overlap', 'overload', 'overloaded', 'overlook', 'overlooked', 'overlooking', 'overly', 'overlyconcerned', 'overnight', 'overnights', 'overpaid', 'overpaying', 'overpowered', 'overpowering', 'overpowers', 'overproductive', 'overprotective', 'overr', 'overreact', 'overreacting', 'overreaction', 'overridden', 'override', 'overriding', 'overseas', 'overshadowed', 'overshare', 'overshared', 'oversharing', 'overshoot', 'oversimplify', 'oversleep', 'overslept', 'overstaying', 'overstimulatedoverwhelmed', 'overstimulation', 'overtake', 'overtaken', 'overthetop', 'overthink', 'overthinked', 'overthinker', 'overthinking', 'overthinks', 'overtime', 'overtraining', 'overuse', 'overwatch', 'overweight', 'overweighti', 'overwhelm', 'overwhelmed', 'overwhelming', 'overwhelmingly', 'overwhelms', 'overwork', 'overworked', 'overworking', 'ow', 'owe', 'owed', 'owes', 'owh', 'owl', 'ownbut', 'owned', 'owner', 'owns', 'oxcarbazepine', 'oxegenate', 'oximeter', 'oxygen', 'oxymoron', 'oxymoronic', 'oyster', 'ozone', 'ozzy', 'où', 'p', 'pa', 'pac', 'pace', 'paced', 'pacifies', 'pacing', 'pack', 'package', 'packaged', 'packaging', 'packed', 'packedstuffed', 'packet', 'packing', 'pacnw', 'pact', 'pad', 'padded', 'paddle', 'page', 'paid', 'paidunpaid', 'pain', 'painacid', 'painful', 'painfully', 'painkiller', 'painless', 'painlessly', 'painminor', 'painscrampsbutterflies', 'painsdiscomfort', 'painsevere', 'painstakingly', 'paint', 'painted', 'painting', 'painunable', 'pair', 'paired', 'pajama', 'pakistan', 'pakistani', 'pal', 'palate', 'pale', 'palm', 'palpable', 'palpatations', 'palpate', 'palpatine', 'palpation', 'palpitation', 'palpitationsflutters', 'palpitationstwitchingtremors', 'palps', 'palputations', 'palsy', 'palyed', 'pamphlet', 'pampn', 'panama', 'pancake', 'pancras', 'pancreas', 'pandamicabout', 'pandemia', 'pandemic', 'pandemicfora', 'pandemicrelated', 'pandering', 'panel', 'pang', 'panic', 'panicampanxiety', 'panicanxiety', 'panicattack', 'panicattacklostlovedreams', 'panicdeja', 'panicing', 'panick', 'panicked', 'panicking', 'panicky', 'pant', 'panting', 'pantry', 'panty', 'pap', 'paper', 'paperback', 'paperwork', 'paperworkclaim', 'par', 'para', 'paracetamol', 'paradise', 'paradox', 'paradoxical', 'paragraph', 'paralegal', 'parallel', 'paralysed', 'paralysis', 'paralyzed', 'paralyzing', 'paramedic', 'paramount', 'paranoia', 'paranoiaamp', 'paranoic', 'paranoid', 'paranoidanxious', 'paranormal', 'paraphrasing', 'parasite', 'parasitic', 'parasomnia', 'parasympathetic', 'pared', 'parenst', 'parent', 'parental', 'parentes', 'parentguardian', 'parenthood', 'parenting', 'parentscaregivers', 'parentsfriendsand', 'parentteacheruse', 'paresthesia', 'paris', 'park', 'parked', 'parking', 'paroxetine', 'parroting', 'parse', 'part', 'partake', 'parted', 'partial', 'partially', 'participant', 'participate', 'participated', 'participating', 'participation', 'particle', 'particular', 'particularly', 'particulary', 'partied', 'partly', 'partner', 'partnered', 'partnersexperiences', 'parttime', 'parttimebut', 'parttimei', 'party', 'partying', 'partystupid', 'pas', 'pass', 'passable', 'passage', 'passed', 'passenger', 'passer', 'passing', 'passion', 'passionate', 'passionately', 'passive', 'passiveaggressive', 'passively', 'passout', 'passport', 'password', 'past', 'pastactually', 'pastcurrent', 'paste', 'pastime', 'pasture', 'pat', 'patas', 'patch', 'patched', 'patching', 'paternal', 'path', 'patham', 'pathetic', 'pathogen', 'pathological', 'pathology', 'pathway', 'patience', 'patient', 'patiently', 'patientso', 'patriot', 'patriotism', 'patrol', 'patrolling', 'patronising', 'patronizing', 'pattern', 'patterned', 'patty', 'paukert', 'paul', 'pause', 'paused', 'pausing', 'pavement', 'pavillion', 'paw', 'pawned', 'pawning', 'paxil', 'pay', 'payback', 'paycheck', 'payday', 'payed', 'paying', 'payment', 'payoneer', 'payout', 'paypal', 'payroll', 'paysafe', 'pc', 'pcd', 'pcos', 'pcp', 'pcplayed', 'pcv', 'pd', 'pdf', 'pdnos', 'pdo', 'pe', 'peace', 'peaceful', 'peacefully', 'peacehttpswwwlulucomshopabhishrutpanbudepeaceebookproducthtml', 'peacethe', 'peak', 'peaked', 'peaking', 'peanut', 'peaple', 'pearly', 'peasant', 'pebble', 'pectoral', 'pedal', 'pedestrian', 'pediatric', 'pedophile', 'pee', 'peed', 'peeing', 'peeking', 'peel', 'peeled', 'peeling', 'peep', 'peer', 'peersfamily', 'peersfriends', 'peice', 'peiodes', 'pelvic', 'pen', 'pencil', 'pendant', 'pending', 'penetrate', 'penetrative', 'penile', 'penis', 'penniless', 'penny', 'pensar', 'pension', 'pent', 'penthouse', 'people', 'peopledifferent', 'peoplei', 'peopleit', 'peoplenor', 'peopleproblems', 'pep', 'pepole', 'peppermint', 'pepto', 'per', 'perceive', 'perceived', 'percent', 'percentage', 'percentile', 'perception', 'percieved', 'percribed', 'perfect', 'perfected', 'perfecti', 'perfection', 'perfectionism', 'perfectionist', 'perfectionistic', 'perfectly', 'perform', 'performance', 'performed', 'performer', 'performing', 'perhapd', 'perhaps', 'peri', 'peril', 'perilous', 'perilously', 'perimeter', 'period', 'periode', 'periodic', 'periodically', 'peripheral', 'perish', 'perishable', 'perishing', 'perk', 'permanent', 'permanently', 'permanentsuper', 'permeant', 'permission', 'permit', 'pero', 'peroblem', 'perpetual', 'perpetually', 'perpetualy', 'perpetuate', 'perpetuated', 'perscribed', 'perscription', 'persecptions', 'persist', 'persisted', 'persistence', 'persistent', 'persists', 'person', 'persona', 'personable', 'personal', 'personalised', 'personality', 'personally', 'personand', 'personel', 'personi', 'personover', 'persontoperson', 'perspective', 'persuade', 'persuaded', 'persuing', 'pertains', 'pervades', 'pervasivehttpswwwmedicalnewstodaycomarticlesmentalhealthstigma', 'perverse', 'pervert', 'pesky', 'pessimist', 'pessimistic', 'pest', 'pester', 'pesticide', 'pet', 'petal', 'petand', 'petes', 'petrichor', 'petrified', 'petsitting', 'petted', 'petting', 'petty', 'peur', 'pfizer', 'pftjanuary', 'phantom', 'pharma', 'pharmaceutical', 'pharmacist', 'pharmacology', 'pharmacy', 'pharyngeal', 'phase', 'phaseburnout', 'phaseepisode', 'phasmophobia', 'phd', 'phenomenal', 'phenomenon', 'philadelphia', 'philip', 'philippine', 'phill', 'philly', 'philosophical', 'philosophy', 'phishing', 'phisical', 'phlegm', 'phobia', 'phobic', 'phoenix', 'phone', 'phonecall', 'phoned', 'phoning', 'phosphate', 'phosphoric', 'photo', 'photograph', 'photographervideographer', 'photographing', 'photography', 'photohttpsdrivegooglecomfilednxtfworsloqdwejaoxcmjwdukwalviewuspdrivesdk', 'photoshop', 'phpiop', 'phrase', 'phrasing', 'phsycal', 'phycologists', 'phycosocial', 'physchiatrists', 'physiatrist', 'physiatrists', 'physic', 'physical', 'physically', 'physicals', 'physicaly', 'physician', 'physict', 'physiological', 'physiology', 'physiotherapist', 'physiotherapy', 'physique', 'piano', 'pic', 'pick', 'picked', 'picking', 'pickingdropping', 'pickle', 'picky', 'picnic', 'picture', 'picturing', 'pie', 'piece', 'piecenof', 'piecing', 'pienso', 'pierced', 'piercedscratched', 'piercescratch', 'pig', 'pigeon', 'piggy', 'pigment', 'pile', 'piled', 'piling', 'pill', 'pillar', 'pillhttpschillwithpillmyshopifycom', 'pillof', 'pillow', 'pillstablets', 'pilot', 'pimple', 'pin', 'pinacle', 'pinch', 'pinched', 'pinching', 'pinegrove', 'ping', 'pink', 'pinkie', 'pinky', 'pinned', 'pinpoint', 'pinsandneedles', 'pinsneedles', 'pint', 'pipe', 'pipeline', 'pipelinehttpswwwdelveinsightcomblogbipolardepressionpipelinetherapies', 'piper', 'pirated', 'piss', 'pissed', 'pissing', 'pissy', 'pistol', 'pit', 'pitbull', 'pitch', 'pitched', 'pitiful', 'pittinghating', 'pituitary', 'pity', 'piv', 'pivot', 'pivotal', 'pixar', 'pixars', 'pixel', 'pizza', 'pjs', 'place', 'placebo', 'placed', 'placeholder', 'placement', 'placesome', 'placethey', 'placing', 'plafond', 'plagiarising', 'plagiarize', 'plagiarized', 'plague', 'plagued', 'plain', 'plainly', 'plan', 'plane', 'planed', 'planet', 'planing', 'planless', 'planned', 'planner', 'planning', 'plansgoals', 'plant', 'plantbased', 'planted', 'plastic', 'plate', 'platecontainer', 'platelet', 'platform', 'platitude', 'platonic', 'plausible', 'play', 'playdate', 'played', 'player', 'playful', 'playgroup', 'playing', 'playlist', 'playstation', 'plea', 'pleaded', 'pleading', 'pleaes', 'pleasant', 'pleasd', 'please', 'pleased', 'pleasently', 'pleaser', 'pleasing', 'pleasure', 'pledge', 'plenty', 'plethora', 'plight', 'plot', 'plotting', 'pls', 'plsss', 'plug', 'plugged', 'plugging', 'plumber', 'plumbing', 'plummet', 'plummeted', 'plunging', 'plural', 'plus', 'plush', 'plushobject', 'plying', 'plywood', 'plz', 'pm', 'pmam', 'pneumonia', 'po', 'pocd', 'pocket', 'pocketcoachhttpswwwiamfeelinganxiouscom', 'pod', 'podcast', 'podcasts', 'podría', 'poem', 'poeple', 'poetry', 'point', 'pointed', 'pointer', 'pointing', 'pointless', 'pointlessly', 'pointlessness', 'poised', 'poison', 'poisoned', 'poisoning', 'poke', 'poked', 'pokemon', 'poking', 'poland', 'polar', 'polaroid', 'pole', 'police', 'policy', 'polish', 'polite', 'politefriendly', 'politely', 'political', 'politicaleconomical', 'politicallycharged', 'politicans', 'politician', 'politics', 'pollution', 'poloxamer', 'polyamorous', 'polyamory', 'polynomial', 'pomodoros', 'pond', 'ponder', 'pondering', 'pondgrowing', 'pony', 'poof', 'pool', 'poop', 'pooped', 'pooper', 'pooping', 'poor', 'poorly', 'poorlywritten', 'pop', 'popcorn', 'popculture', 'pope', 'popped', 'poppin', 'popping', 'popular', 'popularity', 'populated', 'population', 'por', 'porch', 'pork', 'porn', 'pornhub', 'pornography', 'pornpornography', 'porsche', 'portable', 'portion', 'portland', 'portrait', 'portray', 'portrayed', 'portrays', 'pose', 'posed', 'poser', 'posh', 'posing', 'position', 'positive', 'positively', 'positivity', 'posse', 'possessed', 'possessing', 'possession', 'possessive', 'possibility', 'possible', 'possibly', 'post', 'posted', 'poster', 'postgrad', 'postgraduate', 'postgraduation', 'posting', 'postingretweeting', 'postive', 'postlockdown', 'postorgasm', 'postpartum', 'postponed', 'postpones', 'postponing', 'postsecondary', 'posttitle', 'posttraumatic', 'posture', 'pot', 'potato', 'potency', 'potent', 'potential', 'potentially', 'potentiate', 'potter', 'pounce', 'pound', 'pounding', 'pour', 'poured', 'pouring', 'pours', 'pov', 'poverty', 'powder', 'power', 'powered', 'powerful', 'powering', 'powerless', 'powerlessly', 'powerpoint', 'ppe', 'ppl', 'ppleverythings', 'ppls', 'ppm', 'pppeaceaolcommailtopppeaceaolcom', 'practical', 'practically', 'practice', 'practiced', 'practicing', 'practise', 'practises', 'practitioner', 'praise', 'praised', 'praising', 'prance', 'prattle', 'pray', 'prayed', 'prayer', 'praying', 'prays', 'prazepam', 'pre', 'preaches', 'preaching', 'preapadavanced', 'precaution', 'preceded', 'precedent', 'precedes', 'precious', 'precipitate', 'precise', 'precisely', 'precocious', 'precovid', 'prediabetic', 'predicament', 'predict', 'predicted', 'prediction', 'predisposed', 'prednisilone', 'prednisone', 'predominantly', 'preeclampsia', 'preety', 'preface', 'prefer', 'preferable', 'preferably', 'preferely', 'preference', 'preferred', 'prefers', 'preforming', 'pregabalin', 'pregabalinlyrica', 'pregabiln', 'pregnancy', 'pregnancyhttpsdruggistonlinecitalopramorcelexasafeduringpregnancy', 'pregnant', 'prejudice', 'premature', 'prematurely', 'premed', 'premier', 'premonition', 'prents', 'preoccupied', 'prep', 'prepackaged', 'prepandemic', 'preparation', 'prepare', 'prepared', 'preparing', 'preperation', 'prepping', 'prerequisite', 'presaging', 'prescribe', 'prescribed', 'prescriber', 'prescribes', 'prescribing', 'prescription', 'presence', 'presencei', 'presencial', 'present', 'presentation', 'presented', 'presentfather', 'presenting', 'presently', 'preservation', 'preserve', 'preseted', 'preshow', 'president', 'prespectiv', 'presque', 'press', 'pressed', 'pressing', 'pressure', 'pressureand', 'pressured', 'pressuredifficulty', 'pressuretightness', 'pressuring', 'pressurised', 'pressurized', 'prestige', 'prestigious', 'presumably', 'presume', 'presumed', 'presuming', 'preteen', 'pretend', 'pretended', 'pretending', 'pretentious', 'pretest', 'pretrip', 'prettier', 'prettiest', 'pretty', 'prevail', 'prevailed', 'prevailing', 'prevalent', 'prevent', 'preventable', 'preventative', 'prevented', 'preventing', 'prevention', 'prevents', 'previleged', 'previous', 'previously', 'preworkout', 'prey', 'price', 'pricey', 'prick', 'prickly', 'pricy', 'pride', 'prided', 'prideful', 'priest', 'primal', 'primarely', 'primarily', 'primary', 'prime', 'primitive', 'prince', 'princess', 'principle', 'print', 'prior', 'prioritize', 'prioritized', 'priority', 'prison', 'prisoner', 'pristiq', 'pristq', 'privacy', 'private', 'privately', 'priviledge', 'privilege', 'privileged', 'prize', 'prn', 'prns', 'pro', 'proactive', 'prob', 'probable', 'probablemente', 'probably', 'probaply', 'probation', 'probed', 'probiotic', 'problem', 'problematic', 'problemsand', 'problemsbut', 'problemsi', 'probly', 'problème', 'probs', 'procastinating', 'proccess', 'procede', 'procedure', 'proceed', 'proceeded', 'proceeding', 'proceeds', 'proces', 'process', 'processed', 'processing', 'procrastinate', 'procrastinated', 'procrastinating', 'procrastination', 'prodromal', 'produce', 'producersongwriter', 'producing', 'product', 'production', 'productive', 'productivity', 'prof', 'profession', 'professional', 'professionalhttpigotucorpcomteam', 'professionally', 'professor', 'proffesional', 'profile', 'profit', 'profitable', 'profound', 'profoundly', 'profusely', 'prognosis', 'program', 'programme', 'programmed', 'programmer', 'programming', 'programsyoutube', 'programwork', 'progress', 'progressed', 'progressing', 'progression', 'progressive', 'progressively', 'prohibited', 'project', 'projected', 'projectiled', 'projecting', 'projecttask', 'prolific', 'prolly', 'prolong', 'prolonged', 'prolonging', 'prom', 'prominent', 'promiscuous', 'promise', 'promised', 'promisedeal', 'promising', 'promoted', 'promotes', 'promoting', 'promotion', 'promotional', 'prompt', 'prompted', 'promptly', 'prone', 'pronounced', 'pronto', 'proof', 'proofread', 'proofreading', 'prop', 'propanolol', 'propelling', 'proper', 'properly', 'properlyfast', 'properlyi', 'property', 'prophet', 'proportion', 'proportionally', 'propose', 'proposed', 'propped', 'propranolol', 'propylene', 'prosecutor', 'prosopagnosia', 'prospect', 'prospering', 'prosperous', 'prostate', 'prostatis', 'prostatitis', 'prostitues', 'prostitute', 'prostitution', 'protagonist', 'protect', 'protected', 'protecting', 'protection', 'protector', 'protects', 'protein', 'protest', 'protester', 'protesting', 'protocol', 'proud', 'proudly', 'prove', 'proved', 'proven', 'proverbial', 'provide', 'provided', 'provider', 'providerhttpigotucorpcomaboutus', 'provides', 'providing', 'provigil', 'province', 'provincial', 'proving', 'provocation', 'provoke', 'provoked', 'provoking', 'prozac', 'pry', 'psa', 'pseudo', 'pseudopeace', 'pseudosuicidal', 'pshhh', 'psichological', 'psicologist', 'psilocybin', 'psthe', 'psy', 'psyc', 'psycbologist', 'psych', 'psyche', 'psyched', 'psychedelic', 'psychedelics', 'psychiatric', 'psychiatrist', 'psychiatry', 'psychic', 'psychically', 'psychmeds', 'psycho', 'psychoactive', 'psychological', 'psychologically', 'psychologicaly', 'psychologist', 'psychologistpsychotherapist', 'psychologue', 'psychology', 'psychometric', 'psychomotor', 'psychopath', 'psychopharmaceutical', 'psychosis', 'psychosomatic', 'psychostimulant', 'psychotherapist', 'psychotherapisthttpswwwmelaninandmentalhealthcomdirectorytherapistslistingvincentemozell', 'psychotherapy', 'psychotic', 'psychs', 'psychward', 'psycologist', 'psyhoctic', 'psyhotic', 'pt', 'ptsd', 'ptsdanxiety', 'pu', 'pua', 'pub', 'puberty', 'pubgo', 'public', 'publicly', 'publish', 'published', 'puckered', 'puddle', 'puede', 'puerto', 'puff', 'puke', 'puked', 'puking', 'pull', 'pulled', 'pulling', 'pullup', 'pullups', 'pulmonary', 'pulsating', 'pulse', 'pump', 'pumping', 'pumpkin', 'pun', 'punch', 'punchbag', 'punched', 'punching', 'punctuation', 'punish', 'punished', 'punishing', 'punishment', 'punk', 'punshed', 'pup', 'pupil', 'puppet', 'puppeteering', 'puppy', 'pur', 'purchase', 'purchased', 'pure', 'purely', 'pureo', 'purge', 'purged', 'purging', 'purity', 'purple', 'purposal', 'purpose', 'purposeful', 'purposefully', 'purposei', 'purposeless', 'purposely', 'purr', 'pursue', 'pursued', 'pursuing', 'pursuit', 'push', 'pushed', 'pushier', 'pushing', 'pushingstabbing', 'pushover', 'pushup', 'pushy', 'pushyeven', 'pussied', 'pussy', 'put', 'puta', 'putting', 'puzzle', 'puzzled', 'pvc', 'pyjama', 'pyschcolgical', 'pyschological', 'pyschotic', 'q', 'qa', 'qampas', 'qanon', 'qr', 'qt', 'quadrupled', 'quake', 'qualification', 'qualified', 'qualifier', 'qualifies', 'qualify', 'quality', 'qualm', 'quand', 'quantity', 'quarantine', 'quarantined', 'quarantinelockdown', 'quarantining', 'quarentining', 'quarrel', 'quarter', 'quarterlife', 'quash', 'quashed', 'quaucun', 'que', 'queen', 'queer', 'quell', 'quelle', 'quelques', 'quench', 'querell', 'query', 'quest', 'question', 'questionable', 'questioned', 'questionin', 'questioning', 'questionnaire', 'questionsguidance', 'questionworry', 'quetiapine', 'queue', 'qui', 'quick', 'quickening', 'quicker', 'quickest', 'quickly', 'quicksand', 'quicly', 'quiero', 'quiet', 'quieter', 'quieting', 'quietly', 'quietness', 'quilt', 'quirk', 'quit', 'quite', 'quiti', 'quiting', 'quitquit', 'quits', 'quitter', 'quitting', 'quitée', 'quiver', 'quiz', 'quon', 'quora', 'quote', 'qurantine', 'qué', 'québec', 'r', 'rabbit', 'rabbling', 'rabid', 'rabies', 'race', 'raced', 'racial', 'raciallymotivated', 'racing', 'racingpounding', 'racism', 'racist', 'rack', 'racked', 'racking', 'radar', 'radiate', 'radiated', 'radiating', 'radiation', 'radical', 'radicalised', 'radio', 'radioactive', 'radiotherapy', 'raf', 'rafael', 'raft', 'rag', 'rage', 'raged', 'rageinducing', 'ragequit', 'raging', 'raided', 'rail', 'railing', 'rain', 'rainbow', 'rainforest', 'raining', 'raise', 'raised', 'raising', 'rajput', 'ralk', 'rally', 'ralph', 'ramble', 'rambled', 'rambling', 'ramblings', 'rambunctious', 'ramen', 'ramp', 'rampant', 'ramped', 'ramping', 'ran', 'random', 'randomised', 'randomly', 'randy', 'rang', 'range', 'ranging', 'rank', 'ranked', 'ranking', 'rant', 'ranted', 'ranti', 'ranting', 'rantvent', 'rantventing', 'ranxiety', 'rap', 'rape', 'raped', 'rapid', 'rapidly', 'rapist', 'rapper', 'rare', 'rarely', 'rash', 'raskreddit', 'rastafari', 'rat', 'rate', 'rated', 'ratei', 'ratepalpitations', 'ratesi', 'rather', 'rating', 'ration', 'rational', 'rationale', 'rationalisation', 'rationality', 'rationalize', 'rationalized', 'rationalizing', 'rationally', 'rattle', 'rattling', 'raucous', 'ravaging', 'rave', 'raw', 'ray', 'raysmay', 'razor', 'rbf', 'rcollapse', 'rcrushes', 'rd', 'rdating', 'rdepression', 'rdr', 'rdth', 'rdw', 're', 'reach', 'reachable', 'reached', 'reaching', 'react', 'reacted', 'reacting', 'reaction', 'reactive', 'reacts', 'read', 'reader', 'readily', 'readiness', 'reading', 'readingscrolling', 'readjust', 'readlistened', 'ready', 'real', 'realisation', 'realise', 'realised', 'realises', 'realising', 'realism', 'realist', 'realistic', 'realistically', 'reality', 'realityduring', 'realization', 'realizationvaccine', 'realize', 'realized', 'realizes', 'realizing', 'reallly', 'really', 'reallyafraid', 'reallyi', 'reallyreally', 'realm', 'realness', 'realy', 'reaper', 'reaping', 'reappear', 'reapplied', 'reapply', 'rear', 'reared', 'rearing', 'reason', 'reasonable', 'reasonably', 'reasoning', 'reasonlet', 'reassignment', 'reassurance', 'reassure', 'reassured', 'reassurence', 'reassures', 'reassuring', 'reatached', 'rebel', 'rebellious', 'rebirth', 'reborn', 'rebound', 'rebounded', 'rebranded', 'rebranding', 'rebuild', 'rebuilding', 'rebuilt', 'rebut', 'rebutted', 'recall', 'recap', 'reccoment', 'recede', 'receded', 'receipt', 'receive', 'received', 'receives', 'receiving', 'recent', 'recenter', 'recently', 'reception', 'receptionist', 'receptive', 'receptor', 'recess', 'recession', 'recetly', 'recharge', 'recieve', 'recieved', 'recipe', 'recipient', 'reciprocal', 'reciprocate', 'reciprocated', 'reciprocates', 'reciprocation', 'reciprocity', 'reckless', 'recklessness', 'reckoned', 'reckoning', 'reclaim', 'reclaims', 'recluse', 'reclusive', 'reclusively', 'recognise', 'recognised', 'recognising', 'recognition', 'recognize', 'recognized', 'recognizing', 'recommend', 'recommendation', 'recommended', 'recommends', 'recompensate', 'recon', 'reconcile', 'reconciling', 'reconnect', 'reconnected', 'reconnecting', 'reconsider', 'reconstructive', 'record', 'recorded', 'recording', 'recount', 'recoup', 'recover', 'recovered', 'recoveredi', 'recovering', 'recovery', 'recreation', 'recreational', 'recreationally', 'recruiter', 'recruitment', 'recs', 'rectify', 'recur', 'recurrence', 'recurrent', 'recurring', 'recycle', 'red', 'redbull', 'reddit', 'redditers', 'redditor', 'redditors', 'reddits', 'redeem', 'redeemed', 'redeeming', 'redemption', 'redesign', 'redeveloped', 'rediagnosed', 'redirect', 'redirecting', 'rediscover', 'redness', 'redo', 'redoing', 'reduce', 'reduced', 'reduces', 'reducing', 'reduction', 'redundant', 'reeeaaallly', 'reel', 'reenergizes', 'reenlist', 'reentered', 'reevaluate', 'reexplain', 'ref', 'refaire', 'refer', 'reference', 'refering', 'referral', 'referred', 'referring', 'refill', 'refilled', 'reflect', 'reflecting', 'reflection', 'reflective', 'reflects', 'reflex', 'reflux', 'refluxgastric', 'refluxgerd', 'refocus', 'refrain', 'refrained', 'reframing', 'refreshed', 'refreshing', 'refuge', 'refund', 'refundable', 'refunding', 'refuse', 'refused', 'refusing', 'refutes', 'refuting', 'regain', 'regained', 'regaining', 'regard', 'regarded', 'regarding', 'regardless', 'regenerate', 'regenesis', 'regime', 'regimen', 'regimented', 'region', 'regional', 'regionally', 'register', 'registered', 'registering', 'registery', 'registration', 'regressed', 'regressing', 'regression', 'regressive', 'regret', 'regreted', 'regretful', 'regretit', 'regrettable', 'regrettably', 'regretted', 'regrettin', 'regretting', 'regroup', 'regular', 'regularly', 'regularlybut', 'regulate', 'regulated', 'regulator', 'regurgitate', 'regurgitated', 'regurgitating', 'rehab', 'rehabilitated', 'rehabilitation', 'rehabs', 'rehearse', 'reheat', 'reheated', 'rehired', 'reign', 'reimann', 'reincarnate', 'reincarnated', 'reincarnation', 'reinforced', 'reinforcing', 'reinjuring', 'reinstalled', 'reinstalling', 'reintegrate', 'reintroducing', 'reiterate', 'reject', 'rejected', 'rejecting', 'rejection', 'rejoice', 'rejoin', 'rekindle', 'rekindled', 'relación', 'relaitonship', 'relapse', 'relapsed', 'relapsing', 'relashionship', 'relatable', 'relate', 'related', 'relates', 'relating', 'relation', 'relationship', 'relationshipemotion', 'relationshipish', 'relative', 'relatively', 'relativesneighbors', 'relativity', 'relativizecompartmentalize', 'relax', 'relaxation', 'relaxed', 'relaxer', 'relaxes', 'relaxing', 'relaxinggood', 'relaxrecover', 'relearn', 'relearning', 'release', 'released', 'releasing', 'relectutant', 'relegated', 'relentless', 'relentlessly', 'relevant', 'relgilion', 'reliable', 'reliance', 'reliant', 'relied', 'relief', 'reliefhttpsyoutubegpekrugjks', 'relies', 'relieve', 'relieved', 'reliever', 'relieving', 'religion', 'religious', 'religiously', 'relisations', 'relive', 'reliving', 'relly', 'relocate', 'relocated', 'relocation', 'reluctance', 'reluctant', 'reluctantly', 'rely', 'relying', 'rem', 'remade', 'remain', 'remainding', 'remained', 'remaining', 'remains', 'remake', 'remark', 'remarkable', 'remarried', 'remedied', 'remediestips', 'remedy', 'remember', 'remembered', 'remembering', 'remembers', 'remeron', 'remind', 'reminded', 'reminder', 'reminding', 'reminds', 'remineralize', 'reminisce', 'reminisced', 'reminiscing', 'remission', 'remnant', 'remorse', 'remote', 'remotecareer', 'remotely', 'removal', 'remove', 'removed', 'removing', 'remtype', 'rend', 'render', 'rendered', 'rendre', 'renew', 'renewed', 'renewing', 'renfermer', 'renovate', 'renovating', 'renovation', 'renroll', 'rent', 'rental', 'renter', 'renting', 'rentrait', 'reoccuring', 'reoccurring', 'reopen', 'reopening', 'repair', 'repaired', 'repairmechanical', 'repatriated', 'repaying', 'repeat', 'repeated', 'repeatedly', 'repeating', 'repercussion', 'repetition', 'repetitive', 'replacable', 'replace', 'replaceable', 'replaced', 'replacement', 'replay', 'replaying', 'replied', 'reply', 'replying', 'report', 'reported', 'reporting', 'repose', 'repost', 'represent', 'representable', 'represented', 'repress', 'repressed', 'repressing', 'reprieve', 'reprimand', 'reprimanded', 'reproached', 'reproduce', 'republic', 'republican', 'repulsed', 'repulsive', 'reputable', 'reputation', 'request', 'requested', 'requesting', 'requiered', 'require', 'required', 'requirement', 'requires', 'requiring', 'reread', 'rereading', 'resay', 'reschedule', 'rescheduled', 'rescheduling', 'rescripting', 'rescue', 'rescued', 'research', 'researched', 'researcher', 'researching', 'researchmystery', 'resees', 'resemblance', 'resemble', 'resembled', 'resembling', 'resent', 'resented', 'resentful', 'resenting', 'resentment', 'resents', 'reserve', 'reserved', 'reset', 'resetting', 'reside', 'residency', 'resident', 'residential', 'resides', 'residual', 'residue', 'resign', 'resignation', 'resigned', 'resilience', 'resilient', 'resist', 'resistance', 'resistant', 'resisting', 'resolution', 'resolve', 'resolved', 'resonance', 'resonate', 'resonsible', 'resort', 'resorted', 'resorting', 'resource', 'respect', 'respected', 'respectful', 'respectfully', 'respecting', 'respectively', 'respiration', 'respiratory', 'respiridone', 'respite', 'respod', 'respond', 'responded', 'responding', 'responds', 'responsability', 'response', 'responsibilites', 'responsibility', 'responsibilityi', 'responsibilityit', 'responsible', 'responsibly', 'ressusistacted', 'rest', 'restaient', 'restaining', 'restanddigest', 'restaraunts', 'restart', 'restarted', 'restarting', 'restaurant', 'restaurantsstores', 'rested', 'restful', 'resting', 'restingbitchface', 'restless', 'restlessness', 'restocking', 'restorative', 'restore', 'restored', 'restrain', 'restraining', 'restraint', 'restrict', 'restricted', 'restricting', 'restriction', 'restrictive', 'restricts', 'restroom', 'restructuring', 'resub', 'resubmission', 'result', 'resulted', 'resulting', 'resultyour', 'resume', 'resumed', 'resumé', 'resurface', 'resurfaced', 'resurfaces', 'resurfacing', 'resurgence', 'resuscitate', 'retail', 'retain', 'retained', 'retainer', 'retains', 'retake', 'retaliate', 'retaliation', 'retard', 'retardation', 'retarded', 'retarted', 'retching', 'rethinking', 'retire', 'retired', 'retirement', 'retiring', 'retort', 'retrace', 'retraumatizing', 'retread', 'retreat', 'retreating', 'retrieve', 'retrieved', 'retrieving', 'retroactive', 'retrospect', 'retrospective', 'retrospectively', 'return', 'returned', 'returning', 'reunion', 'reunite', 'reunited', 'reuptake', 'rev', 'reveal', 'revealed', 'revealing', 'revelance', 'revelation', 'revenge', 'reverberating', 'revered', 'reverse', 'reversed', 'revert', 'reverted', 'review', 'reviewing', 'reviles', 'revise', 'revising', 'revision', 'revive', 'revoked', 'revolve', 'revolved', 'revolver', 'revolves', 'revolving', 'revulsion', 'reward', 'rewarded', 'rewarding', 'rewash', 'rewatch', 'rewatching', 'rewind', 'rewinding', 'rewire', 'rewiring', 'rhat', 'rhetoric', 'rhetorical', 'rheumatoid', 'rheumatologist', 'rhinitis', 'rhyme', 'rhythm', 'rib', 'ribcage', 'rica', 'rice', 'rich', 'richer', 'richest', 'richmond', 'rico', 'rid', 'ridden', 'riddle', 'riddled', 'ride', 'ridge', 'ridicolized', 'ridicule', 'ridiculed', 'ridiculous', 'ridiculously', 'riding', 'rien', 'rig', 'rigged', 'right', 'rightfully', 'righti', 'rightly', 'rightmost', 'rightor', 'rigid', 'rigor', 'rigorous', 'rilakkuma', 'rilke', 'rimandthisisdeep', 'rina', 'rince', 'ring', 'ringing', 'rink', 'rinse', 'rinsed', 'riot', 'rip', 'ripe', 'ripped', 'ripping', 'rise', 'rising', 'risk', 'riskier', 'risking', 'risky', 'rislity', 'risperidone', 'ritalin', 'ritual', 'river', 'rlly', 'rlove', 'rly', 'rmt', 'rn', 'rni', 'ro', 'roach', 'road', 'roadblock', 'roam', 'roasted', 'rob', 'robbed', 'robbery', 'robbin', 'robbins', 'robert', 'robo', 'robot', 'robotic', 'robotics', 'robs', 'rocd', 'rock', 'rockbottom', 'rocket', 'rocketed', 'rocketing', 'rocking', 'rocky', 'rode', 'rogan', 'roger', 'rogue', 'role', 'roleplay', 'roleplaying', 'roll', 'rolled', 'roller', 'rollercoaster', 'rolling', 'roman', 'romance', 'romantic', 'romantically', 'romanticism', 'romanticize', 'romanticizing', 'rona', 'roof', 'roofied', 'rooftop', 'room', 'roomate', 'roombuilding', 'roomclass', 'roommate', 'roomshoweringdrivingor', 'root', 'rooted', 'rooting', 'rope', 'rose', 'rosetinted', 'rot', 'rotate', 'rotation', 'rote', 'rotten', 'rotting', 'rough', 'roughly', 'roughness', 'roughy', 'roulette', 'round', 'rounded', 'rounder', 'roundslectures', 'rouse', 'route', 'routed', 'routine', 'routineim', 'routinely', 'routineschedule', 'routing', 'row', 'royally', 'rparentsarefuckingstupid', 'rped', 'rpgs', 'rplace', 'rrelationshipadvice', 'rrelationships', 'rsuicidewatch', 'rsuicidewatchcommentsjpuofpleasehelpmeoutwiththisshouldiornot', 'rtalkdepression', 'rtarded', 'rub', 'rubbed', 'rubber', 'rubbing', 'rubbish', 'rubiks', 'ruble', 'rude', 'rudely', 'rug', 'ruin', 'ruined', 'ruining', 'rule', 'ruled', 'ruler', 'ruling', 'rumbling', 'ruminate', 'ruminated', 'ruminating', 'rumination', 'rummination', 'rumor', 'rumour', 'run', 'runin', 'runner', 'running', 'runningi', 'runny', 'runwalk', 'rupert', 'rupture', 'rural', 'rush', 'rushed', 'rushing', 'russia', 'russian', 'russiaukraine', 'rustling', 'rusty', 'rut', 'ruthless', 'ruthlessness', 'rv', 'rven', 'rworldnews', 'ryan', 'rythm', 'sa', 'saber', 'sabotage', 'sabotaged', 'sabotaging', 'saboteur', 'saccharin', 'sack', 'sacked', 'sacred', 'sacrifice', 'sacrificed', 'sacrificing', 'sacwe', 'sad', 'saddened', 'saddens', 'sadder', 'sadderi', 'saddest', 'sader', 'sadistic', 'sadly', 'sadmeh', 'sadness', 'sadnessphase', 'sadthank', 'sadtired', 'safe', 'safeguarding', 'safely', 'safer', 'safest', 'safety', 'safetysecurity', 'saffron', 'sagging', 'sahm', 'said', 'saidmeyour', 'saidthe', 'sailed', 'sailing', 'saint', 'sake', 'sal', 'salad', 'salaried', 'salary', 'sale', 'salesman', 'saleswoman', 'salicylate', 'saliva', 'salmon', 'salon', 'salt', 'salty', 'salute', 'salvage', 'salvageable', 'samsung', 'san', 'sanction', 'sanctuary', 'sand', 'sandles', 'sandwhich', 'sandwich', 'sane', 'sang', 'saniderm', 'sanirzse', 'sanitiser', 'sanitized', 'sanitizer', 'sanity', 'sank', 'sans', 'sanskrit', 'santandreu', 'sanvello', 'sapped', 'sapping', 'sara', 'saras', 'sarcastic', 'sardine', 'saroxat', 'sat', 'satellite', 'satisfaction', 'satisfactory', 'satisfated', 'satisfied', 'satisfiedi', 'satisfy', 'satisfying', 'saturday', 'saud', 'sauerkraut', 'save', 'saved', 'savent', 'saving', 'savior', 'savoir', 'savor', 'saw', 'sawayama', 'sawfelt', 'sawfound', 'saxophone', 'say', 'sayand', 'saybecause', 'saydo', 'sayin', 'saying', 'sayingdoing', 'sbout', 'scab', 'scale', 'scalp', 'scalpeyecheeknose', 'scam', 'scammed', 'scammer', 'scamming', 'scan', 'scandal', 'scanned', 'scantily', 'scapegoat', 'scar', 'scarcity', 'scare', 'scared', 'scarier', 'scariest', 'scaring', 'scarred', 'scarring', 'scarry', 'scarse', 'scary', 'scaryboring', 'scattered', 'scatteted', 'scde', 'scenario', 'scene', 'scenerios', 'scenery', 'scent', 'scented', 'sceptic', 'sceptical', 'schedule', 'scheduled', 'scheduledas', 'scheduling', 'scheme', 'schizo', 'schizoaffective', 'schizophrenia', 'schizophrenic', 'schlafen', 'schmooze', 'schmuck', 'scholarship', 'school', 'schoolcollege', 'schooled', 'schoolers', 'schooli', 'schooling', 'schoolmate', 'schoolmy', 'schoolremembering', 'schoolsafter', 'schoolwork', 'sciatica', 'science', 'sciencegood', 'scientific', 'scientifically', 'scientificly', 'scientist', 'scissors', 'sclerosis', 'scoffed', 'scoffing', 'scold', 'scolded', 'scolding', 'scooby', 'scoolbut', 'scoop', 'scope', 'score', 'scored', 'scouted', 'scramble', 'scrambled', 'scrambling', 'scrap', 'scrapbooking', 'scrape', 'scraped', 'scraping', 'scrapping', 'scratch', 'scratched', 'scratching', 'scratchingand', 'scrawny', 'scream', 'screamed', 'screami', 'screamidk', 'screaming', 'screeching', 'screen', 'screening', 'screenshotted', 'screw', 'screwed', 'screwing', 'screwup', 'script', 'scroll', 'scrolling', 'scrubbing', 'scrunch', 'scrunched', 'scull', 'scum', 'scumbag', 'scummy', 'se', 'sea', 'seal', 'sealed', 'seam', 'seamless', 'seance', 'search', 'searched', 'searching', 'season', 'seasonal', 'seasoned', 'seat', 'seated', 'seating', 'seattle', 'sec', 'secluded', 'second', 'secondary', 'secondhand', 'secondly', 'secret', 'secretive', 'secretly', 'section', 'sectioned', 'sector', 'secure', 'secured', 'securely', 'securing', 'security', 'sedate', 'sedated', 'sedating', 'sedation', 'sedative', 'sedentary', 'sediment', 'seductive', 'see', 'seed', 'seei', 'seeing', 'seeingfinding', 'seeingtalking', 'seek', 'seeked', 'seeker', 'seeking', 'seem', 'seemed', 'seeming', 'seemingly', 'seems', 'seen', 'seep', 'seeped', 'seeping', 'seeps', 'seethem', 'segregated', 'seguro', 'seid', 'seing', 'seize', 'seized', 'seizes', 'seizure', 'seldom', 'selected', 'selecting', 'selective', 'self', 'selfacceptance', 'selfactualization', 'selfassurance', 'selfassured', 'selfaware', 'selfawareness', 'selfcare', 'selfcentered', 'selfconfidence', 'selfconscious', 'selfconsciousness', 'selfcringed', 'selfcriticism', 'selfdefeating', 'selfdefense', 'selfdestructive', 'selfdiagnoses', 'selfdiagnosing', 'selfdiagnosis', 'selfdiscovery', 'selfdoubt', 'selfdoubts', 'selfesteem', 'selfflagellation', 'selfharm', 'selfharmed', 'selfharming', 'selfhate', 'selfhating', 'selfhatred', 'selfhelp', 'selfhypnosis', 'selfie', 'selfies', 'selfimage', 'selfimposed', 'selfimprovement', 'selfindulgent', 'selfinfliction', 'selfish', 'selfishly', 'selfishness', 'selfisolate', 'selfjudgement', 'selfless', 'selflessness', 'selfloathing', 'selflove', 'selfmassages', 'selfmedication', 'selfneglect', 'selfpaced', 'selfpity', 'selfsabotage', 'selfsabotaging', 'selfserving', 'selfsoothing', 'selfsteem', 'selfsuicide', 'selftalk', 'selftaught', 'selftransition', 'selfvictimizing', 'selfworth', 'selfworthguilt', 'sell', 'seller', 'selling', 'selv', 'sem', 'semaines', 'semblance', 'sememster', 'semester', 'semi', 'semiautobiographical', 'semidecent', 'semifree', 'semiintelligent', 'seminar', 'seminumb', 'semiregular', 'sence', 'send', 'sending', 'sends', 'senile', 'senior', 'sens', 'sensation', 'sense', 'senseanyway', 'senseless', 'sensibility', 'sensible', 'sensical', 'sensitive', 'sensitivity', 'sensory', 'sent', 'sentence', 'sentient', 'sentiment', 'sentimental', 'sentimentality', 'sep', 'separate', 'separated', 'separately', 'separating', 'separation', 'seperated', 'seperating', 'sepsis', 'sept', 'september', 'septicemia', 'sequel', 'ser', 'seratonin', 'serenity', 'serf', 'serial', 'series', 'serious', 'seriously', 'seriouslyi', 'seriouslywhat', 'seriouslywhy', 'seriousness', 'sermon', 'sern', 'seroquel', 'serotonin', 'sertagen', 'sertaline', 'sertalinezoloft', 'sertralin', 'sertraline', 'sertralinephysical', 'sertralinezoloft', 'serve', 'served', 'server', 'service', 'serving', 'será', 'sesame', 'seshes', 'session', 'set', 'setback', 'setraline', 'setralinezoloft', 'settee', 'setting', 'settle', 'settled', 'settling', 'setup', 'seule', 'seven', 'seventeen', 'seventh', 'sever', 'several', 'severance', 'severe', 'severecrippling', 'severed', 'severely', 'severity', 'severs', 'sevre', 'sewing', 'sex', 'sexist', 'sexno', 'sexporn', 'sexting', 'sexual', 'sexuality', 'sexually', 'sexualmostly', 'sexualsuicide', 'sexuay', 'sexy', 'sg', 'sh', 'shaan', 'shade', 'shadow', 'shady', 'shake', 'shaken', 'shakesany', 'shakey', 'shakiness', 'shakinesstremors', 'shaking', 'shakingany', 'shakingtrembling', 'shaky', 'shall', 'shallow', 'sham', 'shamble', 'shame', 'shamed', 'shameful', 'shameless', 'shaming', 'shampoo', 'shampooed', 'shampooing', 'shape', 'shaped', 'shapeless', 'share', 'shared', 'sharehouse', 'sharesposts', 'sharing', 'shark', 'sharp', 'sharpburning', 'sharpener', 'sharpish', 'shatter', 'shattered', 'shattering', 'shavasana', 'shave', 'shaved', 'shawnee', 'shebang', 'shed', 'shedding', 'sheeesh', 'sheep', 'sheepish', 'sheer', 'sheet', 'shelf', 'shell', 'shelter', 'shepherd', 'shes', 'shethey', 'shi', 'shield', 'shift', 'shifted', 'shifting', 'shine', 'shining', 'shiny', 'ship', 'shipment', 'shipper', 'shirt', 'shirtoff', 'shit', 'shite', 'shithead', 'shithole', 'shiti', 'shitiness', 'shitless', 'shitpost', 'shitposting', 'shitshow', 'shitstorms', 'shitted', 'shittier', 'shittiest', 'shitting', 'shittly', 'shitty', 'shity', 'shiver', 'shivering', 'shock', 'shocked', 'shocker', 'shocking', 'shoe', 'sholders', 'shoo', 'shook', 'shoot', 'shooting', 'shop', 'shopper', 'shopping', 'shore', 'short', 'shortage', 'shortcoming', 'shortcommings', 'shortcut', 'shorten', 'shortening', 'shorter', 'shortest', 'shorthair', 'shortheres', 'shortish', 'shortlived', 'shortly', 'shortness', 'shortterm', 'shot', 'shotgun', 'shoulda', 'shoulder', 'shoulderarmneckback', 'shouldering', 'shouldersarmchest', 'shouldhave', 'shouldnt', 'shouldve', 'shouodnt', 'shout', 'shouted', 'shouting', 'shove', 'shoved', 'shovel', 'shoving', 'show', 'showcasing', 'showed', 'shower', 'showered', 'showering', 'showhe', 'showi', 'showing', 'shown', 'shred', 'shrill', 'shrink', 'shroom', 'shrooms', 'shrouded', 'shrug', 'shrugged', 'shrugging', 'sht', 'shtless', 'shudder', 'shuffle', 'shun', 'shunned', 'shut', 'shutdown', 'shutin', 'shuts', 'shutting', 'shy', 'shymodest', 'shyness', 'si', 'sibling', 'sick', 'sickened', 'sickening', 'sickens', 'sicker', 'sicki', 'sickleave', 'sickly', 'sicklyanxiety', 'sickness', 'siddartha', 'side', 'sided', 'sideeffects', 'sideline', 'sidenote', 'sideshow', 'sidewalk', 'sideways', 'sidk', 'siempre', 'siento', 'siezing', 'sigh', 'sighed', 'sight', 'sighted', 'sighting', 'sign', 'signal', 'signalling', 'signature', 'signed', 'significance', 'significant', 'significantly', 'signing', 'signiture', 'signup', 'sil', 'silence', 'silenced', 'silencio', 'silent', 'silently', 'silexancalm', 'silexancalmaid', 'silliest', 'silly', 'silver', 'silverfish', 'sim', 'similar', 'similarity', 'similarly', 'simmer', 'simon', 'simp', 'simple', 'simpler', 'simplest', 'simplicity', 'simplify', 'simplist', 'simplistic', 'simply', 'sims', 'simulation', 'simultaneously', 'sin', 'since', 'sincere', 'sincerely', 'sincerity', 'sine', 'sing', 'singed', 'singer', 'singh', 'singing', 'single', 'singled', 'singleplayer', 'singmy', 'sings', 'sinister', 'sink', 'sinkhole', 'sinking', 'sinning', 'sinus', 'sinusitis', 'sinve', 'sip', 'siren', 'sister', 'sisterbrothersibling', 'sisteri', 'sit', 'sitation', 'sitcom', 'site', 'sitedoctors', 'sith', 'sits', 'sitting', 'sittingstanding', 'situated', 'situation', 'situational', 'situationi', 'situationmy', 'situationship', 'situps', 'sitution', 'six', 'sixth', 'size', 'sized', 'sizzling', 'skate', 'skateboarding', 'skated', 'skeleton', 'skeptical', 'skepticism', 'sketch', 'sketching', 'skewed', 'skews', 'ski', 'skiing', 'skill', 'skilled', 'skillset', 'skin', 'skinand', 'skinfeeling', 'skink', 'skinless', 'skinny', 'skinnyugly', 'skip', 'skipped', 'skipping', 'skipsjumps', 'skisnowboard', 'skittish', 'skull', 'skullsuboccipital', 'sky', 'skyhigh', 'skype', 'skyrocket', 'skyrocketed', 'skyrocketing', 'slack', 'slacked', 'slackening', 'slacker', 'slacking', 'slam', 'slammed', 'slamming', 'slap', 'slapped', 'slapping', 'slashing', 'slave', 'slaved', 'slay', 'sleep', 'sleeper', 'sleepi', 'sleepiness', 'sleeping', 'sleepless', 'sleeplessness', 'sleepnight', 'sleepover', 'sleepwake', 'sleepwalk', 'sleepwalking', 'sleepy', 'sleeve', 'slender', 'slenderman', 'slept', 'slice', 'slicing', 'slid', 'slide', 'slight', 'slighted', 'slightest', 'slightly', 'slim', 'slime', 'slimmer', 'slimming', 'slinking', 'slip', 'slipped', 'slippery', 'slipping', 'slippingi', 'slit', 'slitting', 'slob', 'slobbering', 'sloooooooow', 'sloppy', 'slot', 'slow', 'slowed', 'slower', 'slowing', 'slowly', 'slowmotion', 'slows', 'sludge', 'sluggish', 'slump', 'slur', 'slurring', 'slut', 'slutty', 'sm', 'smack', 'smacked', 'smackingpushing', 'small', 'smallbig', 'smaller', 'smallest', 'smallish', 'smart', 'smarta', 'smarter', 'smartest', 'smartgood', 'smartphone', 'smartphones', 'smartwatch', 'smartworking', 'smash', 'smashed', 'smashing', 'smell', 'smelled', 'smelling', 'smh', 'smile', 'smiled', 'smiley', 'smiling', 'smited', 'smith', 'smitten', 'smoke', 'smoked', 'smokedused', 'smoker', 'smoking', 'smoky', 'smooth', 'smoothe', 'smoother', 'smoothie', 'smoothly', 'smoothy', 'smothering', 'smth', 'smthg', 'smug', 'smuggler', 'snack', 'snacking', 'snake', 'snap', 'snapchat', 'snapped', 'snapping', 'snappy', 'snarky', 'snd', 'sneak', 'sneaking', 'sneaky', 'sneeze', 'sneezing', 'snicker', 'sniffing', 'snip', 'snippet', 'snippy', 'snitch', 'snoop', 'snooze', 'snore', 'snow', 'snowball', 'snowballing', 'snowboard', 'snowflake', 'snri', 'snris', 'snuck', 'snuff', 'snuggle', 'snuggled', 'snuggling', 'snus', 'so', 'soaked', 'soap', 'sob', 'sobbed', 'sobbing', 'sober', 'sobered', 'sobering', 'sobriety', 'soccer', 'sociability', 'sociable', 'social', 'socialise', 'socialising', 'socialist', 'socialization', 'socialize', 'socialized', 'socializing', 'socially', 'sociallynervous', 'socialness', 'socialsexual', 'societal', 'society', 'socioeconomic', 'sociopath', 'sociopathic', 'sock', 'socket', 'soconsistent', 'soda', 'sodium', 'soemtimes', 'sofa', 'soft', 'softball', 'soften', 'softly', 'softness', 'software', 'soggy', 'soi', 'soical', 'soil', 'solace', 'sold', 'soldier', 'sole', 'solely', 'solid', 'solidarity', 'solidworks', 'solipsim', 'solipsism', 'solitary', 'solitude', 'solo', 'soluble', 'solution', 'solvable', 'solve', 'solved', 'solver', 'solves', 'solving', 'somatic', 'somatoform', 'somber', 'somebody', 'someday', 'somedays', 'somehow', 'somehowbut', 'somehowdont', 'somehting', 'somehwat', 'somenbody', 'someone', 'someoneanyone', 'someoned', 'someonedating', 'someoneeven', 'someplace', 'something', 'somethings', 'somethingstudy', 'sometime', 'sometimes', 'sometimeseventhough', 'sometines', 'someting', 'someway', 'somewhat', 'somewhere', 'somewhereor', 'somezhing', 'sommilar', 'somna', 'somone', 'somthing', 'somwhere', 'son', 'song', 'songwriter', 'soo', 'soon', 'sooner', 'sooni', 'soontobe', 'sooo', 'soooo', 'sooooo', 'soooooo', 'sooooooo', 'sooth', 'soothe', 'soothing', 'sophomore', 'soppy', 'sorbitol', 'sore', 'sorely', 'soreness', 'sorrow', 'sorry', 'sort', 'sorta', 'sorted', 'sortedbetter', 'sorting', 'sothe', 'sought', 'soul', 'soulcrushing', 'soulless', 'soulmate', 'sound', 'soundcloud', 'sounded', 'sounding', 'soundscapes', 'soup', 'sour', 'source', 'sourced', 'sourcehttpswwwnumbeocompropertyinvestmentregionrankingscurrentjspregion', 'soured', 'south', 'southern', 'space', 'spaced', 'spacehealing', 'spacethinking', 'spacing', 'spaghetti', 'spain', 'spam', 'spamm', 'span', 'spaniel', 'spanish', 'spanned', 'spanner', 'spar', 'spare', 'sparing', 'sparingly', 'spark', 'sparked', 'sparking', 'sparkle', 'sparkling', 'spasm', 'spasmatic', 'spat', 'spatial', 'speach', 'speacial', 'speak', 'speaker', 'speakerphone', 'speaking', 'speaks', 'spearfishing', 'special', 'specialised', 'specialist', 'specialized', 'specializing', 'specially', 'specialty', 'specialunique', 'specie', 'specific', 'specifically', 'specificity', 'specify', 'speck', 'spectacularly', 'spectrum', 'speculate', 'sped', 'speech', 'speechvocabulary', 'speed', 'speedcubing', 'speeding', 'speek', 'speeking', 'spell', 'spelling', 'spend', 'spending', 'spends', 'spent', 'spermcells', 'spew', 'spewing', 'spews', 'spiceal', 'spicy', 'spider', 'spiel', 'spiesfollowers', 'spike', 'spiked', 'spiking', 'spill', 'spilling', 'spin', 'spinal', 'spine', 'spineless', 'spinner', 'spinning', 'spira', 'spiral', 'spiraled', 'spiraling', 'spiralled', 'spiralling', 'spirally', 'spiralmasking', 'spirit', 'spirited', 'spiritual', 'spirituality', 'spit', 'spite', 'spitting', 'splash', 'splashed', 'splattered', 'splendid', 'splint', 'split', 'spliting', 'splitting', 'splittingits', 'splitto', 'splotch', 'spo', 'spoil', 'spoiled', 'spoiler', 'spoilt', 'spoke', 'spoken', 'sponge', 'spongebob', 'sponsor', 'spontaneous', 'spontaneously', 'spooked', 'spoonfed', 'sporadic', 'sporadically', 'sport', 'spot', 'spotify', 'spotlight', 'spotted', 'spotty', 'spouse', 'spout', 'spouting', 'sprain', 'spray', 'spread', 'spreading', 'spring', 'springer', 'sprinkled', 'sprinkler', 'sprinting', 'sprout', 'sprouting', 'spun', 'spur', 'spurn', 'spurt', 'spying', 'spyware', 'sqaure', 'squad', 'squalor', 'square', 'squat', 'squatting', 'squeak', 'squeaking', 'squeeze', 'squeezed', 'squeezing', 'squirm', 'squirming', 'squish', 'squishy', 'sr', 'sre', 'sred', 'srris', 'srry', 'sry', 'ssdi', 'ssri', 'ssrinsris', 'ssrisnri', 'ssrisnriantipsychotics', 'ssrissnrisserotonin', 'ssristudycomretrospectivehttpssristudycomretrospective', 'st', 'stab', 'stabbed', 'stabbing', 'stabby', 'stabed', 'stabilise', 'stability', 'stabilize', 'stabilizer', 'stabilizing', 'stable', 'stablebut', 'stablenormal', 'stack', 'stacked', 'stacking', 'stadium', 'staff', 'staffing', 'stage', 'staged', 'stagg', 'stagnant', 'stagnate', 'stagnating', 'stain', 'stainsyellow', 'stair', 'staircase', 'stake', 'stale', 'staled', 'stalemate', 'stalk', 'stalked', 'stalker', 'stalkerish', 'stalking', 'stall', 'stalling', 'stammering', 'stamp', 'stance', 'stand', 'standard', 'standardized', 'standart', 'standby', 'standing', 'standstill', 'stangers', 'stanislas', 'stant', 'star', 'starbucks', 'stare', 'stared', 'starfish', 'staring', 'stark', 'starkly', 'starring', 'start', 'started', 'startednot', 'starter', 'starting', 'startingdoing', 'startled', 'startlingly', 'startstop', 'starvation', 'starve', 'starved', 'starving', 'stash', 'stashed', 'stasis', 'state', 'stated', 'statement', 'static', 'staticky', 'stating', 'station', 'stationary', 'statistic', 'statistical', 'statistically', 'statmnents', 'stats', 'status', 'stave', 'staving', 'stay', 'stayed', 'staying', 'std', 'stdsstis', 'steadily', 'steady', 'steadying', 'steal', 'stealing', 'stealth', 'steam', 'steamrolled', 'steange', 'steel', 'steep', 'steer', 'steering', 'stem', 'stemmed', 'stemming', 'step', 'stepbystep', 'stepdad', 'stepfamily', 'stepfather', 'stepmom', 'stepmother', 'stepmum', 'stepparent', 'stepped', 'steppenwolf', 'stepping', 'stereotype', 'stereotypical', 'stern', 'sternum', 'steroid', 'stethoscope', 'steuggling', 'steve', 'stew', 'stewing', 'sth', 'sti', 'stick', 'sticking', 'stickthorn', 'sticky', 'stiff', 'stiffed', 'stifle', 'stigma', 'stil', 'still', 'stillest', 'stim', 'stiming', 'stimiuli', 'stimulant', 'stimulate', 'stimulated', 'stimulating', 'stimulation', 'stimulus', 'sting', 'stinging', 'stingy', 'stink', 'stint', 'stir', 'stirred', 'stis', 'stitch', 'stnd', 'stock', 'stocker', 'stocking', 'stoic', 'stole', 'stolen', 'stomac', 'stomach', 'stomachache', 'stomacheache', 'stone', 'stonewall', 'stood', 'stool', 'stop', 'stoped', 'stopgap', 'stopi', 'stopped', 'stopping', 'stopwhen', 'storage', 'store', 'stored', 'storiesadvice', 'storm', 'stormed', 'story', 'storyqa', 'storysigned', 'storyteller', 'storytelling', 'stout', 'stove', 'stowaway', 'straight', 'straighten', 'straightened', 'straighter', 'straightforward', 'strain', 'strained', 'straining', 'strand', 'stranded', 'strange', 'strangely', 'stranger', 'strangest', 'strangled', 'strangles', 'strangling', 'strap', 'strategist', 'strategy', 'straw', 'streak', 'stream', 'streamer', 'streaming', 'streamofconsciousness', 'streching', 'streesd', 'street', 'streetsidewalk', 'strem', 'strengh', 'strenght', 'strength', 'strenuous', 'strep', 'stresam', 'stress', 'stressanxiety', 'stressanxietypanic', 'stressbusting', 'stressed', 'stressedanxious', 'stresseddepressed', 'stressfeelings', 'stressfinancial', 'stressfree', 'stressful', 'stressfuldisturbing', 'stressinduced', 'stressing', 'stressless', 'stressmanagement', 'stressor', 'stressreducing', 'stresssadness', 'stresssful', 'stresssmoking', 'stretch', 'stretched', 'stretching', 'strict', 'stricter', 'strictly', 'stride', 'strike', 'strikesmy', 'string', 'stringing', 'strip', 'striped', 'stripped', 'stripping', 'strive', 'strives', 'striving', 'stroke', 'stroking', 'stroll', 'strong', 'stronger', 'strongerhealthier', 'strongest', 'strongly', 'stronze', 'stroonza', 'struck', 'struckstuck', 'structure', 'structured', 'structuring', 'struggeling', 'struggle', 'struggled', 'struggling', 'struggljng', 'strughling', 'strugling', 'strung', 'stubborn', 'stuck', 'stuckeatinghumming', 'student', 'studied', 'studio', 'study', 'studying', 'studyresearchtraining', 'studywritethink', 'stuff', 'stuffed', 'stuffy', 'stuggle', 'stumble', 'stumbled', 'stumbling', 'stumped', 'stung', 'stunning', 'stunt', 'stunted', 'stupid', 'stupidass', 'stupidest', 'stupidity', 'stupidlazyignorantunorganized', 'stupidly', 'sturdy', 'stutter', 'stuttering', 'stuttery', 'stwhy', 'styethat', 'style', 'stylist', 'su', 'sub', 'subconciously', 'subconscious', 'subconsciously', 'subgroup', 'subhuman', 'subject', 'subjective', 'subjectively', 'subliminal', 'submarine', 'submerge', 'submission', 'submit', 'submitted', 'submitting', 'suboxone', 'subpar', 'subpari', 'subreddit', 'subredditplatform', 'subreddits', 'subscribe', 'subscription', 'subsequently', 'subshopping', 'subside', 'subsided', 'subsides', 'subsidises', 'substance', 'substantial', 'substantially', 'substitute', 'subtle', 'subtlety', 'subtly', 'suburb', 'subvocalization', 'subway', 'succede', 'succeed', 'succeeded', 'succeeding', 'succes', 'succesful', 'succesfull', 'success', 'successful', 'successfulgrowth', 'successfully', 'successnone', 'succumb', 'succumbed', 'succumbing', 'sucesss', 'sucicial', 'sucidal', 'sucide', 'sucidial', 'suck', 'sucked', 'sucking', 'sucky', 'sucralose', 'sudafed', 'sudden', 'suddenly', 'suddenlyi', 'sudicial', 'sue', 'sued', 'sueted', 'suffer', 'suffered', 'sufferer', 'suffering', 'sufferingits', 'suffers', 'suffice', 'sufficient', 'sufficiente', 'sufficiently', 'suffocate', 'suffocated', 'suffocates', 'suffocating', 'suffocatingi', 'suffocation', 'sufi', 'sufocated', 'sugar', 'sugarcoat', 'sugarcoating', 'sugarjunk', 'sugarvitc', 'sugary', 'suggest', 'suggested', 'suggestible', 'suggesting', 'suggestion', 'suggestive', 'suggests', 'sui', 'suicial', 'suicidal', 'suicidaldepressed', 'suicidali', 'suicidality', 'suicidall', 'suicidalthat', 'suicidar', 'suicidddal', 'suicide', 'suicidemay', 'suicideselfharm', 'suiciding', 'suicidle', 'suidal', 'suidice', 'suing', 'suis', 'suit', 'suitable', 'suite', 'suited', 'sulfate', 'sulk', 'sulley', 'sum', 'summa', 'summarise', 'summarize', 'summarized', 'summarizing', 'summary', 'summation', 'summed', 'summer', 'summery', 'sun', 'sunburn', 'sunburnt', 'sunday', 'sundown', 'sunk', 'sunken', 'sunlight', 'sunny', 'sunrise', 'sunset', 'sunshine', 'super', 'superanxious', 'superb', 'superbowl', 'superficial', 'superficially', 'superhero', 'superimposed', 'superintendent', 'superior', 'superiority', 'superman', 'supermarket', 'superstitious', 'supervise', 'supervising', 'supervision', 'supervisor', 'supongo', 'supplement', 'supplemental', 'supplementary', 'supply', 'support', 'supported', 'supporter', 'supporting', 'supportive', 'supportiveness', 'suppose', 'supposed', 'supposedly', 'suppport', 'suppress', 'suppressed', 'suppressing', 'suppression', 'supress', 'sur', 'sure', 'surely', 'surface', 'surfaced', 'surfacemuscle', 'surfacing', 'surficial', 'surfing', 'surge', 'surgeon', 'surgery', 'surgerybut', 'surgically', 'surmenage', 'surpass', 'surpassed', 'surpassing', 'surpress', 'surprise', 'surprised', 'surprising', 'surprisingly', 'surreal', 'surrender', 'surrendered', 'surrogacy', 'surround', 'surrounded', 'surrounding', 'surroundings', 'surveillence', 'survey', 'surveytime', 'survivable', 'survival', 'survive', 'survived', 'surviving', 'survivor', 'susceptible', 'sushant', 'suspect', 'suspected', 'suspecting', 'suspend', 'suspended', 'suspense', 'suspension', 'suspicion', 'suspicious', 'susser', 'sustain', 'sustainability', 'sustainable', 'sustainably', 'sustained', 'sustaining', 'suuuuck', 'sux', 'svt', 'svti', 'swallow', 'swallowed', 'swallowing', 'swam', 'swamp', 'swap', 'swapped', 'swarmed', 'swear', 'swearing', 'sweat', 'sweater', 'sweating', 'sweatpants', 'sweaty', 'swedish', 'sweep', 'sweeper', 'sweeping', 'sweet', 'sweetest', 'sweetheart', 'swelled', 'swelling', 'swept', 'swepted', 'swift', 'swiftly', 'swim', 'swimmer', 'swimming', 'swindler', 'swing', 'swinging', 'swingsblurry', 'swingy', 'swipe', 'swiped', 'swirl', 'swirling', 'swiss', 'switch', 'switched', 'switching', 'switzerland', 'swollen', 'swooped', 'sword', 'swore', 'sworn', 'swung', 'sydney', 'syllable', 'syllabus', 'symbicort', 'symbolic', 'symbolism', 'symotoms', 'sympathetic', 'sympathetically', 'sympathise', 'sympathize', 'sympathy', 'sympoms', 'symptom', 'symptomatic', 'symptomsfeelings', 'symptomshow', 'symptomshttpswwwpocketcoachcobloganxietyvscoronavirussymptoms', 'symptomsmy', 'symptons', 'symptos', 'symtoms', 'syndrome', 'synthesize', 'synthroid', 'syntomes', 'syria', 'syrian', 'syringe', 'syrup', 'system', 'sé', 'tab', 'table', 'tablet', 'taboo', 'tacking', 'tackle', 'tackled', 'tackling', 'tactic', 'tactless', 'tad', 'taekwondo', 'tag', 'tagalog', 'tai', 'taichi', 'tail', 'tailspin', 'tain', 'taint', 'tainted', 'tainting', 'taio', 'take', 'takeaway', 'takeing', 'takelifebythehorns', 'taken', 'takeout', 'taker', 'taking', 'tale', 'talent', 'talented', 'talentless', 'talentsbeing', 'talets', 'talk', 'talkative', 'talkativeness', 'talked', 'talkedtold', 'talker', 'talkfind', 'talkie', 'talkig', 'talking', 'talkingacting', 'tall', 'taller', 'tally', 'talon', 'también', 'tame', 'tamping', 'tan', 'tangent', 'tangible', 'tank', 'tanker', 'tanking', 'tanto', 'tantrum', 'tap', 'tape', 'taped', 'taper', 'tapered', 'tapering', 'tapeworm', 'tapped', 'tapping', 'tardy', 'target', 'targeted', 'tarnished', 'task', 'tasked', 'tasking', 'taskscheduler', 'taskschores', 'taste', 'tasted', 'tastefeel', 'tasteless', 'tasting', 'tasty', 'tattoo', 'taught', 'taunted', 'tax', 'taxi', 'taxing', 'tb', 'tbd', 'tbe', 'tbeybstill', 'tbh', 'tbhi', 'tbimigraine', 'tca', 'tcas', 'tds', 'te', 'tea', 'teach', 'teacher', 'teaching', 'teahouse', 'team', 'teamed', 'teammate', 'tear', 'teared', 'tearful', 'tearfulthe', 'tearing', 'teary', 'tease', 'teasing', 'tech', 'techhttpsledgerhumanetechcom', 'technical', 'technically', 'technician', 'technique', 'technoblade', 'technology', 'tectonic', 'ted', 'teddy', 'tedious', 'teen', 'teenage', 'teenagehood', 'teenager', 'teenstwenties', 'teerh', 'teeth', 'tel', 'teledoc', 'telehealth', 'telephone', 'teleport', 'television', 'teling', 'tell', 'telling', 'tellingen', 'telltale', 'tellthe', 'tellung', 'temp', 'temper', 'temperament', 'temperate', 'temperature', 'tempered', 'temple', 'tempo', 'temporal', 'temporarily', 'temporary', 'temptation', 'tempted', 'tempting', 'ten', 'tenant', 'tend', 'tendancy', 'tended', 'tendency', 'tender', 'tenderness', 'tendon', 'tends', 'tenfold', 'tengo', 'tennessee', 'tennis', 'tense', 'tensed', 'tensing', 'tension', 'tensionnumbness', 'tensity', 'tent', 'tentatives', 'tequila', 'tercera', 'term', 'termed', 'terminal', 'terminally', 'terminate', 'terminated', 'termination', 'terminology', 'termsummer', 'terrible', 'terribly', 'terrified', 'terrifies', 'terrifing', 'terrify', 'terrifyed', 'terrifying', 'territory', 'terror', 'terrorism', 'terrorist', 'tesla', 'test', 'testament', 'tested', 'testhalter', 'testi', 'testiacle', 'testicle', 'testimoniesstories', 'testing', 'testosterone', 'testsaugust', 'testshealth', 'tet', 'tether', 'tethered', 'texas', 'texoma', 'text', 'textbook', 'textcall', 'texted', 'texting', 'textsemails', 'texture', 'tf', 'tfue', 'tg', 'th', 'tha', 'thailand', 'thaj', 'thanatophobia', 'thanatos', 'thank', 'thankful', 'thankfully', 'thanking', 'thankless', 'thanks', 'thanksappreciated', 'thanksgiving', 'thankyou', 'thatas', 'thatbe', 'thatd', 'thatll', 'thatmaybe', 'thatmy', 'thatre', 'thats', 'thatyou', 'thaw', 'thc', 'thcern', 'thdis', 'theanine', 'theater', 'theatre', 'thebones', 'theclass', 'thee', 'theeres', 'thefeet', 'thembreeds', 'theme', 'themi', 'themmy', 'themself', 'themtheres', 'themthis', 'thenwell', 'theoretical', 'theoreticals', 'theorist', 'theory', 'ther', 'therapeutic', 'theraphist', 'theraphy', 'therapiessince', 'therapist', 'therapistpsychiatrist', 'therapistpsychologist', 'therapy', 'therapyanxiety', 'therapycounseling', 'therapypsychologist', 'there', 'thereafter', 'thereand', 'thereby', 'thereeverydaynever', 'therefore', 'therei', 'thereit', 'theremost', 'therepy', 'therewhy', 'therewithin', 'theripis', 'thermal', 'therpaist', 'thers', 'thesehttpsmuffingroupcomblogrelaxingwebsites', 'thesis', 'thespian', 'theyd', 'theyll', 'theyre', 'theyve', 'thick', 'thicker', 'thief', 'thier', 'thigh', 'thim', 'thin', 'thing', 'thingbuilt', 'thingsand', 'thingsor', 'thingspeople', 'thingsplacespersons', 'thingy', 'thinhs', 'think', 'thinker', 'thinkfeel', 'thinkig', 'thinkin', 'thinking', 'thinkknow', 'thinning', 'third', 'thirst', 'thirteen', 'thirty', 'thisall', 'thisalso', 'thisand', 'thiscan', 'thisfuck', 'thisi', 'thisive', 'thisnwhole', 'thisthen', 'thisthere', 'thisyou', 'thnx', 'tho', 'thomas', 'thoreau', 'thorough', 'thoroughly', 'thou', 'thoug', 'though', 'thoughs', 'thoughsfears', 'thought', 'thoughtdumps', 'thoughtful', 'thoughtpattern', 'thoughtsbecomethings', 'thoughtsbut', 'thoughtsed', 'thoughtsfears', 'thoughtsharm', 'thoughtshowever', 'thoughtsinspite', 'thoughtsperspective', 'thoughtstendencies', 'thougjts', 'thougt', 'thourough', 'thousand', 'thr', 'thrash', 'thrashed', 'thread', 'threat', 'threaten', 'threatened', 'threateneddone', 'threatening', 'threatens', 'threathenimg', 'three', 'threshold', 'threw', 'thrice', 'thrill', 'thrilled', 'thriller', 'thrilling', 'thrive', 'thriving', 'throat', 'throb', 'throbbing', 'throght', 'throne', 'throughout', 'throughs', 'throught', 'throughway', 'throw', 'throwaway', 'throwing', 'thrown', 'thru', 'thrust', 'thry', 'thsi', 'thsssssn', 'tht', 'thts', 'thudding', 'thug', 'thumb', 'thumbnail', 'thumbprint', 'thumbskin', 'thumping', 'thunder', 'thungs', 'thurs', 'thursday', 'thus', 'thw', 'thx', 'thymol', 'thyroid', 'ti', 'tia', 'tic', 'tick', 'ticket', 'ticking', 'tickle', 'tide', 'tidied', 'tidy', 'tidying', 'tie', 'tied', 'tier', 'tiered', 'tiger', 'tigger', 'tight', 'tighten', 'tightened', 'tightening', 'tightens', 'tighter', 'tightness', 'tightning', 'tightnit', 'tightweak', 'tiktok', 'tiktoks', 'til', 'tile', 'till', 'tilt', 'tilted', 'time', 'timeand', 'timearound', 'timebc', 'timebut', 'timed', 'timeframe', 'timegift', 'timei', 'timeismoney', 'timeline', 'timeloop', 'timely', 'timeoffwork', 'timeout', 'timer', 'timesalmost', 'timesi', 'timespan', 'timesthat', 'timetable', 'timetabling', 'timetelling', 'timid', 'timing', 'tin', 'tinder', 'tinfoil', 'tingels', 'tingle', 'tingling', 'tinglingbutterfly', 'tinglingzapping', 'tingly', 'tiniest', 'tinnitus', 'tinted', 'tiny', 'tioned', 'tip', 'tipped', 'tipping', 'tipstricks', 'tipsy', 'tiptoe', 'tiptoeing', 'tire', 'tired', 'tiredddd', 'tiredhungry', 'tiredness', 'tirednesszoloft', 'tiredso', 'tirelessly', 'tiresome', 'tiring', 'tissue', 'titanic', 'title', 'titrated', 'tittle', 'tjat', 'tk', 'tl', 'tldr', 'tltr', 'tm', 'tmi', 'tmrw', 'tmrws', 'tn', 'toand', 'toast', 'tobacco', 'tocheckin', 'tod', 'today', 'todayor', 'toddler', 'todo', 'todoist', 'todos', 'toe', 'toenail', 'together', 'togethers', 'toher', 'toilet', 'toit', 'toke', 'told', 'tole', 'tolerance', 'toleranceaddiction', 'tolerant', 'tolerat', 'tolerate', 'tolerated', 'tolerating', 'toll', 'tolle', 'tolling', 'tolstoy', 'tom', 'tomarrow', 'tomato', 'tomb', 'tome', 'tommorow', 'tomography', 'tomorow', 'tomorro', 'tomorrow', 'tomorrowclaustrophobia', 'ton', 'tone', 'toned', 'tongue', 'tonight', 'tonne', 'tonrow', 'tonsil', 'tonus', 'tooi', 'took', 'tool', 'toolbox', 'toolkit', 'tooo', 'tooth', 'toothbrush', 'toothpaste', 'toowhy', 'top', 'topic', 'topical', 'topiramate', 'toplaces', 'topof', 'topofthe', 'topper', 'torch', 'torcher', 'tore', 'torment', 'tormented', 'tormenting', 'torn', 'toronto', 'torrent', 'torsotrunk', 'torture', 'tortured', 'torturing', 'torturous', 'toss', 'tossed', 'tossing', 'tossingturning', 'total', 'totaled', 'totally', 'touch', 'touched', 'touchesi', 'touching', 'touchy', 'tough', 'toughen', 'tougher', 'toughest', 'toughness', 'tought', 'toughts', 'tour', 'tourette', 'tourist', 'touristic', 'tournament', 'tous', 'tout', 'tow', 'toward', 'towards', 'towed', 'towel', 'tower', 'towhat', 'town', 'toxic', 'toxicity', 'toxicjealousclingy', 'toxicmostly', 'toxin', 'toy', 'toyed', 'toying', 'toĺd', 'trace', 'traced', 'tracer', 'track', 'tracked', 'tracker', 'trackhttpsyoutubekhouf', 'tracking', 'tract', 'traction', 'trade', 'tradeoff', 'trader', 'tradespeople', 'trading', 'tradition', 'traditional', 'traditionalist', 'traduced', 'traffic', 'tragedy', 'tragic', 'tragically', 'traids', 'trail', 'trailing', 'train', 'trained', 'trainee', 'training', 'trait', 'trajectory', 'tram', 'trama', 'tramadol', 'tramodol', 'tramping', 'trampled', 'trance', 'tranny', 'tranquil', 'tranquility', 'tranquilizer', 'tranquilizersedative', 'trans', 'transcript', 'transdermal', 'transfemine', 'transfer', 'transferred', 'transferring', 'transfixed', 'transform', 'transformation', 'transformational', 'transformed', 'transgender', 'transit', 'transition', 'transitioned', 'transitioning', 'translate', 'translated', 'translating', 'translation', 'translucent', 'transmission', 'transmitted', 'transmitting', 'transparent', 'transphobia', 'transphobic', 'transport', 'transportation', 'transvaginal', 'tranxilium', 'trap', 'traped', 'trapeze', 'trapped', 'trappedwhich', 'trapping', 'trash', 'trashcan', 'trashed', 'trataka', 'trauma', 'traumaguardedness', 'traumatic', 'traumatise', 'traumatised', 'traumatising', 'traumatize', 'traumatized', 'traumatizes', 'traumatizing', 'travel', 'traveled', 'traveler', 'travelflight', 'traveling', 'travelled', 'traveller', 'travelling', 'travled', 'tray', 'trazadone', 'trazodone', 'treacherous', 'treading', 'treasonous', 'treasure', 'treat', 'treatable', 'treated', 'treating', 'treatment', 'tree', 'tremble', 'trembling', 'tremblingshaking', 'trembly', 'tremendous', 'tremendously', 'tremor', 'trend', 'trendy', 'trespass', 'trey', 'trial', 'trialed', 'trianwreck', 'tribble', 'tribute', 'tricepshoulder', 'trichotillomania', 'trick', 'tricked', 'tricking', 'tricky', 'tricyclic', 'tried', 'trigger', 'triggerd', 'triggered', 'triggering', 'triggerw', 'trileptal', 'trimestrals', 'trintellix', 'trintillex', 'trio', 'trip', 'triple', 'tripped', 'tripping', 'trippy', 'tris', 'triste', 'triumph', 'trivia', 'trivial', 'trivializing', 'troll', 'trolling', 'trompé', 'troop', 'trope', 'trophy', 'trophycaring', 'tropic', 'tropical', 'trouble', 'troubled', 'troublesome', 'troublessadness', 'troublesthere', 'troubling', 'trough', 'trout', 'tru', 'truama', 'truancy', 'truc', 'truck', 'trucking', 'trudge', 'true', 'truely', 'truest', 'truly', 'truma', 'trump', 'trumpers', 'trundle', 'trunk', 'trust', 'trusted', 'trusting', 'trustworthy', 'truth', 'truthfinder', 'truthfully', 'truuuuuust', 'try', 'tryed', 'tryhard', 'tryhards', 'tryin', 'trying', 'tryingi', 'tryna', 'trynothing', 'tryreddit', 'tryst', 'très', 'tsh', 'tshirts', 'tsunami', 'tt', 'tube', 'tuber', 'tucked', 'tucking', 'tue', 'tuesday', 'tuesthurs', 'tug', 'tugging', 'tuition', 'tulpa', 'tuly', 'tumble', 'tumbling', 'tumblr', 'tummy', 'tumor', 'tumour', 'tumouraneurysm', 'tune', 'tuned', 'tunnel', 'turbulence', 'turkey', 'turkeying', 'turmoil', 'turn', 'turned', 'turning', 'turnover', 'turnt', 'turock', 'turtle', 'tussilago', 'tutition', 'tutor', 'tutorial', 'tutoring', 'tv', 'tversky', 'tw', 'twabuse', 'tweaked', 'tweet', 'tweeted', 'tweeting', 'twelve', 'twenty', 'twentyfive', 'twentyfourseven', 'twentyone', 'twerking', 'twice', 'twiddling', 'twilight', 'twin', 'twinge', 'twinsister', 'twist', 'twisted', 'twisting', 'twitch', 'twitcheseye', 'twitching', 'twitchy', 'twitchyjumpy', 'twitter', 'twnear', 'two', 'twofaced', 'twothree', 'tx', 'ty', 'tyanol', 'tye', 'tying', 'tylenol', 'tyler', 'type', 'typed', 'typical', 'typically', 'typing', 'typo', 'tyson', 'u', 'ua', 'uars', 'uber', 'ubers', 'ubertalented', 'ubik', 'ucat', 'uchiha', 'uck', 'ugggggh', 'ugh', 'ughhh', 'ughhhhhhhh', 'uglier', 'ugliness', 'ugly', 'uglycrying', 'uh', 'uhh', 'uhm', 'uhoh', 'uhttpigotucorpcom', 'uk', 'ukraine', 'ukrainian', 'ulcer', 'ulcerative', 'ultimate', 'ultimately', 'ultimatum', 'ultra', 'ultrasharp', 'ultrasound', 'um', 'ummm', 'umpteenth', 'un', 'una', 'unability', 'unable', 'unacceptable', 'unaccomplished', 'unadd', 'unadultered', 'unaffected', 'unafraid', 'unalive', 'unaliving', 'unambiguous', 'unannounced', 'unanswerable', 'unanswered', 'unanticipated', 'unappreciated', 'unassailable', 'unattainable', 'unattractive', 'unavailability', 'unavailable', 'unavoidable', 'unaware', 'unbalanced', 'unbearable', 'unbearableness', 'unbearably', 'unbeknownst', 'unbelievable', 'unbelievably', 'unblock', 'unblocked', 'unboringly', 'unborn', 'unbreakable', 'uncanny', 'uncapable', 'uncared', 'uncaring', 'uncertain', 'uncertainity', 'uncertainty', 'unchanged', 'unchanging', 'uncle', 'unclear', 'unclemy', 'unclench', 'uncleyour', 'unclog', 'uncomfable', 'uncomfortability', 'uncomfortable', 'uncomfortableawkward', 'uncomfortableness', 'uncomfy', 'uncommon', 'uncommonuntalked', 'uncomparable', 'uncompromised', 'unconcern', 'unconditional', 'unconditionally', 'unconfortable', 'unconscious', 'unconsciously', 'uncontrollable', 'uncontrollably', 'uncontrolled', 'unconvinced', 'uncoordinated', 'uncountable', 'und', 'undeniably', 'undepress', 'undepressed', 'underachiever', 'underage', 'undercompensate', 'undercover', 'underdeveloped', 'underestimating', 'underestimation', 'undergone', 'undergrad', 'underlying', 'undermine', 'underneath', 'underpaid', 'underperform', 'underperforming', 'underrecognized', 'undersea', 'underside', 'understable', 'understaffed', 'understand', 'understandable', 'understandably', 'understanding', 'understands', 'understatement', 'understood', 'undertone', 'underwater', 'underwear', 'underweight', 'underwhelming', 'undescribable', 'undeserving', 'undeservingness', 'undesirable', 'undestand', 'undiagnosed', 'undiagnosedbecause', 'undisturbed', 'undo', 'undocumented', 'undoing', 'undone', 'undoubtedly', 'undying', 'une', 'unease', 'uneasiness', 'uneasy', 'uneducated', 'unempanthetic', 'unempathic', 'unemployd', 'unemployed', 'unemployednever', 'unemployment', 'unemploymentand', 'unenthusiastic', 'uneployed', 'unes', 'uneven', 'uneveness', 'unevenness', 'uneventful', 'uneventfully', 'unexpected', 'unexpectedly', 'unexplainable', 'unexplained', 'unfair', 'unfaithful', 'unfamiliar', 'unfinished', 'unfit', 'unfixable', 'unflattering', 'unfocus', 'unfocused', 'unfocusing', 'unfold', 'unfolding', 'unfollow', 'unfollowed', 'unfollows', 'unfortunate', 'unfortunately', 'unfounded', 'unfriend', 'unfriended', 'unfriendly', 'unfulfilled', 'unfulfilling', 'ungodly', 'ungrateful', 'unhappier', 'unhappiness', 'unhappy', 'unhappybut', 'unhealed', 'unhealthy', 'unhear', 'unheard', 'unhelpful', 'unhinged', 'uni', 'uniform', 'unimaginable', 'unimaginably', 'unimportant', 'uninspired', 'uninstalling', 'unintelligible', 'unintentional', 'unintentionally', 'uninterested', 'uninteresting', 'uninterrupted', 'uninvited', 'unipolar', 'unique', 'unironically', 'unis', 'unit', 'united', 'unity', 'uniusing', 'univeritys', 'universal', 'universally', 'universe', 'university', 'uniwersity', 'unjust', 'unjustified', 'unkind', 'unknowingly', 'unknown', 'unlearn', 'unlearned', 'unless', 'unlikable', 'unlike', 'unliked', 'unlikelihood', 'unlikely', 'unlimited', 'unlink', 'unload', 'unloading', 'unlock', 'unlocked', 'unlockedetc', 'unlovable', 'unloveable', 'unloved', 'unlucky', 'unmade', 'unmanageable', 'unmarried', 'unmeasured', 'unmedicated', 'unmedicatedhavent', 'unmotivated', 'unnatural', 'unnecessarily', 'unnecessary', 'unneeded', 'unnerving', 'unnoticeable', 'unnoticed', 'uno', 'unobtainable', 'unopened', 'unorganized', 'unpack', 'unpacking', 'unpaid', 'unpicking', 'unplanned', 'unpleasant', 'unplug', 'unpopular', 'unprecedented', 'unpredictable', 'unprepared', 'unprescribed', 'unprivate', 'unprocessed', 'unproductive', 'unprofessional', 'unprompted', 'unprotected', 'unprovided', 'unprovoked', 'unrational', 'unravel', 'unraveled', 'unraveling', 'unreachable', 'unread', 'unreal', 'unrealistic', 'unreasbly', 'unreasonable', 'unreasonably', 'unrecognised', 'unredeemable', 'unrefreshing', 'unregulated', 'unrelated', 'unrelenting', 'unreliable', 'unrequited', 'unresolved', 'unrest', 'unsafe', 'unsanitary', 'unsatisfied', 'unsavory', 'unsavvory', 'unscathed', 'unscrewed', 'unseccessfull', 'unsent', 'unserious', 'unsettled', 'unsettling', 'unshakably', 'unsocial', 'unsolicited', 'unsolved', 'unstable', 'unsteady', 'unstoppable', 'unsuccessful', 'unsuccessfully', 'unsupported', 'unsupportive', 'unsure', 'unsustainable', 'unsympathetic', 'untangle', 'untidy', 'untied', 'untill', 'untitled', 'unto', 'untoward', 'untreatable', 'untreated', 'untriggered', 'untrue', 'untrustworthy', 'unusual', 'unusually', 'unwanted', 'unwarranted', 'unwatered', 'unweighted', 'unwelcome', 'unwell', 'unwellness', 'unwilling', 'unwillingness', 'unwind', 'unwise', 'unworthy', 'unyielding', 'upand', 'upbeat', 'upbringing', 'upchanging', 'upcoming', 'update', 'updated', 'upfront', 'upgoing', 'upgrading', 'uphill', 'uphold', 'upill', 'upim', 'upit', 'upkeep', 'upleave', 'uplifted', 'uplifting', 'upliftinghopeful', 'uploaded', 'upmy', 'upness', 'upolder', 'upon', 'uppass', 'upped', 'upper', 'upping', 'upplay', 'upright', 'ups', 'upset', 'upsetting', 'upsfedexamazon', 'upside', 'upstairs', 'upstate', 'upstream', 'upswing', 'upthen', 'uptight', 'uptill', 'uptingling', 'upto', 'upvote', 'upvotes', 'upwhat', 'ur', 'urban', 'urge', 'urgency', 'urgent', 'urgently', 'urgghh', 'urghhhhh', 'urging', 'urinal', 'urinary', 'urinate', 'urine', 'urself', 'us', 'usa', 'usage', 'usd', 'usda', 'use', 'used', 'useful', 'useless', 'uselessim', 'user', 'username', 'usesee', 'using', 'usless', 'ust', 'usual', 'usually', 'ut', 'utensil', 'uterus', 'uti', 'utility', 'utilize', 'utilized', 'utilizing', 'utis', 'utter', 'utterly', 'uuuugggh', 'uwu', 'v', 'va', 'vacances', 'vacancy', 'vacation', 'vacay', 'vaccation', 'vaccations', 'vaccinated', 'vaccination', 'vaccine', 'vaccinei', 'vaccuum', 'vacuous', 'vacuum', 'vacuumed', 'vagina', 'vague', 'vaguely', 'vagus', 'vain', 'vais', 'valdoxan', 'valentine', 'valerian', 'vali', 'valid', 'validate', 'validated', 'validating', 'validation', 'validsick', 'valium', 'valley', 'valorant', 'valuable', 'value', 'valued', 'valve', 'vampire', 'van', 'vanish', 'vanished', 'vanquished', 'vape', 'vaped', 'vapes', 'vaping', 'variable', 'variant', 'variation', 'varied', 'varies', 'variety', 'various', 'varsity', 'vary', 'varying', 'vascular', 'vasovagal', 'vast', 'vastness', 'vat', 'vaxxed', 'vaxxers', 'vcs', 'veces', 'vega', 'vegan', 'vegetable', 'vegetarian', 'veggie', 'vehemently', 'vehicle', 'veign', 'veil', 'vein', 'velopharyngeal', 'vencida', 'venezuela', 'vengeance', 'venice', 'venlafaxine', 'venlaflaxin', 'venlaxafine', 'venmo', 'venom', 'vent', 'vented', 'venti', 'ventilation', 'ventilator', 'venting', 'ventknow', 'ventrant', 'venture', 'ventured', 'venturing', 'venue', 'veo', 'ver', 'verbal', 'verbalize', 'verbalized', 'verbally', 'verdant', 'verge', 'verging', 'verifiable', 'verify', 'verry', 'versa', 'verse', 'version', 'versus', 'vertigo', 'verycomplicated', 'veryyyy', 'vessel', 'vet', 'veteran', 'veux', 'vfx', 'vi', 'via', 'viable', 'vial', 'vibe', 'vibin', 'vibing', 'vibrant', 'vibratey', 'vibrating', 'vibration', 'vicariously', 'vice', 'vicinity', 'vicious', 'viciously', 'victim', 'victimblamed', 'victimizing', 'victor', 'victory', 'vid', 'vida', 'video', 'videogame', 'videogames', 'videogaming', 'videography', 'videosi', 'vidol', 'vidsone', 'vie', 'vietnam', 'view', 'viewed', 'viewing', 'viewpoint', 'vigilance', 'vigilant', 'vii', 'viibryd', 'viktor', 'vile', 'village', 'villain', 'villainize', 'villan', 'vincent', 'vindication', 'vindictive', 'violated', 'violates', 'violence', 'violent', 'violently', 'violin', 'viral', 'virgin', 'virginia', 'virginity', 'virtual', 'virtually', 'virtue', 'virus', 'visa', 'visceral', 'viscious', 'viscous', 'visibility', 'visible', 'visibly', 'vision', 'visionwhen', 'visit', 'visited', 'visiting', 'visitor', 'vistaril', 'visual', 'visualise', 'visualize', 'visualizing', 'visually', 'visuals', 'vit', 'vita', 'vital', 'vitality', 'vitamin', 'vitriol', 'vitriolic', 'vivait', 'vivid', 'vividly', 'vividness', 'viviendo', 'vocabulary', 'vocal', 'vocalised', 'vocalizing', 'vocational', 'vodka', 'voice', 'voicei', 'voicemail', 'voicing', 'void', 'voila', 'voir', 'volatile', 'volcano', 'volition', 'volleyball', 'voltage', 'volume', 'volumeeg', 'voluntarily', 'voluntarism', 'voluntary', 'volunteer', 'volunteered', 'volunteering', 'vomit', 'vomiting', 'vomitingacid', 'vomitting', 'von', 'vorioxetine', 'vortioxetine', 'vote', 'voted', 'voting', 'vouch', 'voudrais', 'vow', 'vowed', 'vpi', 'vpn', 'vr', 'vraiment', 'vu', 'vujicic', 'vulgar', 'vulnerability', 'vulnerable', 'vut', 'vyvance', 'vécu', 'w', 'waaaay', 'waaay', 'waayy', 'wackier', 'waering', 'wafer', 'waft', 'wage', 'wagefixing', 'wageslavery', 'wagon', 'waifuhusbando', 'wail', 'wailing', 'waist', 'wait', 'waited', 'waitedeveryday', 'waiting', 'waitlist', 'waitlists', 'waitress', 'waitressing', 'waiver', 'wajt', 'wake', 'wakeup', 'waking', 'wale', 'walgreens', 'walk', 'walkeatetc', 'walked', 'walker', 'walking', 'walkway', 'wall', 'wallet', 'wallhttpschatwhatsappcomlpgsdyurzgbuxhjj', 'wallow', 'wallstreets', 'walmart', 'wan', 'wand', 'wander', 'wandered', 'wandering', 'wanders', 'wanna', 'wannabe', 'wannaneed', 'want', 'wanted', 'wanthttpsbitlyhntxjo', 'wanti', 'wanting', 'wantneed', 'wanxiety', 'war', 'warcraft', 'ward', 'wardrobe', 'ware', 'warehouse', 'warfare', 'warm', 'warming', 'warmingi', 'warmly', 'warms', 'warmth', 'warn', 'warned', 'warning', 'warningsexual', 'warped', 'warping', 'warrant', 'warranty', 'warrior', 'wart', 'wary', 'wash', 'washable', 'washed', 'washer', 'washing', 'washington', 'washroom', 'wasis', 'waslike', 'wasnt', 'waste', 'wasted', 'wasteful', 'waster', 'wasting', 'wastoo', 'watch', 'watched', 'watcher', 'watching', 'watchingeating', 'watchread', 'water', 'waterbears', 'waterbottle', 'watercraft', 'watered', 'waterelectric', 'watering', 'waterpower', 'waterworks', 'watt', 'wattpadaowebtoon', 'wause', 'wave', 'wavelength', 'waw', 'wax', 'way', 'wayside', 'wayyet', 'wayyy', 'wazoo', 'wazouski', 'wbc', 'weak', 'weaken', 'weaker', 'weakling', 'weakness', 'weakwhinny', 'weakwilled', 'wealth', 'wealthier', 'wealthy', 'wean', 'weaned', 'weaning', 'weapon', 'wear', 'wearenotwhitetrashohwait', 'wearing', 'weary', 'weather', 'web', 'website', 'wed', 'wedding', 'wednesday', 'wee', 'weeb', 'weed', 'weeeell', 'week', 'weekday', 'weekend', 'weekes', 'weeki', 'weeklong', 'weekly', 'weeksmonths', 'weeksthe', 'weekwhen', 'weened', 'weep', 'weigh', 'weighed', 'weighing', 'weighlifting', 'weighs', 'weight', 'weighted', 'weightless', 'weightlessness', 'weightlifting', 'weightlosshealth', 'weird', 'weirder', 'weirdest', 'weirdly', 'weirdness', 'weirdo', 'weirdunpleasant', 'wek', 'welbrutin', 'welbutrin', 'welcome', 'welcomed', 'welcoming', 'weld', 'welded', 'welder', 'welding', 'welfare', 'well', 'welladjusted', 'wellbeing', 'wellburtin', 'wellbutrin', 'welled', 'welli', 'welling', 'wellintentioned', 'wellknown', 'wellliked', 'wellmanaged', 'wellmostrar', 'wellness', 'wellthought', 'wellvoice', 'welp', 'welsh', 'welt', 'wen', 'wenn', 'wensday', 'went', 'wept', 'werdet', 'wereare', 'werent', 'weresome', 'west', 'western', 'wet', 'wether', 'wetting', 'weve', 'wfh', 'wft', 'whack', 'whale', 'whatcha', 'whatever', 'whateverthey', 'whatifs', 'whatnot', 'whats', 'whatsapp', 'whatsoever', 'wheel', 'wheelchair', 'wheeling', 'wheeze', 'whelmed', 'whence', 'whenenver', 'whenever', 'wheni', 'whenor', 'whens', 'whenver', 'whereas', 'wherein', 'wheres', 'wherever', 'wherewithal', 'whether', 'whey', 'whichever', 'whil', 'whilst', 'whim', 'whine', 'whiney', 'whining', 'whiny', 'whirl', 'whirlwind', 'whiskey', 'whisper', 'whispered', 'whispering', 'whit', 'white', 'whiteish', 'whither', 'whittle', 'who', 'whod', 'whoever', 'whoevers', 'whole', 'wholesome', 'wholey', 'wholly', 'whomever', 'whoop', 'whoosh', 'whooshing', 'whopping', 'whore', 'whose', 'whove', 'whowhat', 'whwn', 'whyyy', 'whyyyyyy', 'whyyyyyyyy', 'wiah', 'wich', 'wicket', 'wide', 'wideawake', 'widely', 'widening', 'wider', 'widowed', 'width', 'wieght', 'wields', 'wierd', 'wierded', 'wife', 'wifeand', 'wifeex', 'wifi', 'wiggle', 'wikipedia', 'wil', 'wild', 'wilderness', 'wildest', 'wildfire', 'wildly', 'willed', 'william', 'williams', 'willing', 'willingly', 'willingness', 'willow', 'willpower', 'wimp', 'win', 'wind', 'winded', 'winding', 'window', 'windowsill', 'windshield', 'windy', 'wine', 'wingwoman', 'wink', 'winking', 'winning', 'winsucceed', 'winter', 'wipe', 'wiped', 'wiping', 'wire', 'wired', 'wiring', 'wisdom', 'wise', 'wiser', 'wish', 'wished', 'wishful', 'wishing', 'wit', 'witch', 'withdraw', 'withdrawal', 'withdrawing', 'withdrawl', 'withdrawn', 'withdrew', 'wither', 'withered', 'withering', 'withholding', 'withidk', 'within', 'withing', 'without', 'withself', 'withstand', 'witn', 'witness', 'witnessed', 'witnessing', 'witts', 'witty', 'wizard', 'wld', 'wo', 'woah', 'wobbling', 'wobbly', 'woe', 'woebot', 'woke', 'woken', 'wolf', 'woman', 'womanizer', 'womanwhat', 'womb', 'wonder', 'wondered', 'wonderful', 'wonderfully', 'wondering', 'wonky', 'wonkyespecially', 'wont', 'wood', 'wooded', 'wooden', 'woodwork', 'woodworking', 'woozy', 'word', 'worded', 'wording', 'wordsi', 'wordsor', 'wore', 'work', 'workable', 'workaholic', 'workbook', 'workclass', 'workday', 'worked', 'worker', 'workforce', 'workin', 'working', 'workis', 'workleave', 'worklife', 'workload', 'workman', 'workmanager', 'workmay', 'workoffice', 'workout', 'workplace', 'workschool', 'workschoolfriendsetc', 'workshop', 'worksorry', 'workspace', 'workstudy', 'workup', 'world', 'worldhate', 'worldlife', 'worldly', 'worldnor', 'worlduniverse', 'worldwide', 'worm', 'wormed', 'wormhole', 'worn', 'worried', 'worriedstressedconcerned', 'worrier', 'worrisome', 'worry', 'worryhave', 'worrying', 'worryingggg', 'worrystress', 'worse', 'worsecase', 'worsehaha', 'worseif', 'worsemy', 'worsen', 'worsened', 'worsening', 'worsens', 'worser', 'worsesometimes', 'worship', 'worst', 'worstcase', 'worstcasescenarios', 'worsthardest', 'worstmy', 'wort', 'worth', 'worthless', 'worthlessness', 'worthwhile', 'worthy', 'woth', 'would', 'wouldnt', 'wouldnät', 'wouldve', 'wound', 'wounded', 'wout', 'wow', 'wphysical', 'wr', 'wracked', 'wracking', 'wrap', 'wrapped', 'wrapping', 'wreaking', 'wreck', 'wrecked', 'wrecking', 'wrenching', 'wrenchingly', 'wrescking', 'wresting', 'wrestle', 'wrestling', 'wretched', 'wriggled', 'wright', 'wring', 'wringing', 'wrist', 'wristband', 'wristshipgroinupper', 'write', 'writer', 'writes', 'writing', 'written', 'writting', 'wrong', 'wrongdoing', 'wronged', 'wrongi', 'wrongly', 'wrote', 'wsd', 'wtf', 'wtfff', 'wth', 'wuss', 'ww', 'wwe', 'wwell', 'x', 'xanax', 'xbox', 'xl', 'xmas', 'xmg', 'xox', 'xr', 'xray', 'xrays', 'xx', 'xylitol', 'xyz', 'ya', 'yacht', 'yada', 'yah', 'yahdayahda', 'yall', 'yalls', 'yard', 'yarn', 'yawn', 'yawning', 'yay', 'ye', 'yea', 'yeah', 'year', 'yearbut', 'yearit', 'yearlong', 'yearly', 'yearn', 'yearning', 'yearold', 'yearsat', 'yearsbecause', 'yearsi', 'yearsince', 'yearsmy', 'yearsnow', 'yearsso', 'yearsweekly', 'yearswent', 'yeast', 'yell', 'yelled', 'yelling', 'yellow', 'yellowish', 'yellowy', 'yep', 'yes', 'yesteeday', 'yesterday', 'yesterdayi', 'yet', 'yetbecause', 'yeti', 'yetthis', 'yey', 'yh', 'yhe', 'yhear', 'yikes', 'yippee', 'yiu', 'yk', 'yknow', 'yo', 'yoga', 'yogurt', 'york', 'youbut', 'youd', 'youif', 'youll', 'young', 'younger', 'youngerf', 'youngeri', 'youngest', 'youngin', 'youngster', 'younot', 'youper', 'youre', 'yourselfactually', 'yourselfalcohol', 'yourselfcalm', 'yourselfyou', 'yous', 'youself', 'youth', 'youthful', 'youtube', 'youtubenetflixmangawebtoon', 'youtuber', 'youtubers', 'youve', 'youwhat', 'yoyo', 'yr', 'yt', 'yubo', 'yuk', 'yum', 'yummy', 'yup', 'yyesterdayi', 'z', 'zagreb', 'zap', 'zapped', 'zeal', 'zealand', 'zelda', 'zen', 'zero', 'zeroing', 'zilch', 'zinc', 'zine', 'zip', 'ziplock', 'zipped', 'zofran', 'zoloft', 'zoloftbam', 'zombie', 'zombified', 'zone', 'zoned', 'zoning', 'zoo', 'zookeeper', 'zoom', 'zoophilehaving', 'zyban', 'zyrtec', 'zzzz', 'ça', 'été', 'ı', '̶r̶a̶g̶s̶', '̶r̶i̶c̶h̶e̶s̶', '̶t̶o̶', '\\u200cps', '\\u200d', 'ツ', '️', '️self', '️\\u200d']\n",
      "None\n"
     ]
    }
   ],
   "source": [
    "def countvec_check(value):\n",
    "    # Create an instance of CountVectorizer and pass in the lemmatise function as the analyzer parameter\n",
    "    count_vect = CountVectorizer(analyzer = lemmatise)\n",
    "\n",
    "    # X_counts stores the vectorized version of the data\n",
    "    X_counts = count_vect.fit_transform(value)\n",
    "\n",
    "    # Returns the number of rows and columns of X_counts\n",
    "    print(f'R(Rows, Columns): {X_counts.shape}')\n",
    "\n",
    "    # Returns the unique words across all posts\n",
    "    print(count_vect.get_feature_names())\n",
    "\n",
    "print(countvec_check(both['post_no_stop']))"
   ]
  },
  {
   "cell_type": "markdown",
   "id": "fbc7579b",
   "metadata": {},
   "source": [
    "### 4g. Create sparse matrix"
   ]
  },
  {
   "cell_type": "code",
   "execution_count": 29,
   "id": "5400ccb4",
   "metadata": {},
   "outputs": [
    {
     "name": "stdout",
     "output_type": "stream",
     "text": [
      "Total number of rows and columns:\n",
      "(Rows, Columns): (5337, 17818)\n"
     ]
    }
   ],
   "source": [
    "def sparsematrix_check(value):\n",
    "    # Create an instance of CountVectorizer and pass in the lemmatise function as the analyzer parameter\n",
    "    count_vect = CountVectorizer(analyzer = lemmatise)\n",
    "\n",
    "    # X_counts stores the vectorized version of the data\n",
    "    X_counts = count_vect.fit_transform(value)\n",
    "    \n",
    "    # Expand sparse matrix to a collection of arrays and then store it in a data frame\n",
    "    X_counts_df = pd.DataFrame(X_counts.toarray())\n",
    "    \n",
    "    # Apply column name to the dataframe\n",
    "    X_counts_df.columns = count_vect.get_feature_names()\n",
    "    \n",
    "    return X_counts_df\n",
    "\n",
    "both_sparse_matrix = sparsematrix_check(both['post_no_stop'])\n",
    "\n",
    "# Returns the number of rows and columns of X_counts\n",
    "print('Total number of rows and columns:')\n",
    "print(f'(Rows, Columns): {both_sparse_matrix.shape}')"
   ]
  },
  {
   "cell_type": "markdown",
   "id": "8e3c66cf",
   "metadata": {},
   "source": [
    "### 4h. Binarise subreddit labels"
   ]
  },
  {
   "cell_type": "code",
   "execution_count": 30,
   "id": "757bd0d0",
   "metadata": {},
   "outputs": [],
   "source": [
    "# Binarise subreddit labels\n",
    "both['label'] = both['subreddit'].map({'Anxiety': 0, 'depression': 1})"
   ]
  },
  {
   "cell_type": "markdown",
   "id": "82636ecb",
   "metadata": {},
   "source": [
    "## (5) Exploratory Data Analysis"
   ]
  },
  {
   "cell_type": "code",
   "execution_count": 31,
   "id": "23bb3f9d",
   "metadata": {},
   "outputs": [],
   "source": [
    "# Filter combined dataset to get 'Anxiety' dataset\n",
    "anxiety_cleaned = both[both['subreddit'] == 'Anxiety']\n",
    "\n",
    "# Filter combined dataset to get 'depression' dataset\n",
    "depression_cleaned = both[both['subreddit'] == 'depression']\n",
    "\n",
    "# Create sparse_matrix for both 'Anxiety' and 'depression' data\n",
    "anxiety_sparse_matrix = sparsematrix_check(anxiety_cleaned['post_no_stop'])\n",
    "depression_sparse_matrix = sparsematrix_check(depression_cleaned['post_no_stop'])"
   ]
  },
  {
   "cell_type": "markdown",
   "id": "66f5963e",
   "metadata": {},
   "source": [
    "### 5a. Highly frequent words are co-occuring\n",
    "When we view the top 30 highly frequent words in each subreddit, we see that there are words that co-occur in both subreddits. We should filter out these words further by customising our stoplist. There are many co-occurring words but we will focus on removing mostly conversational fillers and personal pronouns as we want to avoid eliminating meaningful n-grams that will be useful for analysis.\n",
    "\n",
    "Conversational fillers are discourse markers, usually short words that do not add to the topic and used by the author subconsciously while writing the post. Fillers found in both r/Anxiety and r/depression include: 'like', 'feel', 'even', 'really', 'think'. Additionally, we will remove common personal pronouns 'im' and 'ive'. These pronouns appear in the posts as the subreddit submissions are usually about personal experiences with anxiety or depression respectively."
   ]
  },
  {
   "cell_type": "code",
   "execution_count": 32,
   "id": "4ee3f941",
   "metadata": {},
   "outputs": [
    {
     "name": "stdout",
     "output_type": "stream",
     "text": [
      "Top 30 words in r/Anxiety:\n",
      "anxiety      4231\n",
      "like         3282\n",
      "feel         2989\n",
      "im           2896\n",
      "get          2258\n",
      "know         1830\n",
      "time         1820\n",
      "day          1610\n",
      "really       1532\n",
      "thing        1379\n",
      "even         1346\n",
      "want         1270\n",
      "dont         1269\n",
      "go           1215\n",
      "year         1181\n",
      "feeling      1129\n",
      "think        1099\n",
      "going        1091\n",
      "people       1059\n",
      "ive          1033\n",
      "help         1007\n",
      "anyone       1004\n",
      "make          990\n",
      "one           968\n",
      "something     948\n",
      "would         948\n",
      "work          947\n",
      "life          945\n",
      "thought       945\n",
      "anxious       941\n"
     ]
    }
   ],
   "source": [
    "# Define function to find highly frequent words\n",
    "def hi_freq(value, num):\n",
    "    return value.sum().sort_values(ascending = False).head(num)\n",
    "\n",
    "# View top 30 highly frequent words in r/Anxiety\n",
    "print(\"Top 30 words in r/Anxiety:\")\n",
    "print(hi_freq(anxiety_sparse_matrix, 30).to_string())"
   ]
  },
  {
   "cell_type": "code",
   "execution_count": 33,
   "id": "b938cbb2",
   "metadata": {},
   "outputs": [
    {
     "name": "stdout",
     "output_type": "stream",
     "text": [
      "Top 30 words in r/depression:\n",
      "feel          3481\n",
      "im            3394\n",
      "like          3309\n",
      "dont          2345\n",
      "life          2254\n",
      "want          2224\n",
      "know          2150\n",
      "get           1955\n",
      "even          1719\n",
      "time          1712\n",
      "year          1513\n",
      "thing         1465\n",
      "people        1449\n",
      "day           1361\n",
      "really        1357\n",
      "one           1252\n",
      "friend        1215\n",
      "depression    1149\n",
      "cant          1124\n",
      "would         1109\n",
      "go            1100\n",
      "never         1030\n",
      "make          1014\n",
      "think         1000\n",
      "ive            997\n",
      "much           953\n",
      "going          922\n",
      "help           899\n",
      "anything       893\n",
      "feeling        835\n"
     ]
    }
   ],
   "source": [
    "# View top 30 highly frequent words in r/depression\n",
    "print(\"Top 30 words in r/depression:\")\n",
    "print(hi_freq(depression_sparse_matrix, 30).to_string())"
   ]
  },
  {
   "cell_type": "markdown",
   "id": "50440b74",
   "metadata": {},
   "source": [
    "#### Customise stopword list for `r/Anxiety` and `r/depression`"
   ]
  },
  {
   "cell_type": "code",
   "execution_count": 34,
   "id": "589636a4",
   "metadata": {},
   "outputs": [],
   "source": [
    "# Define function to remove stop words\n",
    "def remove_stopwords(tokenized_list, stopword_list):\n",
    "    # Store in text only if word is not found in stopword \n",
    "    text = [word for word in tokenized_list if word not in stopword_list]\n",
    "    return text\n",
    "\n",
    "# Customise stopword list\n",
    "stopwords_custom = ['like', 'feel', 'even', 'really', 'think', 'im', 'ive']"
   ]
  },
  {
   "cell_type": "markdown",
   "id": "c6276af2",
   "metadata": {},
   "source": [
    "#### `r/Anxiety` : highly frequent words"
   ]
  },
  {
   "cell_type": "code",
   "execution_count": 35,
   "id": "40106c73",
   "metadata": {},
   "outputs": [
    {
     "name": "stdout",
     "output_type": "stream",
     "text": [
      "r/Anxiety: current top 20 highly frequent words:\n",
      "\n",
      "anxiety      4231\n",
      "get          2258\n",
      "know         1830\n",
      "time         1820\n",
      "day          1610\n",
      "thing        1379\n",
      "want         1270\n",
      "dont         1269\n",
      "go           1215\n",
      "year         1181\n",
      "feeling      1129\n",
      "going        1091\n",
      "people       1059\n",
      "help         1007\n",
      "anyone       1004\n",
      "make          990\n",
      "one           968\n",
      "would         948\n",
      "something     948\n",
      "work          947\n"
     ]
    }
   ],
   "source": [
    "# Remove stopwords from the 'post' column\n",
    "anxiety_cleaned['post_no_stop'] = anxiety_cleaned['post_no_stop'].apply(lambda x: remove_stopwords(x, stopwords_custom))\n",
    "\n",
    "# Create the sparse matrix for r/Anxiety again\n",
    "anxiety_sparse_matrix = sparsematrix_check(anxiety_cleaned['post_no_stop'])\n",
    "\n",
    "# View the new top 20 words after the change\n",
    "print('r/Anxiety: current top 20 highly frequent words:')\n",
    "print(\"\")\n",
    "print(hi_freq(anxiety_sparse_matrix, 20).to_string())"
   ]
  },
  {
   "cell_type": "code",
   "execution_count": 36,
   "id": "ac0799de",
   "metadata": {},
   "outputs": [],
   "source": [
    "# Lemmatise the 'post' column in the anxiety_cleaned dataset\n",
    "anxiety_cleaned['post_lemmatised'] = anxiety_cleaned['post_no_stop'].apply(lambda x: lemmatise(x))\n",
    "\n",
    "# Join up the words in the 'post_lemmatised' column into string\n",
    "anxiety_cleaned['post_string'] = anxiety_cleaned['post_lemmatised'].apply(lambda x: ' '.join(x))"
   ]
  },
  {
   "cell_type": "markdown",
   "id": "c1699e93",
   "metadata": {},
   "source": [
    "#### `r/depression` : highly frequent words"
   ]
  },
  {
   "cell_type": "code",
   "execution_count": 37,
   "id": "1945b750",
   "metadata": {},
   "outputs": [
    {
     "name": "stdout",
     "output_type": "stream",
     "text": [
      "r/depression: current top 20 highly frequent words:\n",
      "\n",
      "dont          2345\n",
      "life          2254\n",
      "want          2224\n",
      "know          2150\n",
      "get           1955\n",
      "time          1712\n",
      "year          1513\n",
      "thing         1465\n",
      "people        1449\n",
      "day           1361\n",
      "one           1252\n",
      "friend        1215\n",
      "depression    1149\n",
      "cant          1124\n",
      "would         1109\n",
      "go            1100\n",
      "never         1030\n",
      "make          1014\n",
      "much           953\n",
      "going          922\n"
     ]
    }
   ],
   "source": [
    "# Remove stopwords from the 'post' column\n",
    "depression_cleaned['post_no_stop'] = depression_cleaned['post_no_stop'].apply(lambda x: remove_stopwords(x, stopwords_custom))\n",
    "\n",
    "# Recreate the sparse matrix for r/depression\n",
    "depression_sparse_matrix = sparsematrix_check(depression_cleaned['post_no_stop'])\n",
    "\n",
    "# View the new top 20 words after the change\n",
    "print('r/depression: current top 20 highly frequent words:')\n",
    "print(\"\")\n",
    "print(hi_freq(depression_sparse_matrix, 20).to_string())"
   ]
  },
  {
   "cell_type": "code",
   "execution_count": 38,
   "id": "1e00a964",
   "metadata": {},
   "outputs": [],
   "source": [
    "# Lemmatise the 'post' column in the depression_cleaned dataset\n",
    "depression_cleaned['post_lemmatised'] = depression_cleaned['post_no_stop'].apply(lambda x: lemmatise(x))\n",
    "\n",
    "# Join up the words in the 'post_lemmatised' column into string\n",
    "depression_cleaned['post_string'] = depression_cleaned['post_lemmatised'].apply(lambda x: ' '.join(x))"
   ]
  },
  {
   "cell_type": "markdown",
   "id": "a8979c35",
   "metadata": {},
   "source": [
    "#### Data visualisation: `r/Anxiety` Highly Frequent words \n",
    "The word that is most frequent in r/Anxiety submissions is anxiety. This is expected, as users are sharing their experiences with the topic. The other highly frequent words are a bit more obscure, hence we will look at bigrams and trigrams."
   ]
  },
  {
   "cell_type": "code",
   "execution_count": 39,
   "id": "a07d7d5e",
   "metadata": {},
   "outputs": [
    {
     "data": {
      "image/png": "[encoded data removed]",
      "text/plain": [
       "<Figure size 1080x1080 with 1 Axes>"
      ]
     },
     "metadata": {
      "needs_background": "light"
     },
     "output_type": "display_data"
    }
   ],
   "source": [
    "# Convert the hi-freq word count to a dataframe\n",
    "hi_freq_anxiety = hi_freq(anxiety_sparse_matrix, 20).to_frame()\n",
    "\n",
    "# Plot a bar chart for top 20 highly frequent words\n",
    "anxiety_bar = hi_freq_anxiety.plot(kind = 'bar', figsize = (15,15), fontsize = 10, width = 0.5, color = '#FFBBD8')\n",
    "\n",
    "# Customise settings for bar chart, fontsize=20)\n",
    "anxiety_bar.set_title('Top 20 Words for r/Anxiety', fontsize=20)\n",
    "anxiety_bar.get_legend().remove()\n",
    "anxiety_bar.set_ylabel('Count', fontsize=15)\n",
    "anxiety_bar.set_xlabel('Words', fontsize=15)\n",
    "plt.xticks(rotation=45);"
   ]
  },
  {
   "cell_type": "markdown",
   "id": "e7ee4f28",
   "metadata": {},
   "source": [
    "#### Data visualisation: `r/depression` Highly Frequent words \n",
    "The word that is most frequent in r/Anxiety submissions is don't. This is rather obscure as the negator 'don't' often occurs with a verb, hence we will look at bigrams and trigrams to find out more."
   ]
  },
  {
   "cell_type": "code",
   "execution_count": 40,
   "id": "01f1c9a5",
   "metadata": {},
   "outputs": [
    {
     "data": {
      "image/png": "[encoded data removed]",
      "text/plain": [
       "<Figure size 1080x1080 with 1 Axes>"
      ]
     },
     "metadata": {
      "needs_background": "light"
     },
     "output_type": "display_data"
    }
   ],
   "source": [
    "# Convert the hi-freq word count to a dataframe\n",
    "hi_freq_depression = hi_freq(depression_sparse_matrix, 20).to_frame()\n",
    "\n",
    "# Plot a bar chart for top 20 highly frequent words\n",
    "depression_bar = hi_freq_depression.plot(kind = 'bar', figsize = (15,15), fontsize = 10, width = 0.5, color = '#95CCBA')\n",
    "\n",
    "# Customise settings for bar chart\n",
    "depression_bar.set_title('Top 20 Words for r/depression', fontsize=20)\n",
    "depression_bar.get_legend().remove()\n",
    "depression_bar.set_ylabel('Count', fontsize=15)\n",
    "depression_bar.set_xlabel('Words', fontsize=15)\n",
    "plt.xticks(rotation=45);"
   ]
  },
  {
   "cell_type": "markdown",
   "id": "9b478904",
   "metadata": {},
   "source": [
    "### 5b. CountVectoriser with n-grams"
   ]
  },
  {
   "cell_type": "markdown",
   "id": "860c89f4",
   "metadata": {},
   "source": [
    "#### `r/Anxiety` : CountVectoriser with n-grams"
   ]
  },
  {
   "cell_type": "code",
   "execution_count": 41,
   "id": "841162ac",
   "metadata": {},
   "outputs": [],
   "source": [
    "# Define function for N-Gram lemmatisation\n",
    "def lemmatise_ngram(tokenized_text):\n",
    "    # return string of lemmatised words for words in tokenized_text\n",
    "    text = ' '.join([wn.lemmatize(word) for word in tokenized_text])\n",
    "    return text\n",
    "\n",
    "# Lemmatise the 'post' column in anxiety_cleaned df\n",
    "anxiety_cleaned['post_lemmatised'] = anxiety_cleaned['post_no_stop'].apply(lambda x: lemmatise_ngram(x))\n",
    "\n",
    "# Define function to create sparsematrix for N-Gram\n",
    "def sparsematrix_ngram_check(value, num):\n",
    "    # Create a ngram\n",
    "    ngram_vect = CountVectorizer(ngram_range=(num,num))\n",
    "\n",
    "    # X_counts stores the vectorized version of the data\n",
    "    X_counts = ngram_vect.fit_transform(value)\n",
    "    \n",
    "    # Expand sparse matrix to a collection of arrays and then store it in a data frame\n",
    "    X_counts_df = pd.DataFrame(X_counts.toarray())\n",
    "    \n",
    "    # Apply column name to the dataframe\n",
    "    X_counts_df.columns = ngram_vect.get_feature_names()\n",
    "    \n",
    "    return X_counts_df"
   ]
  },
  {
   "cell_type": "markdown",
   "id": "9255e771",
   "metadata": {},
   "source": [
    "#### `r/Anxiety` : bi-grams\n",
    "The top bigram (two-word phrase) in the anxiety dataset is 'panic attack'. This is consistent with our understanding of anxiety disorder, where one of the symptoms are experiences with panic attacks, where patients report feelings of sudden and intense anxiety. Panic attacks can also have physical symptoms, including shaking, feeling disorientated, nausea, rapid, irregular heartbeats, dry mouth, breathlessness, sweating and dizziness."
   ]
  },
  {
   "cell_type": "code",
   "execution_count": 42,
   "id": "a72efba7",
   "metadata": {},
   "outputs": [
    {
     "name": "stdout",
     "output_type": "stream",
     "text": [
      "Total number of rows and columns:\n",
      "(2863, 141794)\n"
     ]
    }
   ],
   "source": [
    "# Save bi-gram sparse matrix as both_ngram\n",
    "anxiety_cleaned_bigram = sparsematrix_ngram_check(anxiety_cleaned['post_lemmatised'], 2)\n",
    "\n",
    "# Returns the number of rows and columns of X_counts\n",
    "print('Total number of rows and columns:')\n",
    "print(anxiety_cleaned_bigram.shape)"
   ]
  },
  {
   "cell_type": "code",
   "execution_count": 43,
   "id": "92c4e973",
   "metadata": {},
   "outputs": [
    {
     "name": "stdout",
     "output_type": "stream",
     "text": [
      "Top 20 bi-grams for r/Anxiety\n",
      "panic attack      536\n",
      "dont know         396\n",
      "anyone else       363\n",
      "dont want         191\n",
      "anxiety attack    173\n",
      "year ago          154\n",
      "mental health     132\n",
      "side effect       129\n",
      "fuck fuck         126\n",
      "every time        124\n",
      "last year         123\n",
      "social anxiety    122\n",
      "health anxiety    121\n",
      "go back           111\n",
      "every day         108\n",
      "first time        108\n",
      "heart rate        103\n",
      "get better         91\n",
      "get anxious        89\n",
      "last night         89\n"
     ]
    }
   ],
   "source": [
    "# View top 20 bi-grams for r/Anxiety\n",
    "print('Top 20 bi-grams for r/Anxiety')\n",
    "print(hi_freq(anxiety_cleaned_bigram,20).to_string())"
   ]
  },
  {
   "cell_type": "markdown",
   "id": "b47eafdf",
   "metadata": {},
   "source": [
    "#### `r/Anxiety` : tri-grams\n",
    "The top trigram (three-word phrase) in the anxiety dataset is 'fuck fuck fuck'. The repetition in the expletive suggests that many posts contain expressions of feelings of frustration and unsettledness. Other interesting trigrams that appear here are 'anyone else get' and 'anyone else experience' which suggest that in many posts, users are trying to find connection and validation from their community about anxiety through submitting their post."
   ]
  },
  {
   "cell_type": "code",
   "execution_count": 44,
   "id": "91a79d3d",
   "metadata": {},
   "outputs": [
    {
     "name": "stdout",
     "output_type": "stream",
     "text": [
      "Total number of rows and columns:\n",
      "(2863, 193130)\n"
     ]
    }
   ],
   "source": [
    "# Save tri-gram sparse matrix as both_ngram\n",
    "anxiety_cleaned_trigram = sparsematrix_ngram_check(anxiety_cleaned['post_lemmatised'], 3)\n",
    "\n",
    "# Returns the number of rows and columns of X_counts\n",
    "print('Total number of rows and columns:')\n",
    "print(anxiety_cleaned_trigram.shape)"
   ]
  },
  {
   "cell_type": "code",
   "execution_count": 45,
   "id": "129b726b",
   "metadata": {},
   "outputs": [
    {
     "name": "stdout",
     "output_type": "stream",
     "text": [
      "Top 20 tri-grams for r/Anxiety\n",
      "fuck fuck fuck                  123\n",
      "anyone else get                  56\n",
      "anyone else experience           29\n",
      "anxiety panic attack             28\n",
      "anyone else experienced          24\n",
      "cant stop thinking               22\n",
      "get panic attack                 22\n",
      "dont know anymore                22\n",
      "every single day                 21\n",
      "long story short                 21\n",
      "wondering anyone else            17\n",
      "worst case scenario              14\n",
      "generalized anxiety disorder     14\n",
      "anxiety anyone else              14\n",
      "dont want go                     14\n",
      "year old male                    14\n",
      "please let know                  13\n",
      "came back normal                 13\n",
      "wake middle night                13\n",
      "mental health issue              13\n"
     ]
    }
   ],
   "source": [
    "# View top 20 tri-grams for r/Anxiety\n",
    "print('Top 20 tri-grams for r/Anxiety')\n",
    "print(hi_freq(anxiety_cleaned_trigram,20).to_string())"
   ]
  },
  {
   "cell_type": "markdown",
   "id": "7f23d094",
   "metadata": {},
   "source": [
    "#### Data visualisation: `r/Anxiety` bigrams"
   ]
  },
  {
   "cell_type": "code",
   "execution_count": 46,
   "id": "63099301",
   "metadata": {},
   "outputs": [
    {
     "data": {
      "image/png": "[encoded data removed]",
      "text/plain": [
       "<Figure size 1080x720 with 1 Axes>"
      ]
     },
     "metadata": {
      "needs_background": "light"
     },
     "output_type": "display_data"
    }
   ],
   "source": [
    "# Convert the top word count to a dataframe\n",
    "hi_freq_anxiety_bigram = hi_freq(anxiety_cleaned_bigram, 20).to_frame()\n",
    "\n",
    "# Plot the top 20 words in a bar chart\n",
    "anxiety_bar_bigram = hi_freq_anxiety_bigram.plot(kind = 'bar', figsize = (15,10), fontsize = 10, width = 0.5, color = '#FFBBD8')\n",
    "\n",
    "# Set the title, x & y labels and remove legend\n",
    "anxiety_bar_bigram.set_title('Top 20 bi-grams for r/Anxiety', fontsize=20)\n",
    "anxiety_bar_bigram.get_legend().remove()\n",
    "anxiety_bar_bigram.set_ylabel('Count', fontsize=15)\n",
    "anxiety_bar_bigram.set_xlabel('Bigrams', fontsize=15)\n",
    "plt.xticks(rotation=45);"
   ]
  },
  {
   "cell_type": "markdown",
   "id": "3fad7067",
   "metadata": {},
   "source": [
    "#### Data visualisation: `r/Anxiety` trigrams"
   ]
  },
  {
   "cell_type": "code",
   "execution_count": 47,
   "id": "6ba6401b",
   "metadata": {},
   "outputs": [
    {
     "data": {
      "image/png": "[encoded data removed]",
      "text/plain": [
       "<Figure size 1080x720 with 1 Axes>"
      ]
     },
     "metadata": {
      "needs_background": "light"
     },
     "output_type": "display_data"
    }
   ],
   "source": [
    "# Convert the top word count to a dataframe\n",
    "hi_freq_anxiety_trigram = hi_freq(anxiety_cleaned_trigram, 20).to_frame()\n",
    "\n",
    "# Plot the top 20 words in a bar chart\n",
    "anxiety_bar_trigram = hi_freq_anxiety_trigram.plot(kind = 'bar', figsize = (15,10), fontsize = 10, width = 0.5, color = '#FFBBD8')\n",
    "\n",
    "# Set the title, x & y labels and remove legend\n",
    "anxiety_bar_trigram.set_title('Top 20 tri-grams for r/Anxiety', fontsize=20)\n",
    "anxiety_bar_trigram.get_legend().remove()\n",
    "anxiety_bar_trigram.set_ylabel('Count', fontsize=15)\n",
    "anxiety_bar_trigram.set_xlabel('Trigrams', fontsize=15)\n",
    "plt.xticks(rotation=45);"
   ]
  },
  {
   "cell_type": "markdown",
   "id": "6173c89a",
   "metadata": {},
   "source": [
    "#### `r/depression` : CountVectoriser with n-grams"
   ]
  },
  {
   "cell_type": "code",
   "execution_count": 48,
   "id": "ef1c37b0",
   "metadata": {},
   "outputs": [],
   "source": [
    "# Lemmatise the 'post' column\n",
    "depression_cleaned['post_lemmatised'] = depression_cleaned['post_no_stop'].apply(lambda x: lemmatise_ngram(x))"
   ]
  },
  {
   "cell_type": "markdown",
   "id": "b3087f80",
   "metadata": {},
   "source": [
    "#### `r/depression` : bi-grams\n",
    "The top bigram in the depression dataset is 'don't want' and 'don't know', followed by repetitive expletive 'fuck fuck'. Interesting bigrams that made it to the list are 'mental health' and 'get better' which suggests that users post to the forum as they are concerned about the mental health disorder they or someone they know is facing, and are concerned with recovery."
   ]
  },
  {
   "cell_type": "code",
   "execution_count": 49,
   "id": "6bd542d3",
   "metadata": {},
   "outputs": [
    {
     "name": "stdout",
     "output_type": "stream",
     "text": [
      "Total number of rows and columns:\n",
      "(2474, 133374)\n"
     ]
    }
   ],
   "source": [
    "# Save bi-gram sparse matrix as both_ngram\n",
    "depression_cleaned_bigram = sparsematrix_ngram_check(depression_cleaned['post_lemmatised'], 2)\n",
    "\n",
    "# Returns the number of rows and columns of X_counts\n",
    "print('Total number of rows and columns:')\n",
    "print(depression_cleaned_bigram.shape)"
   ]
  },
  {
   "cell_type": "code",
   "execution_count": 50,
   "id": "88f5a9c2",
   "metadata": {},
   "outputs": [
    {
     "name": "stdout",
     "output_type": "stream",
     "text": [
      "Top 20 bi-grams words for r/depression\n",
      "dont know        643\n",
      "dont want        390\n",
      "fuck fuck        375\n",
      "mental health    171\n",
      "get better       170\n",
      "year old         157\n",
      "every day        146\n",
      "year ago         126\n",
      "high school      125\n",
      "want die         119\n",
      "last year        107\n",
      "wish could       103\n",
      "one day           98\n",
      "long time         97\n",
      "first time        95\n",
      "every time        93\n",
      "anyone else       90\n",
      "go back           82\n",
      "dont care         79\n",
      "get bed           78\n"
     ]
    }
   ],
   "source": [
    "# View top 20 bi-grams for r/depression\n",
    "print('Top 20 bi-grams words for r/depression')\n",
    "print(hi_freq(depression_cleaned_bigram,20).to_string())"
   ]
  },
  {
   "cell_type": "markdown",
   "id": "b501ded7",
   "metadata": {},
   "source": [
    "#### `r/depression` : tri-grams\n",
    "The top trigram in the depression dataset is 'fuck fuck fuck', which mirrors the anxiety dataset as well. Other interesting trigrams that appear here are 'don't know anymore', 'every single day', 'don't want live' and 'don't want die'. These suggest that in many posts, users are comfortable with sharing their feelings of uncertainty, daily experiences with depression, and their fixation with how depression is affecting their will to continue living. It can be inferred that depressive symptoms are more intense in influencing users perception of their life."
   ]
  },
  {
   "cell_type": "code",
   "execution_count": 51,
   "id": "3bda22d9",
   "metadata": {},
   "outputs": [
    {
     "name": "stdout",
     "output_type": "stream",
     "text": [
      "Total number of rows and columns:\n",
      "(2474, 184295)\n"
     ]
    }
   ],
   "source": [
    "# Save bigram sparse matrix as both_ngram\n",
    "depression_cleaned_trigram = sparsematrix_ngram_check(depression_cleaned['post_lemmatised'], 3)\n",
    "\n",
    "# Returns the number of rows and columns of X_counts\n",
    "print('Total number of rows and columns:')\n",
    "print(depression_cleaned_trigram.shape)"
   ]
  },
  {
   "cell_type": "code",
   "execution_count": 52,
   "id": "2f93981a",
   "metadata": {},
   "outputs": [
    {
     "name": "stdout",
     "output_type": "stream",
     "text": [
      "Top 20 tri-grams for r/depression\n",
      "fuck fuck fuck         367\n",
      "dont know anymore       44\n",
      "every single day        33\n",
      "dont know dont          25\n",
      "playing video game      20\n",
      "dont know want          20\n",
      "want get better         17\n",
      "dont want live          17\n",
      "dont know else          15\n",
      "cant take anymore       15\n",
      "mental health issue     15\n",
      "dont want die           15\n",
      "year high school        15\n",
      "want go back            15\n",
      "life dont know          15\n",
      "want die want           15\n",
      "dont see point          14\n",
      "long time ago           14\n",
      "first time life         14\n",
      "dont want go            14\n"
     ]
    }
   ],
   "source": [
    "# Print top 20 tri-grams for r/depression\n",
    "print('Top 20 tri-grams for r/depression')\n",
    "print(hi_freq(depression_cleaned_trigram,20).to_string())"
   ]
  },
  {
   "cell_type": "markdown",
   "id": "4c13d734",
   "metadata": {},
   "source": [
    "#### Data visualisation: `r/depression` bigrams"
   ]
  },
  {
   "cell_type": "code",
   "execution_count": 53,
   "id": "cd1b51f2",
   "metadata": {},
   "outputs": [
    {
     "data": {
      "image/png": "[encoded data removed]",
      "text/plain": [
       "<Figure size 1080x720 with 1 Axes>"
      ]
     },
     "metadata": {
      "needs_background": "light"
     },
     "output_type": "display_data"
    }
   ],
   "source": [
    "# Convert the top word count to a dataframe\n",
    "hi_freq_depression_bigram = hi_freq(depression_cleaned_bigram, 20).to_frame()\n",
    "\n",
    "# Plot the top 20 words in a bar chart\n",
    "depression_bar_bigram = hi_freq_depression_bigram.plot(kind = 'bar', figsize = (15,10), fontsize = 10, width = 0.5, color = '#95CCBA')\n",
    "\n",
    "# Set the title, x & y labels and remove legend\n",
    "depression_bar_bigram.set_title('Top 20 bi-grams for r/depression', fontsize=20)\n",
    "depression_bar_bigram.get_legend().remove()\n",
    "depression_bar_bigram.set_ylabel('Count', fontsize=15)\n",
    "depression_bar_bigram.set_xlabel('Bi-grams', fontsize=15)\n",
    "plt.xticks(rotation=45);"
   ]
  },
  {
   "cell_type": "markdown",
   "id": "44666058",
   "metadata": {},
   "source": [
    "#### Data visualisation: `r/depression` trigrams"
   ]
  },
  {
   "cell_type": "code",
   "execution_count": 54,
   "id": "d9a38db3",
   "metadata": {},
   "outputs": [
    {
     "data": {
      "image/png": "[encoded data removed]",
      "text/plain": [
       "<Figure size 1080x720 with 1 Axes>"
      ]
     },
     "metadata": {
      "needs_background": "light"
     },
     "output_type": "display_data"
    }
   ],
   "source": [
    "# Convert the top word count to a dataframe\n",
    "hi_freq_depression_trigram = hi_freq(depression_cleaned_trigram, 20).to_frame()\n",
    "\n",
    "# Plot the top 20 words in a bar chart\n",
    "depression_bar_trigram = hi_freq_depression_trigram.plot(kind = 'bar', figsize = (15,10), fontsize = 10, width = 0.5, color = '#95CCBA')\n",
    "\n",
    "# Set the title, x & y labels and remove legend\n",
    "depression_bar_trigram.set_title('Top 20 tri-grams for r/depression', fontsize=20)\n",
    "depression_bar_trigram.get_legend().remove()\n",
    "depression_bar_trigram.set_ylabel('Count', fontsize=15)\n",
    "depression_bar_trigram.set_xlabel('Tri-grams', fontsize=15)\n",
    "plt.xticks(rotation=45);"
   ]
  },
  {
   "cell_type": "markdown",
   "id": "2b83a7f6",
   "metadata": {},
   "source": [
    "# Part 2b: Train & Test Classification Models\n",
    "***"
   ]
  },
  {
   "cell_type": "markdown",
   "id": "049f30bf",
   "metadata": {},
   "source": [
    "## (6) Prepare for Modelling"
   ]
  },
  {
   "cell_type": "markdown",
   "id": "6e8291a7",
   "metadata": {},
   "source": [
    "### 6a. Combine Datasets"
   ]
  },
  {
   "cell_type": "code",
   "execution_count": 55,
   "id": "ec774e16",
   "metadata": {},
   "outputs": [
    {
     "data": {
      "text/html": [
       "<div>\n",
       "<style scoped>\n",
       "    .dataframe tbody tr th:only-of-type {\n",
       "        vertical-align: middle;\n",
       "    }\n",
       "\n",
       "    .dataframe tbody tr th {\n",
       "        vertical-align: top;\n",
       "    }\n",
       "\n",
       "    .dataframe thead th {\n",
       "        text-align: right;\n",
       "    }\n",
       "</style>\n",
       "<table border=\"1\" class=\"dataframe\">\n",
       "  <thead>\n",
       "    <tr style=\"text-align: right;\">\n",
       "      <th></th>\n",
       "      <th>subreddit</th>\n",
       "      <th>post</th>\n",
       "      <th>post_cleaned</th>\n",
       "      <th>post_tokenised</th>\n",
       "      <th>post_no_stop</th>\n",
       "      <th>post_lemmatised</th>\n",
       "      <th>label</th>\n",
       "      <th>post_string</th>\n",
       "    </tr>\n",
       "  </thead>\n",
       "  <tbody>\n",
       "    <tr>\n",
       "      <th>0</th>\n",
       "      <td>Anxiety</td>\n",
       "      <td>Coping We’re moving out of state and away from...</td>\n",
       "      <td>Coping We’re moving out of state and away from...</td>\n",
       "      <td>[coping, we, re, moving, out, of, state, and, ...</td>\n",
       "      <td>[coping, moving, state, away, everyone, know, ...</td>\n",
       "      <td>coping moving state away everyone know sunday ...</td>\n",
       "      <td>0</td>\n",
       "      <td>coping moving state away everyone know sunday ...</td>\n",
       "    </tr>\n",
       "    <tr>\n",
       "      <th>1</th>\n",
       "      <td>Anxiety</td>\n",
       "      <td>Starting a new job anxiety As the title says, ...</td>\n",
       "      <td>Starting a new job anxiety As the title says I...</td>\n",
       "      <td>[starting, a, new, job, anxiety, as, the, titl...</td>\n",
       "      <td>[starting, new, job, anxiety, title, says, sta...</td>\n",
       "      <td>starting new job anxiety title say starting ne...</td>\n",
       "      <td>0</td>\n",
       "      <td>starting new job anxiety title say starting ne...</td>\n",
       "    </tr>\n",
       "    <tr>\n",
       "      <th>2</th>\n",
       "      <td>Anxiety</td>\n",
       "      <td>anxiety affecting studies Lately I've been fee...</td>\n",
       "      <td>anxiety affecting studies Lately Ive been feel...</td>\n",
       "      <td>[anxiety, affecting, studies, lately, ive, bee...</td>\n",
       "      <td>[anxiety, affecting, studies, lately, feeling,...</td>\n",
       "      <td>anxiety affecting study lately feeling anxious...</td>\n",
       "      <td>0</td>\n",
       "      <td>anxiety affecting study lately feeling anxious...</td>\n",
       "    </tr>\n",
       "    <tr>\n",
       "      <th>3</th>\n",
       "      <td>Anxiety</td>\n",
       "      <td>This is my recovery story since falling for th...</td>\n",
       "      <td>This is my recovery story since falling for th...</td>\n",
       "      <td>[this, is, my, recovery, story, since, falling...</td>\n",
       "      <td>[recovery, story, since, falling, pin, code, s...</td>\n",
       "      <td>recovery story since falling pin code scam cam...</td>\n",
       "      <td>0</td>\n",
       "      <td>recovery story since falling pin code scam cam...</td>\n",
       "    </tr>\n",
       "    <tr>\n",
       "      <th>4</th>\n",
       "      <td>Anxiety</td>\n",
       "      <td>After years wearing braces my teeth still look...</td>\n",
       "      <td>After years wearing braces my teeth still look...</td>\n",
       "      <td>[after, years, wearing, braces, my, teeth, sti...</td>\n",
       "      <td>[years, wearing, braces, teeth, still, look, f...</td>\n",
       "      <td>year wearing brace teeth still look fucked dup...</td>\n",
       "      <td>0</td>\n",
       "      <td>year wearing brace teeth still look fucked dup...</td>\n",
       "    </tr>\n",
       "  </tbody>\n",
       "</table>\n",
       "</div>"
      ],
      "text/plain": [
       "  subreddit                                               post  \\\n",
       "0   Anxiety  Coping We’re moving out of state and away from...   \n",
       "1   Anxiety  Starting a new job anxiety As the title says, ...   \n",
       "2   Anxiety  anxiety affecting studies Lately I've been fee...   \n",
       "3   Anxiety  This is my recovery story since falling for th...   \n",
       "4   Anxiety  After years wearing braces my teeth still look...   \n",
       "\n",
       "                                        post_cleaned  \\\n",
       "0  Coping We’re moving out of state and away from...   \n",
       "1  Starting a new job anxiety As the title says I...   \n",
       "2  anxiety affecting studies Lately Ive been feel...   \n",
       "3  This is my recovery story since falling for th...   \n",
       "4  After years wearing braces my teeth still look...   \n",
       "\n",
       "                                      post_tokenised  \\\n",
       "0  [coping, we, re, moving, out, of, state, and, ...   \n",
       "1  [starting, a, new, job, anxiety, as, the, titl...   \n",
       "2  [anxiety, affecting, studies, lately, ive, bee...   \n",
       "3  [this, is, my, recovery, story, since, falling...   \n",
       "4  [after, years, wearing, braces, my, teeth, sti...   \n",
       "\n",
       "                                        post_no_stop  \\\n",
       "0  [coping, moving, state, away, everyone, know, ...   \n",
       "1  [starting, new, job, anxiety, title, says, sta...   \n",
       "2  [anxiety, affecting, studies, lately, feeling,...   \n",
       "3  [recovery, story, since, falling, pin, code, s...   \n",
       "4  [years, wearing, braces, teeth, still, look, f...   \n",
       "\n",
       "                                     post_lemmatised  label  \\\n",
       "0  coping moving state away everyone know sunday ...      0   \n",
       "1  starting new job anxiety title say starting ne...      0   \n",
       "2  anxiety affecting study lately feeling anxious...      0   \n",
       "3  recovery story since falling pin code scam cam...      0   \n",
       "4  year wearing brace teeth still look fucked dup...      0   \n",
       "\n",
       "                                         post_string  \n",
       "0  coping moving state away everyone know sunday ...  \n",
       "1  starting new job anxiety title say starting ne...  \n",
       "2  anxiety affecting study lately feeling anxious...  \n",
       "3  recovery story since falling pin code scam cam...  \n",
       "4  year wearing brace teeth still look fucked dup...  "
      ]
     },
     "metadata": {},
     "output_type": "display_data"
    },
    {
     "data": {
      "text/html": [
       "<div>\n",
       "<style scoped>\n",
       "    .dataframe tbody tr th:only-of-type {\n",
       "        vertical-align: middle;\n",
       "    }\n",
       "\n",
       "    .dataframe tbody tr th {\n",
       "        vertical-align: top;\n",
       "    }\n",
       "\n",
       "    .dataframe thead th {\n",
       "        text-align: right;\n",
       "    }\n",
       "</style>\n",
       "<table border=\"1\" class=\"dataframe\">\n",
       "  <thead>\n",
       "    <tr style=\"text-align: right;\">\n",
       "      <th></th>\n",
       "      <th>subreddit</th>\n",
       "      <th>post</th>\n",
       "      <th>post_cleaned</th>\n",
       "      <th>post_tokenised</th>\n",
       "      <th>post_no_stop</th>\n",
       "      <th>post_lemmatised</th>\n",
       "      <th>label</th>\n",
       "      <th>post_string</th>\n",
       "    </tr>\n",
       "  </thead>\n",
       "  <tbody>\n",
       "    <tr>\n",
       "      <th>2863</th>\n",
       "      <td>depression</td>\n",
       "      <td>Lack of cooperation from people: being left ou...</td>\n",
       "      <td>Lack of cooperation from people being left out...</td>\n",
       "      <td>[lack, of, cooperation, from, people, being, l...</td>\n",
       "      <td>[lack, cooperation, people, left, people, want...</td>\n",
       "      <td>lack cooperation people left people want get k...</td>\n",
       "      <td>1</td>\n",
       "      <td>lack cooperation people left people want get k...</td>\n",
       "    </tr>\n",
       "    <tr>\n",
       "      <th>2864</th>\n",
       "      <td>depression</td>\n",
       "      <td>I hate to sleep I can’t sleep, and I haven’t b...</td>\n",
       "      <td>I hate to sleep I can’t sleep and I haven’t be...</td>\n",
       "      <td>[i, hate, to, sleep, i, can, t, sleep, and, i,...</td>\n",
       "      <td>[hate, sleep, sleep, sleeping, long, time, nig...</td>\n",
       "      <td>hate sleep sleep sleeping long time night trie...</td>\n",
       "      <td>1</td>\n",
       "      <td>hate sleep sleep sleeping long time night trie...</td>\n",
       "    </tr>\n",
       "    <tr>\n",
       "      <th>2865</th>\n",
       "      <td>depression</td>\n",
       "      <td>Just another day folks! Let’s fucking wrap it ...</td>\n",
       "      <td>Just another day folks Let’s fucking wrap it u...</td>\n",
       "      <td>[just, another, day, folks, let, s, fucking, w...</td>\n",
       "      <td>[another, day, folks, let, fucking, wrap, hour...</td>\n",
       "      <td>another day folk let fucking wrap hour fuck</td>\n",
       "      <td>1</td>\n",
       "      <td>another day folk let fucking wrap hour fuck</td>\n",
       "    </tr>\n",
       "    <tr>\n",
       "      <th>2866</th>\n",
       "      <td>depression</td>\n",
       "      <td>My house is a sad place It’s been made for bus...</td>\n",
       "      <td>My house is a sad place It’s been made for bus...</td>\n",
       "      <td>[my, house, is, a, sad, place, it, s, been, ma...</td>\n",
       "      <td>[house, sad, place, made, business, efficiency...</td>\n",
       "      <td>house sad place made business efficiency leavi...</td>\n",
       "      <td>1</td>\n",
       "      <td>house sad place made business efficiency leavi...</td>\n",
       "    </tr>\n",
       "    <tr>\n",
       "      <th>2867</th>\n",
       "      <td>depression</td>\n",
       "      <td>I just want to die I just hate my life. I need...</td>\n",
       "      <td>I just want to die I just hate my life I need ...</td>\n",
       "      <td>[i, just, want, to, die, i, just, hate, my, li...</td>\n",
       "      <td>[want, die, hate, life, need, numb, act, const...</td>\n",
       "      <td>want die hate life need numb act constantly ke...</td>\n",
       "      <td>1</td>\n",
       "      <td>want die hate life need numb act constantly ke...</td>\n",
       "    </tr>\n",
       "  </tbody>\n",
       "</table>\n",
       "</div>"
      ],
      "text/plain": [
       "       subreddit                                               post  \\\n",
       "2863  depression  Lack of cooperation from people: being left ou...   \n",
       "2864  depression  I hate to sleep I can’t sleep, and I haven’t b...   \n",
       "2865  depression  Just another day folks! Let’s fucking wrap it ...   \n",
       "2866  depression  My house is a sad place It’s been made for bus...   \n",
       "2867  depression  I just want to die I just hate my life. I need...   \n",
       "\n",
       "                                           post_cleaned  \\\n",
       "2863  Lack of cooperation from people being left out...   \n",
       "2864  I hate to sleep I can’t sleep and I haven’t be...   \n",
       "2865  Just another day folks Let’s fucking wrap it u...   \n",
       "2866  My house is a sad place It’s been made for bus...   \n",
       "2867  I just want to die I just hate my life I need ...   \n",
       "\n",
       "                                         post_tokenised  \\\n",
       "2863  [lack, of, cooperation, from, people, being, l...   \n",
       "2864  [i, hate, to, sleep, i, can, t, sleep, and, i,...   \n",
       "2865  [just, another, day, folks, let, s, fucking, w...   \n",
       "2866  [my, house, is, a, sad, place, it, s, been, ma...   \n",
       "2867  [i, just, want, to, die, i, just, hate, my, li...   \n",
       "\n",
       "                                           post_no_stop  \\\n",
       "2863  [lack, cooperation, people, left, people, want...   \n",
       "2864  [hate, sleep, sleep, sleeping, long, time, nig...   \n",
       "2865  [another, day, folks, let, fucking, wrap, hour...   \n",
       "2866  [house, sad, place, made, business, efficiency...   \n",
       "2867  [want, die, hate, life, need, numb, act, const...   \n",
       "\n",
       "                                        post_lemmatised  label  \\\n",
       "2863  lack cooperation people left people want get k...      1   \n",
       "2864  hate sleep sleep sleeping long time night trie...      1   \n",
       "2865        another day folk let fucking wrap hour fuck      1   \n",
       "2866  house sad place made business efficiency leavi...      1   \n",
       "2867  want die hate life need numb act constantly ke...      1   \n",
       "\n",
       "                                            post_string  \n",
       "2863  lack cooperation people left people want get k...  \n",
       "2864  hate sleep sleep sleeping long time night trie...  \n",
       "2865        another day folk let fucking wrap hour fuck  \n",
       "2866  house sad place made business efficiency leavi...  \n",
       "2867  want die hate life need numb act constantly ke...  "
      ]
     },
     "metadata": {},
     "output_type": "display_data"
    }
   ],
   "source": [
    "# View top rows of separate cleaned datasets\n",
    "display(anxiety_cleaned.head())\n",
    "display(depression_cleaned.head())"
   ]
  },
  {
   "cell_type": "code",
   "execution_count": 56,
   "id": "f9074e48",
   "metadata": {},
   "outputs": [],
   "source": [
    "# Merge the 'anxiety_cleaned' and 'depression_cleaned' dataset\n",
    "combined_cleaned = pd.concat([anxiety_cleaned, depression_cleaned])"
   ]
  },
  {
   "cell_type": "code",
   "execution_count": 57,
   "id": "232dfa72",
   "metadata": {},
   "outputs": [
    {
     "name": "stdout",
     "output_type": "stream",
     "text": [
      "\"combined_cleaned\" dataset:\n",
      "(Rows, Column): (5337, 8)\n",
      "\n",
      "\"both\" dataset:\n",
      "(Rows, Column): (5337, 7)\n"
     ]
    }
   ],
   "source": [
    "# Check the number of rows and columns in the cleaned dataset\n",
    "print(\"\\\"combined_cleaned\\\" dataset:\")\n",
    "print(f\"(Rows, Column): {combined_cleaned.shape}\")\n",
    "print(\"\")\n",
    "# Check the number of rows and columns in the raw dataset\n",
    "print(\"\\\"both\\\" dataset:\")\n",
    "print(f\"(Rows, Column): {both.shape}\")"
   ]
  },
  {
   "cell_type": "code",
   "execution_count": 58,
   "id": "f793d56c",
   "metadata": {},
   "outputs": [
    {
     "data": {
      "text/html": [
       "<div>\n",
       "<style scoped>\n",
       "    .dataframe tbody tr th:only-of-type {\n",
       "        vertical-align: middle;\n",
       "    }\n",
       "\n",
       "    .dataframe tbody tr th {\n",
       "        vertical-align: top;\n",
       "    }\n",
       "\n",
       "    .dataframe thead th {\n",
       "        text-align: right;\n",
       "    }\n",
       "</style>\n",
       "<table border=\"1\" class=\"dataframe\">\n",
       "  <thead>\n",
       "    <tr style=\"text-align: right;\">\n",
       "      <th></th>\n",
       "      <th>subreddit</th>\n",
       "      <th>post</th>\n",
       "      <th>post_cleaned</th>\n",
       "      <th>post_tokenised</th>\n",
       "      <th>post_no_stop</th>\n",
       "      <th>post_lemmatised</th>\n",
       "      <th>label</th>\n",
       "      <th>post_string</th>\n",
       "    </tr>\n",
       "  </thead>\n",
       "  <tbody>\n",
       "    <tr>\n",
       "      <th>0</th>\n",
       "      <td>Anxiety</td>\n",
       "      <td>Coping We’re moving out of state and away from...</td>\n",
       "      <td>Coping We’re moving out of state and away from...</td>\n",
       "      <td>[coping, we, re, moving, out, of, state, and, ...</td>\n",
       "      <td>[coping, moving, state, away, everyone, know, ...</td>\n",
       "      <td>coping moving state away everyone know sunday ...</td>\n",
       "      <td>0</td>\n",
       "      <td>coping moving state away everyone know sunday ...</td>\n",
       "    </tr>\n",
       "    <tr>\n",
       "      <th>1</th>\n",
       "      <td>Anxiety</td>\n",
       "      <td>Starting a new job anxiety As the title says, ...</td>\n",
       "      <td>Starting a new job anxiety As the title says I...</td>\n",
       "      <td>[starting, a, new, job, anxiety, as, the, titl...</td>\n",
       "      <td>[starting, new, job, anxiety, title, says, sta...</td>\n",
       "      <td>starting new job anxiety title say starting ne...</td>\n",
       "      <td>0</td>\n",
       "      <td>starting new job anxiety title say starting ne...</td>\n",
       "    </tr>\n",
       "    <tr>\n",
       "      <th>2</th>\n",
       "      <td>Anxiety</td>\n",
       "      <td>anxiety affecting studies Lately I've been fee...</td>\n",
       "      <td>anxiety affecting studies Lately Ive been feel...</td>\n",
       "      <td>[anxiety, affecting, studies, lately, ive, bee...</td>\n",
       "      <td>[anxiety, affecting, studies, lately, feeling,...</td>\n",
       "      <td>anxiety affecting study lately feeling anxious...</td>\n",
       "      <td>0</td>\n",
       "      <td>anxiety affecting study lately feeling anxious...</td>\n",
       "    </tr>\n",
       "    <tr>\n",
       "      <th>3</th>\n",
       "      <td>Anxiety</td>\n",
       "      <td>This is my recovery story since falling for th...</td>\n",
       "      <td>This is my recovery story since falling for th...</td>\n",
       "      <td>[this, is, my, recovery, story, since, falling...</td>\n",
       "      <td>[recovery, story, since, falling, pin, code, s...</td>\n",
       "      <td>recovery story since falling pin code scam cam...</td>\n",
       "      <td>0</td>\n",
       "      <td>recovery story since falling pin code scam cam...</td>\n",
       "    </tr>\n",
       "    <tr>\n",
       "      <th>4</th>\n",
       "      <td>Anxiety</td>\n",
       "      <td>After years wearing braces my teeth still look...</td>\n",
       "      <td>After years wearing braces my teeth still look...</td>\n",
       "      <td>[after, years, wearing, braces, my, teeth, sti...</td>\n",
       "      <td>[years, wearing, braces, teeth, still, look, f...</td>\n",
       "      <td>year wearing brace teeth still look fucked dup...</td>\n",
       "      <td>0</td>\n",
       "      <td>year wearing brace teeth still look fucked dup...</td>\n",
       "    </tr>\n",
       "  </tbody>\n",
       "</table>\n",
       "</div>"
      ],
      "text/plain": [
       "  subreddit                                               post  \\\n",
       "0   Anxiety  Coping We’re moving out of state and away from...   \n",
       "1   Anxiety  Starting a new job anxiety As the title says, ...   \n",
       "2   Anxiety  anxiety affecting studies Lately I've been fee...   \n",
       "3   Anxiety  This is my recovery story since falling for th...   \n",
       "4   Anxiety  After years wearing braces my teeth still look...   \n",
       "\n",
       "                                        post_cleaned  \\\n",
       "0  Coping We’re moving out of state and away from...   \n",
       "1  Starting a new job anxiety As the title says I...   \n",
       "2  anxiety affecting studies Lately Ive been feel...   \n",
       "3  This is my recovery story since falling for th...   \n",
       "4  After years wearing braces my teeth still look...   \n",
       "\n",
       "                                      post_tokenised  \\\n",
       "0  [coping, we, re, moving, out, of, state, and, ...   \n",
       "1  [starting, a, new, job, anxiety, as, the, titl...   \n",
       "2  [anxiety, affecting, studies, lately, ive, bee...   \n",
       "3  [this, is, my, recovery, story, since, falling...   \n",
       "4  [after, years, wearing, braces, my, teeth, sti...   \n",
       "\n",
       "                                        post_no_stop  \\\n",
       "0  [coping, moving, state, away, everyone, know, ...   \n",
       "1  [starting, new, job, anxiety, title, says, sta...   \n",
       "2  [anxiety, affecting, studies, lately, feeling,...   \n",
       "3  [recovery, story, since, falling, pin, code, s...   \n",
       "4  [years, wearing, braces, teeth, still, look, f...   \n",
       "\n",
       "                                     post_lemmatised  label  \\\n",
       "0  coping moving state away everyone know sunday ...      0   \n",
       "1  starting new job anxiety title say starting ne...      0   \n",
       "2  anxiety affecting study lately feeling anxious...      0   \n",
       "3  recovery story since falling pin code scam cam...      0   \n",
       "4  year wearing brace teeth still look fucked dup...      0   \n",
       "\n",
       "                                         post_string  \n",
       "0  coping moving state away everyone know sunday ...  \n",
       "1  starting new job anxiety title say starting ne...  \n",
       "2  anxiety affecting study lately feeling anxious...  \n",
       "3  recovery story since falling pin code scam cam...  \n",
       "4  year wearing brace teeth still look fucked dup...  "
      ]
     },
     "metadata": {},
     "output_type": "display_data"
    },
    {
     "data": {
      "text/html": [
       "<div>\n",
       "<style scoped>\n",
       "    .dataframe tbody tr th:only-of-type {\n",
       "        vertical-align: middle;\n",
       "    }\n",
       "\n",
       "    .dataframe tbody tr th {\n",
       "        vertical-align: top;\n",
       "    }\n",
       "\n",
       "    .dataframe thead th {\n",
       "        text-align: right;\n",
       "    }\n",
       "</style>\n",
       "<table border=\"1\" class=\"dataframe\">\n",
       "  <thead>\n",
       "    <tr style=\"text-align: right;\">\n",
       "      <th></th>\n",
       "      <th>subreddit</th>\n",
       "      <th>post</th>\n",
       "      <th>post_cleaned</th>\n",
       "      <th>post_tokenised</th>\n",
       "      <th>post_no_stop</th>\n",
       "      <th>post_lemmatised</th>\n",
       "      <th>label</th>\n",
       "      <th>post_string</th>\n",
       "    </tr>\n",
       "  </thead>\n",
       "  <tbody>\n",
       "    <tr>\n",
       "      <th>5332</th>\n",
       "      <td>depression</td>\n",
       "      <td>20,M. My “best years” are being wasted and I b...</td>\n",
       "      <td>M My “best years” are being wasted and I blame...</td>\n",
       "      <td>[m, my, best, years, are, being, wasted, and, ...</td>\n",
       "      <td>[best, years, wasted, blame, depression, time,...</td>\n",
       "      <td>best year wasted blame depression time see cha...</td>\n",
       "      <td>1</td>\n",
       "      <td>best year wasted blame depression time see cha...</td>\n",
       "    </tr>\n",
       "    <tr>\n",
       "      <th>5333</th>\n",
       "      <td>depression</td>\n",
       "      <td>I want to die I just want to die, I dont even ...</td>\n",
       "      <td>I want to die I just want to die I dont even w...</td>\n",
       "      <td>[i, want, to, die, i, just, want, to, die, i, ...</td>\n",
       "      <td>[want, die, want, die, dont, want, talk, anymo...</td>\n",
       "      <td>want die want die dont want talk anymore want ...</td>\n",
       "      <td>1</td>\n",
       "      <td>want die want die dont want talk anymore want ...</td>\n",
       "    </tr>\n",
       "    <tr>\n",
       "      <th>5334</th>\n",
       "      <td>depression</td>\n",
       "      <td>Can someone please just reassure me that it'll...</td>\n",
       "      <td>Can someone please just reassure me that itll ...</td>\n",
       "      <td>[can, someone, please, just, reassure, me, tha...</td>\n",
       "      <td>[someone, please, reassure, itll, ok, british,...</td>\n",
       "      <td>someone please reassure itll ok british girl g...</td>\n",
       "      <td>1</td>\n",
       "      <td>someone please reassure itll ok british girl g...</td>\n",
       "    </tr>\n",
       "    <tr>\n",
       "      <th>5335</th>\n",
       "      <td>depression</td>\n",
       "      <td>Tired I remember what it feels like to be happ...</td>\n",
       "      <td>Tired I remember what it feels like to be happ...</td>\n",
       "      <td>[tired, i, remember, what, it, feels, like, to...</td>\n",
       "      <td>[tired, remember, feels, happy, actually, look...</td>\n",
       "      <td>tired remember feel happy actually look forwar...</td>\n",
       "      <td>1</td>\n",
       "      <td>tired remember feel happy actually look forwar...</td>\n",
       "    </tr>\n",
       "    <tr>\n",
       "      <th>5336</th>\n",
       "      <td>depression</td>\n",
       "      <td>Corona has ruined everything I’m almost positi...</td>\n",
       "      <td>Corona has ruined everything I’m almost positi...</td>\n",
       "      <td>[corona, has, ruined, everything, i, m, almost...</td>\n",
       "      <td>[corona, ruined, everything, almost, positive,...</td>\n",
       "      <td>corona ruined everything almost positive lost ...</td>\n",
       "      <td>1</td>\n",
       "      <td>corona ruined everything almost positive lost ...</td>\n",
       "    </tr>\n",
       "  </tbody>\n",
       "</table>\n",
       "</div>"
      ],
      "text/plain": [
       "       subreddit                                               post  \\\n",
       "5332  depression  20,M. My “best years” are being wasted and I b...   \n",
       "5333  depression  I want to die I just want to die, I dont even ...   \n",
       "5334  depression  Can someone please just reassure me that it'll...   \n",
       "5335  depression  Tired I remember what it feels like to be happ...   \n",
       "5336  depression  Corona has ruined everything I’m almost positi...   \n",
       "\n",
       "                                           post_cleaned  \\\n",
       "5332  M My “best years” are being wasted and I blame...   \n",
       "5333  I want to die I just want to die I dont even w...   \n",
       "5334  Can someone please just reassure me that itll ...   \n",
       "5335  Tired I remember what it feels like to be happ...   \n",
       "5336  Corona has ruined everything I’m almost positi...   \n",
       "\n",
       "                                         post_tokenised  \\\n",
       "5332  [m, my, best, years, are, being, wasted, and, ...   \n",
       "5333  [i, want, to, die, i, just, want, to, die, i, ...   \n",
       "5334  [can, someone, please, just, reassure, me, tha...   \n",
       "5335  [tired, i, remember, what, it, feels, like, to...   \n",
       "5336  [corona, has, ruined, everything, i, m, almost...   \n",
       "\n",
       "                                           post_no_stop  \\\n",
       "5332  [best, years, wasted, blame, depression, time,...   \n",
       "5333  [want, die, want, die, dont, want, talk, anymo...   \n",
       "5334  [someone, please, reassure, itll, ok, british,...   \n",
       "5335  [tired, remember, feels, happy, actually, look...   \n",
       "5336  [corona, ruined, everything, almost, positive,...   \n",
       "\n",
       "                                        post_lemmatised  label  \\\n",
       "5332  best year wasted blame depression time see cha...      1   \n",
       "5333  want die want die dont want talk anymore want ...      1   \n",
       "5334  someone please reassure itll ok british girl g...      1   \n",
       "5335  tired remember feel happy actually look forwar...      1   \n",
       "5336  corona ruined everything almost positive lost ...      1   \n",
       "\n",
       "                                            post_string  \n",
       "5332  best year wasted blame depression time see cha...  \n",
       "5333  want die want die dont want talk anymore want ...  \n",
       "5334  someone please reassure itll ok british girl g...  \n",
       "5335  tired remember feel happy actually look forwar...  \n",
       "5336  corona ruined everything almost positive lost ...  "
      ]
     },
     "metadata": {},
     "output_type": "display_data"
    }
   ],
   "source": [
    "# View sample rows of the merged cleaned dataset\n",
    "display(combined_cleaned.head())\n",
    "display(combined_cleaned.tail())"
   ]
  },
  {
   "cell_type": "markdown",
   "id": "b099eb51",
   "metadata": {},
   "source": [
    "## (7) Classification Models"
   ]
  },
  {
   "cell_type": "markdown",
   "id": "5e0d8f2a",
   "metadata": {},
   "source": [
    "#### Classification Model Prep with `CountVectorizer`"
   ]
  },
  {
   "cell_type": "code",
   "execution_count": 59,
   "id": "c0af7cc3",
   "metadata": {},
   "outputs": [
    {
     "name": "stdout",
     "output_type": "stream",
     "text": [
      "Number of rows and columns:\n",
      "(Rows, columns): (5337, 17815)\n"
     ]
    }
   ],
   "source": [
    "# Convert the 'combined_cleaned' dataset into a sparsematrix\n",
    "combined_cleaned_cv_sparsematrix = sparsematrix_check(combined_cleaned['post_no_stop'])\n",
    "\n",
    "# Adding the label column to the sparsematrix\n",
    "combined_cleaned_cv_sparsematrix['category_label'] = combined_cleaned['label']\n",
    "\n",
    "# Check the total number of columns and rows\n",
    "print(\"Number of rows and columns:\")\n",
    "print(f\"(Rows, columns): {combined_cleaned_cv_sparsematrix.shape}\")"
   ]
  },
  {
   "cell_type": "code",
   "execution_count": 60,
   "id": "eb5c95c9",
   "metadata": {},
   "outputs": [],
   "source": [
    "# Define X and y\n",
    "X = combined_cleaned_cv_sparsematrix.iloc[:, 0:17814] # Rest of the column except the \"category_label\" column\n",
    "y = combined_cleaned_cv_sparsematrix.iloc[:, -1] # Location of the \"category_label\" column "
   ]
  },
  {
   "cell_type": "code",
   "execution_count": 61,
   "id": "d7f6e20e",
   "metadata": {},
   "outputs": [],
   "source": [
    "# Train_test_split\n",
    "X_train, X_test, y_train, y_test = train_test_split(X, y, random_state=42)"
   ]
  },
  {
   "cell_type": "markdown",
   "id": "17bbfe68",
   "metadata": {},
   "source": [
    "### Naive Bayes Multinomial with CountVectorizer"
   ]
  },
  {
   "cell_type": "code",
   "execution_count": 62,
   "id": "0b262632",
   "metadata": {},
   "outputs": [
    {
     "name": "stdout",
     "output_type": "stream",
     "text": [
      "Accuracy Scores for the \"Count Vectorizer - Naive Bayes Multinomial\" model:\n",
      "Count Vectorizer - Naive Bayes Multinomial Train Score: 0.9175\n",
      "Count Vectorizer - Naive Bayes Multinomial Test Score: 0.8644\n"
     ]
    }
   ],
   "source": [
    "# Instantiate the Naive Bayes Multinomial Model\n",
    "MultiNB = MultinomialNB()\n",
    "\n",
    "# Train the Naive Bayes Multinomial Model\n",
    "MultiNB.fit(X_train, y_train)\n",
    "\n",
    "# Predict the results using the X_train and X_test\n",
    "y_pred_train = MultiNB.predict(X_train)\n",
    "y_pred_test = MultiNB.predict(X_test)\n",
    "\n",
    "# Save the train and test scores\n",
    "cv_nb_multinomial_train_score = accuracy_score(y_train, y_pred_train)\n",
    "cv_nb_multinomial_test_score = accuracy_score(y_test, y_pred_test)\n",
    "\n",
    "# View the train and test scores\n",
    "print(\"Accuracy Scores for the \\\"Count Vectorizer - Naive Bayes Multinomial\\\" model:\")\n",
    "print(f\"Count Vectorizer - Naive Bayes Multinomial Train Score: {round(cv_nb_multinomial_train_score,4)}\")\n",
    "print(f\"Count Vectorizer - Naive Bayes Multinomial Test Score: {round(cv_nb_multinomial_test_score,4)}\")"
   ]
  },
  {
   "cell_type": "code",
   "execution_count": 63,
   "id": "98475329",
   "metadata": {},
   "outputs": [
    {
     "name": "stdout",
     "output_type": "stream",
     "text": [
      "Count Vectorizer - Naive Bayes Multinomial Classification Report:\n",
      "              precision    recall  f1-score   support\n",
      "\n",
      "           0       0.90      0.85      0.87       733\n",
      "           1       0.83      0.88      0.85       602\n",
      "\n",
      "    accuracy                           0.86      1335\n",
      "   macro avg       0.86      0.87      0.86      1335\n",
      "weighted avg       0.87      0.86      0.86      1335\n",
      "\n"
     ]
    }
   ],
   "source": [
    "# Classification Metrics\n",
    "print(\"Count Vectorizer - Naive Bayes Multinomial Classification Report:\")\n",
    "print(classification_report(y_test, y_pred_test))"
   ]
  },
  {
   "cell_type": "code",
   "execution_count": 64,
   "id": "1cc4b104",
   "metadata": {},
   "outputs": [
    {
     "data": {
      "image/png": "[encoded data removed]",
      "text/plain": [
       "<Figure size 432x288 with 1 Axes>"
      ]
     },
     "metadata": {
      "needs_background": "light"
     },
     "output_type": "display_data"
    }
   ],
   "source": [
    "# Plot the ROC curve\n",
    "plot_roc_curve(MultiNB, X_test, y_test)\n",
    "plt.plot([0, 1], [0, 1],\n",
    "         label='baseline', linestyle='--')\n",
    "plt.legend();"
   ]
  },
  {
   "cell_type": "markdown",
   "id": "6745fa4d",
   "metadata": {},
   "source": [
    "### Logistic Regression with CountVectorizer"
   ]
  },
  {
   "cell_type": "code",
   "execution_count": 65,
   "id": "4d5f12ca",
   "metadata": {},
   "outputs": [
    {
     "name": "stdout",
     "output_type": "stream",
     "text": [
      "Accuracy Scores for the \"Count Vectorizer - Logistic Regression\" model:\n",
      "Count Vectorizer - Logistic Regression Train Score: 0.9935\n",
      "Count Vectorizer - Logistic Regression Test Score: 0.8659\n"
     ]
    }
   ],
   "source": [
    "# Instantiate the Logistic Regression Model\n",
    "LogReg = LogisticRegression(solver='liblinear')\n",
    "\n",
    "# Train the Logistic Regression model\n",
    "LogReg.fit(X_train, y_train)\n",
    "\n",
    "# Predict the results using the X_train and X_test\n",
    "y_pred_train = LogReg.predict(X_train)\n",
    "y_pred_test = LogReg.predict(X_test)\n",
    "\n",
    "# Save the train and test scores\n",
    "cv_logistic_train_score = accuracy_score(y_train, y_pred_train)\n",
    "cv_logistic_test_score = accuracy_score(y_test, y_pred_test)\n",
    "\n",
    "# View the train and test scores\n",
    "print(\"Accuracy Scores for the \\\"Count Vectorizer - Logistic Regression\\\" model:\")\n",
    "print(f\"Count Vectorizer - Logistic Regression Train Score: {round(cv_logistic_train_score,4)}\")\n",
    "print(f\"Count Vectorizer - Logistic Regression Test Score: {round(cv_logistic_test_score,4)}\")"
   ]
  },
  {
   "cell_type": "code",
   "execution_count": 66,
   "id": "82021063",
   "metadata": {},
   "outputs": [
    {
     "name": "stdout",
     "output_type": "stream",
     "text": [
      "Count Vectorizer - Logistic Regression Classification Report:\n",
      "              precision    recall  f1-score   support\n",
      "\n",
      "           0       0.89      0.86      0.88       733\n",
      "           1       0.84      0.87      0.85       602\n",
      "\n",
      "    accuracy                           0.87      1335\n",
      "   macro avg       0.86      0.87      0.87      1335\n",
      "weighted avg       0.87      0.87      0.87      1335\n",
      "\n"
     ]
    }
   ],
   "source": [
    "# Classification Metrics\n",
    "print(\"Count Vectorizer - Logistic Regression Classification Report:\")\n",
    "print(classification_report(y_test, y_pred_test))"
   ]
  },
  {
   "cell_type": "code",
   "execution_count": 67,
   "id": "7468952f",
   "metadata": {},
   "outputs": [
    {
     "data": {
      "image/png": "[encoded data removed]",
      "text/plain": [
       "<Figure size 432x288 with 1 Axes>"
      ]
     },
     "metadata": {
      "needs_background": "light"
     },
     "output_type": "display_data"
    }
   ],
   "source": [
    "# Plot the ROC curve\n",
    "plot_roc_curve(LogReg, X_test, y_test)\n",
    "plt.plot([0, 1], [0, 1],\n",
    "         label='baseline', linestyle='--')\n",
    "plt.legend();"
   ]
  },
  {
   "cell_type": "markdown",
   "id": "66852355",
   "metadata": {},
   "source": [
    "#### Classification Model Prep with `CountVectorizer(Bigram)`"
   ]
  },
  {
   "cell_type": "code",
   "execution_count": 68,
   "id": "eda543b7",
   "metadata": {},
   "outputs": [
    {
     "name": "stdout",
     "output_type": "stream",
     "text": [
      "Number of rows and columns:\n",
      "(Rows, columns): (5337, 248445)\n"
     ]
    }
   ],
   "source": [
    "# Lemmatize the 'post' column for the 'combined_cleaned' dataset\n",
    "combined_cleaned['post'] = combined_cleaned['post_no_stop'].apply(lambda x: lemmatise_ngram(x))\n",
    "\n",
    "# Save bigram sparse matrix as combined_df_ngram\n",
    "combined_cleaned_bigram_sparsematrix = sparsematrix_ngram_check(combined_cleaned['post_lemmatised'], 2)\n",
    "\n",
    "# Adding the label column to the sparsematrix\n",
    "combined_cleaned_bigram_sparsematrix['category_label'] = combined_cleaned['label']\n",
    "\n",
    "# Check the total number of columns and rows\n",
    "print(\"Number of rows and columns:\")\n",
    "print(f\"(Rows, columns): {combined_cleaned_bigram_sparsematrix.shape}\")"
   ]
  },
  {
   "cell_type": "code",
   "execution_count": 69,
   "id": "7a680f48",
   "metadata": {},
   "outputs": [],
   "source": [
    "# Define X and y\n",
    "X = combined_cleaned_bigram_sparsematrix.iloc[:, 0:248444] # Rest of the column except the \"category_label\" column\n",
    "y = combined_cleaned_bigram_sparsematrix.iloc[:, -1] # Location of the \"category_label\" column "
   ]
  },
  {
   "cell_type": "code",
   "execution_count": 70,
   "id": "ebef7cb6",
   "metadata": {},
   "outputs": [],
   "source": [
    "# Train_test_split\n",
    "X_train, X_test, y_train, y_test = train_test_split(X, y, random_state=42)"
   ]
  },
  {
   "cell_type": "markdown",
   "id": "91adaea9",
   "metadata": {},
   "source": [
    "### Naive Bayes Multinomial with CountVectorizer(Bigram)"
   ]
  },
  {
   "cell_type": "code",
   "execution_count": 71,
   "id": "34a91c52",
   "metadata": {},
   "outputs": [
    {
     "name": "stdout",
     "output_type": "stream",
     "text": [
      "Accuracy Scores for the \"BiGram - Naive Bayes Multinomial\" model:\n",
      "BiGram - Naive Bayes Multinomial Train Score: 0.9943\n",
      "BiGram - Naive Bayes Multinomial Test Score: 0.8225\n"
     ]
    }
   ],
   "source": [
    "# Instantiate the Naive Bayes Multinomial Model\n",
    "MultiNB = MultinomialNB()\n",
    "\n",
    "# Train the Naive Bayes Multinomial Model\n",
    "MultiNB.fit(X_train, y_train)\n",
    "\n",
    "# Predicting the results using the X_train and X_test\n",
    "y_pred_train = MultiNB.predict(X_train)\n",
    "y_pred_test = MultiNB.predict(X_test)\n",
    "\n",
    "# Save the train and test scores\n",
    "bigram_nb_multinomial_train_score = accuracy_score(y_train, y_pred_train)\n",
    "bigram_nb_multinomial_test_score = accuracy_score(y_test, y_pred_test)\n",
    "\n",
    "# View the train and test scores\n",
    "print(\"Accuracy Scores for the \\\"BiGram - Naive Bayes Multinomial\\\" model:\")\n",
    "print(f\"BiGram - Naive Bayes Multinomial Train Score: {round(bigram_nb_multinomial_train_score,4)}\")\n",
    "print(f\"BiGram - Naive Bayes Multinomial Test Score: {round(bigram_nb_multinomial_test_score,4)}\")"
   ]
  },
  {
   "cell_type": "code",
   "execution_count": 72,
   "id": "146be5eb",
   "metadata": {},
   "outputs": [
    {
     "name": "stdout",
     "output_type": "stream",
     "text": [
      "BiGram - Naive Bayes Multinomial Classification Report:\n",
      "              precision    recall  f1-score   support\n",
      "\n",
      "           0       0.86      0.81      0.83       733\n",
      "           1       0.78      0.84      0.81       602\n",
      "\n",
      "    accuracy                           0.82      1335\n",
      "   macro avg       0.82      0.82      0.82      1335\n",
      "weighted avg       0.83      0.82      0.82      1335\n",
      "\n"
     ]
    }
   ],
   "source": [
    "# Classification Metrics\n",
    "print(\"BiGram - Naive Bayes Multinomial Classification Report:\")\n",
    "print(classification_report(y_test, y_pred_test))"
   ]
  },
  {
   "cell_type": "code",
   "execution_count": 73,
   "id": "7b0f9b48",
   "metadata": {},
   "outputs": [
    {
     "data": {
      "image/png": "[encoded data removed]",
      "text/plain": [
       "<Figure size 432x288 with 1 Axes>"
      ]
     },
     "metadata": {
      "needs_background": "light"
     },
     "output_type": "display_data"
    }
   ],
   "source": [
    "# Plot the ROC curve\n",
    "plot_roc_curve(MultiNB, X_test, y_test)\n",
    "plt.plot([0, 1], [0, 1],\n",
    "         label='baseline', linestyle='--')\n",
    "plt.legend();"
   ]
  },
  {
   "cell_type": "markdown",
   "id": "564ad5c6",
   "metadata": {},
   "source": [
    "### Logistic Regression model with CountVectorizer(Bigram)"
   ]
  },
  {
   "cell_type": "code",
   "execution_count": 74,
   "id": "2db2a449",
   "metadata": {},
   "outputs": [
    {
     "name": "stdout",
     "output_type": "stream",
     "text": [
      "Accuracy Scores for the \"BiGram - Logistic Regression\" model:\n",
      "BiGram - Logistic Regression Train Score: 0.998\n",
      "BiGram - Logistic Regression Test Score: 0.812\n"
     ]
    }
   ],
   "source": [
    "# Training the Logistic Regression Model\n",
    "LogReg = LogisticRegression(solver='liblinear')\n",
    "LogReg.fit(X_train, y_train)\n",
    "\n",
    "# Predicting the results using the X_train and X_test\n",
    "y_pred_train = LogReg.predict(X_train)\n",
    "y_pred_test = LogReg.predict(X_test)\n",
    "\n",
    "# Saving the train and test scores\n",
    "bigram_nb_logistic_train_score = accuracy_score(y_train, y_pred_train)\n",
    "bigram_nb_logistic_test_score = accuracy_score(y_test, y_pred_test)\n",
    "\n",
    "# Displaying the train and test scores\n",
    "print(\"Accuracy Scores for the \\\"BiGram - Logistic Regression\\\" model:\")\n",
    "print(f\"BiGram - Logistic Regression Train Score: {round(bigram_nb_logistic_train_score,4)}\")\n",
    "print(f\"BiGram - Logistic Regression Test Score: {round(bigram_nb_logistic_test_score,4)}\")"
   ]
  },
  {
   "cell_type": "code",
   "execution_count": 75,
   "id": "1928a59c",
   "metadata": {},
   "outputs": [
    {
     "name": "stdout",
     "output_type": "stream",
     "text": [
      "BiGram - Logistic Regression Classification Report:\n",
      "              precision    recall  f1-score   support\n",
      "\n",
      "           0       0.85      0.80      0.82       733\n",
      "           1       0.77      0.83      0.80       602\n",
      "\n",
      "    accuracy                           0.81      1335\n",
      "   macro avg       0.81      0.81      0.81      1335\n",
      "weighted avg       0.82      0.81      0.81      1335\n",
      "\n"
     ]
    }
   ],
   "source": [
    "# Display Classification Metrics\n",
    "print(\"BiGram - Logistic Regression Classification Report:\")\n",
    "print(classification_report(y_test, y_pred_test))"
   ]
  },
  {
   "cell_type": "code",
   "execution_count": 76,
   "id": "51d189ba",
   "metadata": {},
   "outputs": [
    {
     "data": {
      "image/png": "[encoded data removed]",
      "text/plain": [
       "<Figure size 432x288 with 1 Axes>"
      ]
     },
     "metadata": {
      "needs_background": "light"
     },
     "output_type": "display_data"
    }
   ],
   "source": [
    "# Plotting of the ROC curve\n",
    "plot_roc_curve(LogReg, X_test, y_test)\n",
    "plt.plot([0, 1], [0, 1],\n",
    "         label='baseline', linestyle='--')\n",
    "plt.legend();"
   ]
  },
  {
   "cell_type": "markdown",
   "id": "126bbe93",
   "metadata": {},
   "source": [
    "#### Classification Model Prep with `TF-IDF vectoriser`"
   ]
  },
  {
   "cell_type": "code",
   "execution_count": 77,
   "id": "f8dad750",
   "metadata": {},
   "outputs": [
    {
     "name": "stdout",
     "output_type": "stream",
     "text": [
      "Number of rows and columns:\n",
      "(Rows, columns): (5337, 17815)\n"
     ]
    }
   ],
   "source": [
    "# Define function to create sparse matrix for TF-IDF\n",
    "def sparsematrix_tiidf_check(value):\n",
    "    # Create an instance of CountVectorizer and pass in the clean_text function as the analyzer parameter\n",
    "    tfidf_vect = TfidfVectorizer(analyzer = lemmatise)\n",
    "\n",
    "    # X_counts stores the vectorized version of the data\n",
    "    X_tfidf = tfidf_vect.fit_transform(value)\n",
    "    \n",
    "    # Expand sparse matrix to a collection of arrays and then store it in a data frame\n",
    "    X_tfidf_df = pd.DataFrame(X_tfidf.toarray())\n",
    "    \n",
    "    # Apply column name to the dataframe\n",
    "    X_tfidf_df.columns = tfidf_vect.get_feature_names()\n",
    "    \n",
    "    return X_tfidf_df\n",
    "\n",
    "# Create TF-IDF for r/Anxiety\n",
    "combined_cleaned_tfidf_sparsematrix = sparsematrix_tiidf_check(combined_cleaned['post_no_stop'])\n",
    "\n",
    "# Adding the label column to the sparsematrix\n",
    "combined_cleaned_tfidf_sparsematrix['category_label'] = combined_cleaned['label']\n",
    "\n",
    "# Check the total number of columns and rows\n",
    "print(\"Number of rows and columns:\")\n",
    "print(f\"(Rows, columns): {combined_cleaned_tfidf_sparsematrix.shape}\")"
   ]
  },
  {
   "cell_type": "code",
   "execution_count": 78,
   "id": "0bca6106",
   "metadata": {},
   "outputs": [],
   "source": [
    "# Define X and y\n",
    "X = combined_cleaned_tfidf_sparsematrix.iloc[:, 0:17814] # Rest of the column except the \"category_label\" column\n",
    "y = combined_cleaned_tfidf_sparsematrix.iloc[:, -1] # Location of the \"category_label\" column "
   ]
  },
  {
   "cell_type": "code",
   "execution_count": 79,
   "id": "b9077a0a",
   "metadata": {},
   "outputs": [],
   "source": [
    "# Train_test_split\n",
    "X_train, X_test, y_train, y_test = train_test_split(X, y, random_state=42)"
   ]
  },
  {
   "cell_type": "markdown",
   "id": "1be95727",
   "metadata": {},
   "source": [
    "### Naive Bayes Multinomial with TF-IDF vectoriser"
   ]
  },
  {
   "cell_type": "code",
   "execution_count": 80,
   "id": "757fb2d5",
   "metadata": {},
   "outputs": [
    {
     "name": "stdout",
     "output_type": "stream",
     "text": [
      "Accuracy Scores for the \"TF-IDF - Naive Bayes Multinomial\" model:\n",
      "TF-IDF - Naive Bayes Multinomial Train Score: 0.9185\n",
      "TF-IDF - Naive Bayes Multinomial Test Score: 0.8562\n"
     ]
    }
   ],
   "source": [
    "# Instantiate the Naive Bayes Multinomial model\n",
    "MultiNB = MultinomialNB()\n",
    "\n",
    "# Train the Naive Bayes Multinomial model\n",
    "MultiNB.fit(X_train, y_train)\n",
    "\n",
    "# Predict the results using the X_train and X_test\n",
    "y_pred_train = MultiNB.predict(X_train)\n",
    "y_pred_test = MultiNB.predict(X_test)\n",
    "\n",
    "# Save the train and test scores\n",
    "TFIDF_nb_multinomial_train_score = accuracy_score(y_train, y_pred_train)\n",
    "TFIDF_nb_multinomial_test_score = accuracy_score(y_test, y_pred_test)\n",
    "\n",
    "# View the train and test scores\n",
    "print(\"Accuracy Scores for the \\\"TF-IDF - Naive Bayes Multinomial\\\" model:\")\n",
    "print(f\"TF-IDF - Naive Bayes Multinomial Train Score: {round(TFIDF_nb_multinomial_train_score,4)}\")\n",
    "print(f\"TF-IDF - Naive Bayes Multinomial Test Score: {round(TFIDF_nb_multinomial_test_score,4)}\")"
   ]
  },
  {
   "cell_type": "code",
   "execution_count": 81,
   "id": "091f361c",
   "metadata": {},
   "outputs": [
    {
     "name": "stdout",
     "output_type": "stream",
     "text": [
      "(TF-IDF) - Naive Bayes Multinomial Classification Report:\n",
      "              precision    recall  f1-score   support\n",
      "\n",
      "           0       0.87      0.87      0.87       733\n",
      "           1       0.84      0.84      0.84       602\n",
      "\n",
      "    accuracy                           0.86      1335\n",
      "   macro avg       0.85      0.85      0.85      1335\n",
      "weighted avg       0.86      0.86      0.86      1335\n",
      "\n"
     ]
    }
   ],
   "source": [
    "# Classification Metrics\n",
    "print(\"(TF-IDF) - Naive Bayes Multinomial Classification Report:\")\n",
    "print(classification_report(y_test, y_pred_test))"
   ]
  },
  {
   "cell_type": "code",
   "execution_count": 82,
   "id": "ea18b635",
   "metadata": {},
   "outputs": [
    {
     "data": {
      "image/png": "[encoded data removed]",
      "text/plain": [
       "<Figure size 432x288 with 1 Axes>"
      ]
     },
     "metadata": {
      "needs_background": "light"
     },
     "output_type": "display_data"
    }
   ],
   "source": [
    "# Plot the ROC curve\n",
    "plot_roc_curve(MultiNB, X_test, y_test)\n",
    "plt.plot([0, 1], [0, 1],\n",
    "         label='baseline', linestyle='--')\n",
    "plt.legend();"
   ]
  },
  {
   "cell_type": "markdown",
   "id": "9bd46556",
   "metadata": {},
   "source": [
    "### Logistic Regression with TF-IDF vectoriser"
   ]
  },
  {
   "cell_type": "code",
   "execution_count": 83,
   "id": "0304aa1a",
   "metadata": {},
   "outputs": [
    {
     "name": "stdout",
     "output_type": "stream",
     "text": [
      "Accuracy Scores for the \"TF-IDF - Logistic Regression\" model:\n",
      "TF-IDF - Logistic Regression Train Score: 0.9435\n",
      "TF-IDF - Logistic Regression Test Score: 0.8846\n"
     ]
    }
   ],
   "source": [
    "# Instantiate the Logistic Regression Model\n",
    "LogReg = LogisticRegression(solver='liblinear')\n",
    "\n",
    "# Train the Logistic Regression Model\n",
    "LogReg.fit(X_train, y_train)\n",
    "\n",
    "# Predict the results using the X_train and X_test\n",
    "y_pred_train = LogReg.predict(X_train)\n",
    "y_pred_test = LogReg.predict(X_test)\n",
    "\n",
    "# Save the train and test scores\n",
    "TFIDF_logistic_train_score = accuracy_score(y_train, y_pred_train)\n",
    "TFIDF_logistic_test_score = accuracy_score(y_test, y_pred_test)\n",
    "\n",
    "# View the train and test scores\n",
    "print(\"Accuracy Scores for the \\\"TF-IDF - Logistic Regression\\\" model:\")\n",
    "print(f\"TF-IDF - Logistic Regression Train Score: {round(TFIDF_logistic_train_score,4)}\")\n",
    "print(f\"TF-IDF - Logistic Regression Test Score: {round(TFIDF_logistic_test_score,4)}\")"
   ]
  },
  {
   "cell_type": "code",
   "execution_count": 84,
   "id": "249e2142",
   "metadata": {},
   "outputs": [
    {
     "name": "stdout",
     "output_type": "stream",
     "text": [
      "(TF-IDF) - Logistic Regression Classification Report:\n",
      "              precision    recall  f1-score   support\n",
      "\n",
      "           0       0.90      0.89      0.89       733\n",
      "           1       0.87      0.88      0.87       602\n",
      "\n",
      "    accuracy                           0.88      1335\n",
      "   macro avg       0.88      0.88      0.88      1335\n",
      "weighted avg       0.88      0.88      0.88      1335\n",
      "\n"
     ]
    }
   ],
   "source": [
    "# Classification Metrics\n",
    "print(\"(TF-IDF) - Logistic Regression Classification Report:\")\n",
    "print(classification_report(y_test, y_pred_test))"
   ]
  },
  {
   "cell_type": "code",
   "execution_count": 85,
   "id": "8e02b01d",
   "metadata": {},
   "outputs": [
    {
     "data": {
      "image/png": "[encoded data removed]",
      "text/plain": [
       "<Figure size 432x288 with 1 Axes>"
      ]
     },
     "metadata": {
      "needs_background": "light"
     },
     "output_type": "display_data"
    }
   ],
   "source": [
    "# Plotting of the ROC curve\n",
    "plot_roc_curve(LogReg, X_test, y_test)\n",
    "plt.plot([0, 1], [0, 1],\n",
    "         label='baseline', linestyle='--')\n",
    "plt.legend();"
   ]
  },
  {
   "cell_type": "markdown",
   "id": "41c2bfc6",
   "metadata": {},
   "source": [
    "## Summary of Results\n",
    "\n",
    "|Count vectorisation technique|Model type|Train score|Test score|AUC| \n",
    "|:----------------------------|:---------|:---------:|:--------:|:--:|  \n",
    "|CountVectorizer |Naive-Bayes Multinomial|0.9175|0.8644|0.92|\n",
    "|CountVectorizer |Logistic Regression|0.9935|0.8659|0.93|\n",
    "|Bigram |Naive-Bayes Multinomial|0.9943|0.8225|0.90|\n",
    "|Bigram |Logistic Regression|0.998|0.812|0.88|\n",
    "|TF-IDF |Naive-Bayes Multinomial|0.9185|0.8562|0.93|\n",
    "|<font color=\"blue\">TF-IDF </font>|<font color=\"blue\">Logistic Regression</font>|<font color=\"blue\">0.9435</font>|<font color=\"blue\">0.8846</font>|<font color=\"blue\">0.95</font>|\n",
    "\n",
    "\n"
   ]
  },
  {
   "cell_type": "markdown",
   "id": "5baf4c50",
   "metadata": {},
   "source": [
    "## Conclusions\n",
    "The Logistic Regression Model is the most successful classification model, with train and test scores of 0.9435 and 0.8846 respectively and AUC value of 0.95. This means that the model is best able to generalise on new text data and accurately identify a text post that contains user's experiences with depression. At the same time, as the model has highest AUC of 0.95, it can best differentiate whether a post contains user's experiences with depression or anxiety.\n",
    "\n",
    "However, it should be noted that there are a few limitations of this model. As reddit submissions were used as proxy, textual evidence was only limited to the 30 days worth of submissions queried from each subreddit. There could be other pressing issues that plague users with anxiety or depression that were not discussed and/or not captured by the dataset. As Chippy, the app by uniCHIP is designed for local university students, there could also be a lack of representation of this demographic in the respective communities of r/Anxiety and r/depression. As such, future improvements could be made by scraping data of other university forums instead, in order to capture data more representative of our user population. Additionally, analyses were only done on unigrams, bigrams and trigrams, which may not give a full understanding of the submissions posted about the topic. We could further classify posts as user's own experience with anxiety or depression, or caregiver's experience in dealing with someone with the mental health disorder, then conduct sentiment analyses on each type of post.\n",
    "\n",
    "In reality, there could be co-morbidity amongst users. Patients with mental health disorders can experience both anxiety and depressive symptoms. However, for this project, due to limited internal data, we work on the premise that users submit posts to the subreddit with their predominant symptoms. "
   ]
  },
  {
   "cell_type": "markdown",
   "id": "a3731846",
   "metadata": {},
   "source": [
    "## Recommendations\n",
    "The mental health illness umbrella is not limited to anxiety and depression. Thus, we can expand this project to classify other prevalent mental health issues as well. Future developments uniCHIP can make to its app, Chippy include a way to automatically identify posts containing user experiences with poor mental health concerns. \n",
    "\n",
    "Additionally, collaboration with local mental health resources can bolster uniCHIP's endeavors to achieve its corporate social responsibility goals. Working on a campaign with mental health helplines and national healthcare institutions will further raise awareness for mental health issues and educate users on how to identify and care for someone suffering from poor mental health.\n"
   ]
  }
 ],
 "metadata": {
  "kernelspec": {
   "display_name": "Python 3 (ipykernel)",
   "language": "python",
   "name": "python3"
  },
  "language_info": {
   "codemirror_mode": {
    "name": "ipython",
    "version": 3
   },
   "file_extension": ".py",
   "mimetype": "text/x-python",
   "name": "python",
   "nbconvert_exporter": "python",
   "pygments_lexer": "ipython3",
   "version": "3.9.12"
  }
 },
 "nbformat": 4,
 "nbformat_minor": 5
}
