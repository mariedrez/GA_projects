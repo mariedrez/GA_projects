{
 "cells": [
  {
   "cell_type": "markdown",
   "metadata": {},
   "source": [
    "<img src=\"http://imgur.com/1ZcRyrc.png\" style=\"float: left; margin: 20px; height: 55px\">\n",
    "\n",
    "# Project 1: Standardized Test Analysis"
   ]
  },
  {
   "cell_type": "markdown",
   "metadata": {},
   "source": [
    "### Contents:\n",
    "- [Background](#Background)\n",
    "- [Data Import & Cleaning](#Data-Import-and-Cleaning)\n",
    "- [Exploratory Data Analysis](#Exploratory-Data-Analysis)\n",
    "- [Data Visualization](#Visualize-the-Data)\n",
    "- [Conclusions and Recommendations](#Conclusions-and-Recommendations)"
   ]
  },
  {
   "cell_type": "markdown",
   "metadata": {},
   "source": [
    "--- \n",
    "# Part 1\n",
    "\n",
    "Part 1 requires knowledge of basic Python.\n",
    "\n",
    "---"
   ]
  },
  {
   "cell_type": "markdown",
   "metadata": {},
   "source": [
    "## Problem Statement\n",
    "\n",
    "You work for the ACT inc, the board that administers an entrance exam used by most colleges and universities to make admissions decisions. <br>\n",
    "\n",
    "ACT inc has asked you to advise marketing decisions to high school students on sitting for the ACT should they intend to enrol in college for their intended school major. ACT inc is concerned about the perceived relevance of the ACT exam and would like to make data-driven decisions in order to improve the participation rates in the coming school year. <br>\n",
    "\n",
    "Your presentation and report should be geared toward non-technical executives of ACT inc and you will use the provided data and outside research to make recommendations about how the company might work to increase the participation rate in a state of your choice."
   ]
  },
  {
   "cell_type": "markdown",
   "metadata": {},
   "source": [
    "## Background\n",
    "\n",
    "The SAT and ACT are standardized tests that many colleges and universities in the United States require for their admissions process. This score is used along with other materials such as grade point average (GPA) and essay responses to determine whether or not a potential student will be accepted to the university.\n",
    "\n",
    "The SAT has two sections of the test: Evidence-Based Reading and Writing and Math ([*source*](https://www.princetonreview.com/college/sat-sections)). The ACT has 4 sections: English, Mathematics, Reading, and Science, with an additional optional writing section ([*source*](https://www.act.org/content/act/en/products-and-services/the-act/scores/understanding-your-scores.html)). They have different score ranges, which you can read more about on their websites or additional outside sources (a quick Google search will help you understand the scores for each test):\n",
    "* [SAT](https://collegereadiness.collegeboard.org/sat)\n",
    "* [ACT](https://www.act.org/content/act/en.html)\n",
    "\n",
    "Standardized tests have long been a controversial topic for students, administrators, and legislators. Since the 1940's, an increasing number of colleges have been using scores from sudents' performances on tests like the SAT and the ACT as a measure for college readiness and aptitude ([*source*](https://www.minotdailynews.com/news/local-news/2017/04/a-brief-history-of-the-sat-and-act/)). Supporters of these tests argue that these scores can be used as an objective measure to determine college admittance. Opponents of these tests claim that these tests are not accurate measures of students potential or ability and serve as an inequitable barrier to entry. Lately, more and more schools are opting to drop the SAT/ACT requirement for their Fall 2021 applications ([*read more about this here*](https://www.cnn.com/2020/04/14/us/coronavirus-colleges-sat-act-test-trnd/index.html))."
   ]
  },
  {
   "cell_type": "markdown",
   "metadata": {},
   "source": [
    "## External Research\n",
    "\n",
    "In 2019, more than 1.72 million graduates (estimated 52% of the US high school graduands) sat for the ACT. This is a slight drop from the 1.9 million ACT candidates (or estimated 55% of the graduating batch) reported in 2018. Meanwhile, over 2.2 million graduates sat for the SAT, with a 4% increase from the previous year. Evidence here suggests that the ACT is becoming less popular over the years.\n",
    "\n",
    "Applications to sit the ACT and SAT cost a considerable sum respectively. Self-sponsored ACT candidates pay `$63` to sit for the exams, and an additional `$25` to be tested on an optional Writing component. On the other hand, self-sponsored SAT candidates pay `$60` to sit for the exams <a href=\"https://blog.prepscholar.com/act-vs-sat\" target=\"_blank\">(source)</a>.\n",
    "\n",
    "\n",
    "Fortunately, 16 states allow students to sit for the ACT exams at no charge, while 11 states offer students to sit for the SAT at no charge. <a href=\"https://www.collegeraptor.com/getting-in/articles/act-sat/states-act-sat-given-free/\" target=\"_blank\">(source)</a>. It should be noted that only Colorado offers its students to sit for both sets of exams for free. In addition, students who reside in states that are on neither of the aforementioned lists may apply for fee waivers on the condition that they meet some requirements.\n",
    "\n",
    "How relevant is it to take both tests? <br>\n",
    "While colleges generally do not discriminate between the ACT and the SAT, a significant percentage of students sit for both exams <a href=\"https://www.princetonreview.com/college-advice/4-reasons-to-take-both-sat-and-act\" target=\"_blank\">(source)</a>.\n",
    "\n",
    "Among many reasons to sit for both exams include: \n",
    "- the ability to offer additional information on one's strengths to the Admissions Committe of one's intended college <a href=\"https://www.nytimes.com/2020/05/26/learning/should-students-be-required-to-take-the-sat-and-act-to-apply-to-college.html\" target=\"_blank\">(source)</a>, \n",
    "\n",
    "- being able to prepare more efficiently in the event that one is intending to re-sit either/both exams to earn target scores, and \n",
    "- increasing one's chances of earning merit-based financial aid upon enrolment to college <a href=\"https://www.princetonreview.com/college-advice/4-reasons-to-take-both-sat-and-act\" target=\"_blank\">(source)</a>."
   ]
  },
  {
   "cell_type": "markdown",
   "metadata": {},
   "source": [
    "## Data Science workflow\n",
    "\n",
    "In order to study the current relative popularity of the ACT and SAT among high school graduates, we looked at the most recent (given) data for the two exams across all states in 2019. We also looked at ACT data in the timeframe of 2017 to 2019 to analyse year on year trends for participation rates and composite scores."
   ]
  },
  {
   "cell_type": "markdown",
   "metadata": {},
   "source": [
    "## Data chosen for analysis\n",
    "\n",
    "* [`act_2017.csv`](./data/act_2017.csv): 2017 ACT Scores by State\n",
    "* [`act_2018.csv`](./data/act_2018.csv): 2018 ACT Scores by State\n",
    "* [`act_2019.csv`](./data/act_2019.csv): 2019 ACT Scores by State\n",
    "* [`sat_2019.csv`](./data/sat_2019.csv): 2019 SAT Scores by State"
   ]
  },
  {
   "cell_type": "markdown",
   "metadata": {},
   "source": [
    "### Coding Challenges\n",
    "\n",
    "1. Manually calculate mean:\n",
    "\n",
    "    Write a function that takes in values and returns the mean of the values. Create a list of numbers that you test on your function to check to make sure your function works!\n",
    "    \n",
    "    *Note*: Do not use any mean methods built-in to any Python libraries to do this! This should be done without importing any additional libraries."
   ]
  },
  {
   "cell_type": "code",
   "execution_count": 1,
   "metadata": {},
   "outputs": [],
   "source": [
    "tst_values = [1,2,3,4,5]"
   ]
  },
  {
   "cell_type": "code",
   "execution_count": 2,
   "metadata": {},
   "outputs": [
    {
     "data": {
      "text/plain": [
       "3.0"
      ]
     },
     "execution_count": 2,
     "metadata": {},
     "output_type": "execute_result"
    }
   ],
   "source": [
    "def mean(values):\n",
    "    res = sum(values)/len(values)\n",
    "    return res\n",
    "\n",
    "mean(tst_values)    #pass mean function into list titled tst_values"
   ]
  },
  {
   "cell_type": "markdown",
   "metadata": {},
   "source": [
    "2. Manually calculate standard deviation:\n",
    "\n",
    "    The formula for standard deviation is below:\n",
    "\n",
    "    $$\\sigma = \\sqrt{\\frac{1}{n}\\sum_{i=1}^n(x_i - \\mu)^2}$$\n",
    "\n",
    "    Where $x_i$ represents each value in the dataset, $\\mu$ represents the mean of all values in the dataset and $n$ represents the number of values in the dataset.\n",
    "\n",
    "    Write a function that takes in values and returns the standard deviation of the values using the formula above. Hint: use the function you wrote above to calculate the mean! Use the list of numbers you created above to test on your function.\n",
    "    \n",
    "    *Note*: Do not use any standard deviation methods built-in to any Python libraries to do this! This should be done without importing any additional libraries."
   ]
  },
  {
   "cell_type": "code",
   "execution_count": 3,
   "metadata": {},
   "outputs": [
    {
     "data": {
      "text/plain": [
       "0.8944271909999159"
      ]
     },
     "execution_count": 3,
     "metadata": {},
     "output_type": "execute_result"
    }
   ],
   "source": [
    "def stdev(values):\n",
    "    for v in values:   #for each value in the list of values\n",
    "        sum_sq = 0        #find mean == mean(values)\n",
    "        v_dev = v - mean(values)   #find each value's deviation from the mean\n",
    "        sq_dev = (v_dev ** 2)    #square (each deviation from the mean)\n",
    "        sum_sq += sq_dev #sum the square values\n",
    "    standev = (sum_sq / len(values))** 0.5   #variance = sum_sq / N for population\n",
    "    return standev                             #take sq_rt of variance\n",
    "\n",
    "stdev(tst_values)   #pass stdev function into list titled tst_values"
   ]
  },
  {
   "cell_type": "markdown",
   "metadata": {},
   "source": [
    "3. Data cleaning function:\n",
    "    \n",
    "    Write a function that takes in a string that is a number and a percent symbol (ex. '50%', '30.5%', etc.) and converts this to a float that is the decimal approximation of the percent. For example, inputting '50%' in your function should return 0.5, '30.5%' should return 0.305, etc. Make sure to test your function to make sure it works!\n",
    "\n",
    "You will use these functions later on in the project!"
   ]
  },
  {
   "cell_type": "code",
   "execution_count": 4,
   "metadata": {},
   "outputs": [
    {
     "data": {
      "text/plain": [
       "0.305"
      ]
     },
     "execution_count": 4,
     "metadata": {},
     "output_type": "execute_result"
    }
   ],
   "source": [
    "tst_string = \"30.5%\"\n",
    "\n",
    "def num_to_float(pct_string):\n",
    "    return float(pct_string.strip('%'))/100\n",
    "\n",
    "num_to_float(tst_string)"
   ]
  },
  {
   "cell_type": "markdown",
   "metadata": {},
   "source": [
    "--- \n",
    "# Part 2\n",
    "\n",
    "Part 2 requires knowledge of Pandas, EDA, data cleaning, and data visualization.\n",
    "\n",
    "---"
   ]
  },
  {
   "cell_type": "markdown",
   "metadata": {},
   "source": [
    "*All libraries used should be added here*"
   ]
  },
  {
   "cell_type": "code",
   "execution_count": 5,
   "metadata": {},
   "outputs": [],
   "source": [
    "import pandas as pd\n",
    "import numpy as np\n",
    "import matplotlib.pyplot as plt\n",
    "import seaborn as sns\n",
    "\n",
    "plt.style.use('fivethirtyeight')\n",
    "\n",
    "# Increase default figure and font sizes for easier viewing.\n",
    "plt.rcParams['figure.figsize'] = (10, 8)\n",
    "plt.rcParams['font.size'] = 14"
   ]
  },
  {
   "cell_type": "markdown",
   "metadata": {},
   "source": [
    "## Data Import and Cleaning"
   ]
  },
  {
   "cell_type": "markdown",
   "metadata": {},
   "source": [
    "#### 1. Display the data: print the first 5 rows of each dataframe to your Jupyter notebook. "
   ]
  },
  {
   "cell_type": "code",
   "execution_count": 6,
   "metadata": {},
   "outputs": [
    {
     "data": {
      "text/html": [
       "<div>\n",
       "<style scoped>\n",
       "    .dataframe tbody tr th:only-of-type {\n",
       "        vertical-align: middle;\n",
       "    }\n",
       "\n",
       "    .dataframe tbody tr th {\n",
       "        vertical-align: top;\n",
       "    }\n",
       "\n",
       "    .dataframe thead th {\n",
       "        text-align: right;\n",
       "    }\n",
       "</style>\n",
       "<table border=\"1\" class=\"dataframe\">\n",
       "  <thead>\n",
       "    <tr style=\"text-align: right;\">\n",
       "      <th></th>\n",
       "      <th>State</th>\n",
       "      <th>Participation</th>\n",
       "      <th>English</th>\n",
       "      <th>Math</th>\n",
       "      <th>Reading</th>\n",
       "      <th>Science</th>\n",
       "      <th>Composite</th>\n",
       "    </tr>\n",
       "  </thead>\n",
       "  <tbody>\n",
       "    <tr>\n",
       "      <th>0</th>\n",
       "      <td>National</td>\n",
       "      <td>60%</td>\n",
       "      <td>20.3</td>\n",
       "      <td>20.7</td>\n",
       "      <td>21.4</td>\n",
       "      <td>21.0</td>\n",
       "      <td>21.0</td>\n",
       "    </tr>\n",
       "    <tr>\n",
       "      <th>1</th>\n",
       "      <td>Alabama</td>\n",
       "      <td>100%</td>\n",
       "      <td>18.9</td>\n",
       "      <td>18.4</td>\n",
       "      <td>19.7</td>\n",
       "      <td>19.4</td>\n",
       "      <td>19.2</td>\n",
       "    </tr>\n",
       "    <tr>\n",
       "      <th>2</th>\n",
       "      <td>Alaska</td>\n",
       "      <td>65%</td>\n",
       "      <td>18.7</td>\n",
       "      <td>19.8</td>\n",
       "      <td>20.4</td>\n",
       "      <td>19.9</td>\n",
       "      <td>19.8</td>\n",
       "    </tr>\n",
       "    <tr>\n",
       "      <th>3</th>\n",
       "      <td>Arizona</td>\n",
       "      <td>62%</td>\n",
       "      <td>18.6</td>\n",
       "      <td>19.8</td>\n",
       "      <td>20.1</td>\n",
       "      <td>19.8</td>\n",
       "      <td>19.7</td>\n",
       "    </tr>\n",
       "    <tr>\n",
       "      <th>4</th>\n",
       "      <td>Arkansas</td>\n",
       "      <td>100%</td>\n",
       "      <td>18.9</td>\n",
       "      <td>19.0</td>\n",
       "      <td>19.7</td>\n",
       "      <td>19.5</td>\n",
       "      <td>19.4</td>\n",
       "    </tr>\n",
       "  </tbody>\n",
       "</table>\n",
       "</div>"
      ],
      "text/plain": [
       "      State Participation  English  Math  Reading  Science Composite\n",
       "0  National           60%     20.3  20.7     21.4     21.0      21.0\n",
       "1   Alabama          100%     18.9  18.4     19.7     19.4      19.2\n",
       "2    Alaska           65%     18.7  19.8     20.4     19.9      19.8\n",
       "3   Arizona           62%     18.6  19.8     20.1     19.8      19.7\n",
       "4  Arkansas          100%     18.9  19.0     19.7     19.5      19.4"
      ]
     },
     "execution_count": 6,
     "metadata": {},
     "output_type": "execute_result"
    }
   ],
   "source": [
    "act2017 = pd.read_csv('../data/act_2017.csv') \n",
    "act2017.head() #prints first 5 rows of act2017 dataframe"
   ]
  },
  {
   "cell_type": "code",
   "execution_count": 7,
   "metadata": {},
   "outputs": [
    {
     "data": {
      "text/html": [
       "<div>\n",
       "<style scoped>\n",
       "    .dataframe tbody tr th:only-of-type {\n",
       "        vertical-align: middle;\n",
       "    }\n",
       "\n",
       "    .dataframe tbody tr th {\n",
       "        vertical-align: top;\n",
       "    }\n",
       "\n",
       "    .dataframe thead th {\n",
       "        text-align: right;\n",
       "    }\n",
       "</style>\n",
       "<table border=\"1\" class=\"dataframe\">\n",
       "  <thead>\n",
       "    <tr style=\"text-align: right;\">\n",
       "      <th></th>\n",
       "      <th>State</th>\n",
       "      <th>Participation</th>\n",
       "      <th>Composite</th>\n",
       "    </tr>\n",
       "  </thead>\n",
       "  <tbody>\n",
       "    <tr>\n",
       "      <th>0</th>\n",
       "      <td>Alabama</td>\n",
       "      <td>100%</td>\n",
       "      <td>19.1</td>\n",
       "    </tr>\n",
       "    <tr>\n",
       "      <th>1</th>\n",
       "      <td>Alaska</td>\n",
       "      <td>33%</td>\n",
       "      <td>20.8</td>\n",
       "    </tr>\n",
       "    <tr>\n",
       "      <th>2</th>\n",
       "      <td>Arizona</td>\n",
       "      <td>66%</td>\n",
       "      <td>19.2</td>\n",
       "    </tr>\n",
       "    <tr>\n",
       "      <th>3</th>\n",
       "      <td>Arkansas</td>\n",
       "      <td>100%</td>\n",
       "      <td>19.4</td>\n",
       "    </tr>\n",
       "    <tr>\n",
       "      <th>4</th>\n",
       "      <td>California</td>\n",
       "      <td>27%</td>\n",
       "      <td>22.7</td>\n",
       "    </tr>\n",
       "  </tbody>\n",
       "</table>\n",
       "</div>"
      ],
      "text/plain": [
       "        State Participation  Composite\n",
       "0     Alabama          100%       19.1\n",
       "1      Alaska           33%       20.8\n",
       "2     Arizona           66%       19.2\n",
       "3    Arkansas          100%       19.4\n",
       "4  California           27%       22.7"
      ]
     },
     "execution_count": 7,
     "metadata": {},
     "output_type": "execute_result"
    }
   ],
   "source": [
    "act2018 = pd.read_csv('../data/act_2018.csv') \n",
    "act2018.head() #prints first 5 rows of act2018 dataframe"
   ]
  },
  {
   "cell_type": "code",
   "execution_count": 8,
   "metadata": {
    "scrolled": true
   },
   "outputs": [
    {
     "data": {
      "text/html": [
       "<div>\n",
       "<style scoped>\n",
       "    .dataframe tbody tr th:only-of-type {\n",
       "        vertical-align: middle;\n",
       "    }\n",
       "\n",
       "    .dataframe tbody tr th {\n",
       "        vertical-align: top;\n",
       "    }\n",
       "\n",
       "    .dataframe thead th {\n",
       "        text-align: right;\n",
       "    }\n",
       "</style>\n",
       "<table border=\"1\" class=\"dataframe\">\n",
       "  <thead>\n",
       "    <tr style=\"text-align: right;\">\n",
       "      <th></th>\n",
       "      <th>State</th>\n",
       "      <th>Participation</th>\n",
       "      <th>Composite</th>\n",
       "    </tr>\n",
       "  </thead>\n",
       "  <tbody>\n",
       "    <tr>\n",
       "      <th>0</th>\n",
       "      <td>Alabama</td>\n",
       "      <td>100%</td>\n",
       "      <td>18.9</td>\n",
       "    </tr>\n",
       "    <tr>\n",
       "      <th>1</th>\n",
       "      <td>Alaska</td>\n",
       "      <td>38%</td>\n",
       "      <td>20.1</td>\n",
       "    </tr>\n",
       "    <tr>\n",
       "      <th>2</th>\n",
       "      <td>Arizona</td>\n",
       "      <td>73%</td>\n",
       "      <td>19.0</td>\n",
       "    </tr>\n",
       "    <tr>\n",
       "      <th>3</th>\n",
       "      <td>Arkansas</td>\n",
       "      <td>100%</td>\n",
       "      <td>19.3</td>\n",
       "    </tr>\n",
       "    <tr>\n",
       "      <th>4</th>\n",
       "      <td>California</td>\n",
       "      <td>23%</td>\n",
       "      <td>22.6</td>\n",
       "    </tr>\n",
       "  </tbody>\n",
       "</table>\n",
       "</div>"
      ],
      "text/plain": [
       "        State Participation  Composite\n",
       "0     Alabama          100%       18.9\n",
       "1      Alaska           38%       20.1\n",
       "2     Arizona           73%       19.0\n",
       "3    Arkansas          100%       19.3\n",
       "4  California           23%       22.6"
      ]
     },
     "execution_count": 8,
     "metadata": {},
     "output_type": "execute_result"
    }
   ],
   "source": [
    "act2019 = pd.read_csv('../data/act_2019.csv')\n",
    "act2019.head() #prints first 5 rows of act2019 dataframe"
   ]
  },
  {
   "cell_type": "code",
   "execution_count": 9,
   "metadata": {},
   "outputs": [
    {
     "data": {
      "text/html": [
       "<div>\n",
       "<style scoped>\n",
       "    .dataframe tbody tr th:only-of-type {\n",
       "        vertical-align: middle;\n",
       "    }\n",
       "\n",
       "    .dataframe tbody tr th {\n",
       "        vertical-align: top;\n",
       "    }\n",
       "\n",
       "    .dataframe thead th {\n",
       "        text-align: right;\n",
       "    }\n",
       "</style>\n",
       "<table border=\"1\" class=\"dataframe\">\n",
       "  <thead>\n",
       "    <tr style=\"text-align: right;\">\n",
       "      <th></th>\n",
       "      <th>State</th>\n",
       "      <th>Participation Rate</th>\n",
       "      <th>EBRW</th>\n",
       "      <th>Math</th>\n",
       "      <th>Total</th>\n",
       "    </tr>\n",
       "  </thead>\n",
       "  <tbody>\n",
       "    <tr>\n",
       "      <th>0</th>\n",
       "      <td>Alabama</td>\n",
       "      <td>7%</td>\n",
       "      <td>583</td>\n",
       "      <td>560</td>\n",
       "      <td>1143</td>\n",
       "    </tr>\n",
       "    <tr>\n",
       "      <th>1</th>\n",
       "      <td>Alaska</td>\n",
       "      <td>41%</td>\n",
       "      <td>556</td>\n",
       "      <td>541</td>\n",
       "      <td>1097</td>\n",
       "    </tr>\n",
       "    <tr>\n",
       "      <th>2</th>\n",
       "      <td>Arizona</td>\n",
       "      <td>31%</td>\n",
       "      <td>569</td>\n",
       "      <td>565</td>\n",
       "      <td>1134</td>\n",
       "    </tr>\n",
       "    <tr>\n",
       "      <th>3</th>\n",
       "      <td>Arkansas</td>\n",
       "      <td>6%</td>\n",
       "      <td>582</td>\n",
       "      <td>559</td>\n",
       "      <td>1141</td>\n",
       "    </tr>\n",
       "    <tr>\n",
       "      <th>4</th>\n",
       "      <td>California</td>\n",
       "      <td>63%</td>\n",
       "      <td>534</td>\n",
       "      <td>531</td>\n",
       "      <td>1065</td>\n",
       "    </tr>\n",
       "  </tbody>\n",
       "</table>\n",
       "</div>"
      ],
      "text/plain": [
       "        State Participation Rate  EBRW  Math  Total\n",
       "0     Alabama                 7%   583   560   1143\n",
       "1      Alaska                41%   556   541   1097\n",
       "2     Arizona                31%   569   565   1134\n",
       "3    Arkansas                 6%   582   559   1141\n",
       "4  California                63%   534   531   1065"
      ]
     },
     "execution_count": 9,
     "metadata": {},
     "output_type": "execute_result"
    }
   ],
   "source": [
    "sat2019 = pd.read_csv('../data/sat_2019.csv')\n",
    "sat2019.head()   #prints first 5 rows of sat2019 dataframe"
   ]
  },
  {
   "cell_type": "code",
   "execution_count": 10,
   "metadata": {},
   "outputs": [
    {
     "data": {
      "text/html": [
       "<div>\n",
       "<style scoped>\n",
       "    .dataframe tbody tr th:only-of-type {\n",
       "        vertical-align: middle;\n",
       "    }\n",
       "\n",
       "    .dataframe tbody tr th {\n",
       "        vertical-align: top;\n",
       "    }\n",
       "\n",
       "    .dataframe thead th {\n",
       "        text-align: right;\n",
       "    }\n",
       "</style>\n",
       "<table border=\"1\" class=\"dataframe\">\n",
       "  <thead>\n",
       "    <tr style=\"text-align: right;\">\n",
       "      <th></th>\n",
       "      <th>State</th>\n",
       "      <th>Participation</th>\n",
       "      <th>Composite</th>\n",
       "    </tr>\n",
       "  </thead>\n",
       "  <tbody>\n",
       "    <tr>\n",
       "      <th>0</th>\n",
       "      <td>Alabama</td>\n",
       "      <td>100%</td>\n",
       "      <td>18.9</td>\n",
       "    </tr>\n",
       "    <tr>\n",
       "      <th>1</th>\n",
       "      <td>Alaska</td>\n",
       "      <td>38%</td>\n",
       "      <td>20.1</td>\n",
       "    </tr>\n",
       "    <tr>\n",
       "      <th>2</th>\n",
       "      <td>Arizona</td>\n",
       "      <td>73%</td>\n",
       "      <td>19.0</td>\n",
       "    </tr>\n",
       "    <tr>\n",
       "      <th>3</th>\n",
       "      <td>Arkansas</td>\n",
       "      <td>100%</td>\n",
       "      <td>19.3</td>\n",
       "    </tr>\n",
       "    <tr>\n",
       "      <th>4</th>\n",
       "      <td>California</td>\n",
       "      <td>23%</td>\n",
       "      <td>22.6</td>\n",
       "    </tr>\n",
       "  </tbody>\n",
       "</table>\n",
       "</div>"
      ],
      "text/plain": [
       "        State Participation  Composite\n",
       "0     Alabama          100%       18.9\n",
       "1      Alaska           38%       20.1\n",
       "2     Arizona           73%       19.0\n",
       "3    Arkansas          100%       19.3\n",
       "4  California           23%       22.6"
      ]
     },
     "execution_count": 10,
     "metadata": {},
     "output_type": "execute_result"
    }
   ],
   "source": [
    "act2019 = pd.read_csv('../data/act_2019.csv')\n",
    "act2019.head()  #prints first 5 rows of act2019 dataframe"
   ]
  },
  {
   "cell_type": "code",
   "execution_count": 11,
   "metadata": {},
   "outputs": [
    {
     "data": {
      "text/plain": [
       "['Alabama',\n",
       " 'Arkansas',\n",
       " 'Colorado',\n",
       " 'Hawaii',\n",
       " 'Kentucky',\n",
       " 'Louisiana',\n",
       " 'Mississippi',\n",
       " 'Missouri',\n",
       " 'Montana',\n",
       " 'Nevada',\n",
       " 'North Carolina',\n",
       " 'Oklahoma',\n",
       " 'South Carolina',\n",
       " 'Utah',\n",
       " 'Wisconsin',\n",
       " 'Wyoming']"
      ]
     },
     "metadata": {},
     "output_type": "display_data"
    },
    {
     "data": {
      "text/plain": [
       "16"
      ]
     },
     "metadata": {},
     "output_type": "display_data"
    },
    {
     "data": {
      "text/plain": [
       "['Colorado',\n",
       " 'Columbia',\n",
       " 'Connecticut',\n",
       " 'Delaware',\n",
       " 'Idaho',\n",
       " 'Illinois',\n",
       " 'Maine',\n",
       " 'Michigan',\n",
       " 'New Hampshire',\n",
       " 'New York',\n",
       " 'Rhode Island']"
      ]
     },
     "metadata": {},
     "output_type": "display_data"
    },
    {
     "data": {
      "text/plain": [
       "11"
      ]
     },
     "metadata": {},
     "output_type": "display_data"
    }
   ],
   "source": [
    "#Create a list of states where students can sit for ACT at no charge\n",
    "\n",
    "states_act_free = [\n",
    "    \"Arkansas\",\n",
    "    \"Louisiana\",\n",
    "    \"North Carolina\",\n",
    "    \"Alabama\",\n",
    "    \"Wyoming\",\n",
    "    \"Colorado\",\n",
    "    \"Montana\",\n",
    "    \"Utah\",\n",
    "    \"Kentucky\",\n",
    "    \"Nevada\",\n",
    "    \"Wisconsin\",\n",
    "    \"Missouri\",\n",
    "    \"South Carolina\",\n",
    "    \"Oklahoma\",\n",
    "    \"Hawaii\",\n",
    "    \"Mississippi\"\n",
    "]\n",
    "\n",
    "states_act_free = sorted(states_act_free)\n",
    "display(states_act_free)\n",
    "display(len(states_act_free))\n",
    "\n",
    "# Create a list of states where students can sit for SAT at no charge\n",
    "states_sat_free = [\n",
    "    \"Michigan\",\n",
    "    \"Connecticut\",\n",
    "    \"New York\",\n",
    "    \"Delaware\",\n",
    "    \"Idaho\",\n",
    "    \"New Hampshire\",\n",
    "    \"Illinois\",\n",
    "    \"Colorado\",\n",
    "    \"Columbia\",\n",
    "    \"Maine\",\n",
    "    \"Rhode Island\"\n",
    "]\n",
    "\n",
    "states_sat_free = sorted(states_sat_free)\n",
    "display(states_sat_free)\n",
    "display(len(states_sat_free))"
   ]
  },
  {
   "cell_type": "code",
   "execution_count": 12,
   "metadata": {},
   "outputs": [
    {
     "data": {
      "text/plain": [
       "['Colorado']"
      ]
     },
     "execution_count": 12,
     "metadata": {},
     "output_type": "execute_result"
    }
   ],
   "source": [
    "# Find out if there are any states that offer both the SAT and ACT for free\n",
    "\n",
    "list(set(states_act_free).intersection(set(states_sat_free)))"
   ]
  },
  {
   "cell_type": "code",
   "execution_count": 13,
   "metadata": {},
   "outputs": [
    {
     "data": {
      "text/html": [
       "<div>\n",
       "<style scoped>\n",
       "    .dataframe tbody tr th:only-of-type {\n",
       "        vertical-align: middle;\n",
       "    }\n",
       "\n",
       "    .dataframe tbody tr th {\n",
       "        vertical-align: top;\n",
       "    }\n",
       "\n",
       "    .dataframe thead th {\n",
       "        text-align: right;\n",
       "    }\n",
       "</style>\n",
       "<table border=\"1\" class=\"dataframe\">\n",
       "  <thead>\n",
       "    <tr style=\"text-align: right;\">\n",
       "      <th></th>\n",
       "      <th>state</th>\n",
       "      <th>act_free</th>\n",
       "      <th>sat_free</th>\n",
       "    </tr>\n",
       "  </thead>\n",
       "  <tbody>\n",
       "    <tr>\n",
       "      <th>0</th>\n",
       "      <td>Alabama</td>\n",
       "      <td>1</td>\n",
       "      <td>0</td>\n",
       "    </tr>\n",
       "    <tr>\n",
       "      <th>1</th>\n",
       "      <td>Alaska</td>\n",
       "      <td>0</td>\n",
       "      <td>0</td>\n",
       "    </tr>\n",
       "    <tr>\n",
       "      <th>2</th>\n",
       "      <td>Arizona</td>\n",
       "      <td>0</td>\n",
       "      <td>0</td>\n",
       "    </tr>\n",
       "    <tr>\n",
       "      <th>3</th>\n",
       "      <td>Arkansas</td>\n",
       "      <td>1</td>\n",
       "      <td>0</td>\n",
       "    </tr>\n",
       "    <tr>\n",
       "      <th>4</th>\n",
       "      <td>California</td>\n",
       "      <td>0</td>\n",
       "      <td>0</td>\n",
       "    </tr>\n",
       "  </tbody>\n",
       "</table>\n",
       "</div>"
      ],
      "text/plain": [
       "        state  act_free  sat_free\n",
       "0     Alabama         1         0\n",
       "1      Alaska         0         0\n",
       "2     Arizona         0         0\n",
       "3    Arkansas         1         0\n",
       "4  California         0         0"
      ]
     },
     "execution_count": 13,
     "metadata": {},
     "output_type": "execute_result"
    }
   ],
   "source": [
    "is_free = pd.read_csv('../data/act_sat_free.csv')     #reads is_free as pandas dataframe\n",
    "is_free.head()           #prints first 5 rows of is_free dataframe"
   ]
  },
  {
   "cell_type": "markdown",
   "metadata": {},
   "source": [
    "#### 2. Check for missing values."
   ]
  },
  {
   "cell_type": "code",
   "execution_count": 14,
   "metadata": {},
   "outputs": [
    {
     "data": {
      "text/plain": [
       "False"
      ]
     },
     "metadata": {},
     "output_type": "display_data"
    },
    {
     "data": {
      "text/plain": [
       "False"
      ]
     },
     "metadata": {},
     "output_type": "display_data"
    },
    {
     "data": {
      "text/plain": [
       "False"
      ]
     },
     "metadata": {},
     "output_type": "display_data"
    },
    {
     "data": {
      "text/plain": [
       "False"
      ]
     },
     "metadata": {},
     "output_type": "display_data"
    }
   ],
   "source": [
    "display(act2017.isnull().values.any()) #checks for any null/blanks in act2017 dataframe\n",
    "display(act2018.isnull().values.any()) #checks for any null/blanks in act2018 dataframe\n",
    "display(act2019.isnull().values.any()) #checks for any null/blanks in act2019 dataframe\n",
    "display(sat2019.isnull().values.any()) #checks for any null/blanks in sat2019 dataframe"
   ]
  },
  {
   "cell_type": "markdown",
   "metadata": {},
   "source": [
    "#### 3. Check for any obvious issues with the observations (keep in mind the minimum & maximum possible values for each test/subtest)."
   ]
  },
  {
   "cell_type": "markdown",
   "metadata": {},
   "source": [
    "To find minimum and maximum values, data must be in numerical format- int or float. <br>\n",
    "However, data points in columns for participation and scores for both act2019 and sat2019 are strings.<br>\n",
    "These data points are converted to correct formats later in step 6 and renamed in step 7.<br>\n",
    "The values in these columns are also checked against minimum and maximum possible values in step 7."
   ]
  },
  {
   "cell_type": "markdown",
   "metadata": {},
   "source": [
    "#### 4. Fix any errors you identified in steps 2-3."
   ]
  },
  {
   "cell_type": "code",
   "execution_count": 15,
   "metadata": {},
   "outputs": [
    {
     "data": {
      "text/html": [
       "<div>\n",
       "<style scoped>\n",
       "    .dataframe tbody tr th:only-of-type {\n",
       "        vertical-align: middle;\n",
       "    }\n",
       "\n",
       "    .dataframe tbody tr th {\n",
       "        vertical-align: top;\n",
       "    }\n",
       "\n",
       "    .dataframe thead th {\n",
       "        text-align: right;\n",
       "    }\n",
       "</style>\n",
       "<table border=\"1\" class=\"dataframe\">\n",
       "  <thead>\n",
       "    <tr style=\"text-align: right;\">\n",
       "      <th></th>\n",
       "      <th>State</th>\n",
       "      <th>Participation Rate</th>\n",
       "      <th>EBRW</th>\n",
       "      <th>Math</th>\n",
       "      <th>Total</th>\n",
       "    </tr>\n",
       "  </thead>\n",
       "  <tbody>\n",
       "    <tr>\n",
       "      <th>0</th>\n",
       "      <td>Alabama</td>\n",
       "      <td>7%</td>\n",
       "      <td>583</td>\n",
       "      <td>560</td>\n",
       "      <td>1143</td>\n",
       "    </tr>\n",
       "    <tr>\n",
       "      <th>1</th>\n",
       "      <td>Alaska</td>\n",
       "      <td>41%</td>\n",
       "      <td>556</td>\n",
       "      <td>541</td>\n",
       "      <td>1097</td>\n",
       "    </tr>\n",
       "    <tr>\n",
       "      <th>2</th>\n",
       "      <td>Arizona</td>\n",
       "      <td>31%</td>\n",
       "      <td>569</td>\n",
       "      <td>565</td>\n",
       "      <td>1134</td>\n",
       "    </tr>\n",
       "    <tr>\n",
       "      <th>3</th>\n",
       "      <td>Arkansas</td>\n",
       "      <td>6%</td>\n",
       "      <td>582</td>\n",
       "      <td>559</td>\n",
       "      <td>1141</td>\n",
       "    </tr>\n",
       "    <tr>\n",
       "      <th>4</th>\n",
       "      <td>California</td>\n",
       "      <td>63%</td>\n",
       "      <td>534</td>\n",
       "      <td>531</td>\n",
       "      <td>1065</td>\n",
       "    </tr>\n",
       "  </tbody>\n",
       "</table>\n",
       "</div>"
      ],
      "text/plain": [
       "        State Participation Rate  EBRW  Math  Total\n",
       "0     Alabama                 7%   583   560   1143\n",
       "1      Alaska                41%   556   541   1097\n",
       "2     Arizona                31%   569   565   1134\n",
       "3    Arkansas                 6%   582   559   1141\n",
       "4  California                63%   534   531   1065"
      ]
     },
     "execution_count": 15,
     "metadata": {},
     "output_type": "execute_result"
    }
   ],
   "source": [
    "sat2019 = sat2019.loc[sat2019[\"Participation Rate\"] != \"—\" ]   #remove rows where values are input as \"-\"\n",
    "sat2019.head()"
   ]
  },
  {
   "cell_type": "markdown",
   "metadata": {},
   "source": [
    "#### 5. Display the data types of each feature."
   ]
  },
  {
   "cell_type": "code",
   "execution_count": 16,
   "metadata": {},
   "outputs": [
    {
     "data": {
      "text/plain": [
       "State             object\n",
       "Participation     object\n",
       "Composite        float64\n",
       "dtype: object"
      ]
     },
     "execution_count": 16,
     "metadata": {},
     "output_type": "execute_result"
    }
   ],
   "source": [
    "act2019.dtypes           #presents data types present in act2019 dataframe"
   ]
  },
  {
   "cell_type": "code",
   "execution_count": 17,
   "metadata": {},
   "outputs": [
    {
     "data": {
      "text/plain": [
       "State                 object\n",
       "Participation Rate    object\n",
       "EBRW                   int64\n",
       "Math                   int64\n",
       "Total                  int64\n",
       "dtype: object"
      ]
     },
     "execution_count": 17,
     "metadata": {},
     "output_type": "execute_result"
    }
   ],
   "source": [
    "sat2019.dtypes          #presents data types present in sat2019 dataframe"
   ]
  },
  {
   "cell_type": "markdown",
   "metadata": {},
   "source": [
    "#### 6. Fix any incorrect data types found in step 5.\n",
    "\n",
    "    - Fix any individual values preventing other columns from being the appropriate type.\n",
    "    - If your dataset has a column of percents (ex. '50%', '30.5%', etc.), use the function you wrote in Part 1 (coding challenges, number 3) to convert this to floats! *Hint*: use `.map()` or `.apply()`."
   ]
  },
  {
   "cell_type": "code",
   "execution_count": 18,
   "metadata": {},
   "outputs": [
    {
     "data": {
      "text/html": [
       "<div>\n",
       "<style scoped>\n",
       "    .dataframe tbody tr th:only-of-type {\n",
       "        vertical-align: middle;\n",
       "    }\n",
       "\n",
       "    .dataframe tbody tr th {\n",
       "        vertical-align: top;\n",
       "    }\n",
       "\n",
       "    .dataframe thead th {\n",
       "        text-align: right;\n",
       "    }\n",
       "</style>\n",
       "<table border=\"1\" class=\"dataframe\">\n",
       "  <thead>\n",
       "    <tr style=\"text-align: right;\">\n",
       "      <th></th>\n",
       "      <th>State</th>\n",
       "      <th>Participation</th>\n",
       "      <th>Composite</th>\n",
       "    </tr>\n",
       "  </thead>\n",
       "  <tbody>\n",
       "    <tr>\n",
       "      <th>0</th>\n",
       "      <td>Alabama</td>\n",
       "      <td>1.00</td>\n",
       "      <td>18.9</td>\n",
       "    </tr>\n",
       "    <tr>\n",
       "      <th>1</th>\n",
       "      <td>Alaska</td>\n",
       "      <td>0.38</td>\n",
       "      <td>20.1</td>\n",
       "    </tr>\n",
       "    <tr>\n",
       "      <th>2</th>\n",
       "      <td>Arizona</td>\n",
       "      <td>0.73</td>\n",
       "      <td>19.0</td>\n",
       "    </tr>\n",
       "    <tr>\n",
       "      <th>3</th>\n",
       "      <td>Arkansas</td>\n",
       "      <td>1.00</td>\n",
       "      <td>19.3</td>\n",
       "    </tr>\n",
       "    <tr>\n",
       "      <th>4</th>\n",
       "      <td>California</td>\n",
       "      <td>0.23</td>\n",
       "      <td>22.6</td>\n",
       "    </tr>\n",
       "  </tbody>\n",
       "</table>\n",
       "</div>"
      ],
      "text/plain": [
       "        State  Participation  Composite\n",
       "0     Alabama           1.00       18.9\n",
       "1      Alaska           0.38       20.1\n",
       "2     Arizona           0.73       19.0\n",
       "3    Arkansas           1.00       19.3\n",
       "4  California           0.23       22.6"
      ]
     },
     "metadata": {},
     "output_type": "display_data"
    },
    {
     "data": {
      "text/html": [
       "<div>\n",
       "<style scoped>\n",
       "    .dataframe tbody tr th:only-of-type {\n",
       "        vertical-align: middle;\n",
       "    }\n",
       "\n",
       "    .dataframe tbody tr th {\n",
       "        vertical-align: top;\n",
       "    }\n",
       "\n",
       "    .dataframe thead th {\n",
       "        text-align: right;\n",
       "    }\n",
       "</style>\n",
       "<table border=\"1\" class=\"dataframe\">\n",
       "  <thead>\n",
       "    <tr style=\"text-align: right;\">\n",
       "      <th></th>\n",
       "      <th>State</th>\n",
       "      <th>Participation Rate</th>\n",
       "      <th>EBRW</th>\n",
       "      <th>Math</th>\n",
       "      <th>Total</th>\n",
       "    </tr>\n",
       "  </thead>\n",
       "  <tbody>\n",
       "    <tr>\n",
       "      <th>0</th>\n",
       "      <td>Alabama</td>\n",
       "      <td>0.07</td>\n",
       "      <td>583</td>\n",
       "      <td>560</td>\n",
       "      <td>1143</td>\n",
       "    </tr>\n",
       "    <tr>\n",
       "      <th>1</th>\n",
       "      <td>Alaska</td>\n",
       "      <td>0.41</td>\n",
       "      <td>556</td>\n",
       "      <td>541</td>\n",
       "      <td>1097</td>\n",
       "    </tr>\n",
       "    <tr>\n",
       "      <th>2</th>\n",
       "      <td>Arizona</td>\n",
       "      <td>0.31</td>\n",
       "      <td>569</td>\n",
       "      <td>565</td>\n",
       "      <td>1134</td>\n",
       "    </tr>\n",
       "    <tr>\n",
       "      <th>3</th>\n",
       "      <td>Arkansas</td>\n",
       "      <td>0.06</td>\n",
       "      <td>582</td>\n",
       "      <td>559</td>\n",
       "      <td>1141</td>\n",
       "    </tr>\n",
       "    <tr>\n",
       "      <th>4</th>\n",
       "      <td>California</td>\n",
       "      <td>0.63</td>\n",
       "      <td>534</td>\n",
       "      <td>531</td>\n",
       "      <td>1065</td>\n",
       "    </tr>\n",
       "  </tbody>\n",
       "</table>\n",
       "</div>"
      ],
      "text/plain": [
       "        State  Participation Rate  EBRW  Math  Total\n",
       "0     Alabama                0.07   583   560   1143\n",
       "1      Alaska                0.41   556   541   1097\n",
       "2     Arizona                0.31   569   565   1134\n",
       "3    Arkansas                0.06   582   559   1141\n",
       "4  California                0.63   534   531   1065"
      ]
     },
     "metadata": {},
     "output_type": "display_data"
    }
   ],
   "source": [
    "#change the datatype of 'Participation' col in act2019 \n",
    "act2019['Participation'] = act2019.Participation.apply(num_to_float) \n",
    "display(act2019.head())\n",
    "\n",
    "# change the datatype of 'Participation Rate' col in sat2019 \n",
    "sat2019['Participation Rate'] = sat2019['Participation Rate'].apply(num_to_float)\n",
    "display(sat2019.head())"
   ]
  },
  {
   "cell_type": "markdown",
   "metadata": {},
   "source": [
    "#### 7. Rename Columns.\n",
    "    - Column names should be all lowercase.\n",
    "    - Column names should not contain spaces (underscores will suffice--this allows for using the `df.column_name` method to access columns in addition to `df['column_name']`).\n",
    "    - Column names should be unique and informative."
   ]
  },
  {
   "cell_type": "code",
   "execution_count": 48,
   "metadata": {
    "scrolled": true
   },
   "outputs": [
    {
     "data": {
      "text/html": [
       "<div>\n",
       "<style scoped>\n",
       "    .dataframe tbody tr th:only-of-type {\n",
       "        vertical-align: middle;\n",
       "    }\n",
       "\n",
       "    .dataframe tbody tr th {\n",
       "        vertical-align: top;\n",
       "    }\n",
       "\n",
       "    .dataframe thead th {\n",
       "        text-align: right;\n",
       "    }\n",
       "</style>\n",
       "<table border=\"1\" class=\"dataframe\">\n",
       "  <thead>\n",
       "    <tr style=\"text-align: right;\">\n",
       "      <th></th>\n",
       "      <th>state</th>\n",
       "      <th>act_part_rate</th>\n",
       "      <th>act_part_pct_change</th>\n",
       "      <th>composite_score</th>\n",
       "      <th>composite_score_pct_change</th>\n",
       "    </tr>\n",
       "  </thead>\n",
       "  <tbody>\n",
       "    <tr>\n",
       "      <th>0</th>\n",
       "      <td>Alabama</td>\n",
       "      <td>1.00</td>\n",
       "      <td>0.708279</td>\n",
       "      <td>18.9</td>\n",
       "      <td>-0.118881</td>\n",
       "    </tr>\n",
       "    <tr>\n",
       "      <th>1</th>\n",
       "      <td>Alaska</td>\n",
       "      <td>0.38</td>\n",
       "      <td>-0.350854</td>\n",
       "      <td>20.1</td>\n",
       "      <td>-0.062937</td>\n",
       "    </tr>\n",
       "    <tr>\n",
       "      <th>2</th>\n",
       "      <td>Arizona</td>\n",
       "      <td>0.73</td>\n",
       "      <td>0.247043</td>\n",
       "      <td>19.0</td>\n",
       "      <td>-0.114219</td>\n",
       "    </tr>\n",
       "    <tr>\n",
       "      <th>3</th>\n",
       "      <td>Arkansas</td>\n",
       "      <td>1.00</td>\n",
       "      <td>0.708279</td>\n",
       "      <td>19.3</td>\n",
       "      <td>-0.100233</td>\n",
       "    </tr>\n",
       "    <tr>\n",
       "      <th>4</th>\n",
       "      <td>California</td>\n",
       "      <td>0.23</td>\n",
       "      <td>-0.607096</td>\n",
       "      <td>22.6</td>\n",
       "      <td>0.053613</td>\n",
       "    </tr>\n",
       "  </tbody>\n",
       "</table>\n",
       "</div>"
      ],
      "text/plain": [
       "        state  act_part_rate  act_part_pct_change  composite_score  \\\n",
       "0     Alabama           1.00             0.708279             18.9   \n",
       "1      Alaska           0.38            -0.350854             20.1   \n",
       "2     Arizona           0.73             0.247043             19.0   \n",
       "3    Arkansas           1.00             0.708279             19.3   \n",
       "4  California           0.23            -0.607096             22.6   \n",
       "\n",
       "   composite_score_pct_change  \n",
       "0                   -0.118881  \n",
       "1                   -0.062937  \n",
       "2                   -0.114219  \n",
       "3                   -0.100233  \n",
       "4                    0.053613  "
      ]
     },
     "execution_count": 48,
     "metadata": {},
     "output_type": "execute_result"
    }
   ],
   "source": [
    "#renames act2019 columns to lowercase, without space, informative terms\n",
    "act2019.rename(columns={\"State\": \"state\", \"Participation\": \"act_part_rate\", \"Composite\": \"composite_score\"}, inplace=True)\n",
    "act2019.head()"
   ]
  },
  {
   "cell_type": "code",
   "execution_count": 20,
   "metadata": {},
   "outputs": [
    {
     "data": {
      "text/html": [
       "<div>\n",
       "<style scoped>\n",
       "    .dataframe tbody tr th:only-of-type {\n",
       "        vertical-align: middle;\n",
       "    }\n",
       "\n",
       "    .dataframe tbody tr th {\n",
       "        vertical-align: top;\n",
       "    }\n",
       "\n",
       "    .dataframe thead th {\n",
       "        text-align: right;\n",
       "    }\n",
       "</style>\n",
       "<table border=\"1\" class=\"dataframe\">\n",
       "  <thead>\n",
       "    <tr style=\"text-align: right;\">\n",
       "      <th></th>\n",
       "      <th>state</th>\n",
       "      <th>sat_part_rate</th>\n",
       "      <th>ebrw_score</th>\n",
       "      <th>math_score</th>\n",
       "      <th>total_score</th>\n",
       "    </tr>\n",
       "  </thead>\n",
       "  <tbody>\n",
       "    <tr>\n",
       "      <th>0</th>\n",
       "      <td>Alabama</td>\n",
       "      <td>0.07</td>\n",
       "      <td>583</td>\n",
       "      <td>560</td>\n",
       "      <td>1143</td>\n",
       "    </tr>\n",
       "    <tr>\n",
       "      <th>1</th>\n",
       "      <td>Alaska</td>\n",
       "      <td>0.41</td>\n",
       "      <td>556</td>\n",
       "      <td>541</td>\n",
       "      <td>1097</td>\n",
       "    </tr>\n",
       "    <tr>\n",
       "      <th>2</th>\n",
       "      <td>Arizona</td>\n",
       "      <td>0.31</td>\n",
       "      <td>569</td>\n",
       "      <td>565</td>\n",
       "      <td>1134</td>\n",
       "    </tr>\n",
       "    <tr>\n",
       "      <th>3</th>\n",
       "      <td>Arkansas</td>\n",
       "      <td>0.06</td>\n",
       "      <td>582</td>\n",
       "      <td>559</td>\n",
       "      <td>1141</td>\n",
       "    </tr>\n",
       "    <tr>\n",
       "      <th>4</th>\n",
       "      <td>California</td>\n",
       "      <td>0.63</td>\n",
       "      <td>534</td>\n",
       "      <td>531</td>\n",
       "      <td>1065</td>\n",
       "    </tr>\n",
       "  </tbody>\n",
       "</table>\n",
       "</div>"
      ],
      "text/plain": [
       "        state  sat_part_rate  ebrw_score  math_score  total_score\n",
       "0     Alabama           0.07         583         560         1143\n",
       "1      Alaska           0.41         556         541         1097\n",
       "2     Arizona           0.31         569         565         1134\n",
       "3    Arkansas           0.06         582         559         1141\n",
       "4  California           0.63         534         531         1065"
      ]
     },
     "execution_count": 20,
     "metadata": {},
     "output_type": "execute_result"
    }
   ],
   "source": [
    "#renames sat2019 columns to lowercase, without space, informative terms\n",
    "sat2019.rename(columns={\"State\": \"state\", \"Participation Rate\": \"sat_part_rate\", \"EBRW\": \"ebrw_score\", \"Math\": \"math_score\", \"Total\": \"total_score\"}, inplace=True)\n",
    "sat2019.head()"
   ]
  },
  {
   "cell_type": "code",
   "execution_count": 21,
   "metadata": {},
   "outputs": [
    {
     "data": {
      "text/plain": [
       "1.0"
      ]
     },
     "metadata": {},
     "output_type": "display_data"
    },
    {
     "data": {
      "text/plain": [
       "0.06"
      ]
     },
     "metadata": {},
     "output_type": "display_data"
    },
    {
     "data": {
      "text/plain": [
       "25.5"
      ]
     },
     "metadata": {},
     "output_type": "display_data"
    },
    {
     "data": {
      "text/plain": [
       "17.9"
      ]
     },
     "metadata": {},
     "output_type": "display_data"
    }
   ],
   "source": [
    "display(act2019.act_part_rate.max())  #max % participation is 100% or 1.0 participation rate\n",
    "\n",
    "display(act2019.act_part_rate.min())  #min % participation is 0% or 0.0 participation rate\n",
    "\n",
    "display(act2019.composite_score.max())   #max possible composite score is 36\n",
    "\n",
    "display(act2019.composite_score.min())   #min possible composite score is 1"
   ]
  },
  {
   "cell_type": "code",
   "execution_count": 22,
   "metadata": {
    "scrolled": true
   },
   "outputs": [
    {
     "data": {
      "text/plain": [
       "1.0"
      ]
     },
     "metadata": {},
     "output_type": "display_data"
    },
    {
     "data": {
      "text/plain": [
       "0.02"
      ]
     },
     "metadata": {},
     "output_type": "display_data"
    },
    {
     "data": {
      "text/plain": [
       "1284"
      ]
     },
     "metadata": {},
     "output_type": "display_data"
    },
    {
     "data": {
      "text/plain": [
       "943"
      ]
     },
     "metadata": {},
     "output_type": "display_data"
    }
   ],
   "source": [
    "display(sat2019[\"sat_part_rate\"].max()) #max % participation is 100% or 1.0 participation rate\n",
    "\n",
    "display(sat2019[\"sat_part_rate\"].min()) #min % participation is 0% or 0.0 participation rate\n",
    "\n",
    "display(sat2019[\"total_score\"].max())  #max possible total score is 1600\n",
    "\n",
    "display(sat2019[\"total_score\"].min())  #min possible total score is 400"
   ]
  },
  {
   "cell_type": "markdown",
   "metadata": {},
   "source": [
    "#### 8. Perform any additional cleaning that you feel is necessary."
   ]
  },
  {
   "cell_type": "markdown",
   "metadata": {},
   "source": [
    "##### Adding new columns to dataframe to compare state's performance against national mean "
   ]
  },
  {
   "cell_type": "code",
   "execution_count": 23,
   "metadata": {},
   "outputs": [
    {
     "data": {
      "text/plain": [
       "0.5853846153846154"
      ]
     },
     "execution_count": 23,
     "metadata": {},
     "output_type": "execute_result"
    }
   ],
   "source": [
    "# Calculate what is national mean for ACT participation rate in 2019\n",
    "act_part_mean = mean(act2019['act_part_rate'])\n",
    "act_part_mean"
   ]
  },
  {
   "cell_type": "code",
   "execution_count": 24,
   "metadata": {},
   "outputs": [],
   "source": [
    "# Create new column to show how each state's ACT participation compares to national mean\n",
    "act2019['act_part_pct_change'] =  (act2019['act_part_rate'] - act_part_mean)/(act_part_mean)"
   ]
  },
  {
   "cell_type": "code",
   "execution_count": 25,
   "metadata": {},
   "outputs": [
    {
     "data": {
      "text/plain": [
       "21.449999999999992"
      ]
     },
     "execution_count": 25,
     "metadata": {},
     "output_type": "execute_result"
    }
   ],
   "source": [
    "# Calculate what is national mean for ACT composite score in 2019\n",
    "composite_score_mean = mean(act2019['composite_score'])\n",
    "composite_score_mean"
   ]
  },
  {
   "cell_type": "code",
   "execution_count": 26,
   "metadata": {},
   "outputs": [],
   "source": [
    "# Create new column to show how each state's ACT composite score compares to national mean\n",
    "act2019['composite_score_pct_change'] =  (act2019['composite_score'] - composite_score_mean)/(composite_score_mean)"
   ]
  },
  {
   "cell_type": "code",
   "execution_count": 27,
   "metadata": {},
   "outputs": [
    {
     "data": {
      "text/html": [
       "<div>\n",
       "<style scoped>\n",
       "    .dataframe tbody tr th:only-of-type {\n",
       "        vertical-align: middle;\n",
       "    }\n",
       "\n",
       "    .dataframe tbody tr th {\n",
       "        vertical-align: top;\n",
       "    }\n",
       "\n",
       "    .dataframe thead th {\n",
       "        text-align: right;\n",
       "    }\n",
       "</style>\n",
       "<table border=\"1\" class=\"dataframe\">\n",
       "  <thead>\n",
       "    <tr style=\"text-align: right;\">\n",
       "      <th></th>\n",
       "      <th>state</th>\n",
       "      <th>act_part_rate</th>\n",
       "      <th>act_part_pct_change</th>\n",
       "      <th>composite_score</th>\n",
       "      <th>composite_score_pct_change</th>\n",
       "    </tr>\n",
       "  </thead>\n",
       "  <tbody>\n",
       "    <tr>\n",
       "      <th>0</th>\n",
       "      <td>Alabama</td>\n",
       "      <td>1.00</td>\n",
       "      <td>0.708279</td>\n",
       "      <td>18.9</td>\n",
       "      <td>-0.118881</td>\n",
       "    </tr>\n",
       "    <tr>\n",
       "      <th>1</th>\n",
       "      <td>Alaska</td>\n",
       "      <td>0.38</td>\n",
       "      <td>-0.350854</td>\n",
       "      <td>20.1</td>\n",
       "      <td>-0.062937</td>\n",
       "    </tr>\n",
       "    <tr>\n",
       "      <th>2</th>\n",
       "      <td>Arizona</td>\n",
       "      <td>0.73</td>\n",
       "      <td>0.247043</td>\n",
       "      <td>19.0</td>\n",
       "      <td>-0.114219</td>\n",
       "    </tr>\n",
       "    <tr>\n",
       "      <th>3</th>\n",
       "      <td>Arkansas</td>\n",
       "      <td>1.00</td>\n",
       "      <td>0.708279</td>\n",
       "      <td>19.3</td>\n",
       "      <td>-0.100233</td>\n",
       "    </tr>\n",
       "    <tr>\n",
       "      <th>4</th>\n",
       "      <td>California</td>\n",
       "      <td>0.23</td>\n",
       "      <td>-0.607096</td>\n",
       "      <td>22.6</td>\n",
       "      <td>0.053613</td>\n",
       "    </tr>\n",
       "  </tbody>\n",
       "</table>\n",
       "</div>"
      ],
      "text/plain": [
       "        state  act_part_rate  act_part_pct_change  composite_score  \\\n",
       "0     Alabama           1.00             0.708279             18.9   \n",
       "1      Alaska           0.38            -0.350854             20.1   \n",
       "2     Arizona           0.73             0.247043             19.0   \n",
       "3    Arkansas           1.00             0.708279             19.3   \n",
       "4  California           0.23            -0.607096             22.6   \n",
       "\n",
       "   composite_score_pct_change  \n",
       "0                   -0.118881  \n",
       "1                   -0.062937  \n",
       "2                   -0.114219  \n",
       "3                   -0.100233  \n",
       "4                    0.053613  "
      ]
     },
     "execution_count": 27,
     "metadata": {},
     "output_type": "execute_result"
    }
   ],
   "source": [
    "# Rearrange order of columns in act2019\n",
    "act2019 = act2019[['state', 'act_part_rate', 'act_part_pct_change','composite_score', 'composite_score_pct_change']]\n",
    "act2019.head()"
   ]
  },
  {
   "cell_type": "markdown",
   "metadata": {},
   "source": [
    "##### How much does each state deviate from the SAT national mean for participation and score?"
   ]
  },
  {
   "cell_type": "code",
   "execution_count": 28,
   "metadata": {},
   "outputs": [
    {
     "data": {
      "text/plain": [
       "0.49058823529411755"
      ]
     },
     "execution_count": 28,
     "metadata": {},
     "output_type": "execute_result"
    }
   ],
   "source": [
    "# Calculate what is national mean for SAT participation rate in 2019\n",
    "sat_part_mean = mean(sat2019['sat_part_rate'])\n",
    "sat_part_mean"
   ]
  },
  {
   "cell_type": "code",
   "execution_count": 29,
   "metadata": {},
   "outputs": [],
   "source": [
    "# Create new column to show how each state's SAT participation compares to national mean\n",
    "sat2019['sat_part_pct_change'] =  (sat2019['sat_part_rate'] - sat_part_mean)/(sat_part_mean)"
   ]
  },
  {
   "cell_type": "code",
   "execution_count": 30,
   "metadata": {},
   "outputs": [
    {
     "data": {
      "text/plain": [
       "1113.078431372549"
      ]
     },
     "metadata": {},
     "output_type": "display_data"
    }
   ],
   "source": [
    "# Calculate what is national mean for SAT total score in 2019\n",
    "total_score_mean = mean(sat2019['total_score'])\n",
    "display(total_score_mean)"
   ]
  },
  {
   "cell_type": "code",
   "execution_count": 31,
   "metadata": {},
   "outputs": [],
   "source": [
    "#Create new column to show how each state's SAT average total score compares to national mean\n",
    "sat2019['total_score_pct_change'] =  (sat2019['total_score'] - total_score_mean)/(total_score_mean)"
   ]
  },
  {
   "cell_type": "code",
   "execution_count": 32,
   "metadata": {},
   "outputs": [
    {
     "data": {
      "text/html": [
       "<div>\n",
       "<style scoped>\n",
       "    .dataframe tbody tr th:only-of-type {\n",
       "        vertical-align: middle;\n",
       "    }\n",
       "\n",
       "    .dataframe tbody tr th {\n",
       "        vertical-align: top;\n",
       "    }\n",
       "\n",
       "    .dataframe thead th {\n",
       "        text-align: right;\n",
       "    }\n",
       "</style>\n",
       "<table border=\"1\" class=\"dataframe\">\n",
       "  <thead>\n",
       "    <tr style=\"text-align: right;\">\n",
       "      <th></th>\n",
       "      <th>state</th>\n",
       "      <th>sat_part_rate</th>\n",
       "      <th>sat_part_pct_change</th>\n",
       "      <th>ebrw_score</th>\n",
       "      <th>math_score</th>\n",
       "      <th>total_score</th>\n",
       "      <th>total_score_pct_change</th>\n",
       "    </tr>\n",
       "  </thead>\n",
       "  <tbody>\n",
       "    <tr>\n",
       "      <th>0</th>\n",
       "      <td>Alabama</td>\n",
       "      <td>0.07</td>\n",
       "      <td>-0.857314</td>\n",
       "      <td>583</td>\n",
       "      <td>560</td>\n",
       "      <td>1143</td>\n",
       "      <td>0.026882</td>\n",
       "    </tr>\n",
       "    <tr>\n",
       "      <th>1</th>\n",
       "      <td>Alaska</td>\n",
       "      <td>0.41</td>\n",
       "      <td>-0.164269</td>\n",
       "      <td>556</td>\n",
       "      <td>541</td>\n",
       "      <td>1097</td>\n",
       "      <td>-0.014445</td>\n",
       "    </tr>\n",
       "    <tr>\n",
       "      <th>2</th>\n",
       "      <td>Arizona</td>\n",
       "      <td>0.31</td>\n",
       "      <td>-0.368106</td>\n",
       "      <td>569</td>\n",
       "      <td>565</td>\n",
       "      <td>1134</td>\n",
       "      <td>0.018796</td>\n",
       "    </tr>\n",
       "    <tr>\n",
       "      <th>3</th>\n",
       "      <td>Arkansas</td>\n",
       "      <td>0.06</td>\n",
       "      <td>-0.877698</td>\n",
       "      <td>582</td>\n",
       "      <td>559</td>\n",
       "      <td>1141</td>\n",
       "      <td>0.025085</td>\n",
       "    </tr>\n",
       "    <tr>\n",
       "      <th>4</th>\n",
       "      <td>California</td>\n",
       "      <td>0.63</td>\n",
       "      <td>0.284173</td>\n",
       "      <td>534</td>\n",
       "      <td>531</td>\n",
       "      <td>1065</td>\n",
       "      <td>-0.043194</td>\n",
       "    </tr>\n",
       "  </tbody>\n",
       "</table>\n",
       "</div>"
      ],
      "text/plain": [
       "        state  sat_part_rate  sat_part_pct_change  ebrw_score  math_score  \\\n",
       "0     Alabama           0.07            -0.857314         583         560   \n",
       "1      Alaska           0.41            -0.164269         556         541   \n",
       "2     Arizona           0.31            -0.368106         569         565   \n",
       "3    Arkansas           0.06            -0.877698         582         559   \n",
       "4  California           0.63             0.284173         534         531   \n",
       "\n",
       "   total_score  total_score_pct_change  \n",
       "0         1143                0.026882  \n",
       "1         1097               -0.014445  \n",
       "2         1134                0.018796  \n",
       "3         1141                0.025085  \n",
       "4         1065               -0.043194  "
      ]
     },
     "execution_count": 32,
     "metadata": {},
     "output_type": "execute_result"
    }
   ],
   "source": [
    "# Rearrange order of columns in sat2019\n",
    "sat2019 = sat2019[['state', 'sat_part_rate', 'sat_part_pct_change','ebrw_score','math_score','total_score', 'total_score_pct_change']]\n",
    "sat2019.head()"
   ]
  },
  {
   "cell_type": "markdown",
   "metadata": {},
   "source": [
    "#### 9. Drop unnecessary rows (if needed)."
   ]
  },
  {
   "cell_type": "code",
   "execution_count": 33,
   "metadata": {},
   "outputs": [],
   "source": [
    "# act2019 contains last row with national statistics\n",
    "# Drop this last row\n",
    "\n",
    "act2019.drop(act2019.tail(1).index,inplace=True)"
   ]
  },
  {
   "cell_type": "markdown",
   "metadata": {},
   "source": [
    "#### 10. Merge dataframes that can be merged."
   ]
  },
  {
   "cell_type": "code",
   "execution_count": 34,
   "metadata": {},
   "outputs": [],
   "source": [
    "# Merges all 3 data sets\n",
    "\n",
    "df_1 = pd.merge(is_free[['state','act_free']], act2019, on='state', how='outer')\n",
    "\n",
    "df_2 = pd.merge(df_1, is_free[['state','sat_free']], on='state', how='outer')\n",
    "\n",
    "df_combined2019 = pd.merge(df_2, sat2019, on='state', how='outer')"
   ]
  },
  {
   "cell_type": "code",
   "execution_count": 50,
   "metadata": {},
   "outputs": [
    {
     "data": {
      "text/html": [
       "<div>\n",
       "<style scoped>\n",
       "    .dataframe tbody tr th:only-of-type {\n",
       "        vertical-align: middle;\n",
       "    }\n",
       "\n",
       "    .dataframe tbody tr th {\n",
       "        vertical-align: top;\n",
       "    }\n",
       "\n",
       "    .dataframe thead th {\n",
       "        text-align: right;\n",
       "    }\n",
       "</style>\n",
       "<table border=\"1\" class=\"dataframe\">\n",
       "  <thead>\n",
       "    <tr style=\"text-align: right;\">\n",
       "      <th></th>\n",
       "      <th>state</th>\n",
       "      <th>act_free</th>\n",
       "      <th>act_part_rate</th>\n",
       "      <th>act_part_pct_change</th>\n",
       "      <th>composite_score</th>\n",
       "      <th>composite_score_pct_change</th>\n",
       "      <th>sat_free</th>\n",
       "      <th>sat_part_rate</th>\n",
       "      <th>sat_part_pct_change</th>\n",
       "      <th>ebrw_score</th>\n",
       "      <th>math_score</th>\n",
       "      <th>total_score</th>\n",
       "      <th>total_score_pct_change</th>\n",
       "    </tr>\n",
       "  </thead>\n",
       "  <tbody>\n",
       "    <tr>\n",
       "      <th>0</th>\n",
       "      <td>Alabama</td>\n",
       "      <td>1</td>\n",
       "      <td>1.00</td>\n",
       "      <td>0.708279</td>\n",
       "      <td>18.9</td>\n",
       "      <td>-0.118881</td>\n",
       "      <td>0</td>\n",
       "      <td>0.07</td>\n",
       "      <td>-0.857314</td>\n",
       "      <td>583</td>\n",
       "      <td>560</td>\n",
       "      <td>1143</td>\n",
       "      <td>0.026882</td>\n",
       "    </tr>\n",
       "    <tr>\n",
       "      <th>1</th>\n",
       "      <td>Alaska</td>\n",
       "      <td>0</td>\n",
       "      <td>0.38</td>\n",
       "      <td>-0.350854</td>\n",
       "      <td>20.1</td>\n",
       "      <td>-0.062937</td>\n",
       "      <td>0</td>\n",
       "      <td>0.41</td>\n",
       "      <td>-0.164269</td>\n",
       "      <td>556</td>\n",
       "      <td>541</td>\n",
       "      <td>1097</td>\n",
       "      <td>-0.014445</td>\n",
       "    </tr>\n",
       "    <tr>\n",
       "      <th>2</th>\n",
       "      <td>Arizona</td>\n",
       "      <td>0</td>\n",
       "      <td>0.73</td>\n",
       "      <td>0.247043</td>\n",
       "      <td>19.0</td>\n",
       "      <td>-0.114219</td>\n",
       "      <td>0</td>\n",
       "      <td>0.31</td>\n",
       "      <td>-0.368106</td>\n",
       "      <td>569</td>\n",
       "      <td>565</td>\n",
       "      <td>1134</td>\n",
       "      <td>0.018796</td>\n",
       "    </tr>\n",
       "    <tr>\n",
       "      <th>3</th>\n",
       "      <td>Arkansas</td>\n",
       "      <td>1</td>\n",
       "      <td>1.00</td>\n",
       "      <td>0.708279</td>\n",
       "      <td>19.3</td>\n",
       "      <td>-0.100233</td>\n",
       "      <td>0</td>\n",
       "      <td>0.06</td>\n",
       "      <td>-0.877698</td>\n",
       "      <td>582</td>\n",
       "      <td>559</td>\n",
       "      <td>1141</td>\n",
       "      <td>0.025085</td>\n",
       "    </tr>\n",
       "    <tr>\n",
       "      <th>4</th>\n",
       "      <td>California</td>\n",
       "      <td>0</td>\n",
       "      <td>0.23</td>\n",
       "      <td>-0.607096</td>\n",
       "      <td>22.6</td>\n",
       "      <td>0.053613</td>\n",
       "      <td>0</td>\n",
       "      <td>0.63</td>\n",
       "      <td>0.284173</td>\n",
       "      <td>534</td>\n",
       "      <td>531</td>\n",
       "      <td>1065</td>\n",
       "      <td>-0.043194</td>\n",
       "    </tr>\n",
       "  </tbody>\n",
       "</table>\n",
       "</div>"
      ],
      "text/plain": [
       "        state  act_free  act_part_rate  act_part_pct_change  composite_score  \\\n",
       "0     Alabama         1           1.00             0.708279             18.9   \n",
       "1      Alaska         0           0.38            -0.350854             20.1   \n",
       "2     Arizona         0           0.73             0.247043             19.0   \n",
       "3    Arkansas         1           1.00             0.708279             19.3   \n",
       "4  California         0           0.23            -0.607096             22.6   \n",
       "\n",
       "   composite_score_pct_change  sat_free  sat_part_rate  sat_part_pct_change  \\\n",
       "0                   -0.118881         0           0.07            -0.857314   \n",
       "1                   -0.062937         0           0.41            -0.164269   \n",
       "2                   -0.114219         0           0.31            -0.368106   \n",
       "3                   -0.100233         0           0.06            -0.877698   \n",
       "4                    0.053613         0           0.63             0.284173   \n",
       "\n",
       "   ebrw_score  math_score  total_score  total_score_pct_change  \n",
       "0         583         560         1143                0.026882  \n",
       "1         556         541         1097               -0.014445  \n",
       "2         569         565         1134                0.018796  \n",
       "3         582         559         1141                0.025085  \n",
       "4         534         531         1065               -0.043194  "
      ]
     },
     "execution_count": 50,
     "metadata": {},
     "output_type": "execute_result"
    }
   ],
   "source": [
    "df_combined2019.head()"
   ]
  },
  {
   "cell_type": "markdown",
   "metadata": {},
   "source": [
    "#### 11. Save your cleaned and merged dataframes as csv files."
   ]
  },
  {
   "cell_type": "code",
   "execution_count": 35,
   "metadata": {},
   "outputs": [],
   "source": [
    "df_combined2019.to_csv('combined2019.csv', index=False)"
   ]
  },
  {
   "cell_type": "markdown",
   "metadata": {},
   "source": [
    "## Data Dictionary"
   ]
  },
  {
   "cell_type": "markdown",
   "metadata": {},
   "source": [
    "\n",
    "\n",
    "|Feature|Type|Dataset|Description|\n",
    "|---|---|---|---|\n",
    "|**state**|*object*|act2019,sat2019|Names of all US states and the District of Columbia| \n",
    "|**act_part_rate**|*float*|act2019|The percentange of graduating students who sat for the ACT in 2019. 0.22 means 22%| \n",
    "|**sat_part_rate**|*float*|act2019|The percentange of graduating students who sat for the SAT in 2019. 0.22 means 22%|\n",
    "|**composite_score**|*float*|act2019|The mean score of the categories English, Math, Reading and Science on the ACT. (Possible score range 1-36)| \n",
    "|**total_score**|*float*|act2019|The mean score of the categories Evidence-Based Reading, Writing and Math on the SAT. (Possible score range 400-1600)| \n"
   ]
  },
  {
   "cell_type": "markdown",
   "metadata": {},
   "source": [
    "## Exploratory Data Analysis\n",
    "\n",
    "Complete the following steps to explore your data. You are welcome to do more EDA than the steps outlined here as you feel necessary:\n",
    "#### 1. Summary Statistics."
   ]
  },
  {
   "cell_type": "code",
   "execution_count": 36,
   "metadata": {},
   "outputs": [
    {
     "data": {
      "text/html": [
       "<div>\n",
       "<style scoped>\n",
       "    .dataframe tbody tr th:only-of-type {\n",
       "        vertical-align: middle;\n",
       "    }\n",
       "\n",
       "    .dataframe tbody tr th {\n",
       "        vertical-align: top;\n",
       "    }\n",
       "\n",
       "    .dataframe thead th {\n",
       "        text-align: right;\n",
       "    }\n",
       "</style>\n",
       "<table border=\"1\" class=\"dataframe\">\n",
       "  <thead>\n",
       "    <tr style=\"text-align: right;\">\n",
       "      <th></th>\n",
       "      <th>act_free</th>\n",
       "      <th>act_part_rate</th>\n",
       "      <th>act_part_pct_change</th>\n",
       "      <th>composite_score</th>\n",
       "      <th>composite_score_pct_change</th>\n",
       "      <th>sat_free</th>\n",
       "      <th>sat_part_rate</th>\n",
       "      <th>sat_part_pct_change</th>\n",
       "      <th>ebrw_score</th>\n",
       "      <th>math_score</th>\n",
       "      <th>total_score</th>\n",
       "      <th>total_score_pct_change</th>\n",
       "    </tr>\n",
       "  </thead>\n",
       "  <tbody>\n",
       "    <tr>\n",
       "      <th>count</th>\n",
       "      <td>51.000000</td>\n",
       "      <td>51.000000</td>\n",
       "      <td>51.000000</td>\n",
       "      <td>51.000000</td>\n",
       "      <td>51.000000</td>\n",
       "      <td>51.000000</td>\n",
       "      <td>51.000000</td>\n",
       "      <td>5.100000e+01</td>\n",
       "      <td>51.000000</td>\n",
       "      <td>51.000000</td>\n",
       "      <td>51.000000</td>\n",
       "      <td>5.100000e+01</td>\n",
       "    </tr>\n",
       "    <tr>\n",
       "      <th>mean</th>\n",
       "      <td>0.294118</td>\n",
       "      <td>0.586667</td>\n",
       "      <td>0.002190</td>\n",
       "      <td>21.464706</td>\n",
       "      <td>0.000686</td>\n",
       "      <td>0.215686</td>\n",
       "      <td>0.490588</td>\n",
       "      <td>2.307522e-16</td>\n",
       "      <td>560.803922</td>\n",
       "      <td>552.196078</td>\n",
       "      <td>1113.078431</td>\n",
       "      <td>6.503512e-17</td>\n",
       "    </tr>\n",
       "    <tr>\n",
       "      <th>std</th>\n",
       "      <td>0.460179</td>\n",
       "      <td>0.345159</td>\n",
       "      <td>0.589628</td>\n",
       "      <td>2.194523</td>\n",
       "      <td>0.102309</td>\n",
       "      <td>0.415390</td>\n",
       "      <td>0.387476</td>\n",
       "      <td>7.898192e-01</td>\n",
       "      <td>46.248035</td>\n",
       "      <td>51.290553</td>\n",
       "      <td>97.197910</td>\n",
       "      <td>8.732351e-02</td>\n",
       "    </tr>\n",
       "    <tr>\n",
       "      <th>min</th>\n",
       "      <td>0.000000</td>\n",
       "      <td>0.060000</td>\n",
       "      <td>-0.897503</td>\n",
       "      <td>17.900000</td>\n",
       "      <td>-0.165501</td>\n",
       "      <td>0.000000</td>\n",
       "      <td>0.020000</td>\n",
       "      <td>-9.592326e-01</td>\n",
       "      <td>483.000000</td>\n",
       "      <td>460.000000</td>\n",
       "      <td>943.000000</td>\n",
       "      <td>-1.528000e-01</td>\n",
       "    </tr>\n",
       "    <tr>\n",
       "      <th>25%</th>\n",
       "      <td>0.000000</td>\n",
       "      <td>0.245000</td>\n",
       "      <td>-0.581472</td>\n",
       "      <td>19.800000</td>\n",
       "      <td>-0.076923</td>\n",
       "      <td>0.000000</td>\n",
       "      <td>0.055000</td>\n",
       "      <td>-8.878897e-01</td>\n",
       "      <td>527.500000</td>\n",
       "      <td>511.500000</td>\n",
       "      <td>1038.000000</td>\n",
       "      <td>-6.745116e-02</td>\n",
       "    </tr>\n",
       "    <tr>\n",
       "      <th>50%</th>\n",
       "      <td>0.000000</td>\n",
       "      <td>0.540000</td>\n",
       "      <td>-0.077530</td>\n",
       "      <td>21.100000</td>\n",
       "      <td>-0.016317</td>\n",
       "      <td>0.000000</td>\n",
       "      <td>0.540000</td>\n",
       "      <td>1.007194e-01</td>\n",
       "      <td>550.000000</td>\n",
       "      <td>546.000000</td>\n",
       "      <td>1097.000000</td>\n",
       "      <td>-1.444501e-02</td>\n",
       "    </tr>\n",
       "    <tr>\n",
       "      <th>75%</th>\n",
       "      <td>1.000000</td>\n",
       "      <td>1.000000</td>\n",
       "      <td>0.708279</td>\n",
       "      <td>23.700000</td>\n",
       "      <td>0.104895</td>\n",
       "      <td>0.000000</td>\n",
       "      <td>0.820000</td>\n",
       "      <td>6.714628e-01</td>\n",
       "      <td>612.000000</td>\n",
       "      <td>599.000000</td>\n",
       "      <td>1210.000000</td>\n",
       "      <td>8.707524e-02</td>\n",
       "    </tr>\n",
       "    <tr>\n",
       "      <th>max</th>\n",
       "      <td>1.000000</td>\n",
       "      <td>1.000000</td>\n",
       "      <td>0.708279</td>\n",
       "      <td>25.500000</td>\n",
       "      <td>0.188811</td>\n",
       "      <td>1.000000</td>\n",
       "      <td>1.000000</td>\n",
       "      <td>1.038369e+00</td>\n",
       "      <td>636.000000</td>\n",
       "      <td>648.000000</td>\n",
       "      <td>1284.000000</td>\n",
       "      <td>1.535575e-01</td>\n",
       "    </tr>\n",
       "  </tbody>\n",
       "</table>\n",
       "</div>"
      ],
      "text/plain": [
       "        act_free  act_part_rate  act_part_pct_change  composite_score  \\\n",
       "count  51.000000      51.000000            51.000000        51.000000   \n",
       "mean    0.294118       0.586667             0.002190        21.464706   \n",
       "std     0.460179       0.345159             0.589628         2.194523   \n",
       "min     0.000000       0.060000            -0.897503        17.900000   \n",
       "25%     0.000000       0.245000            -0.581472        19.800000   \n",
       "50%     0.000000       0.540000            -0.077530        21.100000   \n",
       "75%     1.000000       1.000000             0.708279        23.700000   \n",
       "max     1.000000       1.000000             0.708279        25.500000   \n",
       "\n",
       "       composite_score_pct_change   sat_free  sat_part_rate  \\\n",
       "count                   51.000000  51.000000      51.000000   \n",
       "mean                     0.000686   0.215686       0.490588   \n",
       "std                      0.102309   0.415390       0.387476   \n",
       "min                     -0.165501   0.000000       0.020000   \n",
       "25%                     -0.076923   0.000000       0.055000   \n",
       "50%                     -0.016317   0.000000       0.540000   \n",
       "75%                      0.104895   0.000000       0.820000   \n",
       "max                      0.188811   1.000000       1.000000   \n",
       "\n",
       "       sat_part_pct_change  ebrw_score  math_score  total_score  \\\n",
       "count         5.100000e+01   51.000000   51.000000    51.000000   \n",
       "mean          2.307522e-16  560.803922  552.196078  1113.078431   \n",
       "std           7.898192e-01   46.248035   51.290553    97.197910   \n",
       "min          -9.592326e-01  483.000000  460.000000   943.000000   \n",
       "25%          -8.878897e-01  527.500000  511.500000  1038.000000   \n",
       "50%           1.007194e-01  550.000000  546.000000  1097.000000   \n",
       "75%           6.714628e-01  612.000000  599.000000  1210.000000   \n",
       "max           1.038369e+00  636.000000  648.000000  1284.000000   \n",
       "\n",
       "       total_score_pct_change  \n",
       "count            5.100000e+01  \n",
       "mean             6.503512e-17  \n",
       "std              8.732351e-02  \n",
       "min             -1.528000e-01  \n",
       "25%             -6.745116e-02  \n",
       "50%             -1.444501e-02  \n",
       "75%              8.707524e-02  \n",
       "max              1.535575e-01  "
      ]
     },
     "execution_count": 36,
     "metadata": {},
     "output_type": "execute_result"
    }
   ],
   "source": [
    "df_combined2019.describe()"
   ]
  },
  {
   "cell_type": "markdown",
   "metadata": {},
   "source": [
    "#### 2. Use a **dictionary comprehension** to apply the standard deviation function you create in part 1 to each numeric column in the dataframe.  <br> **No loops**.\n",
    "    - Assign the output to variable `sd` as a dictionary where: \n",
    "        - Each column name is now a key \n",
    "        - That standard deviation of the column is the value \n",
    "        - *Example Output :* `{'ACT_Math': 120, 'ACT_Reading': 120, ...}`"
   ]
  },
  {
   "cell_type": "code",
   "execution_count": 37,
   "metadata": {},
   "outputs": [
    {
     "data": {
      "text/plain": [
       "{'act_free': 0.09884330004903598,\n",
       " 'act_part_rate': 0.05787824347315774,\n",
       " 'act_part_pct_change': 0.09887216362037458,\n",
       " 'composite_score': 0.2331054492823088,\n",
       " 'composite_score_pct_change': 0.0108673869129282,\n",
       " 'sat_free': 0.030202119459427666,\n",
       " 'sat_part_rate': 0.06449525328199597,\n",
       " 'sat_part_pct_change': 0.13146514457960815,\n",
       " 'ebrw_score': 8.709192993209511,\n",
       " 'math_score': 8.794308057140611,\n",
       " 'total_score': 17.492518461455795,\n",
       " 'total_score_pct_change': 0.015715441040291808}"
      ]
     },
     "execution_count": 37,
     "metadata": {},
     "output_type": "execute_result"
    }
   ],
   "source": [
    "# Applies stdev function using dictionary comprehension to each numeric column \n",
    "## in combined 2019 ACT/SAT dataframe, excludes 'state' column\n",
    "\n",
    "df_combined2019_sd = {col:stdev(df_combined2019[col]) for col in df_combined2019.columns if col != 'state'}\n",
    "df_combined2019_sd"
   ]
  },
  {
   "cell_type": "markdown",
   "metadata": {},
   "source": [
    "#### 3. Investigate trends in the data."
   ]
  },
  {
   "cell_type": "code",
   "execution_count": 38,
   "metadata": {},
   "outputs": [
    {
     "data": {
      "text/plain": [
       "1.0"
      ]
     },
     "metadata": {},
     "output_type": "display_data"
    },
    {
     "data": {
      "text/html": [
       "<div>\n",
       "<style scoped>\n",
       "    .dataframe tbody tr th:only-of-type {\n",
       "        vertical-align: middle;\n",
       "    }\n",
       "\n",
       "    .dataframe tbody tr th {\n",
       "        vertical-align: top;\n",
       "    }\n",
       "\n",
       "    .dataframe thead th {\n",
       "        text-align: right;\n",
       "    }\n",
       "</style>\n",
       "<table border=\"1\" class=\"dataframe\">\n",
       "  <thead>\n",
       "    <tr style=\"text-align: right;\">\n",
       "      <th></th>\n",
       "      <th>state</th>\n",
       "      <th>act_part_rate</th>\n",
       "      <th>act_part_pct_change</th>\n",
       "      <th>composite_score</th>\n",
       "      <th>composite_score_pct_change</th>\n",
       "    </tr>\n",
       "  </thead>\n",
       "  <tbody>\n",
       "    <tr>\n",
       "      <th>0</th>\n",
       "      <td>Alabama</td>\n",
       "      <td>1.0</td>\n",
       "      <td>0.708279</td>\n",
       "      <td>18.9</td>\n",
       "      <td>-0.118881</td>\n",
       "    </tr>\n",
       "    <tr>\n",
       "      <th>3</th>\n",
       "      <td>Arkansas</td>\n",
       "      <td>1.0</td>\n",
       "      <td>0.708279</td>\n",
       "      <td>19.3</td>\n",
       "      <td>-0.100233</td>\n",
       "    </tr>\n",
       "    <tr>\n",
       "      <th>17</th>\n",
       "      <td>Kentucky</td>\n",
       "      <td>1.0</td>\n",
       "      <td>0.708279</td>\n",
       "      <td>19.8</td>\n",
       "      <td>-0.076923</td>\n",
       "    </tr>\n",
       "    <tr>\n",
       "      <th>18</th>\n",
       "      <td>Louisiana</td>\n",
       "      <td>1.0</td>\n",
       "      <td>0.708279</td>\n",
       "      <td>18.8</td>\n",
       "      <td>-0.123543</td>\n",
       "    </tr>\n",
       "    <tr>\n",
       "      <th>24</th>\n",
       "      <td>Mississippi</td>\n",
       "      <td>1.0</td>\n",
       "      <td>0.708279</td>\n",
       "      <td>18.4</td>\n",
       "      <td>-0.142191</td>\n",
       "    </tr>\n",
       "    <tr>\n",
       "      <th>26</th>\n",
       "      <td>Montana</td>\n",
       "      <td>1.0</td>\n",
       "      <td>0.708279</td>\n",
       "      <td>19.8</td>\n",
       "      <td>-0.076923</td>\n",
       "    </tr>\n",
       "    <tr>\n",
       "      <th>27</th>\n",
       "      <td>Nebraska</td>\n",
       "      <td>1.0</td>\n",
       "      <td>0.708279</td>\n",
       "      <td>20.0</td>\n",
       "      <td>-0.067599</td>\n",
       "    </tr>\n",
       "    <tr>\n",
       "      <th>28</th>\n",
       "      <td>Nevada</td>\n",
       "      <td>1.0</td>\n",
       "      <td>0.708279</td>\n",
       "      <td>17.9</td>\n",
       "      <td>-0.165501</td>\n",
       "    </tr>\n",
       "    <tr>\n",
       "      <th>33</th>\n",
       "      <td>North Carolina</td>\n",
       "      <td>1.0</td>\n",
       "      <td>0.708279</td>\n",
       "      <td>19.0</td>\n",
       "      <td>-0.114219</td>\n",
       "    </tr>\n",
       "    <tr>\n",
       "      <th>35</th>\n",
       "      <td>Ohio</td>\n",
       "      <td>1.0</td>\n",
       "      <td>0.708279</td>\n",
       "      <td>20.0</td>\n",
       "      <td>-0.067599</td>\n",
       "    </tr>\n",
       "    <tr>\n",
       "      <th>36</th>\n",
       "      <td>Oklahoma</td>\n",
       "      <td>1.0</td>\n",
       "      <td>0.708279</td>\n",
       "      <td>18.9</td>\n",
       "      <td>-0.118881</td>\n",
       "    </tr>\n",
       "    <tr>\n",
       "      <th>42</th>\n",
       "      <td>Tennessee</td>\n",
       "      <td>1.0</td>\n",
       "      <td>0.708279</td>\n",
       "      <td>19.4</td>\n",
       "      <td>-0.095571</td>\n",
       "    </tr>\n",
       "    <tr>\n",
       "      <th>44</th>\n",
       "      <td>Utah</td>\n",
       "      <td>1.0</td>\n",
       "      <td>0.708279</td>\n",
       "      <td>20.3</td>\n",
       "      <td>-0.053613</td>\n",
       "    </tr>\n",
       "    <tr>\n",
       "      <th>49</th>\n",
       "      <td>Wisconsin</td>\n",
       "      <td>1.0</td>\n",
       "      <td>0.708279</td>\n",
       "      <td>20.3</td>\n",
       "      <td>-0.053613</td>\n",
       "    </tr>\n",
       "    <tr>\n",
       "      <th>50</th>\n",
       "      <td>Wyoming</td>\n",
       "      <td>1.0</td>\n",
       "      <td>0.708279</td>\n",
       "      <td>19.8</td>\n",
       "      <td>-0.076923</td>\n",
       "    </tr>\n",
       "  </tbody>\n",
       "</table>\n",
       "</div>"
      ],
      "text/plain": [
       "             state  act_part_rate  act_part_pct_change  composite_score  \\\n",
       "0          Alabama            1.0             0.708279             18.9   \n",
       "3         Arkansas            1.0             0.708279             19.3   \n",
       "17        Kentucky            1.0             0.708279             19.8   \n",
       "18       Louisiana            1.0             0.708279             18.8   \n",
       "24     Mississippi            1.0             0.708279             18.4   \n",
       "26         Montana            1.0             0.708279             19.8   \n",
       "27        Nebraska            1.0             0.708279             20.0   \n",
       "28          Nevada            1.0             0.708279             17.9   \n",
       "33  North Carolina            1.0             0.708279             19.0   \n",
       "35            Ohio            1.0             0.708279             20.0   \n",
       "36        Oklahoma            1.0             0.708279             18.9   \n",
       "42       Tennessee            1.0             0.708279             19.4   \n",
       "44            Utah            1.0             0.708279             20.3   \n",
       "49       Wisconsin            1.0             0.708279             20.3   \n",
       "50         Wyoming            1.0             0.708279             19.8   \n",
       "\n",
       "    composite_score_pct_change  \n",
       "0                    -0.118881  \n",
       "3                    -0.100233  \n",
       "17                   -0.076923  \n",
       "18                   -0.123543  \n",
       "24                   -0.142191  \n",
       "26                   -0.076923  \n",
       "27                   -0.067599  \n",
       "28                   -0.165501  \n",
       "33                   -0.114219  \n",
       "35                   -0.067599  \n",
       "36                   -0.118881  \n",
       "42                   -0.095571  \n",
       "44                   -0.053613  \n",
       "49                   -0.053613  \n",
       "50                   -0.076923  "
      ]
     },
     "metadata": {},
     "output_type": "display_data"
    }
   ],
   "source": [
    "# Calculates highest participation rate for ACT in 2019\n",
    "display(act2019['act_part_rate'].max())\n",
    "\n",
    "# Filters states which have highest ACT participation rate in 2019\n",
    "actpart_is_top = (act2019['act_part_rate'] == 1.00)\n",
    "highest_actpart = act2019[actpart_is_top]\n",
    "display(highest_actpart)"
   ]
  },
  {
   "cell_type": "code",
   "execution_count": 39,
   "metadata": {},
   "outputs": [
    {
     "data": {
      "text/plain": [
       "1.0"
      ]
     },
     "metadata": {},
     "output_type": "display_data"
    },
    {
     "data": {
      "text/html": [
       "<div>\n",
       "<style scoped>\n",
       "    .dataframe tbody tr th:only-of-type {\n",
       "        vertical-align: middle;\n",
       "    }\n",
       "\n",
       "    .dataframe tbody tr th {\n",
       "        vertical-align: top;\n",
       "    }\n",
       "\n",
       "    .dataframe thead th {\n",
       "        text-align: right;\n",
       "    }\n",
       "</style>\n",
       "<table border=\"1\" class=\"dataframe\">\n",
       "  <thead>\n",
       "    <tr style=\"text-align: right;\">\n",
       "      <th></th>\n",
       "      <th>state</th>\n",
       "      <th>sat_part_rate</th>\n",
       "      <th>sat_part_pct_change</th>\n",
       "      <th>ebrw_score</th>\n",
       "      <th>math_score</th>\n",
       "      <th>total_score</th>\n",
       "      <th>total_score_pct_change</th>\n",
       "    </tr>\n",
       "  </thead>\n",
       "  <tbody>\n",
       "    <tr>\n",
       "      <th>5</th>\n",
       "      <td>Colorado</td>\n",
       "      <td>1.0</td>\n",
       "      <td>1.038369</td>\n",
       "      <td>518</td>\n",
       "      <td>506</td>\n",
       "      <td>1024</td>\n",
       "      <td>-0.080029</td>\n",
       "    </tr>\n",
       "    <tr>\n",
       "      <th>6</th>\n",
       "      <td>Connecticut</td>\n",
       "      <td>1.0</td>\n",
       "      <td>1.038369</td>\n",
       "      <td>529</td>\n",
       "      <td>516</td>\n",
       "      <td>1046</td>\n",
       "      <td>-0.060264</td>\n",
       "    </tr>\n",
       "    <tr>\n",
       "      <th>7</th>\n",
       "      <td>Delaware</td>\n",
       "      <td>1.0</td>\n",
       "      <td>1.038369</td>\n",
       "      <td>499</td>\n",
       "      <td>486</td>\n",
       "      <td>985</td>\n",
       "      <td>-0.115067</td>\n",
       "    </tr>\n",
       "    <tr>\n",
       "      <th>9</th>\n",
       "      <td>Florida</td>\n",
       "      <td>1.0</td>\n",
       "      <td>1.038369</td>\n",
       "      <td>516</td>\n",
       "      <td>483</td>\n",
       "      <td>999</td>\n",
       "      <td>-0.102489</td>\n",
       "    </tr>\n",
       "    <tr>\n",
       "      <th>12</th>\n",
       "      <td>Idaho</td>\n",
       "      <td>1.0</td>\n",
       "      <td>1.038369</td>\n",
       "      <td>505</td>\n",
       "      <td>488</td>\n",
       "      <td>993</td>\n",
       "      <td>-0.107880</td>\n",
       "    </tr>\n",
       "    <tr>\n",
       "      <th>13</th>\n",
       "      <td>Illinois</td>\n",
       "      <td>1.0</td>\n",
       "      <td>1.038369</td>\n",
       "      <td>509</td>\n",
       "      <td>504</td>\n",
       "      <td>1013</td>\n",
       "      <td>-0.089911</td>\n",
       "    </tr>\n",
       "    <tr>\n",
       "      <th>22</th>\n",
       "      <td>Michigan</td>\n",
       "      <td>1.0</td>\n",
       "      <td>1.038369</td>\n",
       "      <td>507</td>\n",
       "      <td>496</td>\n",
       "      <td>1003</td>\n",
       "      <td>-0.098895</td>\n",
       "    </tr>\n",
       "    <tr>\n",
       "      <th>40</th>\n",
       "      <td>Rhode Island</td>\n",
       "      <td>1.0</td>\n",
       "      <td>1.038369</td>\n",
       "      <td>503</td>\n",
       "      <td>492</td>\n",
       "      <td>995</td>\n",
       "      <td>-0.106083</td>\n",
       "    </tr>\n",
       "  </tbody>\n",
       "</table>\n",
       "</div>"
      ],
      "text/plain": [
       "           state  sat_part_rate  sat_part_pct_change  ebrw_score  math_score  \\\n",
       "5       Colorado            1.0             1.038369         518         506   \n",
       "6    Connecticut            1.0             1.038369         529         516   \n",
       "7       Delaware            1.0             1.038369         499         486   \n",
       "9        Florida            1.0             1.038369         516         483   \n",
       "12         Idaho            1.0             1.038369         505         488   \n",
       "13      Illinois            1.0             1.038369         509         504   \n",
       "22      Michigan            1.0             1.038369         507         496   \n",
       "40  Rhode Island            1.0             1.038369         503         492   \n",
       "\n",
       "    total_score  total_score_pct_change  \n",
       "5          1024               -0.080029  \n",
       "6          1046               -0.060264  \n",
       "7           985               -0.115067  \n",
       "9           999               -0.102489  \n",
       "12          993               -0.107880  \n",
       "13         1013               -0.089911  \n",
       "22         1003               -0.098895  \n",
       "40          995               -0.106083  "
      ]
     },
     "metadata": {},
     "output_type": "display_data"
    }
   ],
   "source": [
    "# Calculates highest participation rate for SAT in 2019\n",
    "display(sat2019['sat_part_rate'].max())\n",
    "\n",
    "# Filters states which have highest SAT participation rate in 2019\n",
    "satpart_is_top = (sat2019['sat_part_rate'] == 1.00)\n",
    "\n",
    "highest_satpart = sat2019[satpart_is_top]\n",
    "display(highest_satpart)"
   ]
  },
  {
   "cell_type": "markdown",
   "metadata": {},
   "source": [
    "#### Highest participation rates in ACT and SAT in year 2019\n",
    "The highest participation rate for ACT in 2019 was 100%. This statistic was reported in: Alabama, Arkansas, Kentucky, Louisiana, Mississippi, Montana, Nebraska, Nevada, North Carolina, Ohio, Oklahoma, Tennessee, Utah, Wisconsin, Wyoming. \n",
    "\n",
    "The highest participation rate for SAT in 2019 was 100%. This statistic was reported in: Colorado, Connecticut, Delaware, Florida, Idaho, Illinois, Michigan and Rhode Island."
   ]
  },
  {
   "cell_type": "code",
   "execution_count": 40,
   "metadata": {},
   "outputs": [
    {
     "data": {
      "text/html": [
       "<div>\n",
       "<style scoped>\n",
       "    .dataframe tbody tr th:only-of-type {\n",
       "        vertical-align: middle;\n",
       "    }\n",
       "\n",
       "    .dataframe tbody tr th {\n",
       "        vertical-align: top;\n",
       "    }\n",
       "\n",
       "    .dataframe thead th {\n",
       "        text-align: right;\n",
       "    }\n",
       "</style>\n",
       "<table border=\"1\" class=\"dataframe\">\n",
       "  <thead>\n",
       "    <tr style=\"text-align: right;\">\n",
       "      <th></th>\n",
       "      <th>state</th>\n",
       "      <th>act_part_rate</th>\n",
       "      <th>act_part_pct_change</th>\n",
       "      <th>composite_score</th>\n",
       "      <th>composite_score_pct_change</th>\n",
       "    </tr>\n",
       "  </thead>\n",
       "  <tbody>\n",
       "    <tr>\n",
       "      <th>7</th>\n",
       "      <td>Delaware</td>\n",
       "      <td>0.13</td>\n",
       "      <td>-0.777924</td>\n",
       "      <td>24.1</td>\n",
       "      <td>0.123543</td>\n",
       "    </tr>\n",
       "    <tr>\n",
       "      <th>19</th>\n",
       "      <td>Maine</td>\n",
       "      <td>0.06</td>\n",
       "      <td>-0.897503</td>\n",
       "      <td>24.3</td>\n",
       "      <td>0.132867</td>\n",
       "    </tr>\n",
       "    <tr>\n",
       "      <th>29</th>\n",
       "      <td>New Hampshire</td>\n",
       "      <td>0.14</td>\n",
       "      <td>-0.760841</td>\n",
       "      <td>25.0</td>\n",
       "      <td>0.165501</td>\n",
       "    </tr>\n",
       "    <tr>\n",
       "      <th>38</th>\n",
       "      <td>Pennsylvania</td>\n",
       "      <td>0.17</td>\n",
       "      <td>-0.709593</td>\n",
       "      <td>23.6</td>\n",
       "      <td>0.100233</td>\n",
       "    </tr>\n",
       "    <tr>\n",
       "      <th>39</th>\n",
       "      <td>Rhode Island</td>\n",
       "      <td>0.12</td>\n",
       "      <td>-0.795007</td>\n",
       "      <td>24.7</td>\n",
       "      <td>0.151515</td>\n",
       "    </tr>\n",
       "  </tbody>\n",
       "</table>\n",
       "</div>"
      ],
      "text/plain": [
       "            state  act_part_rate  act_part_pct_change  composite_score  \\\n",
       "7        Delaware           0.13            -0.777924             24.1   \n",
       "19          Maine           0.06            -0.897503             24.3   \n",
       "29  New Hampshire           0.14            -0.760841             25.0   \n",
       "38   Pennsylvania           0.17            -0.709593             23.6   \n",
       "39   Rhode Island           0.12            -0.795007             24.7   \n",
       "\n",
       "    composite_score_pct_change  \n",
       "7                     0.123543  \n",
       "19                    0.132867  \n",
       "29                    0.165501  \n",
       "38                    0.100233  \n",
       "39                    0.151515  "
      ]
     },
     "execution_count": 40,
     "metadata": {},
     "output_type": "execute_result"
    }
   ],
   "source": [
    "# Sorts for states with lowest ACT participation rate in 2019, in alphabetical order\n",
    "lowest_actpart = act2019.sort_values(by='act_part_rate', ascending=True).head()\n",
    "lowest_actpart.sort_values(by='state', ascending=True).head()\n",
    "\n",
    "## Alternatively, to show lowest part rates, not in alphabetical order:\n",
    "# act2019.sort_values(by='part_rate', ascending=True).head()"
   ]
  },
  {
   "cell_type": "code",
   "execution_count": 41,
   "metadata": {},
   "outputs": [
    {
     "data": {
      "text/html": [
       "<div>\n",
       "<style scoped>\n",
       "    .dataframe tbody tr th:only-of-type {\n",
       "        vertical-align: middle;\n",
       "    }\n",
       "\n",
       "    .dataframe tbody tr th {\n",
       "        vertical-align: top;\n",
       "    }\n",
       "\n",
       "    .dataframe thead th {\n",
       "        text-align: right;\n",
       "    }\n",
       "</style>\n",
       "<table border=\"1\" class=\"dataframe\">\n",
       "  <thead>\n",
       "    <tr style=\"text-align: right;\">\n",
       "      <th></th>\n",
       "      <th>state</th>\n",
       "      <th>sat_part_rate</th>\n",
       "      <th>sat_part_pct_change</th>\n",
       "      <th>ebrw_score</th>\n",
       "      <th>math_score</th>\n",
       "      <th>total_score</th>\n",
       "      <th>total_score_pct_change</th>\n",
       "    </tr>\n",
       "  </thead>\n",
       "  <tbody>\n",
       "    <tr>\n",
       "      <th>27</th>\n",
       "      <td>Nebraska</td>\n",
       "      <td>0.03</td>\n",
       "      <td>-0.938849</td>\n",
       "      <td>628</td>\n",
       "      <td>631</td>\n",
       "      <td>1260</td>\n",
       "      <td>0.131996</td>\n",
       "    </tr>\n",
       "    <tr>\n",
       "      <th>34</th>\n",
       "      <td>North Dakota</td>\n",
       "      <td>0.02</td>\n",
       "      <td>-0.959233</td>\n",
       "      <td>627</td>\n",
       "      <td>636</td>\n",
       "      <td>1263</td>\n",
       "      <td>0.134691</td>\n",
       "    </tr>\n",
       "    <tr>\n",
       "      <th>42</th>\n",
       "      <td>South Dakota</td>\n",
       "      <td>0.03</td>\n",
       "      <td>-0.938849</td>\n",
       "      <td>633</td>\n",
       "      <td>635</td>\n",
       "      <td>1268</td>\n",
       "      <td>0.139183</td>\n",
       "    </tr>\n",
       "    <tr>\n",
       "      <th>51</th>\n",
       "      <td>Wisconsin</td>\n",
       "      <td>0.03</td>\n",
       "      <td>-0.938849</td>\n",
       "      <td>635</td>\n",
       "      <td>648</td>\n",
       "      <td>1283</td>\n",
       "      <td>0.152659</td>\n",
       "    </tr>\n",
       "    <tr>\n",
       "      <th>52</th>\n",
       "      <td>Wyoming</td>\n",
       "      <td>0.03</td>\n",
       "      <td>-0.938849</td>\n",
       "      <td>623</td>\n",
       "      <td>615</td>\n",
       "      <td>1238</td>\n",
       "      <td>0.112231</td>\n",
       "    </tr>\n",
       "  </tbody>\n",
       "</table>\n",
       "</div>"
      ],
      "text/plain": [
       "           state  sat_part_rate  sat_part_pct_change  ebrw_score  math_score  \\\n",
       "27      Nebraska           0.03            -0.938849         628         631   \n",
       "34  North Dakota           0.02            -0.959233         627         636   \n",
       "42  South Dakota           0.03            -0.938849         633         635   \n",
       "51     Wisconsin           0.03            -0.938849         635         648   \n",
       "52       Wyoming           0.03            -0.938849         623         615   \n",
       "\n",
       "    total_score  total_score_pct_change  \n",
       "27         1260                0.131996  \n",
       "34         1263                0.134691  \n",
       "42         1268                0.139183  \n",
       "51         1283                0.152659  \n",
       "52         1238                0.112231  "
      ]
     },
     "execution_count": 41,
     "metadata": {},
     "output_type": "execute_result"
    }
   ],
   "source": [
    "# Sorts for states with lowest SAT participation rate in 2019, in alphabetical order\n",
    "lowest_satpart = sat2019.sort_values(by='sat_part_rate', ascending=True).head()\n",
    "lowest_satpart.sort_values(by='state', ascending=True).head()\n",
    "\n",
    "## Alternatively, to show lowest part rates, not in alphabetical order:\n",
    "# sat2019.sort_values(by='part_rate', ascending=True).head()"
   ]
  },
  {
   "cell_type": "markdown",
   "metadata": {},
   "source": [
    "#### Lowest participation rates in ACT and SAT in year 2019\n",
    "Lowest 5 ACT participation rates were reported in: Maine, Rhode Island, Delaware, New Hampshire and Pennsylvania, with participation rates falling below 5%.\n",
    "\n",
    "Concurrently, lowest 5 SAT participation rates were reported in: North Dakota, Wyoming, South Dakota, Nebraska and Wisconsin."
   ]
  },
  {
   "cell_type": "code",
   "execution_count": 42,
   "metadata": {},
   "outputs": [
    {
     "data": {
      "text/html": [
       "<div>\n",
       "<style scoped>\n",
       "    .dataframe tbody tr th:only-of-type {\n",
       "        vertical-align: middle;\n",
       "    }\n",
       "\n",
       "    .dataframe tbody tr th {\n",
       "        vertical-align: top;\n",
       "    }\n",
       "\n",
       "    .dataframe thead th {\n",
       "        text-align: right;\n",
       "    }\n",
       "</style>\n",
       "<table border=\"1\" class=\"dataframe\">\n",
       "  <thead>\n",
       "    <tr style=\"text-align: right;\">\n",
       "      <th></th>\n",
       "      <th>state</th>\n",
       "      <th>act_part_rate</th>\n",
       "      <th>act_part_pct_change</th>\n",
       "      <th>composite_score</th>\n",
       "      <th>composite_score_pct_change</th>\n",
       "    </tr>\n",
       "  </thead>\n",
       "  <tbody>\n",
       "    <tr>\n",
       "      <th>6</th>\n",
       "      <td>Connecticut</td>\n",
       "      <td>0.22</td>\n",
       "      <td>-0.624179</td>\n",
       "      <td>25.5</td>\n",
       "      <td>0.188811</td>\n",
       "    </tr>\n",
       "    <tr>\n",
       "      <th>21</th>\n",
       "      <td>Massachusetts</td>\n",
       "      <td>0.21</td>\n",
       "      <td>-0.641261</td>\n",
       "      <td>25.5</td>\n",
       "      <td>0.188811</td>\n",
       "    </tr>\n",
       "    <tr>\n",
       "      <th>29</th>\n",
       "      <td>New Hampshire</td>\n",
       "      <td>0.14</td>\n",
       "      <td>-0.760841</td>\n",
       "      <td>25.0</td>\n",
       "      <td>0.165501</td>\n",
       "    </tr>\n",
       "    <tr>\n",
       "      <th>32</th>\n",
       "      <td>New York</td>\n",
       "      <td>0.22</td>\n",
       "      <td>-0.624179</td>\n",
       "      <td>24.5</td>\n",
       "      <td>0.142191</td>\n",
       "    </tr>\n",
       "    <tr>\n",
       "      <th>39</th>\n",
       "      <td>Rhode Island</td>\n",
       "      <td>0.12</td>\n",
       "      <td>-0.795007</td>\n",
       "      <td>24.7</td>\n",
       "      <td>0.151515</td>\n",
       "    </tr>\n",
       "  </tbody>\n",
       "</table>\n",
       "</div>"
      ],
      "text/plain": [
       "            state  act_part_rate  act_part_pct_change  composite_score  \\\n",
       "6     Connecticut           0.22            -0.624179             25.5   \n",
       "21  Massachusetts           0.21            -0.641261             25.5   \n",
       "29  New Hampshire           0.14            -0.760841             25.0   \n",
       "32       New York           0.22            -0.624179             24.5   \n",
       "39   Rhode Island           0.12            -0.795007             24.7   \n",
       "\n",
       "    composite_score_pct_change  \n",
       "6                     0.188811  \n",
       "21                    0.188811  \n",
       "29                    0.165501  \n",
       "32                    0.142191  \n",
       "39                    0.151515  "
      ]
     },
     "execution_count": 42,
     "metadata": {},
     "output_type": "execute_result"
    }
   ],
   "source": [
    "# Filters for states with top composite scores in ACT 2019, sorted alphabetically\n",
    "highest_actscore = act2019.sort_values(by='composite_score', ascending=False).head()\n",
    "highest_actscore.sort_values(by='state', ascending=True).head()"
   ]
  },
  {
   "cell_type": "code",
   "execution_count": 43,
   "metadata": {},
   "outputs": [
    {
     "data": {
      "text/html": [
       "<div>\n",
       "<style scoped>\n",
       "    .dataframe tbody tr th:only-of-type {\n",
       "        vertical-align: middle;\n",
       "    }\n",
       "\n",
       "    .dataframe tbody tr th {\n",
       "        vertical-align: top;\n",
       "    }\n",
       "\n",
       "    .dataframe thead th {\n",
       "        text-align: right;\n",
       "    }\n",
       "</style>\n",
       "<table border=\"1\" class=\"dataframe\">\n",
       "  <thead>\n",
       "    <tr style=\"text-align: right;\">\n",
       "      <th></th>\n",
       "      <th>state</th>\n",
       "      <th>sat_part_rate</th>\n",
       "      <th>sat_part_pct_change</th>\n",
       "      <th>ebrw_score</th>\n",
       "      <th>math_score</th>\n",
       "      <th>total_score</th>\n",
       "      <th>total_score_pct_change</th>\n",
       "    </tr>\n",
       "  </thead>\n",
       "  <tbody>\n",
       "    <tr>\n",
       "      <th>23</th>\n",
       "      <td>Minnesota</td>\n",
       "      <td>0.04</td>\n",
       "      <td>-0.918465</td>\n",
       "      <td>636</td>\n",
       "      <td>648</td>\n",
       "      <td>1284</td>\n",
       "      <td>0.153558</td>\n",
       "    </tr>\n",
       "    <tr>\n",
       "      <th>27</th>\n",
       "      <td>Nebraska</td>\n",
       "      <td>0.03</td>\n",
       "      <td>-0.938849</td>\n",
       "      <td>628</td>\n",
       "      <td>631</td>\n",
       "      <td>1260</td>\n",
       "      <td>0.131996</td>\n",
       "    </tr>\n",
       "    <tr>\n",
       "      <th>34</th>\n",
       "      <td>North Dakota</td>\n",
       "      <td>0.02</td>\n",
       "      <td>-0.959233</td>\n",
       "      <td>627</td>\n",
       "      <td>636</td>\n",
       "      <td>1263</td>\n",
       "      <td>0.134691</td>\n",
       "    </tr>\n",
       "    <tr>\n",
       "      <th>42</th>\n",
       "      <td>South Dakota</td>\n",
       "      <td>0.03</td>\n",
       "      <td>-0.938849</td>\n",
       "      <td>633</td>\n",
       "      <td>635</td>\n",
       "      <td>1268</td>\n",
       "      <td>0.139183</td>\n",
       "    </tr>\n",
       "    <tr>\n",
       "      <th>51</th>\n",
       "      <td>Wisconsin</td>\n",
       "      <td>0.03</td>\n",
       "      <td>-0.938849</td>\n",
       "      <td>635</td>\n",
       "      <td>648</td>\n",
       "      <td>1283</td>\n",
       "      <td>0.152659</td>\n",
       "    </tr>\n",
       "  </tbody>\n",
       "</table>\n",
       "</div>"
      ],
      "text/plain": [
       "           state  sat_part_rate  sat_part_pct_change  ebrw_score  math_score  \\\n",
       "23     Minnesota           0.04            -0.918465         636         648   \n",
       "27      Nebraska           0.03            -0.938849         628         631   \n",
       "34  North Dakota           0.02            -0.959233         627         636   \n",
       "42  South Dakota           0.03            -0.938849         633         635   \n",
       "51     Wisconsin           0.03            -0.938849         635         648   \n",
       "\n",
       "    total_score  total_score_pct_change  \n",
       "23         1284                0.153558  \n",
       "27         1260                0.131996  \n",
       "34         1263                0.134691  \n",
       "42         1268                0.139183  \n",
       "51         1283                0.152659  "
      ]
     },
     "execution_count": 43,
     "metadata": {},
     "output_type": "execute_result"
    }
   ],
   "source": [
    "# Filters for states with top total scores in SAT 2019, sorted alphabetically\n",
    "highest_satscore = sat2019.sort_values(by='total_score', ascending=False).head()\n",
    "highest_satscore.sort_values(by='state', ascending=True).head()"
   ]
  },
  {
   "cell_type": "markdown",
   "metadata": {},
   "source": [
    "#### States with highest average scores in ACT and SAT in 2019\n",
    "\n",
    "States that reported highest average scores in ACT: Massachusetts, Connecticut, New Hampshire, Rhode Island and New York.\n",
    "\n",
    "States that reported highest average scores in SAT: Minnesota, Wisconsin, South and North Dakota and Nebraska."
   ]
  },
  {
   "cell_type": "markdown",
   "metadata": {},
   "source": [
    "## Data visualisation"
   ]
  },
  {
   "cell_type": "code",
   "execution_count": 44,
   "metadata": {},
   "outputs": [
    {
     "data": {
      "text/plain": [
       "Text(0.5, 1.01, 'Is ACT participation rate affected by financial cost of exams?')"
      ]
     },
     "execution_count": 44,
     "metadata": {},
     "output_type": "execute_result"
    },
    {
     "data": {
      "image/png": "[encoded data removed]",
      "text/plain": [
       "<Figure size 720x576 with 1 Axes>"
      ]
     },
     "metadata": {},
     "output_type": "display_data"
    }
   ],
   "source": [
    "# Show relationship between having to pay for ACT affects turnout \n",
    "fig1 = df_combined2019.groupby('act_free')['act_part_rate'].mean().plot(kind='bar')\n",
    "\n",
    "# Set the title.\n",
    "fig1.set_title('Is ACT participation rate affected by financial cost of exams?', fontsize=18, y=1.01)"
   ]
  },
  {
   "cell_type": "code",
   "execution_count": 45,
   "metadata": {},
   "outputs": [
    {
     "data": {
      "text/plain": [
       "Text(0.5, 1.01, 'Is SAT participation rate affected by financial cost of exams?')"
      ]
     },
     "execution_count": 45,
     "metadata": {},
     "output_type": "execute_result"
    },
    {
     "data": {
      "image/png": "[encoded data removed]",
      "text/plain": [
       "<Figure size 720x576 with 1 Axes>"
      ]
     },
     "metadata": {},
     "output_type": "display_data"
    }
   ],
   "source": [
    "# Show relationship between having to pay for SAT affects turnout \n",
    "fig2 = df_combined2019.groupby('sat_free')['sat_part_rate'].mean().plot(kind='bar')\n",
    "\n",
    "# Set the title.\n",
    "fig2.set_title('Is SAT participation rate affected by financial cost of exams?', fontsize=18, y=1.01)"
   ]
  },
  {
   "cell_type": "markdown",
   "metadata": {},
   "source": [
    "##### Relationship between having to bear cost of ACT/SAT fees in a state and its participation rate\n",
    "\n",
    "fig1 shows that ACT participation rates were higher in states that offered the exams at no charge to its students, whereas ACT participation rates were lower in states where students had to bear the cost of the exam fees.<br>\n",
    "\n",
    "Similarly for the SAT, fig2 shows that participation rates were higher in states that offered the exams at no charge to its students than in states where students had to bear the cost of the exam fees.\n",
    "\n",
    "However, it should be noted that on average, SAT participation rates outstrips ACT participation rates in the states that offer the respective exams at no charge."
   ]
  },
  {
   "cell_type": "code",
   "execution_count": 46,
   "metadata": {},
   "outputs": [
    {
     "data": {
      "image/png": "[encoded data removed]",
      "text/plain": [
       "<Figure size 720x576 with 1 Axes>"
      ]
     },
     "metadata": {},
     "output_type": "display_data"
    }
   ],
   "source": [
    "# Show relationship between ACT participation rate and the average composite score in each state\n",
    "\n",
    "fig3 = df_combined2019.plot(kind='scatter', x='act_part_rate', y='composite_score', colormap='Blues')\n",
    "# Set the title.\n",
    "fig3.set_title('How are ACT scores correlated with its participation rate?', fontsize=20, y=1.01);"
   ]
  },
  {
   "cell_type": "markdown",
   "metadata": {},
   "source": [
    "##### Relationship between each state's ACT participation rate and each state's average composite score \n",
    "There is a negative correlation between ACT participation rate and the state's average composite scores.<br>\n",
    "States that report higher participation rates in ACT tend to report lower composite scores in the exam."
   ]
  },
  {
   "cell_type": "code",
   "execution_count": 47,
   "metadata": {},
   "outputs": [
    {
     "data": {
      "image/png": "[encoded data removed]",
      "text/plain": [
       "<Figure size 720x576 with 1 Axes>"
      ]
     },
     "metadata": {},
     "output_type": "display_data"
    }
   ],
   "source": [
    "# Show relationship between SAT participation rate and the average total score in each state\n",
    "\n",
    "fig4 = df_combined2019.plot(kind='scatter', x='sat_part_rate', y='total_score', colormap='Blues')\n",
    "# Set the title.\n",
    "fig4.set_title('How are SAT scores correlated with its participation rate?', fontsize=20, y=1.01);"
   ]
  },
  {
   "cell_type": "markdown",
   "metadata": {},
   "source": [
    "##### Relationship between each state's SAT participation rate and its average total score \n",
    "Similarly, there is a negative correlation between SAT participation rate and the state's average composite scores.<br>\n",
    "States that report higher participation rates in SAT also tend to report lower total score averages in the exam."
   ]
  },
  {
   "cell_type": "markdown",
   "metadata": {},
   "source": [
    "##### In states where it is free, how has ACT participation rate changed over the years?\n",
    "\n",
    "Do any states with 100% participation on a given test have a rate change year-to-year?\n",
    "Do any states show have >50% participation on *both* tests each year?"
   ]
  },
  {
   "cell_type": "markdown",
   "metadata": {},
   "source": [
    "## Conclusions and Recommendations"
   ]
  },
  {
   "cell_type": "markdown",
   "metadata": {},
   "source": [
    "**To-Do:** *Edit this cell with your conclusions and recommendations.*\n",
    "\n",
    "Over the two year timeframe, "
   ]
  },
  {
   "cell_type": "markdown",
   "metadata": {},
   "source": [
    "Don't forget to create your README!\n",
    "\n",
    "**To-Do:** *If you combine your problem statement, data dictionary, brief summary of your analysis, and conclusions/recommendations, you have an amazing README.md file that quickly aligns your audience to the contents of your project.* Don't forget to cite your data sources!"
   ]
  },
  {
   "cell_type": "code",
   "execution_count": null,
   "metadata": {},
   "outputs": [],
   "source": []
  }
 ],
 "metadata": {
  "anaconda-cloud": {},
  "kernelspec": {
   "display_name": "Python 3 (ipykernel)",
   "language": "python",
   "name": "python3"
  },
  "language_info": {
   "codemirror_mode": {
    "name": "ipython",
    "version": 3
   },
   "file_extension": ".py",
   "mimetype": "text/x-python",
   "name": "python",
   "nbconvert_exporter": "python",
   "pygments_lexer": "ipython3",
   "version": "3.9.12"
  }
 },
 "nbformat": 4,
 "nbformat_minor": 4
}
