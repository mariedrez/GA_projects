{
 "cells": [
  {
   "cell_type": "code",
   "execution_count": 6,
   "id": "58a9b0fc",
   "metadata": {},
   "outputs": [],
   "source": [
    "# Introduction \n",
    "  ## Background\n",
    "  ## Problem Statement  "
   ]
  },
  {
   "cell_type": "markdown",
   "id": "52d1fafc",
   "metadata": {},
   "source": [
    "Welcome to your first week of work at the Disease And Treatment Agency, division of Societal Cures In Epidemiology and New Creative Engineering (DATA-SCIENCE). Time to get to work!\n",
    "\n",
    "Due to the recent epidemic of West Nile Virus in the Windy City, we've had the Department of Public Health set up a surveillance and control system. We're hoping it will let us learn something from the mosquito population as we collect data over time. Pesticides are a necessary evil in the fight for public health and safety, not to mention expensive! We need to derive an effective plan to deploy pesticides throughout the city, and that is exactly where you come in!"
   ]
  },
  {
   "cell_type": "code",
   "execution_count": null,
   "id": "9a836abe",
   "metadata": {},
   "outputs": [],
   "source": [
    "# External Research\n",
    "  ## Literature Review"
   ]
  },
  {
   "cell_type": "code",
   "execution_count": null,
   "id": "cd95a1bc",
   "metadata": {},
   "outputs": [],
   "source": []
  },
  {
   "cell_type": "code",
   "execution_count": null,
   "id": "1218b64c",
   "metadata": {},
   "outputs": [],
   "source": [
    "# Conclusion\n",
    "  ## Summary of Findings\n",
    "  ## Limitations\n",
    "  ## Recommendations"
   ]
  },
  {
   "cell_type": "code",
   "execution_count": null,
   "id": "6046403f",
   "metadata": {},
   "outputs": [],
   "source": []
  },
  {
   "cell_type": "code",
   "execution_count": null,
   "id": "48a9c247",
   "metadata": {},
   "outputs": [],
   "source": [
    "# Data Dictionary"
   ]
  },
  {
   "cell_type": "code",
   "execution_count": null,
   "id": "b3f93c8c",
   "metadata": {},
   "outputs": [],
   "source": []
  }
 ],
 "metadata": {
  "kernelspec": {
   "display_name": "Python 3 (ipykernel)",
   "language": "python",
   "name": "python3"
  },
  "language_info": {
   "codemirror_mode": {
    "name": "ipython",
    "version": 3
   },
   "file_extension": ".py",
   "mimetype": "text/x-python",
   "name": "python",
   "nbconvert_exporter": "python",
   "pygments_lexer": "ipython3",
   "version": "3.9.12"
  }
 },
 "nbformat": 4,
 "nbformat_minor": 5
}
